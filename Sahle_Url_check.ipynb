{
 "cells": [
  {
   "cell_type": "code",
   "execution_count": 30,
   "id": "e6a93d84",
   "metadata": {},
   "outputs": [
    {
     "name": "stdout",
     "output_type": "stream",
     "text": [
      "Defaulting to user installation because normal site-packages is not writeable\n",
      "Requirement already satisfied: lxml in /usr/lib/python3/dist-packages (4.8.0)\n"
     ]
    }
   ],
   "source": [
    "from bs4 import BeautifulSoup as bs\n",
    "import pandas as pd\n",
    "!pip install lxml"
   ]
  },
  {
   "cell_type": "code",
   "execution_count": 35,
   "id": "1d7ac94d",
   "metadata": {},
   "outputs": [],
   "source": [
    "with open(\"catalog_TEI.xml\", \"r\") as file: #load the file\n",
    "    bs_content = bs(file, 'lxml')"
   ]
  },
  {
   "cell_type": "code",
   "execution_count": 149,
   "id": "b25215f3",
   "metadata": {},
   "outputs": [
    {
     "data": {
      "text/html": [
       "<div>\n",
       "<style scoped>\n",
       "    .dataframe tbody tr th:only-of-type {\n",
       "        vertical-align: middle;\n",
       "    }\n",
       "\n",
       "    .dataframe tbody tr th {\n",
       "        vertical-align: top;\n",
       "    }\n",
       "\n",
       "    .dataframe thead th {\n",
       "        text-align: right;\n",
       "    }\n",
       "</style>\n",
       "<table border=\"1\" class=\"dataframe\">\n",
       "  <thead>\n",
       "    <tr style=\"text-align: right;\">\n",
       "      <th></th>\n",
       "      <th>title</th>\n",
       "      <th>url</th>\n",
       "      <th>year</th>\n",
       "    </tr>\n",
       "  </thead>\n",
       "  <tbody>\n",
       "  </tbody>\n",
       "</table>\n",
       "</div>"
      ],
      "text/plain": [
       "Empty DataFrame\n",
       "Columns: [title, url, year]\n",
       "Index: []"
      ]
     },
     "execution_count": 149,
     "metadata": {},
     "output_type": "execute_result"
    }
   ],
   "source": [
    "col ={'title':[],'url':[],'year':[]}\n",
    "df = pd.DataFrame(col)\n",
    "df.head()"
   ]
  },
  {
   "cell_type": "code",
   "execution_count": null,
   "id": "2aace61e",
   "metadata": {},
   "outputs": [],
   "source": []
  },
  {
   "cell_type": "code",
   "execution_count": 152,
   "id": "0c773991",
   "metadata": {},
   "outputs": [
    {
     "name": "stdout",
     "output_type": "stream",
     "text": [
      "http://elec.enc.sorbonne.fr/christofle/index.html\n",
      "http://www.abdn.ac.uk/bestiary\n",
      "Catalog Entry Greta Franzini\n",
      "http://apw.digitale-sammlungen.de/\n",
      "http://synodes-protestants.symogih.org/index.html\n",
      "http://www.cn-telma.fr/actesroyaux/index/\n",
      "Catalog Entry Greta Franzini\n",
      "http://www.masshist.org/digitaladams/archive/\n",
      "https://rotunda.upress.virginia.edu/founders/ADMS.html\n",
      "https://www.masshist.org/publications/jqadiaries/index.php\n",
      "https://digital.janeaddams.ramapo.edu\n",
      "http://www.philological.bham.ac.uk/Addison/\n",
      "Catalog Entry Greta Franzini\n",
      "http://www.forschungsdatenarchiv.escience.uni-tuebingen.de/adlils/adelbert_relatio\n",
      "http://digital.nypl.org/schomburg/writers_aa19/\n",
      "https://romantic-circles.org/editions/contemps/barbauld/poems1773/\n",
      "Catalog Entry Greta Franzini\n",
      "\n",
      "Catalog Entry Greta Franzini\n",
      "http://www.mun.ca/alciato/\n",
      "Catalog Entry Greta Franzini\n",
      "http://dalembert.academie-sciences.fr/Correspondance\n",
      "http://www.rmnet.uni-trier.de/cgi-bin/RMnetIndex.tcl?hea=qf&for=qafranzu\n",
      "http://web.archive.org/web/20070530001208/http://www.tei-c.org.uk/Projects/EETS/\n",
      "Catalog Entry Greta Franzini\n",
      "http://web.archive.org/web/20080209001636/http://www.slu.edu/departments/english/chron/index.html\n",
      "http://web.archive.org/web/20060828032335/http://www.wmich.edu/medieval/research/rawl/glossary/\n",
      "http://insaph.kcl.ac.uk/\n",
      "Catalog Entry Greta Franzini\n",
      "https://cotr.ac.uk/guidelines/dynamic-declaration-arbroath/\n",
      "http://pietroliuzzo.github.io/Aristodemo/\n",
      "http://rotunda.upress.virginia.edu/arnold/\n",
      "Catalog Entry Greta Franzini\n",
      "http://web.archive.org/web/20131004095227/http://www.uni-bonn.de/~uph202/arnulfinger.shtml\n",
      "https://astree.tufts.edu/_analyse/accueil.html\n",
      "Catalog Entry Greta Franzini\n",
      "http://www.nls.uk/auchinleck/\n",
      "Catalog Entry Greta Franzini\n",
      "\n",
      "Review\n",
      "http://www.janeausten.ac.uk/index.html\n",
      "Catalog Entry Greta Franzini\n",
      "Review\n",
      "https://pages.ceres.rub.de/ayn-al-nazar/#fnref-idm258\n",
      "https://bahrschnitzler.acdh.oeaw.ac.at/index.html\n",
      "Catalog Entry Greta Franzini\n",
      "http://magyar-irodalom.elte.hu/gepesk/bbom/cimlap.htm\n",
      "http://dohistory.org/diary/index.html\n",
      "Catalog Entry Greta Franzini\n",
      "https://bangsbreve.dk\n",
      "http://lumieres.unil.ch/projets/barbeyrac\n",
      "https://bargheer.edirom.de\n",
      "http://bartholomeusengelsman.huygens.knaw.nl/path/\n",
      "http://gams.uni-graz.at/context:srbas\n",
      "http://www.sd-editions.com/bayeux/index.html\n",
      "Review\n",
      "http://bayle-correspondance.univ-st-etienne.fr/\n",
      "Catalog Entry Greta Franzini\n",
      "http://www.ehu.es/galicano/\n",
      "Catalog Entry Greta Franzini\n",
      "Review\n",
      "http://www.beckettarchive.org/login.html\n",
      "Catalog Entry Greta Franzini\n",
      "Review\n",
      "https://romantic-circles.org/editions/beddoes/index.html\n",
      "Catalog Entry Greta Franzini\n",
      "http://www.iath.virginia.edu/utc/\n",
      "https://da.beethoven.de/sixcms/detail.php?template=startseite_digitales_archiv_de\n",
      "http://memory.loc.gov/ammem/bellhtml/bellhome.html\n",
      "http://www.benedictus.mgh.de/\n",
      "Catalog Entry Greta Franzini\n",
      "https://www.walter-benjamin.online/\n",
      "http://ebeowulf.uky.edu/\n",
      "Review\n",
      "http://www.heorot.dk/\n",
      "http://www.berardier.org/\n",
      "Catalog Entry Greta Franzini\n",
      "https://www.berliner-intellektuelle.eu\n",
      "Review\n",
      "http://www.ub.unibas.ch/bernoulli/index.php/Briefe_im_Volltext\n",
      "Catalog Entry Greta Franzini\n",
      "http://www.rth.org.uk/collections/bevan-dewar-letters\n",
      "Catalog Entry Greta Franzini\n",
      "http://www.ambrosebierce.org/\n",
      "http://www.blakearchive.org/\n",
      "Review\n",
      "Review\n",
      "https://romantic-circles.org/editions/bloomfield_poems/index.html\n",
      "https://romantic-circles.org/editions/bloomfield_letters/index.html\n",
      "https://romantic-circles.org/editions/wye\n",
      "https://www.brown.edu/Departments/Italian_Studies/dweb/\n",
      "Catalog Entry Greta Franzini\n",
      "http://rmcisadu.let.uniroma1.it/boccaccio\n",
      "Catalog Entry Greta Franzini\n",
      "http://www.livesandletters.ac.uk/bodley/bodley.html\n",
      "Catalog Entry Greta Franzini\n",
      "http://web.archive.org/web/20120226222144/http://beowulf.engl.uky.edu/~kiernan/eBoethius/inlad.htm\n",
      "Catalog Entry Greta Franzini\n",
      "https://correspondentie-bolland-en-cosijn.huygens.knaw.nl\n",
      "http://quellen-perspectivia.net/de/borchward/start\n",
      "https://boschdoc.huygens.knaw.nl\n",
      "http://bosworthletters.vtcath.org/\n",
      "http://www.dossiers-flaubert.fr\n",
      "Catalog Entry Greta Franzini\n",
      "http://www.bovary.fr/\n",
      "Catalog Entry Greta Franzini\n",
      "http://www.livesandletters.ac.uk/wd/index.html\n",
      "Catalog Entry Greta Franzini\n",
      "http://amesfoundation.law.harvard.edu/Bracton/\n",
      "https://maybragdon.lib.rochester.edu/\n",
      "https://www.georgbrandes.dk/\n",
      "http://www.univie.ac.at/Geschichte/Frauenbriefe/\n",
      "https://brieven-correspondenten-1900.huygens.knaw.nl\n",
      "https://romantic-circles.org/editions/warpoetry/\n",
      "https://homepage.uni-graz.at/de/andrea.hofmeister/forschung/editionsprojekt-die-schriften-des-brixner-dommesners-veit-feichter/brixner-dommesnerbuch/\n",
      "https://www.dhi.ac.uk/brome/\n",
      "http://brockdenbrown.cah.ucf.edu/\n",
      "https://romantic-circles.org/editions/brownsevern/\n",
      "http://rotunda.upress.virginia.edu:8080/clotel/\n",
      "Catalog Entry Greta Franzini\n",
      "http://bruemmer.staatsbibliothek-berlin.de/nlbruemmer/\n",
      "http://diglib.hab.de/edoc/ed000082/start.htm\n",
      "http://projects.dharc.unibo.it/bufalini-notebook/\n",
      "http://www.bundesarchiv.de/cocoon/barch/0000/index.html\n",
      "http://burckhardtsource.org/\n",
      "Catalog Entry Greta Franzini\n",
      "https://busoni-nachlass.org\n",
      "Review\n",
      "http://lordbyron.org/\n",
      "http://www.boydell.co.uk/43840448.HTM\n",
      "Review\n",
      "http://www.cn-telma.fr//callythea/index/\n",
      "http://isaw.nyu.edu/publications/inscriptions/campa/\n",
      "http://margot.uwaterloo.ca/campsey/cmphome_e.html\n",
      "http://cancionerovirtual.liv.ac.uk\n",
      "Catalog Entry Greta Franzini\n",
      "https://miocid.wlu.edu/?v=nor\n",
      "https://gams.uni-graz.at/context:cantus/sdef:Context/get?locale=de\n",
      "http://alfclul.clul.ul.pt/cards-fly/index.php\n",
      "https://carlyleletters.dukeupress.edu/\n",
      "http://www.cartago.nl\n",
      "Catalog Entry Greta Franzini\n",
      "http://staging.carter.lib.virginia.edu\n",
      "Catalog Entry Greta Franzini\n",
      "http://www.cn-telma.fr/nesle/index/\n",
      "Catalog Entry Greta Franzini\n",
      "http://elec.enc.sorbonne.fr/cartulaires/\n",
      "http://www.magicandmedicine.hps.cam.ac.uk/\n",
      "Catalog Entry Greta Franzini\n",
      "Review\n",
      "http://cather.unl.edu\n",
      "Catalog Entry Greta Franzini\n",
      "http://catullusonline.org/\n",
      "Catalog Entry Greta Franzini\n",
      "http://entretenida.outofthewings.org/index.html\n",
      "Catalog Entry Greta Franzini\n",
      "Review\n",
      "http://cervantes.tamu.edu/V2/CPI/index.html\n",
      "Catalog Entry Greta Franzini\n",
      "https://romantic-circles.org/editions/chamouni/index.html\n",
      "https://zenodo.org/record/1133490#.WuR5t65l_IU\n",
      "http://web.archive.org/web/*/http://lancelot.baylor.edu/\n",
      "http://web.archive.org/web/20080415015129/http://homepage.mac.com/guyjacqu/lancelot.html\n",
      "https://charriere.huygens.knaw.nl\n",
      "http://www.corpuscharta.es/consultas.html\n",
      "http://www.sd-editions.com/caxtons/index.html\n",
      "http://web.archive.org/web/20141204201458/http://www.ucalgary.ca/ucpress/online/pubs/duchess/Websample/titlepge.htm\n",
      "Catalog Entry Greta Franzini\n",
      "http://www.sd-editions.com/CantApp/GP/\n",
      "Review\n",
      "http://www.sd-editions.com/hengwrt/index.html\n",
      "Catalog Entry Greta Franzini\n",
      "http://www.sd-editions.com/HgStandard/diffs.htm\n",
      "http://www.sd-editions.com/miller/index.html\n",
      "http://www.sd-editions.com/NP/index.html\n",
      "Review\n",
      "na\n",
      "http://lumieres.unil.ch/projets/chavannes\n",
      "http://www.ocve.org.uk\n",
      "Catalog Entry Greta Franzini\n",
      "http://www.tagebuch-christian-ii-anhalt.de/\n",
      "http://quod.lib.umich.edu/m/machyn/\n",
      "Catalog Entry Greta Franzini\n",
      "Review\n",
      "http://elec.enc.sorbonne.fr/chroniqueslatines/\n",
      "http://digital.wustl.edu/stlcourtrecords/index.html\n",
      "http://discovery.civilwargovernors.org/\n",
      "http://clusiuscorrespondence.huygens.knaw.nl/\n",
      "http://diglib.hab.de/edoc/ed000006/start.htm\n",
      "Catalog Entry Greta Franzini\n",
      "http://archivum-laureshamense-digital.de/de/codex_laureshamensis/codex.html\n",
      "http://suprasliensis.obdurodon.org/\n",
      "http://www.lombardiabeniculturali.it/cdlm/\n",
      "Catalog Entry Greta Franzini\n",
      "https://web.archive.org/web/20100312073610/http://etext.lib.virginia.edu:80/stc/Coleridge/stc.html\n",
      "https://romantic-circles.org/editions/robespierre/\n",
      "https://romantic-circles.org/editions/cain/\n",
      "http://bcgenesis.uvic.ca/\n",
      "http://comparatio.irht.cnrs.fr\n",
      "Catalog Entry Greta Franzini\n",
      "http://www.gwu.edu/~ffcp/\n",
      "http://digital.library.wisc.edu/1711.dl/History.Constitution\n",
      "Catalog Entry Greta Franzini\n",
      "http://telota.bbaw.de/constitutiones/\n",
      "\n",
      "Review\n",
      "http://resources.huygens.knaw.nl/divisiekroniek/index_html\n",
      "https://cag-online.net/\n",
      "https://corpuscoranicum.de\n",
      "http://digidev.library.ucla.edu/canonlaw/\n",
      "http://www.cmcl.it\n",
      "Catalog Entry Greta Franzini\n",
      "http://pom.bbaw.de/cmg/\n",
      "http://www.corimu.unisi.it/\n",
      "Catalog Entry Greta Franzini\n",
      "http://correspondancefamiliale.ehess.fr/index.php\n",
      "https://www.bayerische-landesbibliothek-online.de/cozroh\n",
      "http://www.cullenproject.ac.uk\n",
      "Catalog Entry Greta Franzini\n",
      "http://www.operaduomo.firenze.it/cupola/\n",
      "http://www.cursus.org.uk\n",
      "Catalog Entry Greta Franzini\n",
      "https://igcyr.unibo.it/\n",
      "Catalog Entry Greta Franzini\n",
      "http://www.dafyddapgwilym.net/\n",
      "Catalog Entry Greta Franzini\n",
      "http://edities.kantl.be/daisne/index.htm\n",
      "Catalog Entry Greta Franzini\n",
      "https://dantecommedia.it/\n",
      "Catalog Entry Greta Franzini\n",
      "Review\n",
      "http://dante.ilt.columbia.edu\n",
      "Catalog Entry Greta Franzini\n",
      "https://www.danteonline.it/monarchia/\n",
      "http://etcweb.princeton.edu/dante/\n",
      "http://darwin-online.org.uk/\n",
      "Catalog Entry Greta Franzini\n",
      "http://www.darwinproject.ac.uk/\n",
      "Catalog Entry Greta Franzini\n",
      "Review\n",
      "https://romantic-circles.org/editions/darwin_temple/\n",
      "http://diglib.hab.de/edoc/ed000008/start.htm\n",
      "https://www.epistolariodegasperi.it/#/\n",
      "http://elec.enc.sorbonne.fr/delescluze/\n",
      "http://1641.tcd.ie/\n",
      "Review\n",
      "https://web.archive.org/web/20070720151934/http://www.press.umich.edu/titleDetailDesc.do?id=6547\n",
      "Review\n",
      "http://en.wikibooks.org/wiki/The_Devonshire_Manuscript\n",
      "Catalog Entry Greta Franzini\n",
      "http://www.nlx.com/collections/132\n",
      "http://www.emilydickinson.org\n",
      "Catalog Entry Greta Franzini\n",
      "https://rotunda.upress.virginia.edu/edc/\n",
      "http://digenis.obdurodon.org\n",
      "Catalog Entry Greta Franzini\n",
      "http://www.scholarsgrotto.com/collections.php\n",
      "https://digitalrenaissance.uvic.ca\n",
      "https://digitaltemple.rotunda.upress.virginia.edu\n",
      "http://www.digitalvariants.org\n",
      "Catalog Entry Greta Franzini\n",
      "http://www.bisanu.rs/\n",
      "http://www.dodis.ch/\n",
      "https://romantic-circles.org/editions/alroy/\n",
      "http://www.domesdaybook.net/\n",
      "Catalog Entry Greta Franzini\n",
      "http://hyperdonat.ens-lyon.fr/\n",
      "Catalog Entry Greta Franzini\n",
      "http://digitaldonne.tamu.edu/index.html\n",
      "http://www.unifr.ch/nouvellesnouvelles/index.html\n",
      "http://frederickdouglass.infoset.io/\n",
      "https://web.archive.org/web/20160918183122/http://www.dreamofrood.co.uk:80/\n",
      "https://web.archive.org/web/20191024001213/http://www.library.upenn.edu/collections/rbm/dreiser/\n",
      "http://feb-web.ru/indexen.htm\n",
      "http://elec.enc.sorbonne.fr/dubourg/\n",
      "http://web.archive.org/web/20170201133036/http://www.nb.admin.ch/sla/03131/03132/03574/03655/index.html?lang=en\n",
      "http://www.rmnet.uni-trier.de/cgi-bin/RMnetIndex.tcl?hea=qf&for=qnotgeru\n",
      "http://www.rmnet.uni-trier.de/cgi-bin/RMnetIndex.tcl?hea=qf&for=qfley1518\n",
      "https://web.archive.org/web/20180412224235/http://www.louise-dumont.de/\n",
      "http://web.archive.org/web/20170917142323/http://dlv.org.uk/\n",
      "Catalog Entry Greta Franzini\n",
      "https://www.e-sequence.eu\n",
      "http://www.earlystuartlibels.net/htdocs/index.html\n",
      "http://wfe.sbg.ac.at/exist/apps/Frontpage/index.html\n",
      "http://edison.rutgers.edu/\n",
      "http://elec.enc.sorbonne.fr/editsdepacification/\n",
      "http://magyar-irodalom.elte.hu/effectus/\n",
      "https://web.archive.org/web/20090421081014/http://adh.sc.edu/de/de-table.html\n",
      "http://www.cn-telma.fr//enquetes/index/\n",
      "http://gams.uni-graz.at/context:epsg\n",
      "http://ckcc.huygens.knaw.nl/epistolarium/\n",
      "http://www.erl.monumentaserbica.com\n",
      "Catalog Entry Greta Franzini\n",
      "http://www.briefedition.alfred-escher.ch/\n",
      "Review\n",
      "https://blog.bham.ac.uk/estoriadigital/\n",
      "http://hellenic-institute.uk/research/Etheridge/\n",
      "http://euripidesscholia.org/\n",
      "Catalog Entry Greta Franzini\n",
      "\n",
      "http://quellen-perspectivia.net/en/fantin-scholderer/start\n",
      "http://www.faulhaber-edition.de/index.html\n",
      "http://faustedition.net/\n",
      "Catalog Entry Greta Franzini\n",
      "Review\n",
      "https://briefsammlung.de/feldpost-zweiter-weltkrieg/\n",
      "http://www.frh3.org.uk/\n",
      "Catalog Entry Greta Franzini\n",
      "https://romantic-circles.org/editions/flaxman/index.html\n",
      "http://fleischmanndiaries.ucc.ie/\n",
      "Catalog Entry Greta Franzini\n",
      "Review\n",
      "http://digiflorimont.huma-num.fr/flsite/florimont.html#\n",
      "http://iu.di.unipi.it/flos/#\n",
      "https://fontane-nb.dariah.eu/\n",
      "Catalog Entry Greta Franzini\n",
      "http://diglib.hab.de/edoc/ed000166/start.htm\n",
      "http://bhgw20.kfunigraz.ac.at/bb1.htm\n",
      "http://bhgw20.kfunigraz.ac.at/editions/c11/index.htm\n",
      "http://bhgw20.kfunigraz.ac.at/editions/ab1488/index.htm\n",
      "http://elec.enc.sorbonne.fr/morchesne/\n",
      "https://web.archive.org/web/20180129213641/http://inscriptions.etc.ucla.edu:80/index.php/inscription-database/\n",
      "https://founders.archives.gov\n",
      "https://www.johnfoxe.org/\n",
      "https://web.archive.org/web/20110913155818/http://www.hrionline.ac.uk/johnfoxe/\n",
      "https://romantic-circles.org/editions/frankenstein\n",
      "https://franklinpapers.org/\n",
      "https://www.univie.ac.at/Geschichte/sfn/index.php?option=com_content&view=article&id=83&Itemid=64&lang=en\n",
      "http://digital.lib.umd.edu/transition/\n",
      "http://scholarlyediting.org/2012/editions/baroness/main.baroness.html\n",
      "https://editionen.bbf.dipf.de/briefedition-friedrich-froebel/ueber-die-edition\n",
      "https://www.dhi.ac.uk/onlinefroissart/\n",
      "Catalog Entry Greta Franzini\n",
      "http://diglib.hab.de/edoc/ed000213/start.htm\n",
      "http://www.mpiwg-berlin.mpg.de/Galileo_Prototype/MAIN.HTM\n",
      "Catalog Entry Greta Franzini\n",
      "https://www.dhi.ac.uk/galdos/index.html\n",
      "Catalog Entry Greta Franzini\n",
      "http://www.rose.uzh.ch/docling/\n",
      "https://web.archive.org/web/20090421081330/http://adh.sc.edu/mg/mg-table.html\n",
      "http://www.gasconrolls.org/en/\n",
      "Catalog Entry Greta Franzini\n",
      "http://gauss.adw-goe.de/\n",
      "http://geraardsbergen.huygens.knaw.nl/\n",
      "http://geesebook.asu.edu\n",
      "Catalog Entry Greta Franzini\n",
      "https://germanletters.org\n",
      "https://jewish-history-online.net\n",
      "https://web.archive.org/web/20181215175000/http://www.ghettochronik.de/de/\n",
      "https://www.dhi.ac.uk/gide-les-caves-du-vatican/data/sommaire/front.htm\n",
      "https://romantic-circles.org/editions/gipsy_prince\n",
      "http://www.martianus.mueze.lmu.de/index.htm\n",
      "https://gloss-e.irht.cnrs.fr\n",
      "http://godwindiary.bodleian.ox.ac.uk\n",
      "Catalog Entry Greta Franzini\n",
      "Review\n",
      "https://romantic-circles.org/editions/godwin_fables/index.html\n",
      "https://deystroom.huygens.knaw.nl\n",
      "http://www.jgoethe.uni-muenchen.de/\n",
      "na\n",
      "Catalog Entry Greta Franzini\n",
      "http://obvil.sorbonne-universite.fr/corpus/gongora/\n",
      "http://goytisolo.unibe.ch/\n",
      "http://txm.ish-lyon.cnrs.fr/bfm/\n",
      "Catalog Entry Greta Franzini\n",
      "http://www.grabbe-portal.de\n",
      "Catalog Entry Greta Franzini\n",
      "http://www.steinheim-institut.de/cgi-bin/epidat?lang=de\n",
      "https://rotunda.upress.virginia.edu/founders/GRNT.html\n",
      "http://graves.uvic.ca/\n",
      "http://www.thomasgray.org/\n",
      "Catalog Entry Greta Franzini\n",
      "http://www.greatparchmentbook.org/\n",
      "https://web.archive.org/web/20090103134016/http://adh.sc.edu/ng/ng-table.html\n",
      "https://gregorovius-edition.dhi-roma.it\n",
      "https://romantic-circles.org/editions/griffin\n",
      "https://web.archive.org/web/20080516085000/http://www.ceth.rutgers.edu/projects/Griffis/project.htm\n",
      "http://grotius.huygens.knaw.nl/years\n",
      "http://grundtvigsvaerker.dk\n",
      "Catalog Entry Greta Franzini\n",
      "https://www.kb.nl/themas/middeleeuwen/het-gruuthusehandschrift\n",
      "https://guicciardini-storia-italia.huma-num.fr\n",
      "http://guillelmus.uni-koeln.de/\n",
      "Catalog Entry Greta Franzini\n",
      "http://gams.uni-graz.at/context:lge\n",
      "http://projects.exeter.ac.uk/gutzkow/Gutzneu/edition/index.htm\n",
      "https://www.hamann-ausgabe.de\n",
      "Catalog Entry Greta Franzini\n",
      "http://www.spaetmittelalter.uni-hamburg.de/hamburgisches_ub/\n",
      "Review\n",
      "https://rotunda.upress.virginia.edu/founders/ARHN.html\n",
      "https://www.bessofhardwick.org/home.jsp\n",
      "http://charles-harpur.org/\n",
      "Catalog Entry Greta Franzini\n",
      "https://www.dhi.ac.uk/hartlib/\n",
      "Catalog Entry Greta Franzini\n",
      "http://www.fgcu.edu/rboggs/hartmann/\n",
      "http://digi.ub.uni-heidelberg.de/ahd/\n",
      "Catalog Entry Greta Franzini\n",
      "http://haussknecht.thulb.uni-jena.de/index.php?id=301\n",
      "http://gams.uni-graz.at/context:htx\n",
      "http://diglib.hab.de/edoc/ed000084/start.htm\n",
      "http://germazope.uni-trier.de/Projects/HHP\n",
      "Catalog Entry Greta Franzini\n",
      "https://web.archive.org/web/20151226035209/http://golm.rz.uni-potsdam.de/hva/Default.htm\n",
      "https://romantic-circles.org/editions/sceptic/\n",
      "http://www.nlm.nih.gov/hmd/digicolls/henkel/index.html\n",
      "https://web.archive.org/web/20090421081023/http://adh.sc.edu/jh/jh-table.html\n",
      "http://medieval-inquisition.huma-num.fr/\n",
      "http://www.livesandletters.ac.uk/herle/index.html\n",
      "Catalog Entry Greta Franzini\n",
      "http://hesperia.ucm.es/index.php\n",
      "Review\n",
      "http://www.rmnet.uni-trier.de/cgi-bin/RMnetIndex.tcl?hea=qf&for=qfhxmusiel\n",
      "https://aloys-hirt.bbaw.de/index.xql\n",
      "http://www.e-archiv.li/editionHome.aspx?eid=2\n",
      "http://holbergsskrifter.dk/\n",
      "http://www.cems.ox.ac.uk/holinshed/\n",
      "Catalog Entry Greta Franzini\n",
      "http://resources.huygens.knaw.nl/registershollandsegrafelijkheid\n",
      "http://www.homermultitext.org/\n",
      "https://romantic-circles.org/editions/hone/index.html\n",
      "http://www.livesandletters.ac.uk/cell/Hooke/Hooke.html\n",
      "http://gams.uni-graz.at/context:ohad\n",
      "http://scholarlyediting.org/2016/editions/intro.dunning.html\n",
      "http://telota.bbaw.de/AvHBriefedition/\n",
      "Catalog Entry Greta Franzini\n",
      "https://edition-humboldt.de\n",
      "Review\n",
      "http://www.davidhume.org\n",
      "Catalog Entry Greta Franzini\n",
      "http://www.univie.ac.at/digihung\n",
      "http://digital.lib.uiowa.edu/leighhunt/\n",
      "http://huondauvergne.org/\n",
      "http://www.ibsen.uio.no/\n",
      "Catalog Entry Greta Franzini\n",
      "https://iffland.bbaw.de/index.xql\n",
      "http://www.inquisitionspostmortem.ac.uk/\n",
      "http://iaa.bibl.u-szeged.hu/index.php?page=home\n",
      "Catalog Entry Greta Franzini\n",
      "http://telota.bbaw.de/ig/\n",
      "http://iospe.kcl.ac.uk/index.html\n",
      "Catalog Entry Greta Franzini\n",
      "https://irt2021.inslib.kcl.ac.uk/en/\n",
      "Catalog Entry Greta Franzini\n",
      "http://www.libraria.fr/editions-inventaires\n",
      "http://www.nikulas.ds.uni-tuebingen.de/omeka/neatline/fullscreen/itinerar-nikulas\n",
      "https://rotunda.upress.virginia.edu/founders/JKSN.html\n",
      "http://www.jaumeprimer.uji.es/\n",
      "https://rotunda.upress.virginia.edu/founders/JNJY.html\n",
      "https://rotunda.upress.virginia.edu/founders/TSJN.html\n",
      "https://romantic-circles.org/editions/oceanides/\n",
      "http://www.yalejohnson.com\n",
      "Catalog Entry Greta Franzini\n",
      "https://universitypublishingonline.org/cambridge/benjonson/\n",
      "http://textus.elte.hu/ja/index.html\n",
      "https://lewisandclarkjournals.unl.edu\n",
      "Catalog Entry Greta Franzini\n",
      "http://jjda.ie\n",
      "Catalog Entry Greta Franzini\n",
      "http://www.evellum.com/index.php?page=shop.product_details&flypage=flypage_bodleian.tpl&product_id=6&category_id=2&option=com_virtuemart&Itemid=293\n",
      "http://diglib.hab.de/edoc/ed000081/startx.htm\n",
      "http://www.textkritik.de/fka/dokumente/process.htm\n",
      "http://aino.finlit.fi/omeka\n",
      "https://kroniekvankampen.huygens.knaw.nl\n",
      "http://diglib.hab.de/edoc/ed000216/start.htm\n",
      "https://romantic-circles.org/editions/keats/index.html\n",
      "https://ancientwisdoms.ac.uk/library/kekaumenos-consilia-et-narrationes/index.html\n",
      "http://www.gottfriedkeller.ch/hkka/projekt.php\n",
      "https://edview.dla-marbach.de\n",
      "http://sks.dk\n",
      "Catalog Entry Greta Franzini\n",
      "http://bakfj.saw-leipzig.de\n",
      "Catalog Entry Greta Franzini\n",
      "https://web.stanford.edu/group/kircher/cgi-bin/site/?page_id=7\n",
      "http://diglib.hab.de/edoc/ed000005/start.htm\n",
      "http://www.kleegestaltungslehre.zpk.org/ee/ZPK/Archiv/2011/01/25/00001/\n",
      "Review\n",
      "http://www.koeppen-jugend.de/\n",
      "Review\n",
      "http://www.library.uiuc.edu/kolbp/\n",
      "http://kundigebok.stadtarchiv.goettingen.de/kb2Web/html/\n",
      "Catalog Entry Greta Franzini\n",
      "https://www.herder-institut.de/bestaende-digitale-angebote/datenbanken/kurlaendische-gueterurkunden.html\n",
      "http://lumieres.unil.ch/projets/la-harpe\n",
      "http://www.svea-pommern.de/\n",
      "http://protokolle.archive.nrw.de/\n",
      "https://romantic-circles.org/editions/lel/index.html\n",
      "http://web.archive.org/web/20080616091917/http://www.historiker.de/projekte/orient/\n",
      "https://web.archive.org/web/20090421081017/http://adh.sc.edu/hl/hl-table.html\n",
      "https://earlyenglishlaws.ac.uk/\n",
      "http://minilazarillo.github.io\n",
      "Catalog Entry Greta Franzini\n",
      "Review\n",
      "http://www.ehu.eus/monumenta/lazarraga/\n",
      "Catalog Entry Greta Franzini\n",
      "https://lebenswelten-lehndorff.bbaw.de/index.xql\n",
      "http://leibnizviii.bbaw.de\n",
      "Catalog Entry Greta Franzini\n",
      "https://leibniz-briefportal.adw-goe.de/start\n",
      "http://diglib.hab.de/edoc/ed000146/start.htm\n",
      "http://letters1916.maynoothuniversity.ie/\n",
      "Catalog Entry Greta Franzini\n",
      "http://web.archive.org/web/20080221092434/http://palissy.humana.univ-nantes.fr/cete/txt/Remission/index.en.html\n",
      "http://www.bayerische-landesbibliothek-online.de/liber-censualium-edition-evangelientext\n",
      "http://www.piggin.net/stemmahist/libertext.htm\n",
      "http://liber-glossarum.huma-num.fr/\n",
      "http://www.librinlinea.it/titolo/liber-matriculae-il-libro-della-matric/TO00906900\n",
      "Catalog Entry Greta Franzini\n",
      "http://vatlat3880.altervista.org\n",
      "Catalog Entry Greta Franzini\n",
      "http://www.e-archiv.li/editionHome.aspx?eid=1\n",
      "http://www.e-archiv.li/editionHome.aspx?eid=8\n",
      "https://web.archive.org/web/20090421081313/http://adh.sc.edu/ll/ll-table.html\n",
      "http://linnaeus.c18.net/\n",
      "http://lumieres.unil.ch/projets/lippe\n",
      "http://diglib.hab.de/edoc/ed000001/start.htm\n",
      "http://livingstone.library.ucla.edu/1871diary/index.htm\n",
      "Catalog Entry Greta Franzini\n",
      "https://www.livingstoneonline.org/index.php\n",
      "Catalog Entry Greta Franzini\n",
      "http://elec.enc.sorbonne.fr/josticeetplet/\n",
      "https://www.dbnl.org/tekst/love002oorl01_01/colofon.php\n",
      "Catalog Entry Greta Franzini\n",
      "http://teatrnn.pl/lublinwdokumencie\n",
      "http://web.wlu.ca/history/cnighman/LN/index.html\n",
      "https://www.math.uni-augsburg.de/htdocs/emeriti/pukelsheim/llull/\n",
      "Catalog Entry Greta Franzini\n",
      "http://www.minorworksoflydgate.net\n",
      "Catalog Entry Greta Franzini\n",
      "https://romantic-circles.org/editions/LB/\n",
      "http://www.ldm-digital.de/\n",
      "Review\n",
      "http://maammekirja.fi\n",
      "Catalog Entry Greta Franzini\n",
      "http://www.macgreevy.org\n",
      "Catalog Entry Greta Franzini\n",
      "http://rotunda.upress.virginia.edu/dmde\n",
      "Catalog Entry Greta Franzini\n",
      "https://rotunda.upress.virginia.edu/founders/JSMN.html\n",
      "https://maechtekongresse.acdh.oeaw.ac.at/pages/index.html\n",
      "Catalog Entry Greta Franzini\n",
      "http://diglib.hab.de/edoc/ed000086/start.htm\n",
      "http://www.maloryproject.com/\n",
      "Catalog Entry Greta Franzini\n",
      "http://web.wlu.ca/history/cnighman\n",
      "http://hfi.uni-graz.at/mfu/#fo674\n",
      "http://english.selu.edu/humanitiesonline/kempe/\n",
      "http://www.marinelives.org/\n",
      "http://www.perseus.tufts.edu/Texts/Marlowe.html\n",
      "https://marsdenarchive.otago.ac.nz/\n",
      "https://web.archive.org/web/20090421081308/http://adh.sc.edu/gm/gm-table.html\n",
      "https://rotunda.upress.virginia.edu/founders/JNML.html\n",
      "http://www.lib.unb.ca/Texts/marston/\n",
      "Catalog Entry Greta Franzini\n",
      "http://martianus.huygensinstituut.nl/path\n",
      "Review\n",
      "https://dh.tcd.ie/martindiary/site/index.xml\n",
      "http://telota.bbaw.de/mega/\n",
      "http://matrikel.adbk.de/\n",
      "http://matrikel.uni-rostock.de\n",
      "Catalog Entry Greta Franzini\n",
      "http://web.archive.org/web/20080412023610/http://www.dm.unipi.it/pages/maurolic/\n",
      "http://bia.medici.org\n",
      "Catalog Entry Greta Franzini\n",
      "http://www.getty.edu/research/mellini/\n",
      "https://melville.electroniclibrary.org\n",
      "http://rotunda.upress.virginia.edu/melville/\n",
      "Catalog Entry Greta Franzini\n",
      "http://melvillesmarginalia.org/\n",
      "Review\n",
      "http://ema.smb.museum/de/\n",
      "Review\n",
      "http://codicemendoza.inah.gob.mx/\n",
      "http://menschenenbergen.huygens.knaw.nl/path\n",
      "http://journal-michon.symogih.org/index.html\n",
      "http://diglib.hab.de/edoc/ed000232/start.htm\n",
      "http://diglib.hab.de/edoc/ed000223/start.htm\n",
      "http://www.dartmouth.edu/~milton/reading_room/\n",
      "https://mrp.oeaw.ac.at\n",
      "https://web.archive.org/web/20111219021517/http://www.kantl.be:80/ctb/pub/index.htm\n",
      "http://lumieres.unil.ch/projets/\n",
      "http://www.digitalmishnah.umd.edu/\n",
      "Catalog Entry Greta Franzini\n",
      "http://gams.uni-graz.at/context:malab\n",
      "http://www.rmnet.uni-trier.de/cgi-bin/RMnetIndex.tcl?hea=qf&for=qmfranku\n",
      "http://xtf.bvh.univ-tours.fr/xtf/view?docId=tei/B330636101_S1238/B330636101_S1238_tei.xml\n",
      "http://web.archive.org/web/20100812052807/http://web.me.com/guyjacqu/pernon-editions/accueil.html\n",
      "https://www.unicaen.fr/services/puc/sources/Montesquieu/\n",
      "http://elec.enc.sorbonne.fr/montferrand/\n",
      "http://gams.uni-graz.at/me\n",
      "Review\n",
      "http://www.unicaen.fr/services/puc/sources/chroniqueslatines/index.php\n",
      "http://www.unicaen.fr/services/puc/sources/gsp/index.php\n",
      "http://mama.csad.ox.ac.uk\n",
      "Catalog Entry Greta Franzini\n",
      "http://elec.enc.sorbonne.fr/monumentshistoriques/\n",
      "http://gams.uni-graz.at/context:mws?locale=de\n",
      "http://morrisedition.lib.uiowa.edu/\n",
      "https://rotunda.upress.virginia.edu/founders/GRMS.html\n",
      "http://letters.mozartways.com\n",
      "Catalog Entry Greta Franzini\n",
      "http://dme.mozarteum.at/DME/nma/nmapub_srch.php?l=1\n",
      "https://dme.mozarteum.at/briefe-dokumente/\n",
      "Review\n",
      "http://dme.mozarteum.at/DME/libretti-edition/index.php\n",
      "http://muehsam-tagebuch.de\n",
      "Catalog Entry Greta Franzini\n",
      "http://www.emunch.no/\n",
      "\n",
      "http://mizar.unive.it/mqdq/public/\n",
      "http://www.tibetanhistory.net/documents/mustang\n",
      "https://research.ncl.ac.uk/thethomasnasheproject/\n",
      "http://bdn-edition.de/\n",
      "http://oracc.museum.upenn.edu/rinap/\n",
      "https://abhilekha.adw.uni-heidelberg.de/nepal/editions\n",
      "http://individual.utoronto.ca/emrecordkeeping/\n",
      "http://nestlealand.uni-muenster.de/\n",
      "Catalog Entry Greta Franzini\n",
      "http://www.newtonproject.sussex.ac.uk/\n",
      "http://webapp1.dlib.indiana.edu/newton/index.jsp\n",
      "\n",
      "http://www.hypernietzsche.org\n",
      "Catalog Entry Greta Franzini\n",
      "http://www.nietzschesource.org/\n",
      "Catalog Entry Greta Franzini\n",
      "Review\n",
      "https://www.degruyter.com/view/serial/16016?rskey=VXSmtn&result=7\n",
      "https://romantic-circles.org/editions/nobody\n",
      "https://romantic-circles.org/editions/norse/index.html\n",
      "http://www.edkomp.uni-muenchen.de/Notker/Demo-CD/edition_frame.html\n",
      "\n",
      "http://elias.finlit.fi/nummisuutarit/\n",
      "http://www.neuesbuch.uni-trier.de/\n",
      "http://www.foda.org.uk/oaths/intro/introduction1.htm\n",
      "http://elec.enc.sorbonne.fr/obituairestmont/\n",
      "http://ogham.celt.dias.ie/\n",
      "https://ogier.huygens.knaw.nl\n",
      "https://edition.onb.ac.at/okopenko/\n",
      "Catalog Entry Greta Franzini\n",
      "http://www.oldbaileyonline.org/\n",
      "Catalog Entry Greta Franzini\n",
      "http://www.donb.nl/\n",
      "http://telota.bbaw.de/kant_op/index.html\n",
      "http://www.cn-telma.fr/ordonnances/index/\n",
      "http://stel.ub.edu/orlando/\n",
      "http://orosius.monumenta.ch/\n",
      "Catalog Entry Greta Franzini\n",
      "http://orwelldiaries.wordpress.com/\n",
      "https://web.archive.org/web/20181231104508/http://toisondor.byu.edu:80/ospital/toc.htm\n",
      "https://mecmua.acdh.oeaw.ac.at\n",
      "http://www.pacelli-edition.de/\n",
      "http://diglib.hab.de/edoc/ed000145/start.htm\n",
      "https://web.archive.org/web/20050217022521/http://www.gol.grosseto.it/puam/arcstato/paganico/pagcop.htm\n",
      "http://www.press.umich.edu/titleDetailDesc.do?id=6462\n",
      "Catalog Entry Greta Franzini\n",
      "Review\n",
      "http://web.archive.org/web/20080405110201/http://homepage.mac.com/guyjacqu/palissy.html\n",
      "http://parland.sls.fi\n",
      "Catalog Entry Greta Franzini\n",
      "http://www.sd-editions.com/PROME/\n",
      "https://www.dhi.ac.uk/partonopeus/\n",
      "Catalog Entry Greta Franzini\n",
      "http://www.parzival.unibe.ch/rapp/#/\n",
      "http://www.parzival.unibe.ch/\n",
      "Catalog Entry Greta Franzini\n",
      "https://www.biusante.parisdescartes.fr/patin/\n",
      "http://www.confessio.ie/#\n",
      "Catalog Entry Greta Franzini\n",
      "Review\n",
      "Review\n",
      "https://www.jeanpaul-edition.de/start.html\n",
      "Catalog Entry Greta Franzini\n",
      "http://www.jean-paul-portal.uni-wuerzburg.de/startseite/\n",
      "https://web.archive.org/web/20190904032200/http://wp.unil.ch:80/nt-arabe/edition-electronique/\n",
      "http://digitalpaxton.org/\n",
      "https://romantic-circles.org/editions/peake/\n",
      "http://pelavicino.labcd.unipi.it/\n",
      "Catalog Entry Greta Franzini\n",
      "http://www.persius.mueze.lmu.de/ghtm/gfr.htm\n",
      "https://ldod.uc.pt\n",
      "http://www.pessoadigital.pt\n",
      "Catalog Entry Greta Franzini\n",
      "http://dcl.slis.indiana.edu/petrarchive/\n",
      "http://web.wlu.ca/history/cnighman/LP/index.html\n",
      "http://www.brown.edu/Departments/Italian_Studies/pico/\n",
      "http://jefferson.village.virginia.edu/seenet/piers/\n",
      "http://rotunda.upress.virginia.edu/PinckneyHorry/\n",
      "Catalog Entry Greta Franzini\n",
      "Review\n",
      "https://rotunda.upress.virginia.edu/founders/PNKY.html\n",
      "https://web.archive.org/web/20190925233050/http://digital.lib.uiowa.edu:80/pioneers/\n",
      "http://vlib.iue.it/carrie/documents/planctus/planctus/index.html\n",
      "Catalog Entry Greta Franzini\n",
      "https://scta.info/resource/peter-plaoul\n",
      "Review\n",
      "https://editionhansposse.gnm.de\n",
      "https://prde.upress.virginia.edu\n",
      "http://www.spaetmittelalter.uni-hamburg.de/Urkundenbuch/\n",
      "http://www.stgallpriscian.ie/\n",
      "Catalog Entry Greta Franzini\n",
      "https://romantic-circles.org/editions/prison/index.html\n",
      "http://probstuecke-digital.de\n",
      "Catalog Entry Greta Franzini\n",
      "http://diglib.hab.de/mss/81-10-aug-2f/start.htm\n",
      "http://echo.mpiwg-berlin.mpg.de/MPIWG:X3Y43643\n",
      "https://web.archive.org/web/20121028151551/http://txm.risc.cnrs.fr/txm/\n",
      "http://findingaids.library.dal.ca/thomas-head-raddall-fonds\n",
      "https://kunoraeber.ch/lyrik/\n",
      "http://edizionicafoscari.unive.it/it/edizioni/libri/978-88-6969-00-06/giovanni-battista-ramusio/\n",
      "http://www.ihtp.cnrs.fr/prefets/\n",
      "https://rita.acdh.oeaw.ac.at\n",
      "https://www.ssrq-sds-fds.ch/online/tei/\n",
      "http://www.historici.nl/Onderzoek/Projecten/RegistersVanDeHollandseGrafelijkheid1299-1345/index_html\n",
      "Catalog Entry Greta Franzini\n",
      "http://akademieregistres.bbaw.de/index.html\n",
      "http://www.bundesarchiv.de/aktenreichskanzlei/1919-1933/0000/index.html\n",
      "https://quellen.perspectivia.net/de/russische_relationen/start\n",
      "http://frhu20.iti.btk.mta.hu\n",
      "Catalog Entry Greta Franzini\n",
      "http://tueditions.ulb.tu-darmstadt.de/e000001/\n",
      "http://diglib.hab.de/edoc/ed000004/start.htm\n",
      "http://erdmuthe.thulb.uni-jena.de\n",
      "Catalog Entry Greta Franzini\n",
      "http://rrp.stanford.edu\n",
      "Catalog Entry Greta Franzini\n",
      "https://edition.mgh.de/001/html/\n",
      "Catalog Entry Greta Franzini\n",
      "http://www.historici.nl/Onderzoek/Projecten/Rijmkroniek\n",
      "https://regi.tankonyvtar.hu/hu/tartalom/tkt/rimay-janos-ifjukori/adatok.html\n",
      "https://romantic-circles.org/editions/robinson/index.html\n",
      "http://gams.uni-graz.at/context:rollett\n",
      "https://web.archive.org/web/20080820101548/http://rose.mse.jhu.edu/pages/main_frameset.htm\n",
      "https://romaninscriptionsofbritain.org\n",
      "https://web.archive.org/web/20160603021404/https://www.gwu.edu/%7Eerpapers/\n",
      "http://rotunda.upress.virginia.edu/crossetti/\n",
      "Catalog Entry Greta Franzini\n",
      "http://jefferson.village.virginia.edu/rossetti\n",
      "https://opendata.uni-halle.de/handle/1981185920/13873\n",
      "https://journals.openedition.org/tabularia/2569?lang=en\n",
      "http://diglib.hab.de/edoc/ed000083/startx.htm\n",
      "http://www.humanities.mcmaster.ca/~russell/brletters.htm\n",
      "https://web.archive.org/web/20070609201827/http://www.winter-verlag-hd.de/programm/ucw/Rechtswissenschaft/body_rechtswissenschaft.html\n",
      "http://www.sachsenspiegel-online.de/cms/\n",
      "http://saint-denis.enc.sorbonne.fr/\n",
      "http://elec.enc.sorbonne.fr/saintgermaindespres/\n",
      "http://elec.enc.sorbonne.fr/sanctoral/\n",
      "http://ta.sandrart.net/de/\n",
      "Catalog Entry Greta Franzini\n",
      "Review\n",
      "http://modeleditions.blackmesatech.com/mep/MS/docs/ms-table.html\n",
      "http://sangerpapers.org/documents/aboutedition.php\n",
      "https://www.monasterium.net/mom/SMG1200-1250/collection\n",
      "http://inamidst.com/stuff/sappho/\n",
      "http://sauer-seuffert.onb.ac.at\n",
      "Catalog Entry Greta Franzini\n",
      "Review\n",
      "https://quellen.perspectivia.net/de/schatullrechnungen/start\n",
      "http://www.schenkerdocumentsonline.org/index.html\n",
      "Catalog Entry Greta Franzini\n",
      "http://exist.ghil.ac.uk:8079/Schimper/index.html\n",
      "http://august-wilhelm-schlegel.de/\n",
      "https://schleiermacher-digital.de\n",
      "https://www.arthur-schnitzler.de/\n",
      "Catalog Entry Greta Franzini\n",
      "https://schnitzler-briefe.acdh.oeaw.ac.at/\n",
      "Catalog Entry Greta Franzini\n",
      "http://www.else.uni-wuppertal.de/index.html\n",
      "https://schnitzler-tagebuch.acdh.oeaw.ac.at/pages/index.html\n",
      "http://schopenhauer.uni.wroc.pl\n",
      "Catalog Entry Greta Franzini\n",
      "https://www.oliveschreiner.org\n",
      "http://schuchardt.uni-graz.at/korrespondenz/einleitung\n",
      "http://digital.wustl.edu/d/dre/index.html\n",
      "http://www.artamene.org/\n",
      "https://edition640.makingandknowing.org/#/\n",
      "http://www.mdsz.thulb.uni-jena.de/sz/index.php\n",
      "http://selbstzeugnisse.hab.de/edition/\n",
      "http://senckenberg.ub.uni-frankfurt.de\n",
      "Catalog Entry Greta Franzini\n",
      "http://www.sermones.net\n",
      "Catalog Entry Greta Franzini\n",
      "http://diglib.hab.de/edoc/ed000215/start.htm\n",
      "http://purl.oclc.org/emls/04-2/rev_siem.html\n",
      "http://internetshakespeare.uvic.ca/index.html\n",
      "https://wayback.archive-it.org/org-467/20191016094633/http://quartos.org/\n",
      "http://shelleygodwinarchive.org/\n",
      "Catalog Entry Greta Franzini\n",
      "Review\n",
      "https://romantic-circles.org/editions/mws/lastman/index.html\n",
      "https://romantic-circles.org/editions/shelley/medusa/index.html\n",
      "https://romantic-circles.org/editions/mws/immortal/index.html\n",
      "https://romantic-circles.org/editions/shelley/devil/index.html\n",
      "https://rotunda.upress.virginia.edu/EmilyShore/make-page.xqy\n",
      "Catalog Entry Greta Franzini\n",
      "https://dslab.lib.rochester.edu/esw/\n",
      "http://siddham.uk/\n",
      "http://siebenbuergenurkundenbuch.uni-trier.de/\n",
      "http://codexsinaiticus.org/en/\n",
      "Catalog Entry Greta Franzini\n",
      "Review\n",
      "http://nl.ijs.si/e-zrc/index-en.html\n",
      "https://cdrhsites.unl.edu/ctsmithsite\n",
      "http://www.songsofthevictorians.com/\n",
      "Review\n",
      "https://romantic-circles.org/editions/southey_letters/Part_One/index.html\n",
      "https://romantic-circles.org/editions/southey_letters/Part_Two/index.html\n",
      "https://romantic-circles.org/editions/southey_letters/Part_Three/index.html\n",
      "https://romantic-circles.org/editions/southey_letters/Part_Four/index.html\n",
      "https://romantic-circles.org/editions/southey_letters/Part_Five/index.html\n",
      "https://romantic-circles.org/editions/southey_letters/Part_Six/index.html\n",
      "https://romantic-circles.org/editions/southey_prophecy\n",
      "https://romantic-circles.org/editions/wattyler/\n",
      "https://www.spaengler-haushaltsbuecher.at\n",
      "http://www.spohr-briefe.de\n",
      "Catalog Entry Greta Franzini\n",
      "http://www.stgallplan.org/\n",
      "http://www.bayerischer-staatsrat.de\n",
      "Catalog Entry Greta Franzini\n",
      "http://walpurgisherren.editionenportal.de/index.php?id=449\n",
      "https://web.archive.org/web/20090103204623/http://adh.sc.edu/sa/sa-table.html\n",
      "http://www.stapferenquete.ch\n",
      "Catalog Entry Greta Franzini\n",
      "https://staribacher.acdh.oeaw.ac.at/\n",
      "http://www.ddr-im-blick.de/\n",
      "https://stationersregister.online\n",
      "https://achilleid.unige.ch/welcome\n",
      "http://vicenza.statutacommunis.org/\n",
      "http://stendhal.demarre-shs.fr/\n",
      "http://www.lib.umd.edu/dcr/collections/sterling/index.jsp\n",
      "http://www.tristramshandyweb.it\n",
      "Catalog Entry Greta Franzini\n",
      "https://www.uibk.ac.at/germanistik/stifter/witiko/\n",
      "https://dh.tcd.ie/pricediary/\n",
      "http://www.strassenenquete.ch\n",
      "Catalog Entry Greta Franzini\n",
      "http://www.richard-strauss-ausgabe.de\n",
      "Catalog Entry Greta Franzini\n",
      "http://web.archive.org/web/20111221024740/http://www.kantl.be:80/ctb/vanhoutte/projects/teleurgang.htm\n",
      "Catalog Entry Greta Franzini\n",
      "http://edities.kantl.be/streuvels/\n",
      "https://www.dhi.ac.uk/strype/\n",
      "Catalog Entry Greta Franzini\n",
      "https://sturm-edition.de/\n",
      "http://www.stoa.org/sol/\n",
      "http://web.archive.org/web/20100313025726/http://www.jaffebros.com/lee/gulliver/index.html\n",
      "https://www.online-swift.de/index.html\n",
      "http://swinburnearchive.indiana.edu/swinburne/\n",
      "http://www.tagebuch-christian-ii-anhalt.de/\n",
      "Catalog Entry Greta Franzini\n",
      "http://bichitra.jdvu.ac.in/index.php\n",
      "Catalog Entry Greta Franzini\n",
      "http://foxtalbot.dmu.ac.uk/\n",
      "http://www.cet-e-quinhentos.com\n",
      "Catalog Entry Greta Franzini\n",
      "http://www.cet-e-seiscentos.com\n",
      "Catalog Entry Greta Franzini\n",
      "\n",
      "http://corpus.enc.sorbonne.fr/testaments/\n",
      "http://elec.enc.sorbonne.fr/testaments-de-poilus/\n",
      "http://thalamus.huma-num.fr/index.html\n",
      "https://www.unicaen.fr/services/puc/sources/maur/accueil\n",
      "http://euromusicology.cs.uu.nl/\n",
      "http://www.corpusthomisticum.org/\n",
      "http://digitalthoreau.org\n",
      "Catalog Entry Greta Franzini\n",
      "Review\n",
      "http://arkivet.thorvaldsensmuseum.dk\n",
      "Catalog Entry Greta Franzini\n",
      "https://thun-korrespondenz.acdh.oeaw.ac.at\n",
      "Catalog Entry Greta Franzini\n",
      "https://romantic-circles.org/editions/tighe_verses\n",
      "http://earlymusictheory.org/Tinctoris/#\n",
      "https://www.univie.ac.at/tocharian/\n",
      "http://www.tolleredition.de/\n",
      "http://www.topelius.fi\n",
      "Catalog Entry Greta Franzini\n",
      "https://www.nuernberg.de/internet/stadtarchiv/publikationen_einzeln_tucherbuch.html\n",
      "Review\n",
      "http://marktwainproject.org\n",
      "Catalog Entry Greta Franzini\n",
      "Review\n",
      "http://bancroft.berkeley.edu/MTP/\n",
      "http://etext.lib.virginia.edu/railton/index2.html\n",
      "https://romantic-circles.org/editions/upton/index.html\n",
      "http://gams.uni-graz.at/context:ufbas\n",
      "http://gams.uni-graz.at/collection:stub\n",
      "http://psalter.library.uu.nl\n",
      "Catalog Entry Greta Franzini\n",
      "http://www.utrechtsekronieken.nl\n",
      "Catalog Entry Greta Franzini\n",
      "http://vangoghletters.org/vg/\n",
      "http://vnsbrieven.org\n",
      "Catalog Entry Greta Franzini\n",
      "http://damaboba.unibo.it/index.html\n",
      "Catalog Entry Greta Franzini\n",
      "Review\n",
      "na\n",
      "Review\n",
      "http://vbd.humnet.unipi.it/\n",
      "Catalog Entry Greta Franzini\n",
      "\n",
      "http://versemiscellaniesonline.bodleian.ox.ac.uk/\n",
      "http://vesalius.northwestern.edu/\n",
      "http://vespasianodabisticciletters.unibo.it/index.html\n",
      "Catalog Entry Greta Franzini\n",
      "http://atilf.atilf.fr/bichard/\n",
      "http://vindolanda.csad.ox.ac.uk/\n",
      "Catalog Entry Greta Franzini\n",
      "http://www.rmnet.uni-trier.de/cgi-bin/RMnetIndex.tcl?hea=qf&for=qpitzreg\n",
      "http://www.waleweinendekeye.huygens.knaw.nl/path/home\n",
      "http://www-gewi.uni-graz.at/cocoon/rpb/\n",
      "https://rotunda.upress.virginia.edu/founders/GEWN.html\n",
      "Catalog Entry Greta Franzini\n",
      "https://quod.lib.umich.edu/h/hwatkins/\n",
      "http://www.weber-gesamtausgabe.de/de/Index\n",
      "Catalog Entry Greta Franzini\n",
      "Review\n",
      "https://rotunda.upress.virginia.edu/founders/WBST.html\n",
      "http://www.weinsberg.uni-bonn.de/\n",
      "https://downloads.newcastle.edu.au/library/cultural%20collections/the-wellington-valley-project/\n",
      "http://digi.ub.uni-heidelberg.de/wgd/\n",
      "Review\n",
      "http://www.whistler.arts.gla.ac.uk/\n",
      "Review\n",
      "https://whitmanarchive.org/index.html\n",
      "Catalog Entry Greta Franzini\n",
      "http://msr-archives.rutgers.edu/CBF/\n",
      "Review\n",
      "https://grundbuecher.acdh.oeaw.ac.at\n",
      "http://www.evellum.com/index.php?page=shop.product_details&flypage=flypage.tpl&product_id=3&category_id=1&option=com_virtuemart&Itemid=224\n",
      "https://quellen.perspectivia.net/de/wilhelmine/start\n",
      "https://romantic-circles.org/editions/sketches/index.html\n",
      "https://rotunda.upress.virginia.edu/founders/WILS.html\n",
      "http://wab.aksis.uib.no/wab_BEE.page\n",
      "Catalog Entry Greta Franzini\n",
      "http://www.wittgensteinsource.org/\n",
      "https://web.archive.org/web/20170610090514/http://adamwodeham.org/text/questions/wodehamordinatio\n",
      "https://web.archive.org/web/20190919170943/http://dhprojects.maynoothuniversity.ie:80/woodman\n",
      "http://www.woolfonline.com/\n",
      "http://collections.wordsworth.org.uk/GtoG/home.asp?page=FrontPage\n",
      "https://romantic-circles.org/editions/guide_lakes\n",
      "\n",
      "https://atlas.ihpan.edu.pl/gis/agad_wschowa_i2_pub/index.php\n",
      "https://web.archive.org/web/20061207211321/http://www.wmich.edu:80/medieval/research/rawl/wulf/\n",
      "http://web.archive.org/web/20090214003757/http://english3.fsu.edu:80/~wulfstan/\n",
      "http://webpages.ursinus.edu/jlionarons/wulfstan/Wulfstan.html\n",
      "http://www.1890s.ca\n",
      "Catalog Entry Greta Franzini\n",
      "http://www.cosmov.uzh.ch/edition68.html\n",
      "Review\n",
      "http://www.irg.uzh.ch/static/zwingli-briefe/\n",
      "http://gramoty.ru\n",
      "Catalog Entry Greta Franzini\n",
      "http://kirchenbuch-groeben.de/\n",
      "http://www.digital-musicology.at/de-at/edi_sechter.html\n",
      "http://www.digital-musicology.at/sagrifizio/de/index.html\n",
      "http://emco.swansea.ac.uk/edition/introduction/\n",
      "https://www.unicaen.fr/puc/sources/depiscibus/\n",
      "https://www.unicaen.fr/puc/sources/ciceron/accueil\n",
      "https://www.unicaen.fr/puc/sources/malaterra/\n",
      "https://www.gbbj.org/\n",
      "http://www.lokalbericht.ch/\n",
      "http://www.hallernet.org/\n",
      "https://textualcommunities.org/app/community/?id=5aaa517f8d92a41bfffafacc&route=view&document=5d4448772335e070c676ef97&page=5d444867d8f0ec0000133e93\n",
      "www.controversia-et-confessio.de/cc-digital/digitale-edition.html\n",
      "https://ores.klassik-stiftung.de/ords/f?p=408\n",
      "http://www.dietrich-edition.unibe.ch/\n",
      "https://edition.anton-webern.ch/home\n",
      "https://www.formulae.uni-hamburg.de/edition-und-datenbank.html\n",
      "http://www1.unipa.it/paolo.monella/romualdus/index.html\n",
      "Catalog Entry Greta Franzini\n",
      "https://www.hahnemann-edition.de\n",
      "Catalog Entry Greta Franzini\n",
      "http://www.sulzer-digital.de/briefe/index.html\n",
      "https://decollected.net/\n",
      "Review\n",
      "https://eng-bup.unibas.it/library/DH\n",
      "https://eng-bup.unibas.it/library/DH\n",
      "https://eng-bup.unibas.it/library/DH\n",
      "https://eng-bup.unibas.it/library/DH\n",
      "https://eng-bup.unibas.it/library/DH\n",
      "https://eng-bup.unibas.it/library/DH\n",
      "http://www.unicaen.fr/scripta\n",
      "https://doi.org/10.11588/edition.kcd\n",
      "https://briefedition.wedekind.h-da.de\n",
      "http://www.rostocker-liederbuch.de\n",
      "https://editions.byzantini.st/ChronicleME/#/\n",
      "https://altchive.org/\n",
      "https://www.haderbuecher.de/\n",
      "https://editions.erabbinica.org/exist/apps/mishnah/$app/index.html\n",
      "https://www.stonesutras.org\n",
      "http://www.emroon.no/\n",
      "https://edition.onb.ac.at/context:blotius\n",
      "https://edition.freischuetz-digital.de/\n",
      "https://www.winnifredeatonarchive.org/\n",
      "https://www.augsburger-baumeisterbuecher.de/\n",
      "https://editionen.bbf.dipf.de/briefedition-spranger-hadlich/ueber-die-edition\n",
      "http://gams.uni-graz.at/context:wiesinger\n",
      "http://gams.uni-graz.at/context:aled\n",
      "http://www.faustodigital.com/\n",
      "https://epicat.uab.cat/\n",
      "https://sozinianer.de\n",
      "https://www.bayerischer-staatsrat.de/\n",
      "Catalog Entry Greta Franzini\n",
      "https://www.bayerischer-ministerrat.de/\n",
      "http://cards-fly.clul.ul.pt/teitok/ultramar/\n",
      "https://kraus1933.ace.oeaw.ac.at\n",
      "https://www.fd-stoffe-online.ch/\n",
      "https://editions.mml.ox.ac.uk/editions/ablassgnade6/\n",
      "http://dcc.dickinson.edu/callimachus-aetia/preface\n",
      "http://lupa.at/\n",
      "https://maria-magdalena.ub.uni-freiburg.de/\n",
      "https://doi.org/10.1515/klemp\n",
      "http://elizabethgaskelljournal.com/index.html\n",
      "https://digitalmitford.org/index.html\n",
      "http://tapasproject.org/node/443\n",
      "http://cretaninscriptions.vedph.it/\n",
      "https://www.semper-edition.ch/\n",
      "https://early-testimony.ehri-project.eu/\n",
      "https://www.lagis-hessen.de/de/klhg\n",
      "https://db.innovatingknowledge.nl/edition/\n",
      "Catalog Entry Greta Franzini\n",
      "http://www.eulaliomotta.uefs.br/index.php\n",
      "http://wikileopardi.altervista.org\n",
      "http://diglib.hab.de/edoc/ed000248/start.htm\n",
      "https://teaching-dhlab.pages.gitlab.rlp.net/geburtsbriefemainz/home/\n",
      "https://annefrankmanuscripten.org/\n",
      "https://hainhofer.hab.de/\n",
      "https://ahiqar.uni-goettingen.de\n",
      "https://www.dodis.ch/q12\n",
      "https://wn.ace.oeaw.ac.at/\n",
      "http://telma-chartes.irht.cnrs.fr/yves-de-chartres\n",
      "https://thlebee.github.io/CoEg/\n",
      "https://gams.uni-graz.at/context:fercan\n",
      "https://gams.uni-graz.at/context:corema\n",
      "http://gams.uni-graz.at/context:dipko\n",
      "http://www.narragonien-digital.de\n",
      "https://notesfromegypt.info/index.html\n",
      "https://cwrgm.org/\n",
      "https://licodemo.ilc.cnr.it/demo/bellini/build/\n",
      "https://fraktionsprotokolle.de/\n",
      "http://vanburenpapers.org/\n",
      "https://dehmel-digital.de/\n",
      "https://humboldt.unibe.ch/text\n",
      "Catalog Entry Greta Franzini\n",
      "https://www.quillproject.net/convention/114\n",
      "https://www.masshist.org/publications/adams-papers/\n",
      "https://edition.onb.ac.at/handke-notizbuecher\n",
      "http://wallace-online.org/\n",
      "http://www.gramsciproject.org/\n",
      "https://kraus.wienbibliothek.at/\n",
      "https://making-mysticism.org/edition/1.0/html/\n",
      "https://www.kleist-digital.de/\n"
     ]
    }
   ],
   "source": [
    "result = bs_content.find_all(\"ref\") #simple search to export all URLs, even review links \n",
    "for t in result:\n",
    "    print(t.text)"
   ]
  },
  {
   "cell_type": "code",
   "execution_count": 150,
   "id": "d3c3d094",
   "metadata": {
    "scrolled": true
   },
   "outputs": [
    {
     "name": "stdout",
     "output_type": "stream",
     "text": [
      "L’année 1437 dans la pratique de Pierre Christofle, notaire du Châtelet d’Orléans\n",
      "http://elec.enc.sorbonne.fr/christofle/index.html\n",
      "2016\n",
      "\n",
      "\n",
      "The Aberdeen Bestiary\n",
      "http://www.abdn.ac.uk/bestiary\n",
      "1996\n",
      "\n",
      "\n",
      "apw - Acta Pacis Westphalicae\n",
      "http://apw.digitale-sammlungen.de/\n",
      "2014\n",
      "\n",
      "\n",
      "Édition numérique des Actes des églises réformées de Bourgogne au XVIIe siècle.\n",
      "http://synodes-protestants.symogih.org/index.html\n",
      "2018\n",
      "\n",
      "\n",
      "Actes royaux\n",
      "http://www.cn-telma.fr/actesroyaux/index/\n",
      "2008\n",
      "\n",
      "\n",
      "Adams Family Papers - An Electronic Archive\n",
      "http://www.masshist.org/digitaladams/archive/\n",
      "2003\n",
      "\n",
      "\n",
      "The Adams Papers Digital Edition\n",
      "https://rotunda.upress.virginia.edu/founders/ADMS.html\n",
      "2008\n",
      "\n",
      "\n",
      "John Quincy Adams Diary\n",
      "https://www.masshist.org/publications/jqadiaries/index.php\n",
      "2017\n",
      "\n",
      "\n",
      "The Jane Addams Digital Edition\n",
      "https://digital.janeaddams.ramapo.edu\n",
      "2015\n",
      "\n",
      "\n",
      "The Latin Prose and Poetry of Joseph Addison\n",
      "http://www.philological.bham.ac.uk/Addison/\n",
      "1997\n",
      "\n",
      "\n",
      "Die Relatio Adelberts von Heidenheim und der Text Ilsungs\n",
      "http://www.forschungsdatenarchiv.escience.uni-tuebingen.de/adlils/adelbert_relatio\n",
      "2016\n",
      "\n",
      "\n",
      "African American Women Writers of the 19thCentury\n",
      "http://digital.nypl.org/schomburg/writers_aa19/\n",
      "1998\n",
      "\n",
      "\n",
      "Anna Lætitia Aikin: Poems (1773)\n",
      "https://romantic-circles.org/editions/contemps/barbauld/poems1773/\n",
      "2000\n",
      "\n",
      "\n",
      "The Alcalá Account Book\n",
      "\n",
      "2008\n",
      "\n",
      "\n",
      "Alciato's Book of Emblems: The Memorial Web Edition in Latin and English\n",
      "http://www.mun.ca/alciato/\n",
      "1995\n",
      "\n",
      "\n",
      "D'Alembert en toutes lettres\n",
      "http://dalembert.academie-sciences.fr/Correspondance\n",
      "2013\n",
      "\n",
      "\n",
      "Altfranzösische Urkunden, 1237-1281. Edition der Urkunden Gräfin Ermesindes (1226-1247) und Graf Heinrichs V. (1247-1281) von Luxemburg.\n",
      "http://www.rmnet.uni-trier.de/cgi-bin/RMnetIndex.tcl?hea=qf&for=qafranzu\n",
      "2003\n",
      "\n",
      "\n",
      "Ancrene Wisse Preface\n",
      "http://web.archive.org/web/20070530001208/http://www.tei-c.org.uk/Projects/EETS/\n",
      "1999\n",
      "\n",
      "\n",
      "Con2: An Edition of The Anglo-Saxon Chronicles, 924-983\n",
      "http://web.archive.org/web/20080209001636/http://www.slu.edu/departments/english/chron/index.html\n",
      "1996\n",
      "\n",
      "\n",
      "Eleventh-Century Anglo-Saxon Glossary From Ms. Brussels, Royal Library 1650: An Edition and Source Study\n",
      "http://web.archive.org/web/20060828032335/http://www.wmich.edu/medieval/research/rawl/glossary/\n",
      "1995\n",
      "\n",
      "\n",
      "InsAph - Inscriptions of Aphrodisias Project\n",
      "http://insaph.kcl.ac.uk/\n",
      "2005\n",
      "\n",
      "\n",
      "The Dynamic Edition of the Declaration of Arbroath\n",
      "https://cotr.ac.uk/guidelines/dynamic-declaration-arbroath/\n",
      "2020\n",
      "\n",
      "\n",
      "Edizione Digitale di FGrHist 104 [Aristodemo]\n",
      "http://pietroliuzzo.github.io/Aristodemo/\n",
      "2016\n",
      "\n",
      "\n",
      "The Letters of Matthew Arnold\n",
      "http://rotunda.upress.virginia.edu/arnold/\n",
      "2006\n",
      "\n",
      "\n",
      "Die Urkunden der Arnulfinger\n",
      "http://web.archive.org/web/20131004095227/http://www.uni-bonn.de/~uph202/arnulfinger.shtml\n",
      "1998\n",
      "\n",
      "\n",
      "Deux visages de L'Astrée: Première édition critique de L'Astrée d'Honoré d'Urfé\n",
      "https://astree.tufts.edu/_analyse/accueil.html\n",
      "2007\n",
      "\n",
      "\n",
      "The Auchinleck Manuscript\n",
      "http://www.nls.uk/auchinleck/\n",
      "2003\n",
      "\n",
      "\n",
      "Der Auschwitz-Prozess. Tonbandmitschnitte, Protokolle und Dokumente\n",
      "\n",
      "2004\n",
      "\n",
      "\n",
      "Jane Austen’s Fiction Manuscripts Digital Edition\n",
      "http://www.janeausten.ac.uk/index.html\n",
      "2011\n",
      "\n",
      "\n",
      "Kitāb ʿAyn al-Naẓar fī ʿIlm al-Jadal by Shams al-Dīn al-Samarqandī (d. 722/1322)\n",
      "https://pages.ceres.rub.de/ayn-al-nazar/#fnref-idm258\n",
      "2019\n",
      "\n",
      "\n",
      "Hermann Bahr, Arthur Schnitzler: Briefwechsel, Aufzeichnungen, Dokumente 1891-1931.\n",
      "https://bahrschnitzler.acdh.oeaw.ac.at/index.html\n",
      "2018\n",
      "\n",
      "\n",
      "Balassi Bálint összes verse hálózati kritikai kiadás\n",
      "http://magyar-irodalom.elte.hu/gepesk/bbom/cimlap.htm\n",
      "1998\n",
      "\n",
      "\n",
      "The Diary of Martha Ballard 1785-1812\n",
      "http://dohistory.org/diary/index.html\n",
      "2003\n",
      "\n",
      "\n",
      "Herman Bangs breve\n",
      "https://bangsbreve.dk\n",
      "2015\n",
      "\n",
      "\n",
      "Correspondance Barbeyrac (1702-1743)\n",
      "http://lumieres.unil.ch/projets/barbeyrac\n",
      "2017\n",
      "\n",
      "\n",
      "Carl Louis Bargheer: Fiedellieder *plus* , Eine digitale Edition\n",
      "https://bargheer.edirom.de\n",
      "2012\n",
      "\n",
      "\n",
      "Bartholomeus Engelsman, Van den Proprieteyten der Dinghen\n",
      "http://bartholomeusengelsman.huygens.knaw.nl/path/\n",
      "2009\n",
      "\n",
      "\n",
      "Jahrrechnungen der Stadt Basel 1535 bis 1610 – digital\n",
      "http://gams.uni-graz.at/context:srbas\n",
      "2015\n",
      "\n",
      "\n",
      "Bayeux-Tapestry Digital Edition\n",
      "http://www.sd-editions.com/bayeux/index.html\n",
      "2002\n",
      "\n",
      "\n",
      "Correspondence de Pierre Bayle\n",
      "http://bayle-correspondance.univ-st-etienne.fr/\n",
      "2011\n",
      "\n",
      "\n",
      "Becerro Galicano de San Millán de la Cogolla\n",
      "http://www.ehu.es/galicano/\n",
      "2013\n",
      "\n",
      "\n",
      "Samuel Beckett - Digital Manuscript Project\n",
      "http://www.beckettarchive.org/login.html\n",
      "2011\n",
      "\n",
      "\n",
      "Thomas Lovell Beddoes. The Brides' Tragedy (1822)\n",
      "https://romantic-circles.org/editions/beddoes/index.html\n",
      "2007\n",
      "\n",
      "\n",
      "Beecher-Stowe, Harriet: Uncle Tom’s Cabin and American Culture\n",
      "http://www.iath.virginia.edu/utc/\n",
      "1998\n",
      "\n",
      "\n",
      "Beethoven-Haus Bonn - Digitales Archiv\n",
      "https://da.beethoven.de/sixcms/detail.php?template=startseite_digitales_archiv_de\n",
      "2004\n",
      "\n",
      "\n",
      "The Alexander Graham Bell Family Papers\n",
      "http://memory.loc.gov/ammem/bellhtml/bellhome.html\n",
      "2000\n",
      "\n",
      "\n",
      "Edition der falschen Kapitularien des Benedictus Levita\n",
      "http://www.benedictus.mgh.de/\n",
      "1998\n",
      "\n",
      "\n",
      "Walter Benjamin Digital — Writings and Literaty Estate. Volume 11: Berliner Chronik / Berliner Kindheit um neunzehnhundert Facsimiles of the manuscripts and transcriptions\n",
      "https://www.walter-benjamin.online/\n",
      "2016\n",
      "\n",
      "\n",
      "Electronic Beowulf\n",
      "http://ebeowulf.uky.edu/\n",
      "2000\n",
      "\n",
      "\n",
      "Beowulf on Steorarume (Beowulf in Cyberspace)\n",
      "http://www.heorot.dk/\n",
      "2002\n",
      "\n",
      "\n",
      "Bérardier de Bataut, Essai sur le récit\n",
      "http://www.berardier.org/\n",
      "2010\n",
      "\n",
      "\n",
      "Letters and Texts: Intellectual Berlin around 1800\n",
      "https://www.berliner-intellektuelle.eu\n",
      "2012\n",
      "\n",
      "\n",
      "Die Briefwechsel der Mathematiker Bernoulli\n",
      "http://www.ub.unibas.ch/bernoulli/index.php/Briefe_im_Volltext\n",
      "2011\n",
      "\n",
      "\n",
      "The Bevan Family Letters\n",
      "http://www.rth.org.uk/collections/bevan-dewar-letters\n",
      "2009\n",
      "\n",
      "\n",
      "The Ambrose Bierce Project\n",
      "http://www.ambrosebierce.org/\n",
      "2008\n",
      "\n",
      "\n",
      "The William Blake Archive\n",
      "http://www.blakearchive.org/\n",
      "1996\n",
      "\n",
      "\n",
      "The Collected Writings of Robert Bloomfield\n",
      "https://romantic-circles.org/editions/bloomfield_poems/index.html\n",
      "2019\n",
      "\n",
      "\n",
      "The Letters of Robert Bloomfield and His Circle\n",
      "https://romantic-circles.org/editions/bloomfield_letters/index.html\n",
      "2009\n",
      "\n",
      "\n",
      "The Banks of Wye by Robert Bloomfield\n",
      "https://romantic-circles.org/editions/wye\n",
      "2012\n",
      "\n",
      "\n",
      "Decameron Web\n",
      "https://www.brown.edu/Departments/Italian_Studies/dweb/\n",
      "1994\n",
      "\n",
      "\n",
      "Edizione Critica Ipertestuale dello Zibaldone Laurenziano PL XXIX, 8\n",
      "http://rmcisadu.let.uniroma1.it/boccaccio\n",
      "1996\n",
      "\n",
      "\n",
      "The Diplomatic Correspondence of Thomas Bodley, 1585-1597\n",
      "http://www.livesandletters.ac.uk/bodley/bodley.html\n",
      "2011\n",
      "\n",
      "\n",
      "Electronic Boethius - Alfred the Great's Old English 'Consolation Book'\n",
      "http://web.archive.org/web/20120226222144/http://beowulf.engl.uky.edu/~kiernan/eBoethius/inlad.htm\n",
      "2002\n",
      "\n",
      "\n",
      "De filosoof en de filoloog: De correspondentie tussen G. J. P. J. Bolland en P. J. Cosijn (1879-1899)\n",
      "https://correspondentie-bolland-en-cosijn.huygens.knaw.nl\n",
      "2019\n",
      "\n",
      "\n",
      "“… gantz unvergleichlich …” - Ernst Samuel Jacob Borchwards Reise ins Potsdam Friedrichs des Großen 1749\n",
      "http://quellen-perspectivia.net/de/borchward/start\n",
      "2015\n",
      "\n",
      "\n",
      "BoschDoc\n",
      "https://boschdoc.huygens.knaw.nl\n",
      "2016\n",
      "\n",
      "\n",
      "The Bosworth Letters\n",
      "http://bosworthletters.vtcath.org/\n",
      "2016\n",
      "\n",
      "\n",
      "Les dossiers de Bouvard et Pécuchet\n",
      "http://www.dossiers-flaubert.fr\n",
      "2007\n",
      "\n",
      "\n",
      "Les manuscrits de Madame Bovary. Edition intégrale sur le web.\n",
      "http://www.bovary.fr/\n",
      "2009\n",
      "\n",
      "\n",
      "The Workdiaries of Robert Boyle\n",
      "http://www.livesandletters.ac.uk/wd/index.html\n",
      "2004\n",
      "\n",
      "\n",
      "Bracton Online. Bracton: De Legibus Et Consuetudinibus Angliæ\n",
      "http://amesfoundation.law.harvard.edu/Bracton/\n",
      "2003\n",
      "\n",
      "\n",
      "May Bragdon Diaries\n",
      "https://maybragdon.lib.rochester.edu/\n",
      "2016\n",
      "\n",
      "\n",
      "Georg Brandes: Digitale Hovedstrømninger\n",
      "https://www.georgbrandes.dk/\n",
      "2019\n",
      "\n",
      "\n",
      "Briefe adeliger Frauen (16.-18. Jh.). Beziehungen und Bezugssysteme\n",
      "http://www.univie.ac.at/Geschichte/Frauenbriefe/\n",
      "1999\n",
      "\n",
      "\n",
      "Brieven en Correspondenten rond 1900. Digitale editie.\n",
      "https://brieven-correspondenten-1900.huygens.knaw.nl\n",
      "2016\n",
      "\n",
      "\n",
      "British War Poetry in the Age of Romanticism 1793-1815\n",
      "https://romantic-circles.org/editions/warpoetry/\n",
      "2004\n",
      "\n",
      "\n",
      "Das Brixener Dommesnerbuch\n",
      "https://homepage.uni-graz.at/de/andrea.hofmeister/forschung/editionsprojekt-die-schriften-des-brixner-dommesners-veit-feichter/brixner-dommesnerbuch/\n",
      "2001\n",
      "\n",
      "\n",
      "Richard Brome Online\n",
      "https://www.dhi.ac.uk/brome/\n",
      "2010\n",
      "\n",
      "\n",
      "The Charles Brockden Brown Electronic Archive and Scholarly Edition\n",
      "http://brockdenbrown.cah.ucf.edu/\n",
      "1998\n",
      "\n",
      "\n",
      "New Letters from Charles Brown to Joseph Severn (1821-1842)\n",
      "https://romantic-circles.org/editions/brownsevern/\n",
      "2007\n",
      "\n",
      "\n",
      "'Clotel' by William Wells Brown: An Electronic Scholarly Edition\n",
      "http://rotunda.upress.virginia.edu:8080/clotel/\n",
      "2006\n",
      "\n",
      "\n",
      "Nachlass Franz Brümmer\n",
      "http://bruemmer.staatsbibliothek-berlin.de/nlbruemmer/\n",
      "2007\n",
      "\n",
      "\n",
      "Das Bücherinventar der Elisabeth von Calenberg: Edition und Anmerkungen.\n",
      "http://diglib.hab.de/edoc/ed000082/start.htm\n",
      "2011\n",
      "\n",
      "\n",
      "Paolo Bufalini's Notebook, 1981–1991 - The digital edition\n",
      "http://projects.dharc.unibo.it/bufalini-notebook/\n",
      "2018\n",
      "\n",
      "\n",
      "Die Kabinettsprotokolle der Bundesregierung\n",
      "http://www.bundesarchiv.de/cocoon/barch/0000/index.html\n",
      "2003\n",
      "\n",
      "\n",
      "Burckhardt Source\n",
      "http://burckhardtsource.org/\n",
      "2015\n",
      "\n",
      "\n",
      "Ferruccio Busoni – Briefe und Schriften\n",
      "https://busoni-nachlass.org\n",
      "2016\n",
      "\n",
      "\n",
      "Lord Byron and his Times\n",
      "http://lordbyron.org/\n",
      "2011\n",
      "\n",
      "\n",
      "Cædmon's Hymn: A Multi-media Study, Edition and Archive\n",
      "http://www.boydell.co.uk/43840448.HTM\n",
      "2005\n",
      "\n",
      "\n",
      "Callythea\n",
      "http://www.cn-telma.fr//callythea/index/\n",
      "2012\n",
      "\n",
      "\n",
      "Corpus of the Inscriptions of Campā\n",
      "http://isaw.nyu.edu/publications/inscriptions/campa/\n",
      "2012\n",
      "\n",
      "\n",
      "The Electronic Campsey Project\n",
      "http://margot.uwaterloo.ca/campsey/cmphome_e.html\n",
      "2007\n",
      "\n",
      "\n",
      "An Electronic Corpus of 15th Century Castilian Cancionero Manuscripts\n",
      "http://cancionerovirtual.liv.ac.uk\n",
      "2007\n",
      "\n",
      "\n",
      "Cantar de Mio Cid\n",
      "https://miocid.wlu.edu/?v=nor\n",
      "2002\n",
      "\n",
      "\n",
      "Cantus Network: libri ordinarii of the Salzburg metropolitan province (Beta-Version)\n",
      "https://gams.uni-graz.at/context:cantus/sdef:Context/get?locale=de\n",
      "2017\n",
      "\n",
      "\n",
      "Project CARDS / Project FLY\n",
      "http://alfclul.clul.ul.pt/cards-fly/index.php\n",
      "2012\n",
      "\n",
      "\n",
      "The Carlyle Letters Online\n",
      "https://carlyleletters.dukeupress.edu/\n",
      "2007\n",
      "\n",
      "\n",
      "Cartago\n",
      "http://www.cartago.nl\n",
      "2005\n",
      "\n",
      "\n",
      "The Diary, Correspondence, and Papers of Robert \"King\" Carter of Virginia, 1701-1732\n",
      "http://staging.carter.lib.virginia.edu\n",
      "2000\n",
      "\n",
      "\n",
      "Le Cartulaire de la Seigneurie de Nesle\n",
      "http://www.cn-telma.fr/nesle/index/\n",
      "2006\n",
      "\n",
      "\n",
      "Cartulaires d'Île-de-France\n",
      "http://elec.enc.sorbonne.fr/cartulaires/\n",
      "2009\n",
      "\n",
      "\n",
      "The Casebooks Project. A digital edition of Simon Forman's and Richard Napier's medical records 1596-1634.\n",
      "http://www.magicandmedicine.hps.cam.ac.uk/\n",
      "2013\n",
      "\n",
      "\n",
      "The Willa Cather Archive\n",
      "http://cather.unl.edu\n",
      "1997\n",
      "\n",
      "\n",
      "Catullus Online - An Online Repertory of Conjectures on Catullus\n",
      "http://catullusonline.org/\n",
      "2009\n",
      "\n",
      "\n",
      "La entretenida by Miguel de Cervantes: A Digital, Annotated Edition and an English Translation\n",
      "http://entretenida.outofthewings.org/index.html\n",
      "2014\n",
      "\n",
      "\n",
      "Electronic Variorum Edition of the Quixote (EVE-DQ)\n",
      "http://cervantes.tamu.edu/V2/CPI/index.html\n",
      "1998\n",
      "\n",
      "\n",
      "A Description of the Valley of Chamouni, in Savoy. By Samuel Glover\n",
      "https://romantic-circles.org/editions/chamouni/index.html\n",
      "2018\n",
      "\n",
      "\n",
      "Four Early Chan Texts from Dunhuang – A TEI-based Edition 早期禪宗文獻四部 —— 以TEI標記重訂敦煌寫卷:楞伽師資記,傳法寶紀,修心要論,觀心論\n",
      "https://zenodo.org/record/1133490#.WuR5t65l_IU\n",
      "2018\n",
      "\n",
      "\n",
      "The Charette Project 2\n",
      "http://web.archive.org/web/*/http://lancelot.baylor.edu/\n",
      "1991\n",
      "\n",
      "\n",
      "« DigiLivres » : LANCELOT (Chrétien de Troyes: Le Chevalier de la Charette)\n",
      "http://web.archive.org/web/20080415015129/http://homepage.mac.com/guyjacqu/lancelot.html\n",
      "2002\n",
      "\n",
      "\n",
      "Correspondance d'Isabelle de Charrière\n",
      "https://charriere.huygens.knaw.nl\n",
      "2019\n",
      "\n",
      "\n",
      "CHARTA: Corpus Hispánico y Americano en la Red: Textos Antiguos\n",
      "http://www.corpuscharta.es/consultas.html\n",
      "2015\n",
      "\n",
      "\n",
      "Caxton's Canterbury Tales: The British Library Copies on CD-ROM\n",
      "http://www.sd-editions.com/caxtons/index.html\n",
      "2003\n",
      "\n",
      "\n",
      "Geoffrey Chaucer's Book of the Duchess: a hypertext edition\n",
      "http://web.archive.org/web/20141204201458/http://www.ucalgary.ca/ucpress/online/pubs/duchess/Websample/titlepge.htm\n",
      "1997\n",
      "\n",
      "\n",
      "CantApp: The General Prologue. An Edition in an App.\n",
      "http://www.sd-editions.com/CantApp/GP/\n",
      "2020\n",
      "\n",
      "\n",
      "The Canterbury Tales Project: The Hengwrt Chaucer Digital Facsimile\n",
      "http://www.sd-editions.com/hengwrt/index.html\n",
      "2000\n",
      "\n",
      "\n",
      "The Hengwrt Chaucer Standard Edition\n",
      "http://www.sd-editions.com/HgStandard/diffs.htm\n",
      "2003\n",
      "\n",
      "\n",
      "The Canterbury Tales Project: The Miller's Tale on CD-ROM\n",
      "http://www.sd-editions.com/miller/index.html\n",
      "2004\n",
      "\n",
      "\n",
      "The Canterbury Tales Project: The Nun's Priest's Tale on CD-ROM\n",
      "http://www.sd-editions.com/NP/index.html\n",
      "2006\n",
      "\n",
      "\n",
      "The Wife of Bath's prologue and tale: from the Canterbury Tales\n",
      "na\n",
      "1998\n",
      "\n",
      "\n",
      "A. C. Chavannes et sa \"Science générale de l'homme\" (1788)\n",
      "http://lumieres.unil.ch/projets/chavannes\n",
      "2019\n",
      "\n",
      "\n",
      "Online Chopin Variorum Edition (OCVE). 2003-2004 (OCVE1) bzw. 2005-2008 (OCVE2)\n",
      "http://www.ocve.org.uk\n",
      "2003\n",
      "\n",
      "\n",
      "Digitale Edition und Kommentierung der Tagebücher des Fürsten Christian II. von Anhalt-Bernburg (1599–1656)\n",
      "http://www.tagebuch-christian-ii-anhalt.de/\n",
      "2013\n",
      "\n",
      "\n",
      "A London Provisioner's Chronicle, 1550-1563, by Henry Machyn\n",
      "http://quod.lib.umich.edu/m/machyn/\n",
      "2006\n",
      "\n",
      "\n",
      "Éditions en ligne de l'École des chartes (ELEC): Chroniques latines de Saint-Denis\n",
      "http://elec.enc.sorbonne.fr/chroniqueslatines/\n",
      "2006\n",
      "\n",
      "\n",
      "St. Louis Circuit Court Records\n",
      "http://digital.wustl.edu/stlcourtrecords/index.html\n",
      "2012\n",
      "\n",
      "\n",
      "Civil War Governors of Kentucky - Digital Documentary Edition\n",
      "http://discovery.civilwargovernors.org/\n",
      "2016\n",
      "\n",
      "\n",
      "Clusius Correspondence: A Digital Edition-in-Progress\n",
      "http://clusiuscorrespondence.huygens.knaw.nl/\n",
      "2015\n",
      "\n",
      "\n",
      "Digitale Edition der Handschrift Cod. Guelf. 64 Weiss\n",
      "http://diglib.hab.de/edoc/ed000006/start.htm\n",
      "2007\n",
      "\n",
      "\n",
      "Der Codex Laureshamensis\n",
      "http://archivum-laureshamense-digital.de/de/codex_laureshamensis/codex.html\n",
      "2015\n",
      "\n",
      "\n",
      "Codex Suprasliensis\n",
      "http://suprasliensis.obdurodon.org/\n",
      "2011\n",
      "\n",
      "\n",
      "Codice diplomatico della Lombardia medievale\n",
      "http://www.lombardiabeniculturali.it/cdlm/\n",
      "2000\n",
      "\n",
      "\n",
      "The Samuel Taylor Coleridge Archive\n",
      "https://web.archive.org/web/20100312073610/http://etext.lib.virginia.edu:80/stc/Coleridge/stc.html\n",
      "1994\n",
      "\n",
      "\n",
      "Samuel Taylor Coleridge & Robert Southey. The Fall of Robespierre (1822)\n",
      "https://romantic-circles.org/editions/robespierre/\n",
      "2007\n",
      "\n",
      "\n",
      "Samuel Taylor Coleridge: The Wanderings of Cain\n",
      "https://romantic-circles.org/editions/cain/\n",
      "2003\n",
      "\n",
      "\n",
      "Colonial Despatches - The colonial despatches of Vancouver Island and British Columbia 1846-1871\n",
      "http://bcgenesis.uvic.ca/\n",
      "2008\n",
      "\n",
      "\n",
      "Comparatio: Des chants liturgiques médiévaux\n",
      "http://comparatio.irht.cnrs.fr\n",
      "2016\n",
      "\n",
      "\n",
      "The Model Edition Partnership: Documentary History of the First Federal Congress\n",
      "http://www.gwu.edu/~ffcp/\n",
      "2009\n",
      "\n",
      "\n",
      "The Documentary History of the Ratification of the Constitution\n",
      "http://digital.library.wisc.edu/1711.dl/History.Constitution\n",
      "2018\n",
      "\n",
      "\n",
      "Constitutiones et acta publica imperatorum et regum 1357–1378 [Urkunden Kaiser Karls IV. 1357–1378]\n",
      "http://telota.bbaw.de/constitutiones/\n",
      "2012\n",
      "\n",
      "\n",
      "Constitutiones et Acta publica imperatorum et regum. Dokumente zur Geschichte des Deutschen Reiches und seiner Verfassung 1357-1378. Elektronische Vorabedition.\n",
      "\n",
      "2001\n",
      "\n",
      "\n",
      "Divisiekroniek van Cornelius Aurelius\n",
      "http://resources.huygens.knaw.nl/divisiekroniek/index_html\n",
      "2011\n",
      "\n",
      "\n",
      "Corpus Augustinianum Gissense a Cornelio Mayer editum\n",
      "https://cag-online.net/\n",
      "1996\n",
      "\n",
      "\n",
      "Corpus Coranicum – Textdokumentation und historisch-kritischer Kommentar zum Koran\n",
      "https://corpuscoranicum.de\n",
      "2007\n",
      "\n",
      "\n",
      "Corpus Juris Canonici (1582)\n",
      "http://digidev.library.ucla.edu/canonlaw/\n",
      "2006\n",
      "\n",
      "\n",
      "CMCL - Corpus dei Manoscritti Copti Letterari\n",
      "http://www.cmcl.it\n",
      "2003\n",
      "\n",
      "\n",
      "Corpus Medicorum Graecorum / Latinorum\n",
      "http://pom.bbaw.de/cmg/\n",
      "2005\n",
      "\n",
      "\n",
      "Corpus Rhythmorum Musicum (saec. IV-IX) - I\n",
      "http://www.corimu.unisi.it/\n",
      "2009\n",
      "\n",
      "\n",
      "S’écrire au XIXe siècle. Une correspondance familiale\n",
      "http://correspondancefamiliale.ehess.fr/index.php\n",
      "2015\n",
      "\n",
      "\n",
      "Cozroh-Codex (BayHStA HL Freising 3a) - Digitale Edition\n",
      "https://www.bayerische-landesbibliothek-online.de/cozroh\n",
      "2010\n",
      "\n",
      "\n",
      "The Cullen Project\n",
      "http://www.cullenproject.ac.uk\n",
      "2015\n",
      "\n",
      "\n",
      "Gli anni della cupola. 1417-1436\n",
      "http://www.operaduomo.firenze.it/cupola/\n",
      "2001\n",
      "\n",
      "\n",
      "Cursus. An Online Resource of Medieval Liturgical Texts\n",
      "http://www.cursus.org.uk\n",
      "2006\n",
      "\n",
      "\n",
      "Inscriptions of Greek Cyrenaica / Greek Verse Inscriptions of Cyrenaica\n",
      "https://igcyr.unibo.it/\n",
      "2017\n",
      "\n",
      "\n",
      "Dafydd ap Gwilym.net\n",
      "http://www.dafyddapgwilym.net/\n",
      "2007\n",
      "\n",
      "\n",
      "Daisne, Johan: De trein der traagheid\n",
      "http://edities.kantl.be/daisne/index.htm\n",
      "2012\n",
      "\n",
      "\n",
      "Dante Alighieri: Commedia - A Digital Edition\n",
      "https://dantecommedia.it/\n",
      "2010\n",
      "\n",
      "\n",
      "ILTweb Digital Dante Project\n",
      "http://dante.ilt.columbia.edu\n",
      "1992\n",
      "\n",
      "\n",
      "Dante: Monarchia\n",
      "https://www.danteonline.it/monarchia/\n",
      "2006\n",
      "\n",
      "\n",
      "Princeton Dante Project\n",
      "http://etcweb.princeton.edu/dante/\n",
      "1997\n",
      "\n",
      "\n",
      "The Complete Work of Charles Darwin Online\n",
      "http://darwin-online.org.uk/\n",
      "2002\n",
      "\n",
      "\n",
      "Darwin Correspondence Project\n",
      "http://www.darwinproject.ac.uk/\n",
      "2016\n",
      "\n",
      "\n",
      "Erasmus Darwin. The Temple of Nature (1803)\n",
      "https://romantic-circles.org/editions/darwin_temple/\n",
      "2006\n",
      "\n",
      "\n",
      "Dasypodius' Dictionarium Latinogermanicum\n",
      "http://diglib.hab.de/edoc/ed000008/start.htm\n",
      "2007\n",
      "\n",
      "\n",
      "Edizione digitale dell'Epistolario di Alcide De Gasperi\n",
      "https://www.epistolariodegasperi.it/#/\n",
      "2019\n",
      "\n",
      "\n",
      "Édition critique des carnets de prison et de la correspondance privée d’Henri Delescluze à Belle-Île (1851-1853)\n",
      "http://elec.enc.sorbonne.fr/delescluze/\n",
      "2015\n",
      "\n",
      "\n",
      "1641 Depositions\n",
      "http://1641.tcd.ie/\n",
      "2007\n",
      "\n",
      "\n",
      "The Destruction of Troy. A Diplomatic and Color Facsimile Edition of Hunterian MS V.2.8 in Glasgow University Library, John Clerk of Whalley\n",
      "https://web.archive.org/web/20070720151934/http://www.press.umich.edu/titleDetailDesc.do?id=6547\n",
      "2001\n",
      "\n",
      "\n",
      "A Social Edition of the Devonshire MS (BL Add 17,492)\n",
      "http://en.wikibooks.org/wiki/The_Devonshire_Manuscript\n",
      "2012\n",
      "\n",
      "\n",
      "The Correspondence of John Dewey\n",
      "http://www.nlx.com/collections/132\n",
      "1999\n",
      "\n",
      "\n",
      "Dickinson Electronic Archives\n",
      "http://www.emilydickinson.org\n",
      "1994\n",
      "\n",
      "\n",
      "Emily Dickinson’s Correspondences: A Born-Digital Textual Inquiry\n",
      "https://rotunda.upress.virginia.edu/edc/\n",
      "2008\n",
      "\n",
      "\n",
      "Digenis Akritis: Greek and Slavic\n",
      "http://digenis.obdurodon.org\n",
      "2017\n",
      "\n",
      "\n",
      "Digital Day Thoughts: A comparative encoding of the quarto and octavo editions of *The Relief; or, Day Thoughts: a Poem* (1754) by Henry Jones.\n",
      "http://www.scholarsgrotto.com/collections.php\n",
      "2014\n",
      "\n",
      "\n",
      "Digital Renaissance Editions\n",
      "https://digitalrenaissance.uvic.ca\n",
      "2015\n",
      "\n",
      "\n",
      "The Digital Temple: A Documentary Edition of George Herbert’s English Verse\n",
      "https://digitaltemple.rotunda.upress.virginia.edu\n",
      "2012\n",
      "\n",
      "\n",
      "Digital Variants:\n",
      "http://www.digitalvariants.org\n",
      "1996\n",
      "\n",
      "\n",
      "Српски дигитални дипломатар / Diplomatarium Serbicum Digitale\n",
      "http://www.bisanu.rs/\n",
      "2015\n",
      "\n",
      "\n",
      "Diplomatische Dokumente der Schweiz (DodiS)\n",
      "http://www.dodis.ch/\n",
      "1997\n",
      "\n",
      "\n",
      "Benjamin Disraeli: Alroy\n",
      "https://romantic-circles.org/editions/alroy/\n",
      "2005\n",
      "\n",
      "\n",
      "Domesday Explorer, Version 1.0, Professional Edition\n",
      "http://www.domesdaybook.net/\n",
      "2000\n",
      "\n",
      "\n",
      "Hyperdonat - Une édition électronique des commentaires de Donat aux comédies de Térence\n",
      "http://hyperdonat.ens-lyon.fr/\n",
      "2007\n",
      "\n",
      "\n",
      "Digital Donne: The Online *Variorum*\n",
      "http://digitaldonne.tamu.edu/index.html\n",
      "2005\n",
      "\n",
      "\n",
      "Jean Donneau de Visé: Les Nouvelles nouvelles\n",
      "http://www.unifr.ch/nouvellesnouvelles/index.html\n",
      "2014\n",
      "\n",
      "\n",
      "Frederick Douglass Papers - Digital Edition\n",
      "http://frederickdouglass.infoset.io/\n",
      "2016\n",
      "\n",
      "\n",
      "The Dream of the Rood: An Electronic Edition\n",
      "https://web.archive.org/web/20160918183122/http://www.dreamofrood.co.uk:80/\n",
      "2002\n",
      "\n",
      "\n",
      "[Theodore] Dreiser Web Source\n",
      "https://web.archive.org/web/20191024001213/http://www.library.upenn.edu/collections/rbm/dreiser/\n",
      "2002\n",
      "\n",
      "\n",
      "DSE: The FEB-Web Scholarly Digital Edition\n",
      "http://feb-web.ru/indexen.htm\n",
      "2002\n",
      "\n",
      "\n",
      "La correspondance du chancelier Antoine Du Bourg (1535-1538)\n",
      "http://elec.enc.sorbonne.fr/dubourg/\n",
      "2012\n",
      "\n",
      "\n",
      "Friedrich Dürrenmatt: Die Physiker. Multimediale Dokumentation zum Text, zur Entstehung und zur Wirkungsgeschichte auf CD-ROM\n",
      "http://web.archive.org/web/20170201133036/http://www.nb.admin.ch/sla/03131/03132/03574/03655/index.html?lang=en\n",
      "2001\n",
      "\n",
      "\n",
      "Protokolle des Duisburger Notgerichts von 1537-1545 – Elektronische Edition\n",
      "http://www.rmnet.uni-trier.de/cgi-bin/RMnetIndex.tcl?hea=qf&for=qnotgeru\n",
      "2005\n",
      "\n",
      "\n",
      "Das Duisburger Stadtrecht von 1518 – Elektronische Edition\n",
      "http://www.rmnet.uni-trier.de/cgi-bin/RMnetIndex.tcl?hea=qf&for=qfley1518\n",
      "2004\n",
      "\n",
      "\n",
      "Louise Dumont an Gustav Lindemann – Eine digitale Briefedition\n",
      "https://web.archive.org/web/20180412224235/http://www.louise-dumont.de/\n",
      "2013\n",
      "\n",
      "\n",
      "Durham Liber Vitae\n",
      "http://web.archive.org/web/20170917142323/http://dlv.org.uk/\n",
      "2003\n",
      "\n",
      "\n",
      "E-Sequence: Audiovisuelle digitale Repräsentation von Sequenzen Notkers des Stammlers († 912) aufgrund ausgewählter Handschriften.\n",
      "https://www.e-sequence.eu\n",
      "2013\n",
      "\n",
      "\n",
      "Early Stuart Libels: an edition of poetry from manuscript sources.\n",
      "http://www.earlystuartlibels.net/htdocs/index.html\n",
      "2005\n",
      "\n",
      "\n",
      "Ferdinand Ebner: Gesammelte Werke. Online Edition.\n",
      "http://wfe.sbg.ac.at/exist/apps/Frontpage/index.html\n",
      "2014\n",
      "\n",
      "\n",
      "Thomas A. Edison Papers\n",
      "http://edison.rutgers.edu/\n",
      "2005\n",
      "\n",
      "\n",
      "Éditions en ligne de l'École des chartes (ELEC): L'édit de Nantes et ses antécédents (1562-1598)\n",
      "http://elec.enc.sorbonne.fr/editsdepacification/\n",
      "2004\n",
      "\n",
      "\n",
      "Effectus Amoris széphistória a XVI. századból. Digitális kritikai kiadás\n",
      "http://magyar-irodalom.elte.hu/effectus/\n",
      "1998\n",
      "\n",
      "\n",
      "The Model Edition Partnership: The Papers of Dwight David Eisenhower\n",
      "https://web.archive.org/web/20090421081014/http://adh.sc.edu/de/de-table.html\n",
      "1999\n",
      "\n",
      "\n",
      "Enquêtes menées sous les derniers capétiens\n",
      "http://www.cn-telma.fr//enquetes/index/\n",
      "2007\n",
      "\n",
      "\n",
      "Epigraphische Sammlung der Universität Graz\n",
      "http://gams.uni-graz.at/context:epsg\n",
      "2016\n",
      "\n",
      "\n",
      "ePistolarium: Circulation of Knowledge and Learned Practices in the 17th-century Dutch Republic\n",
      "http://ckcc.huygens.knaw.nl/epistolarium/\n",
      "2013\n",
      "\n",
      "\n",
      "Песме Ерлангенског рукописа - Erlangenski rukopis\n",
      "http://www.erl.monumentaserbica.com\n",
      "2014\n",
      "\n",
      "\n",
      "Alfred Escher - Briefedition\n",
      "http://www.briefedition.alfred-escher.ch/\n",
      "2012\n",
      "\n",
      "\n",
      "Estoria de Espanna Digital\n",
      "https://blog.bham.ac.uk/estoriadigital/\n",
      "2016\n",
      "\n",
      "\n",
      "An Encomium on Henry VIII and Elizabeth I by George Etheridge — British Library Royal MS 16 C X\n",
      "http://hellenic-institute.uk/research/Etheridge/\n",
      "2012\n",
      "\n",
      "\n",
      "Euripides Scholia\n",
      "http://euripidesscholia.org/\n",
      "2010\n",
      "\n",
      "\n",
      "The Exeter Anthology of Old English Poetry\n",
      "\n",
      "2006\n",
      "\n",
      "\n",
      "Correspondence between Henri Fantin-Latour and Otto Scholderer (1858-1902)\n",
      "http://quellen-perspectivia.net/en/fantin-scholderer/start\n",
      "2014\n",
      "\n",
      "\n",
      "Kritische Online-Edition der Tagebücher Michael Kardinal von Faulhabers (1911–1952)\n",
      "http://www.faulhaber-edition.de/index.html\n",
      "2015\n",
      "\n",
      "\n",
      "Faustedition / Johann Wolfgang Goethe: Faust. Historisch-kritische Edition\n",
      "http://faustedition.net/\n",
      "2018\n",
      "\n",
      "\n",
      "Feldpost - II. Weltkrieg\n",
      "https://briefsammlung.de/feldpost-zweiter-weltkrieg/\n",
      "2009\n",
      "\n",
      "\n",
      "Henry III Fine Rolls Project\n",
      "http://www.frh3.org.uk/\n",
      "2005\n",
      "\n",
      "\n",
      "An Uninteresting Detail of a Journey to Rome by Ann Flaxman\n",
      "https://romantic-circles.org/editions/flaxman/index.html\n",
      "2014\n",
      "\n",
      "\n",
      "The Fleischmann Diaries\n",
      "http://fleischmanndiaries.ucc.ie/\n",
      "2013\n",
      "\n",
      "\n",
      "digi Florimont - archive numérique du 'Roman de Florimont' d'Aimon de Varennes\n",
      "http://digiflorimont.huma-num.fr/flsite/florimont.html#\n",
      "2017\n",
      "\n",
      "\n",
      "Flos - Digital Edition. Leonardo Pisano: Flos super solutionibus quorundam questionum ad numerum et ad geometriam vel ad utrumque pertinentium\n",
      "http://iu.di.unipi.it/flos/#\n",
      "2009\n",
      "\n",
      "\n",
      "Theodor Fontane: Notizbücher. Digitale genetisch-kritische und kommentierte Edition\n",
      "https://fontane-nb.dariah.eu/\n",
      "2015\n",
      "\n",
      "\n",
      "Jacques de Fonteny's Livre d'Enigmes - Manuscript of an Early 17th-Century Para-Emblematic, Illustrated Sonnet Sequence.\n",
      "http://diglib.hab.de/edoc/ed000166/start.htm\n",
      "2012\n",
      "\n",
      "\n",
      "Fontes Civitatis Ratisponensis: Das Älteste Bürgeraufnahmebuch der Reichsstadt Regensburg\n",
      "http://bhgw20.kfunigraz.ac.at/bb1.htm\n",
      "1997\n",
      "\n",
      "\n",
      "Fontes Civitatis Ratisponensis: Die Cameralia des Stadtarchivs Regensburg, Bd. 11: Ausgebbuch, Ausgaben der Stadt Regensburg 1429 - 1435\n",
      "http://bhgw20.kfunigraz.ac.at/editions/c11/index.htm\n",
      "2006\n",
      "\n",
      "\n",
      "Fontes Civitatis Ratisponensis: Das Stiftungsbuch des Bruderhauses (Bestand Almosenamt)\n",
      "http://bhgw20.kfunigraz.ac.at/editions/ab1488/index.htm\n",
      "2003\n",
      "\n",
      "\n",
      "Éditions en ligne de l'École des chartes (ELEC): Le formulaire d'Odart Morchesne d'après la version du ms BnF fr. 5024\n",
      "http://elec.enc.sorbonne.fr/morchesne/\n",
      "2004\n",
      "\n",
      "\n",
      "Visualizing Statues in the Late Antique Roman Forum - Inscription Database\n",
      "https://web.archive.org/web/20180129213641/http://inscriptions.etc.ucla.edu:80/index.php/inscription-database/\n",
      "2011\n",
      "\n",
      "\n",
      "Founders Online\n",
      "https://founders.archives.gov\n",
      "2013\n",
      "\n",
      "\n",
      "John Foxe's The Acts and Monuments Online\n",
      "https://www.johnfoxe.org/\n",
      "2011\n",
      "\n",
      "\n",
      "John Foxe's Book of Martyrs\n",
      "https://web.archive.org/web/20110913155818/http://www.hrionline.ac.uk/johnfoxe/\n",
      "2001\n",
      "\n",
      "\n",
      "Frankenstein by Mary Wollstonecraft Shelley.\n",
      "https://romantic-circles.org/editions/frankenstein\n",
      "2009\n",
      "\n",
      "\n",
      "The Papers of Benjamin Franklin\n",
      "https://franklinpapers.org/\n",
      "1988\n",
      "\n",
      "\n",
      "Der Erste Weltkrieg in Selbstzeugnissen. Auszüge aus Beständen der Sammlung Frauennachlässe – 1914-1918/19\n",
      "https://www.univie.ac.at/Geschichte/sfn/index.php?option=com_content&view=article&id=83&Itemid=64&lang=en\n",
      "2014\n",
      "\n",
      "\n",
      "In Transition: Selected Poems by the Baroness Elsa von Freytag-Loringhoven\n",
      "http://digital.lib.umd.edu/transition/\n",
      "2009\n",
      "\n",
      "\n",
      "The Firstling/Erstling/He Complex by Baroness Elsa von Freytag-Loringhoven\n",
      "http://scholarlyediting.org/2012/editions/baroness/main.baroness.html\n",
      "2012\n",
      "\n",
      "\n",
      "Gesamtausgabe der Briefe Friedrich Fröbels\n",
      "https://editionen.bbf.dipf.de/briefedition-friedrich-froebel/ueber-die-edition\n",
      "2008\n",
      "\n",
      "\n",
      "The Online Froissart - A Digital Edition of the Chronicles of Jean Froissart\n",
      "https://www.dhi.ac.uk/onlinefroissart/\n",
      "2010\n",
      "\n",
      "\n",
      "Briefe der Fruchtbringenden Gesellschaft und Beilagen. Die Zeit Fürst Ludwigs von Anhalt-Köthen 1617–1650. 1. Bd.: 1617–1626.\n",
      "http://diglib.hab.de/edoc/ed000213/start.htm\n",
      "2014\n",
      "\n",
      "\n",
      "Galileo Galilei's Notes on Motion - Ms. Gal. 72\n",
      "http://www.mpiwg-berlin.mpg.de/Galileo_Prototype/MAIN.HTM\n",
      "1998\n",
      "\n",
      "\n",
      "Benito Pérez Galdós: Torquemada en la hoguera. On-Line Edition\n",
      "https://www.dhi.ac.uk/galdos/index.html\n",
      "2005\n",
      "\n",
      "\n",
      "Documents linguistiques galloromans\n",
      "http://www.rose.uzh.ch/docling/\n",
      "2009\n",
      "\n",
      "\n",
      "The Model Edition Partnership: The Marcus Garvey and UNIA Papers\n",
      "https://web.archive.org/web/20090421081330/http://adh.sc.edu/mg/mg-table.html\n",
      "1999\n",
      "\n",
      "\n",
      "The Gascon Rolls Project (1317-1468)\n",
      "http://www.gasconrolls.org/en/\n",
      "2010\n",
      "\n",
      "\n",
      "Carl Friedrich Gauß Letters\n",
      "http://gauss.adw-goe.de/\n",
      "2016\n",
      "\n",
      "\n",
      "Het Geraardsbergse handschrift\n",
      "http://geraardsbergen.huygens.knaw.nl/\n",
      "2003\n",
      "\n",
      "\n",
      "The Geese Book\n",
      "http://geesebook.asu.edu\n",
      "2012\n",
      "\n",
      "\n",
      "German Heritage in Letters\n",
      "https://germanletters.org\n",
      "2019\n",
      "\n",
      "\n",
      "Key Documents of German-Jewish History: A Digital Source Edition\n",
      "https://jewish-history-online.net\n",
      "2015\n",
      "\n",
      "\n",
      "Chronik des Gettos Lodz / Litzmannstadt. Das letzte Jahr.\n",
      "https://web.archive.org/web/20181215175000/http://www.ghettochronik.de/de/\n",
      "2009\n",
      "\n",
      "\n",
      "Édition génétique des Caves du Vatican d'André Gide\n",
      "https://www.dhi.ac.uk/gide-les-caves-du-vatican/data/sommaire/front.htm\n",
      "2001\n",
      "\n",
      "\n",
      "The Gipsy Prince by Thomas Moore & Michael Kelly\n",
      "https://romantic-circles.org/editions/gipsy_prince\n",
      "2012\n",
      "\n",
      "\n"
     ]
    },
    {
     "name": "stdout",
     "output_type": "stream",
     "text": [
      "Glossae in Martianum. Die Glossen zu Martianus Capella im Codex 193 der Kölner Dombibliothek.\n",
      "http://www.martianus.mueze.lmu.de/index.htm\n",
      "2010\n",
      "\n",
      "\n",
      "Glossae Scripturae Sacrae-electronicae (Gloss-e): Gloses et commentaires de la Bible latine au Moyen Âge\n",
      "https://gloss-e.irht.cnrs.fr\n",
      "2016\n",
      "\n",
      "\n",
      "The Diary of William Godwin\n",
      "http://godwindiary.bodleian.ox.ac.uk\n",
      "2010\n",
      "\n",
      "\n",
      "Fables: Ancient and Modern. Adapted for the Use of Chilrden by William Godwin, Esq.\n",
      "https://romantic-circles.org/editions/godwin_fables/index.html\n",
      "2014\n",
      "\n",
      "\n",
      "Joannes Antonides van der Goes, Ystroom (1671)\n",
      "https://deystroom.huygens.knaw.nl\n",
      "2015\n",
      "\n",
      "\n",
      "Der junge Goethe in seiner Zeit\n",
      "http://www.jgoethe.uni-muenchen.de/\n",
      "1998\n",
      "\n",
      "\n",
      "L'ipertesto d'autore: \"La famiglia dell'antiquario\" di Carlo Goldoni in edizione elettronica su CD-ROM\n",
      "na\n",
      "1996\n",
      "\n",
      "\n",
      "Édition digitale et étude de la polémique autour de Góngora\n",
      "http://obvil.sorbonne-universite.fr/corpus/gongora/\n",
      "2014\n",
      "\n",
      "\n",
      "Manuscrito digital de Juan Goytisolo\n",
      "http://goytisolo.unibe.ch/\n",
      "2013\n",
      "\n",
      "\n",
      "Queste del saint Graal\n",
      "http://txm.ish-lyon.cnrs.fr/bfm/\n",
      "2013\n",
      "\n",
      "\n",
      "Grabbe-Portal\n",
      "http://www.grabbe-portal.de\n",
      "2011\n",
      "\n",
      "\n",
      "epidat ─ Forschungsplattform für jüdische Grabsteinepigraphik\n",
      "http://www.steinheim-institut.de/cgi-bin/epidat?lang=de\n",
      "2006\n",
      "\n",
      "\n",
      "The Papers of Ulysses S. Grant Digital Edition\n",
      "https://rotunda.upress.virginia.edu/founders/GRNT.html\n",
      "2018\n",
      "\n",
      "\n",
      "Diary of Robert Graves 1935-39 and ancillary material\n",
      "http://graves.uvic.ca/\n",
      "2002\n",
      "\n",
      "\n",
      "The Thomas Gray (1716-1771) Interactive Online Commentary\n",
      "http://www.thomasgray.org/\n",
      "2000\n",
      "\n",
      "\n",
      "The Great Parchment Book of The Honourable The Irish Society\n",
      "http://www.greatparchmentbook.org/\n",
      "2012\n",
      "\n",
      "\n",
      "Papers of General Nathanael Greene\n",
      "https://web.archive.org/web/20090103134016/http://adh.sc.edu/ng/ng-table.html\n",
      "1999\n",
      "\n",
      "\n",
      "Ferdinand Gregorovius Poesie und Wissenschaft - Gesammelte deutsche und italienische Briefe\n",
      "https://gregorovius-edition.dhi-roma.it\n",
      "2017\n",
      "\n",
      "\n",
      "The Griffin by Thomas D'Arcy Morris\n",
      "https://romantic-circles.org/editions/griffin\n",
      "2018\n",
      "\n",
      "\n",
      "The William Elliot Griffis Collection: Online Prototype\n",
      "https://web.archive.org/web/20080516085000/http://www.ceth.rutgers.edu/projects/Griffis/project.htm\n",
      "1999\n",
      "\n",
      "\n",
      "The Correspondence of Hugo Grotius\n",
      "http://grotius.huygens.knaw.nl/years\n",
      "2009\n",
      "\n",
      "\n",
      "Grundtvigs Værker – en tekstkritisk og kommenteret udgave af N.F.S. Grundtvigs trykte forfatterskab.\n",
      "http://grundtvigsvaerker.dk\n",
      "2010\n",
      "\n",
      "\n",
      "Het Gruuthusehandschrift\n",
      "https://www.kb.nl/themas/middeleeuwen/het-gruuthusehandschrift\n",
      "2017\n",
      "\n",
      "\n",
      "Francesco Guicciardini: Storia d'Italia\n",
      "https://guicciardini-storia-italia.huma-num.fr\n",
      "2019\n",
      "\n",
      "\n",
      "Guillelmus Autissiodorensis, Summa de officiis ecclesiasticis. Kritisch-digitale Erstausgabe\n",
      "http://guillelmus.uni-koeln.de/\n",
      "2007\n",
      "\n",
      "\n",
      "Edition Ludwig Gumplowicz\n",
      "http://gams.uni-graz.at/context:lge\n",
      "2010\n",
      "\n",
      "\n",
      "Editionsprojekt Karl Gutzkow - Kommentierte digitale Gesamtausgabe\n",
      "http://projects.exeter.ac.uk/gutzkow/Gutzneu/edition/index.htm\n",
      "2000\n",
      "\n",
      "\n",
      "Johann Georg Hamann: Kommentierte Briefausgabe\n",
      "https://www.hamann-ausgabe.de\n",
      "2020\n",
      "\n",
      "\n",
      "Das virtuelle Hamburgische Urkundenbuch\n",
      "http://www.spaetmittelalter.uni-hamburg.de/hamburgisches_ub/\n",
      "2001\n",
      "\n",
      "\n",
      "The Papers of Alexander Hamilton Digital Edition\n",
      "https://rotunda.upress.virginia.edu/founders/ARHN.html\n",
      "2011\n",
      "\n",
      "\n",
      "Bess of Hardwick's Letters. The Complete Correspondence c. 1550-1608.\n",
      "https://www.bessofhardwick.org/home.jsp\n",
      "2013\n",
      "\n",
      "\n",
      "The Charles Harpur Critical Archive\n",
      "http://charles-harpur.org/\n",
      "2015\n",
      "\n",
      "\n",
      "The [Samuel] Hartlib Papers\n",
      "https://www.dhi.ac.uk/hartlib/\n",
      "1996\n",
      "\n",
      "\n",
      "Hartmann von Aue - Portal\n",
      "http://www.fgcu.edu/rboggs/hartmann/\n",
      "2003\n",
      "\n",
      "\n",
      "Hartmann von Aue: Der arme Heinrich. Textgeschichtliche elektronische Ausgabe\n",
      "http://digi.ub.uni-heidelberg.de/ahd/\n",
      "2018\n",
      "\n",
      "\n",
      "Der Botaniker Carl Haussknecht - Reisen im Osmanischen Reich und Persien des 19. Jahrhunderts\n",
      "http://haussknecht.thulb.uni-jena.de/index.php?id=301\n",
      "2018\n",
      "\n",
      "\n",
      "Hearth Tax Digital\n",
      "http://gams.uni-graz.at/context:htx\n",
      "2019\n",
      "\n",
      "\n",
      "Christoph Heidmanns Oratio de Bibliotheca Julia\n",
      "http://diglib.hab.de/edoc/ed000084/start.htm\n",
      "2013\n",
      "\n",
      "\n",
      "Heinrich Heine Portal\n",
      "http://germazope.uni-trier.de/Projects/HHP\n",
      "2002\n",
      "\n",
      "\n",
      "Heinricus de Antwerpe: Tractatus de captione urbis Brandenburg\n",
      "https://web.archive.org/web/20151226035209/http://golm.rz.uni-potsdam.de/hva/Default.htm\n",
      "1998\n",
      "\n",
      "\n",
      "Felicia Dorothea Hemans: The Sceptic. A Hemans-Byron Dialogue (1820)\n",
      "https://romantic-circles.org/editions/sceptic/\n",
      "2004\n",
      "\n",
      "\n",
      "Physicians' Lives in the Shenandoah Valley Henkel Family Letters, 1786-1907\n",
      "http://www.nlm.nih.gov/hmd/digicolls/henkel/index.html\n",
      "2010\n",
      "\n",
      "\n",
      "The Model Edition Partnership: The Papers of Joseph Henry\n",
      "https://web.archive.org/web/20090421081023/http://adh.sc.edu/jh/jh-table.html\n",
      "2000\n",
      "\n",
      "\n",
      "de Heresi: Documents of the Early Medieval Inquisition\n",
      "http://medieval-inquisition.huma-num.fr/\n",
      "2018\n",
      "\n",
      "\n",
      "Letters of William Herle Project\n",
      "http://www.livesandletters.ac.uk/herle/index.html\n",
      "2006\n",
      "\n",
      "\n",
      "Hesperia - Banco de datos de lenguas paleohispanicas\n",
      "http://hesperia.ucm.es/index.php\n",
      "2005\n",
      "\n",
      "\n",
      "Hexenregister des Claudius Musiel Hexenverfolgungen im Trierer Land zwischen 1586 und 1594. Elektronische Edition\n",
      "http://www.rmnet.uni-trier.de/cgi-bin/RMnetIndex.tcl?hea=qf&for=qfhxmusiel\n",
      "2005\n",
      "\n",
      "\n",
      "Aloys Hirt - Briefwechsel und aAmtliche Schriften\n",
      "https://aloys-hirt.bbaw.de/index.xql\n",
      "2019\n",
      "\n",
      "\n",
      "Historische Rechtsquellen\n",
      "http://www.e-archiv.li/editionHome.aspx?eid=2\n",
      "2001\n",
      "\n",
      "\n",
      "Ludvig Holbergs Skrifter\n",
      "http://holbergsskrifter.dk/\n",
      "2015\n",
      "\n",
      "\n",
      "The Holinshed Project (Raphael Holinshed: Chronicles of England, Scotland, and Ireland)\n",
      "http://www.cems.ox.ac.uk/holinshed/\n",
      "2008\n",
      "\n",
      "\n",
      "Registers van de Hollandse grafelijkheid 1299-1345\n",
      "http://resources.huygens.knaw.nl/registershollandsegrafelijkheid\n",
      "2014\n",
      "\n",
      "\n",
      "Homer Multitext\n",
      "http://www.homermultitext.org/\n",
      "2014\n",
      "\n",
      "\n",
      "William Hone: The Political House that Jack Built\n",
      "https://romantic-circles.org/editions/hone/index.html\n",
      "1998\n",
      "\n",
      "\n",
      "The Hooke Folio Online\n",
      "http://www.livesandletters.ac.uk/cell/Hooke/Hooke.html\n",
      "2008\n",
      "\n",
      "\n",
      "Ödön von Horváth: Historisch-kritische Ausgabe – Digitale Edition\n",
      "http://gams.uni-graz.at/context:ohad\n",
      "2016\n",
      "\n",
      "\n",
      "Hugh of Saint Victor’s De quinque septenis (On the Five Sevens) and Its Versification in Samuel Presbiter’s De oratione dominica (On the Lord’s Prayer)\n",
      "http://scholarlyediting.org/2016/editions/intro.dunning.html\n",
      "2016\n",
      "\n",
      "\n",
      "Alexander von Humboldt - Christian Gottfried Ehrenberg - Briefwechsel\n",
      "http://telota.bbaw.de/AvHBriefedition/\n",
      "2011\n",
      "\n",
      "\n",
      "Edition Humboldt Digital\n",
      "https://edition-humboldt.de\n",
      "2001\n",
      "\n",
      "\n",
      "davidhume.org\n",
      "http://www.davidhume.org\n",
      "2011\n",
      "\n",
      "\n",
      "Hungarus Digitalis. Digitale Quellenedition - Königreich Ungarn\n",
      "http://www.univie.ac.at/digihung\n",
      "2008\n",
      "\n",
      "\n",
      "Leigh Hunt Online: The Letters\n",
      "http://digital.lib.uiowa.edu/leighhunt/\n",
      "2008\n",
      "\n",
      "\n",
      "Huon d'Auvergne Digital Archive\n",
      "http://huondauvergne.org/\n",
      "2017\n",
      "\n",
      "\n",
      "Henrik Ibsens skrifter (Henrik Ibsen's Writings)\n",
      "http://www.ibsen.uio.no/\n",
      "1998\n",
      "\n",
      "\n",
      "August Wilhelm Ifflands dramaturgisches und administratives Archiv\n",
      "https://iffland.bbaw.de/index.xql\n",
      "2017\n",
      "\n",
      "\n",
      "Inquisitions post Mortem - Mapping the Medieval Countryside\n",
      "http://www.inquisitionspostmortem.ac.uk/\n",
      "2015\n",
      "\n",
      "\n",
      "IAA - Inscriptiones Alborum Amicorum\n",
      "http://iaa.bibl.u-szeged.hu/index.php?page=home\n",
      "2003\n",
      "\n",
      "\n",
      "Inscriptiones Graecae\n",
      "http://telota.bbaw.de/ig/\n",
      "2013\n",
      "\n",
      "\n",
      "IOSPE - Ancient Inscriptions of the Northern Black Sea\n",
      "http://iospe.kcl.ac.uk/index.html\n",
      "2011\n",
      "\n",
      "\n",
      "IRT - The Inscriptions of Roman Tripolitania\n",
      "https://irt2021.inslib.kcl.ac.uk/en/\n",
      "2009\n",
      "\n",
      "\n",
      "Libraria: Éditions d’inventaires anciens de bibliothèques médiévales\n",
      "http://www.libraria.fr/editions-inventaires\n",
      "2009\n",
      "\n",
      "\n",
      "Von Island nach Jerusalem – Eine annotierte Webedition des Itinerars des Abtes Nikulás\n",
      "http://www.nikulas.ds.uni-tuebingen.de/omeka/neatline/fullscreen/itinerar-nikulas\n",
      "2015\n",
      "\n",
      "\n",
      "The Papers of Andrew Jackson Digital Edition\n",
      "https://rotunda.upress.virginia.edu/founders/JKSN.html\n",
      "2015\n",
      "\n",
      "\n",
      "Arxiu Virtual Jaume I - Documents d'època medieval relatius a la Corona d'Aragó\n",
      "http://www.jaumeprimer.uji.es/\n",
      "2006\n",
      "\n",
      "\n",
      "The Selected Papers of John Jay Digital Edition\n",
      "https://rotunda.upress.virginia.edu/founders/JNJY.html\n",
      "2014\n",
      "\n",
      "\n",
      "The Papers of Thomas Jefferson Digital Edition\n",
      "https://rotunda.upress.virginia.edu/founders/TSJN.html\n",
      "2008\n",
      "\n",
      "\n",
      "Maria Jane Jewsbury: The Oceanides\n",
      "https://romantic-circles.org/editions/oceanides/\n",
      "2003\n",
      "\n",
      "\n",
      "The Yale Digital Edition of the Works of Samuel Johnson\n",
      "http://www.yalejohnson.com\n",
      "2014\n",
      "\n",
      "\n",
      "The Cambridge Edition of the Works of Ben Jonson\n",
      "https://universitypublishingonline.org/cambridge/benjonson/\n",
      "2012\n",
      "\n",
      "\n",
      "József Attila összes tanulmánya és cikke Szövegek, 1930–1937\n",
      "http://textus.elte.hu/ja/index.html\n",
      "2012\n",
      "\n",
      "\n",
      "Journals of the Lewis and Clark Expedition\n",
      "https://lewisandclarkjournals.unl.edu\n",
      "2003\n",
      "\n",
      "\n",
      "The James Joyce Digital Archive: Ulysses & Finnegans Wake\n",
      "http://jjda.ie\n",
      "2018\n",
      "\n",
      "\n",
      "MS Junius 11 - Bodleian Digital Texts 1\n",
      "http://www.evellum.com/index.php?page=shop.product_details&flypage=flypage_bodleian.tpl&product_id=6&category_id=2&option=com_virtuemart&Itemid=293\n",
      "2004\n",
      "\n",
      "\n",
      "Engelbert Kaempfer: Amoenitatum Exoticarum Politico-Physico-Medicarum Fasciculi V. Lemgo 1712. Edition, Übersetzung und Kommentar.\n",
      "http://diglib.hab.de/edoc/ed000081/startx.htm\n",
      "2010\n",
      "\n",
      "\n",
      "Franz Kafka: Der Process\n",
      "http://www.textkritik.de/fka/dokumente/process.htm\n",
      "1997\n",
      "\n",
      "\n",
      "Kalevalan Aino\n",
      "http://aino.finlit.fi/omeka\n",
      "2017\n",
      "\n",
      "\n",
      "Kroniek van Kampen\n",
      "https://kroniekvankampen.huygens.knaw.nl\n",
      "2017\n",
      "\n",
      "\n",
      "Kritische Gesamtausgabe der Schriften und Briefe Andreas Bodensteins von Karlstadt\n",
      "http://diglib.hab.de/edoc/ed000216/start.htm\n",
      "2012\n",
      "\n",
      "\n",
      "John Keats. A Rediscovered Letter by John Keats (1818)\n",
      "https://romantic-circles.org/editions/keats/index.html\n",
      "1998\n",
      "\n",
      "\n",
      "Kekaumenos, *Consilia et Narrationes* (SAWS edition)\n",
      "https://ancientwisdoms.ac.uk/library/kekaumenos-consilia-et-narrationes/index.html\n",
      "2013\n",
      "\n",
      "\n",
      "Gottfried Keller: Sämtliche Werke\n",
      "http://www.gottfriedkeller.ch/hkka/projekt.php\n",
      "1996\n",
      "\n",
      "\n",
      "Harry Graf Kessler, Das Tagebuch 1880-1937. Online-Ausgabe.\n",
      "https://edview.dla-marbach.de\n",
      "2004\n",
      "\n",
      "\n",
      "Søren Kierkegaards Skrifter\n",
      "http://sks.dk\n",
      "2007\n",
      "\n",
      "\n",
      "Briefe und Akten zur Kirchenpolitik Friedrichs des Weisen und Johanns des Beständigen 1513 bis 1532\n",
      "http://bakfj.saw-leipzig.de\n",
      "2018\n",
      "\n",
      "\n",
      "The Athanasius Kircher [Correspondence] Project\n",
      "https://web.stanford.edu/group/kircher/cgi-bin/site/?page_id=7\n",
      "1998\n",
      "\n",
      "\n",
      "Athanasius Kircher an Herzog August den Jüngeren. Lateinische Briefe der Jahre 1650-1666\n",
      "http://diglib.hab.de/edoc/ed000005/start.htm\n",
      "2003\n",
      "\n",
      "\n",
      "Paul Klee – Bildnerische Form- und Gestaltungslehre\n",
      "http://www.kleegestaltungslehre.zpk.org/ee/ZPK/Archiv/2011/01/25/00001/\n",
      "2012\n",
      "\n",
      "\n",
      "Wolfgang Koeppen: Jugend - Textgenetische Edition\n",
      "http://www.koeppen-jugend.de/\n",
      "2016\n",
      "\n",
      "\n",
      "Kolb-Proust Archive for Research\n",
      "http://www.library.uiuc.edu/kolbp/\n",
      "1994\n",
      "\n",
      "\n",
      "[Das Kundige Bok] Göttinger Statuten im 15. Jahrhundert\n",
      "http://kundigebok.stadtarchiv.goettingen.de/kb2Web/html/\n",
      "2010\n",
      "\n",
      "\n",
      "Kurländische Güterurkunden\n",
      "https://www.herder-institut.de/bestaende-digitale-angebote/datenbanken/kurlaendische-gueterurkunden.html\n",
      "2003\n",
      "\n",
      "\n",
      "La Harpe et la Russie (1783-1795)\n",
      "http://lumieres.unil.ch/projets/la-harpe\n",
      "2019\n",
      "\n",
      "\n",
      "SVEA-Pommern - Karten und Texte der Schwedischen Landesaufnahme von Pommern 1692-1709\n",
      "http://www.svea-pommern.de/\n",
      "2007\n",
      "\n",
      "\n",
      "Kabinettsprotokolle der Landesregierung von Nordrhein-Westfalen\n",
      "http://protokolle.archive.nrw.de/\n",
      "2008\n",
      "\n",
      "\n",
      "Letitia Elizabeth Landon's \"Verses\" and The Keepsake for 1829\n",
      "https://romantic-circles.org/editions/lel/index.html\n",
      "1998\n",
      "\n",
      "\n",
      "John Langhorne: Solyman and Almena - An Oriental Tale\n",
      "http://web.archive.org/web/20080616091917/http://www.historiker.de/projekte/orient/\n",
      "2000\n",
      "\n",
      "\n",
      "The Model Edition Partnership: Papers of Henry Laurens\n",
      "https://web.archive.org/web/20090421081017/http://adh.sc.edu/hl/hl-table.html\n",
      "2000\n",
      "\n",
      "\n",
      "Early English Laws\n",
      "https://earlyenglishlaws.ac.uk/\n",
      "2009\n",
      "\n",
      "\n",
      "Mini Lazarillo. Edición mínima del Lazarillo de Tormes\n",
      "http://minilazarillo.github.io\n",
      "2016\n",
      "\n",
      "\n",
      "Lazarraga Eskuizkribua: edizioa eta azterketa / The Lazarraga Manuscript: Edition and study\n",
      "http://www.ehu.eus/monumenta/lazarraga/\n",
      "2010\n",
      "\n",
      "\n",
      "Lebenswelten, Erfahrungsräume und politische Horizonte der ostpreußischen Adelsfamilie Lehndorff vom 18. bis in das 20. Jahrhundert\n",
      "https://lebenswelten-lehndorff.bbaw.de/index.xql\n",
      "2019\n",
      "\n",
      "\n",
      "Gottfried Wilhelm Leibniz: Naturwissenschaftlich- medizinisch-technische Schriften – Reihe VIII der Akademieausgabe\n",
      "http://leibnizviii.bbaw.de\n",
      "2007\n",
      "\n",
      "\n",
      "Briefportal Leibniz. Ausgewählte Briefe in HTML\n",
      "https://leibniz-briefportal.adw-goe.de/start\n",
      "2016\n",
      "\n",
      "\n",
      "Lessings Übersetzungen\n",
      "http://diglib.hab.de/edoc/ed000146/start.htm\n",
      "2011\n",
      "\n",
      "\n",
      "Letters of 1916\n",
      "http://letters1916.maynoothuniversity.ie/\n",
      "2013\n",
      "\n",
      "\n",
      "Letters of Clemency from the Chancery of Brittany\n",
      "http://web.archive.org/web/20080221092434/http://palissy.humana.univ-nantes.fr/cete/txt/Remission/index.en.html\n",
      "1998\n",
      "\n",
      "\n",
      "Liber...censualium (1187) (BayHStA HL Freising 6)\n",
      "http://www.bayerische-landesbibliothek-online.de/liber-censualium-edition-evangelientext\n",
      "2011\n",
      "\n",
      "\n",
      "The Liber Genealogus G\n",
      "http://www.piggin.net/stemmahist/libertext.htm\n",
      "2009\n",
      "\n",
      "\n",
      "Liber Glossarum\n",
      "http://liber-glossarum.huma-num.fr/\n",
      "2016\n",
      "\n",
      "\n",
      "Liber Matriculae - Il libro della matricola dei notai di Vercelli (sec. XIV-XVIII)\n",
      "http://www.librinlinea.it/titolo/liber-matriculae-il-libro-della-matric/TO00906900\n",
      "1999\n",
      "\n",
      "\n",
      "L'edizione digitale del Liber Privilegiorum Sanctae Montis Regalis Ecclesiae\n",
      "http://vatlat3880.altervista.org\n",
      "2008\n",
      "\n",
      "\n",
      "Dokumente zur liechtensteinischen Geschichte zwischen 1928 und 1950\n",
      "http://www.e-archiv.li/editionHome.aspx?eid=1\n",
      "2011\n",
      "\n",
      "\n",
      "Dokumente zur liechtensteinischen Geschichte zwischen 1900 und 1930\n",
      "http://www.e-archiv.li/editionHome.aspx?eid=8\n",
      "2015\n",
      "\n",
      "\n",
      "The Model Edition Partnership: Abraham Lincoln Legal Papers\n",
      "https://web.archive.org/web/20090421081313/http://adh.sc.edu/ll/ll-table.html\n",
      "2000\n",
      "\n",
      "\n",
      "The Linnaean Correspondence\n",
      "http://linnaeus.c18.net/\n",
      "2000\n",
      "\n",
      "\n",
      "Société du comte de la Lippe (1742-1747)\n",
      "http://lumieres.unil.ch/projets/lippe\n",
      "2013\n",
      "\n",
      "\n",
      "Justus Lipsius' De Bibliothecis Syntagma\n",
      "http://diglib.hab.de/edoc/ed000001/start.htm\n",
      "2017\n",
      "\n",
      "\n",
      "Livingstone's 1871 Field Diary\n",
      "http://livingstone.library.ucla.edu/1871diary/index.htm\n",
      "2011\n",
      "\n",
      "\n",
      "Livingstone Online - Explore the manuscripts of David Livingstone\n",
      "https://www.livingstoneonline.org/index.php\n",
      "2004\n",
      "\n",
      "\n",
      "Li livres de jostice et de plet\n",
      "http://elec.enc.sorbonne.fr/josticeetplet/\n",
      "2016\n",
      "\n",
      "\n",
      "Virginie Loveling: In Oorlogsnood. Virginie Lovelings dagboek 1914-1918\n",
      "https://www.dbnl.org/tekst/love002oorl01_01/colofon.php\n",
      "2004\n",
      "\n",
      "\n",
      "Lublin w Dokumencie\n",
      "http://teatrnn.pl/lublinwdokumencie\n",
      "2010\n",
      "\n",
      "\n",
      "The *Lucula noctis* Project\n",
      "http://web.wlu.ca/history/cnighman/LN/index.html\n",
      "2015\n",
      "\n",
      "\n",
      "The Augsburg Web Edition of Llull's Electoral Writings\n",
      "https://www.math.uni-augsburg.de/htdocs/emeriti/pukelsheim/llull/\n",
      "2001\n",
      "\n",
      "\n",
      "The Minor Works of John Lydgate\n",
      "http://www.minorworksoflydgate.net\n",
      "2015\n",
      "\n",
      "\n",
      "Samuel Taylor Coleridge & William Wordsworth. Lyrical Ballads (1798-1805)\n",
      "https://romantic-circles.org/editions/LB/\n",
      "2003\n",
      "\n",
      "\n",
      "Lyrik des deutschen Mittelalters\n",
      "http://www.ldm-digital.de/\n",
      "2012\n",
      "\n",
      "\n",
      "Maamme kirja - digitaalinen editio\n",
      "http://maammekirja.fi\n",
      "2018\n",
      "\n",
      "\n",
      "The Thomas MacGreevy Archive\n",
      "http://www.macgreevy.org\n",
      "2001\n",
      "\n",
      "\n",
      "The Dolley Madison Digital Edition\n",
      "http://rotunda.upress.virginia.edu/dmde\n",
      "2004\n",
      "\n",
      "\n",
      "The Papers of James Madison Digital Edition\n",
      "https://rotunda.upress.virginia.edu/founders/JSMN.html\n",
      "2010\n",
      "\n",
      "\n",
      "Mächtekongresse 1818–1822. Digitale Edition\n",
      "https://maechtekongresse.acdh.oeaw.ac.at/pages/index.html\n",
      "2018\n",
      "\n",
      "\n",
      "Historische Methode und Arbeitstechnik der Magdeburger Zenturien. Edition ausgewählter Dokumente\n",
      "http://diglib.hab.de/edoc/ed000086/start.htm\n",
      "2012\n",
      "\n",
      "\n",
      "Malory Project\n",
      "http://www.maloryproject.com/\n",
      "2006\n",
      "\n",
      "\n",
      "The Electronic *Manipulus florum* Project\n",
      "http://web.wlu.ca/history/cnighman\n",
      "2001\n",
      "\n",
      "\n",
      "Digitale Edition des steirisch-landesfürstlichen Marchfutterurbars von 1414/1426\n",
      "http://hfi.uni-graz.at/mfu/#fo674\n",
      "2012\n",
      "\n",
      "\n",
      "The Book of Margery Kempe:\n",
      "http://english.selu.edu/humanitiesonline/kempe/\n",
      "2015\n",
      "\n",
      "\n",
      "MarineLives\n",
      "http://www.marinelives.org/\n",
      "2014\n",
      "\n",
      "\n",
      "The Complete Works of Christopher Marlowe\n",
      "http://www.perseus.tufts.edu/Texts/Marlowe.html\n",
      "2000\n",
      "\n",
      "\n",
      "Marsden Online Archive\n",
      "https://marsdenarchive.otago.ac.nz/\n",
      "2014\n",
      "\n",
      "\n",
      "The Model Edition Partnership: The Papers of George Catlett Marshall\n",
      "https://web.archive.org/web/20090421081308/http://adh.sc.edu/gm/gm-table.html\n",
      "2000\n",
      "\n",
      "\n",
      "The Papers of John Marshall Digital Edition\n",
      "https://rotunda.upress.virginia.edu/founders/JNML.html\n",
      "2014\n",
      "\n",
      "\n",
      "The Benjamin Marston Diaries Project\n",
      "http://www.lib.unb.ca/Texts/marston/\n",
      "1996\n",
      "\n",
      "\n",
      "Carolingian Scholarship and Martianus Capella: The Oldest Commentary Tradition\n",
      "http://martianus.huygensinstituut.nl/path\n",
      "2008\n",
      "\n",
      "\n",
      "The Diary of Mary Martin - A Family at War, 1 January - 25 May 1916\n",
      "https://dh.tcd.ie/martindiary/site/index.xml\n",
      "2012\n",
      "\n",
      "\n",
      "MEGAdigital - Ökonomische Texte von Karl Marx im Internet\n",
      "http://telota.bbaw.de/mega/\n",
      "2010\n",
      "\n",
      "\n",
      "Matrikelbücher der Kunstakademie München\n",
      "http://matrikel.adbk.de/\n",
      "2008\n",
      "\n",
      "\n",
      "Rostocker Matrikelportal - Datenbankedition der Immatrikulationen an der Universität Rostock 1419-1945\n",
      "http://matrikel.uni-rostock.de\n",
      "2010\n",
      "\n",
      "\n",
      "Il progetto [Francesco] Maurolico\n",
      "http://web.archive.org/web/20080412023610/http://www.dm.unipi.it/pages/maurolic/\n",
      "1999\n",
      "\n",
      "\n",
      "The Medici Archives - Building Interactive Archives\n",
      "http://bia.medici.org\n",
      "2012\n",
      "\n",
      "\n",
      "Pietro Mellini’s Inventory in Verse, 1681\n",
      "http://www.getty.edu/research/mellini/\n",
      "2015\n",
      "\n",
      "\n",
      "Melville Electronic Library. A Critical Archive\n",
      "https://melville.electroniclibrary.org\n",
      "2008\n",
      "\n",
      "\n",
      "Herman Melville’s “Typee”: A Fluid Text Edition\n",
      "http://rotunda.upress.virginia.edu/melville/\n",
      "2006\n",
      "\n",
      "\n",
      "Melville's Marginalia Online\n",
      "http://melvillesmarginalia.org/\n",
      "2008\n",
      "\n",
      "\n",
      "EMA - Erich Mendelsohn Archiv - Der Briefwechsel von Erich und Luise Mendelsohn 1910-1953\n",
      "http://ema.smb.museum/de/\n",
      "2014\n",
      "\n",
      "\n",
      "Códice Mendoza / Codex Mendoza\n",
      "http://codicemendoza.inah.gob.mx/\n",
      "2014\n",
      "\n",
      "\n",
      "Menschen en Bergen, proza-gedicht\n",
      "http://menschenenbergen.huygens.knaw.nl/path\n",
      "2009\n",
      "\n",
      "\n",
      "Édition critique numérique des Mémoires de Léonard Michon\n",
      "http://journal-michon.symogih.org/index.html\n",
      "2015\n",
      "\n",
      "\n",
      "Die Predigtmitschriften des Leonhard Millinger\n",
      "http://diglib.hab.de/edoc/ed000232/start.htm\n",
      "2014\n",
      "\n",
      "\n",
      "Die Weltbeschreibung des Leonhard Millinger\n",
      "http://diglib.hab.de/edoc/ed000223/start.htm\n",
      "2013\n",
      "\n",
      "\n",
      "Milton Reading Room\n",
      "http://www.dartmouth.edu/~milton/reading_room/\n",
      "1997\n",
      "\n",
      "\n",
      "Die Ministerratsprotokolle Österreichs und der österreichisch-ungarischen Monarchie 1848–1918 – Digitale Edition\n",
      "https://mrp.oeaw.ac.at\n",
      "2018\n",
      "\n",
      "\n",
      "Richard Minne en Frits Van den Berghe F. Een tong van lijntses. Geannoteerde leeseditie van de Brieven van Pierken (1931-1935)\n",
      "https://web.archive.org/web/20111219021517/http://www.kantl.be:80/ctb/pub/index.htm\n",
      "2002\n",
      "\n",
      "\n",
      "Correspondance Mirabeau - Sacconay (1731-1784)\n",
      "http://lumieres.unil.ch/projets/\n",
      "2013\n",
      "\n",
      "\n",
      "Digital Mishnah\n",
      "http://www.digitalmishnah.umd.edu/\n",
      "2012\n",
      "\n",
      "\n",
      "Mittelalterlabor. Transkription der Handschrift Graz, UB, Ms. 1609.\n",
      "http://gams.uni-graz.at/context:malab\n",
      "2019\n",
      "\n",
      "\n",
      "Mittelfränkische Urkunden, 1300 bis 1330 – Edition\n",
      "http://www.rmnet.uni-trier.de/cgi-bin/RMnetIndex.tcl?hea=qf&for=qmfranku\n",
      "2003\n",
      "\n",
      "\n",
      "Montaigne (Michel de), Essais (1588)\n",
      "http://xtf.bvh.univ-tours.fr/xtf/view?docId=tei/B330636101_S1238/B330636101_S1238_tei.xml\n",
      "2015\n",
      "\n",
      "\n",
      "Michel Eyquem de Montaigne: Les «Essais»\n",
      "http://web.archive.org/web/20100812052807/http://web.me.com/guyjacqu/pernon-editions/accueil.html\n",
      "2003\n",
      "\n",
      "\n",
      "Montedite - Édition en ligne des pensées de Montesquieu\n",
      "https://www.unicaen.fr/services/puc/sources/Montesquieu/\n",
      "2013\n",
      "\n",
      "\n",
      "Les comptes des consuls de Montferrand (1273–1319)\n",
      "http://elec.enc.sorbonne.fr/montferrand/\n",
      "2006\n",
      "\n",
      "\n",
      "Hugo von Montfort - Das poetische Werk\n",
      "http://gams.uni-graz.at/me\n",
      "2007\n",
      "\n",
      "\n",
      "Chroniques latines du Mont Saint-Michel (IXe-XIIe siècle)\n",
      "http://www.unicaen.fr/services/puc/sources/chroniqueslatines/index.php\n",
      "2007\n",
      "\n",
      "\n",
      "Le Roman du Mont Saint-Michel (IXe-XIIe siècle)\n",
      "http://www.unicaen.fr/services/puc/sources/gsp/index.php\n",
      "2007\n",
      "\n",
      "\n",
      "Monumenta Asiae Minoris Antiqua XI - Monuments from Phrygia and Lykaonia\n",
      "http://mama.csad.ox.ac.uk\n",
      "2012\n",
      "\n",
      "\n",
      "Procès-verbaux de la Commission des Monuments historiques de 1848 à 1950\n",
      "http://elec.enc.sorbonne.fr/monumentshistoriques/\n",
      "2014\n",
      "\n",
      "\n",
      "Moralische Wochenschriften\n",
      "http://gams.uni-graz.at/context:mws?locale=de\n",
      "2011\n",
      "\n",
      "\n",
      "The Morris Online Edition\n",
      "http://morrisedition.lib.uiowa.edu/\n",
      "2005\n",
      "\n",
      "\n",
      "The Diaries of Gouverneur Morris Digital Edition\n",
      "https://rotunda.upress.virginia.edu/founders/GRMS.html\n",
      "2015\n",
      "\n",
      "\n",
      "In Mozart's Words [Correspondence]\n",
      "http://letters.mozartways.com\n",
      "2011\n",
      "\n",
      "\n",
      "Neue Mozart-Ausgabe: Digitalisierte Version\n",
      "http://dme.mozarteum.at/DME/nma/nmapub_srch.php?l=1\n",
      "2006\n",
      "\n",
      "\n",
      "Mozart Briefe und Dokumente - Online Edition\n",
      "https://dme.mozarteum.at/briefe-dokumente/\n",
      "2006\n",
      "\n",
      "\n",
      "Mozart-Libretti - Online-Edition\n",
      "http://dme.mozarteum.at/DME/libretti-edition/index.php\n",
      "2006\n",
      "\n",
      "\n",
      "Erich Mühsam - Tagebücher\n",
      "http://muehsam-tagebuch.de\n",
      "2011\n",
      "\n",
      "\n",
      "eMunch - Edvard Munchs Tekster, Digitalt Arkiv\n",
      "http://www.emunch.no/\n",
      "2011\n",
      "\n",
      "\n",
      "Robert Musil - Klagenfurter Ausgabe\n",
      "\n",
      "2009\n",
      "\n",
      "\n",
      "musique deoque\n",
      "http://mizar.unive.it/mqdq/public/\n",
      "2005\n",
      "\n",
      "\n",
      "Tibetan Sources for a Social History of Mustang (Nepal)\n",
      "http://www.tibetanhistory.net/documents/mustang\n",
      "2019\n",
      "\n",
      "\n",
      "The Thomas Nashe Project\n",
      "https://research.ncl.ac.uk/thethomasnasheproject/\n",
      "2017\n",
      "\n",
      "\n",
      "Bibliothek der Neologie\n",
      "http://bdn-edition.de/\n",
      "2016\n",
      "\n",
      "\n",
      "RINAP – The Royal Inscriptions of the Neo-Assyrian Period\n",
      "http://oracc.museum.upenn.edu/rinap/\n",
      "2011\n",
      "\n",
      "\n",
      "Documents on the History of Religion and Law of Pre-modern Nepal\n",
      "https://abhilekha.adw.uni-heidelberg.de/nepal/editions\n",
      "2013\n",
      "\n",
      "\n",
      "Nero-Middleton Cartulary\n",
      "http://individual.utoronto.ca/emrecordkeeping/\n",
      "2004\n",
      "\n",
      "\n",
      "Digital Nestle-Aland Prototype (Greek New Testament)\n",
      "http://nestlealand.uni-muenster.de/\n",
      "2003\n",
      "\n",
      "\n",
      "The Newton Project\n",
      "http://www.newtonproject.sussex.ac.uk/\n",
      "1998\n",
      "\n",
      "\n",
      "The Chymistry of Isaac Newton\n",
      "http://webapp1.dlib.indiana.edu/newton/index.jsp\n",
      "2005\n",
      "\n",
      "\n",
      "Die Sankt Galler Nibelungenhandschrift, Codex 857\n",
      "\n",
      "2005\n",
      "\n",
      "\n",
      "HyperNietzsche\n",
      "http://www.hypernietzsche.org\n",
      "2001\n",
      "\n",
      "\n",
      "Nietzsche Source\n",
      "http://www.nietzschesource.org/\n",
      "2009\n",
      "\n",
      "\n",
      "Nietzsche: Werke\n",
      "https://www.degruyter.com/view/serial/16016?rskey=VXSmtn&result=7\n",
      "1995\n",
      "\n",
      "\n",
      "Nobody by Mary Robinson\n",
      "https://romantic-circles.org/editions/nobody\n",
      "2013\n",
      "\n",
      "\n",
      "Norse Romanticism: Themes in British Literature, 1760-1830\n",
      "https://romantic-circles.org/editions/norse/index.html\n",
      "2012\n",
      "\n",
      "\n",
      "Notker III. von St. Gallen: De interpretatione. Elektronische Teiledition\n",
      "http://www.edkomp.uni-muenchen.de/Notker/Demo-CD/edition_frame.html\n",
      "2004\n",
      "\n",
      "\n",
      "Die mittelalterlichen Nowgoroder Schraen als digitale Edition\n",
      "\n",
      "2005\n",
      "\n",
      "\n",
      "Aleksis Kivi: Nummisuutarit. Komedia viidessä näytöksessä. Kriittinen editio. [On-line.]\n",
      "http://elias.finlit.fi/nummisuutarit/\n",
      "2011\n",
      "\n",
      "\n",
      "Dat Nuwe Boych - Das neue Buch\n",
      "http://www.neuesbuch.uni-trier.de/\n",
      "2012\n",
      "\n",
      "\n",
      "Devon and Exeter Oath Rolls, 1723\n",
      "http://www.foda.org.uk/oaths/intro/introduction1.htm\n",
      "2007\n",
      "\n",
      "\n",
      "Éditions en ligne de l'École des chartes (ELEC): L’Obituaire du Saint-Mont (1406)\n",
      "http://elec.enc.sorbonne.fr/obituairestmont/\n",
      "2004\n",
      "\n",
      "\n",
      "Ogham in 3D\n",
      "http://ogham.celt.dias.ie/\n",
      "2015\n",
      "\n",
      "\n",
      "Ogier von Dänemark / Ogier van Denemerken.\n",
      "https://ogier.huygens.knaw.nl\n",
      "2019\n",
      "\n",
      "\n",
      "Andreas Okopenko - Tagebücher\n",
      "https://edition.onb.ac.at/okopenko/\n",
      "2019\n",
      "\n",
      "\n",
      "The Proceedings of the Old Bailey, London 1674 to 1834\n",
      "http://www.oldbaileyonline.org/\n",
      "2003\n",
      "\n",
      "\n",
      "Digitaal Oorkondenboek van Noord-Brabant\n",
      "http://www.donb.nl/\n",
      "2010\n",
      "\n",
      "\n",
      "Kant – Opus Postumum Online Edition\n",
      "http://telota.bbaw.de/kant_op/index.html\n",
      "2013\n",
      "\n",
      "\n",
      "Ordonnances de l'hôtel du roi\n",
      "http://www.cn-telma.fr/ordonnances/index/\n",
      "2006\n",
      "\n",
      "\n",
      "Hypertexto del Orlando Furioso\n",
      "http://stel.ub.edu/orlando/\n",
      "2006\n",
      "\n",
      "\n",
      "Die Glossen Ekkeharts IV. im Codex Sangallensis 621\n",
      "http://orosius.monumenta.ch/\n",
      "2007\n",
      "\n",
      "\n"
     ]
    },
    {
     "name": "stdout",
     "output_type": "stream",
     "text": [
      "Orwell Diaries\n",
      "http://orwelldiaries.wordpress.com/\n",
      "2008\n",
      "\n",
      "\n",
      "L'Ospital d'Amours by Achille Caulier\n",
      "https://web.archive.org/web/20181231104508/http://toisondor.byu.edu:80/ospital/toc.htm\n",
      "2002\n",
      "\n",
      "\n",
      "Early Modern Ottoman Culture of Learning: Popular Learning between Poetic Ambitions and Pragmatic Concerns\n",
      "https://mecmua.acdh.oeaw.ac.at\n",
      "2015\n",
      "\n",
      "\n",
      "Eugenio Pacelli - Kritische Online-Edition der Nuntiaturberichte von 1917-1929\n",
      "http://www.pacelli-edition.de/\n",
      "2010\n",
      "\n",
      "\n",
      "Paesi novamente retrovati – Newe unbekanthe landte: Eine digitale Edition früher Entdeckerberichte.\n",
      "http://diglib.hab.de/edoc/ed000145/start.htm\n",
      "2012\n",
      "\n",
      "\n",
      "Paganico: statuti della comunitá (secolo XV)\n",
      "https://web.archive.org/web/20050217022521/http://www.gol.grosseto.it/puam/arcstato/paganico/pagcop.htm\n",
      "1997\n",
      "\n",
      "\n",
      "William of Palerne. An Electronic Edition\n",
      "http://www.press.umich.edu/titleDetailDesc.do?id=6462\n",
      "2002\n",
      "\n",
      "\n",
      "« DigiLivres » : Bernard PALISSY - « Discours Admirables... »\n",
      "http://web.archive.org/web/20080405110201/http://homepage.mac.com/guyjacqu/palissy.html\n",
      "2002\n",
      "\n",
      "\n",
      "Henry Parlands Skrifter. Digital textkritisk utgåva\n",
      "http://parland.sls.fi\n",
      "2018\n",
      "\n",
      "\n",
      "The Parliament Rolls of Medieval England\n",
      "http://www.sd-editions.com/PROME/\n",
      "2005\n",
      "\n",
      "\n",
      "Partonopeus de Blois - An Electronic Edition\n",
      "https://www.dhi.ac.uk/partonopeus/\n",
      "2005\n",
      "\n",
      "\n",
      "Original und Kopie des ›Rappoltsteiner Parzifal‹ - Handschriftliche Überlieferung und Textgenese im 14. Jahrhundert\n",
      "http://www.parzival.unibe.ch/rapp/#/\n",
      "2019\n",
      "\n",
      "\n",
      "Parzival-Projekt\n",
      "http://www.parzival.unibe.ch/\n",
      "2007\n",
      "\n",
      "\n",
      "Correspondance complète et autres écrits de Guy Patin\n",
      "https://www.biusante.parisdescartes.fr/patin/\n",
      "2019\n",
      "\n",
      "\n",
      "Saint Patrick's Confessio\n",
      "http://www.confessio.ie/#\n",
      "2011\n",
      "\n",
      "\n",
      "Jean Paul – Sämtliche Briefe ... digital\n",
      "https://www.jeanpaul-edition.de/start.html\n",
      "2018\n",
      "\n",
      "\n",
      "Jean Paul Portal\n",
      "http://www.jean-paul-portal.uni-wuerzburg.de/startseite/\n",
      "2012\n",
      "\n",
      "\n",
      "Les manuscrits arabes des lettres de Paul de Tarse\n",
      "https://web.archive.org/web/20190904032200/http://wp.unil.ch:80/nt-arabe/edition-electronique/\n",
      "2016\n",
      "\n",
      "\n",
      "Digital Paxton: Digital Collection, Critical Edition, and Teaching Platform\n",
      "http://digitalpaxton.org/\n",
      "2016\n",
      "\n",
      "\n",
      "Richard Brinsley Peake: Presumption; or, The Fate of Frankenstein (1823)\n",
      "https://romantic-circles.org/editions/peake/\n",
      "2001\n",
      "\n",
      "\n",
      "Codice Pelavicino. Edizione Digitale.\n",
      "http://pelavicino.labcd.unipi.it/\n",
      "2014\n",
      "\n",
      "\n",
      "Glossae in Persium - Die Persius-Glossen der sogenannten Tradition B\n",
      "http://www.persius.mueze.lmu.de/ghtm/gfr.htm\n",
      "2010\n",
      "\n",
      "\n",
      "LdoD Archive: Collaborative Digital Archive of the Book of Disquiet\n",
      "https://ldod.uc.pt\n",
      "2017\n",
      "\n",
      "\n",
      "Digital Edition of Fernando Pessoa. Projects and Publications\n",
      "http://www.pessoadigital.pt\n",
      "2017\n",
      "\n",
      "\n",
      "Petrarchive - An edition of Petrarch’s songbook, Rerum vulgarium fragmenta. Bloomington (IN): Indiana University, 2013.\n",
      "http://dcl.slis.indiana.edu/petrarchive/\n",
      "2013\n",
      "\n",
      "\n",
      "The *Liber pharetrae* Project\n",
      "http://web.wlu.ca/history/cnighman/LP/index.html\n",
      "2014\n",
      "\n",
      "\n",
      "Progetto Pico / Pico Project\n",
      "http://www.brown.edu/Departments/Italian_Studies/pico/\n",
      "2003\n",
      "\n",
      "\n",
      "Piers Plowman Electronic Archive\n",
      "http://jefferson.village.virginia.edu/seenet/piers/\n",
      "2000\n",
      "\n",
      "\n",
      "The Papers of Eliza Lucas Pinckney and Harriott Pinckney Horry\n",
      "http://rotunda.upress.virginia.edu/PinckneyHorry/\n",
      "2012\n",
      "\n",
      "\n",
      "The Papers of the Revolutionary Era Pinckney Statesmen Digital Edition\n",
      "https://rotunda.upress.virginia.edu/founders/PNKY.html\n",
      "2016\n",
      "\n",
      "\n",
      "Pioneer Lives\n",
      "https://web.archive.org/web/20190925233050/http://digital.lib.uiowa.edu:80/pioneers/\n",
      "2014\n",
      "\n",
      "\n",
      "The Planctus for William Longsword\n",
      "http://vlib.iue.it/carrie/documents/planctus/planctus/index.html\n",
      "1999\n",
      "\n",
      "\n",
      "Petrus Plaoul - Editio Critica Commentarii in libris Sententiarum\n",
      "https://scta.info/resource/peter-plaoul\n",
      "2011\n",
      "\n",
      "\n",
      "Kommentierte Online-Edition der fünf Reisetagebücher Hans Posses (1939 -1942)\n",
      "https://editionhansposse.gnm.de\n",
      "2018\n",
      "\n",
      "\n",
      "Presidential Recordings Digital Edition\n",
      "https://prde.upress.virginia.edu\n",
      "2014\n",
      "\n",
      "\n",
      "Das virtuelle Preußische Urkundenbuch\n",
      "http://www.spaetmittelalter.uni-hamburg.de/Urkundenbuch/\n",
      "1999\n",
      "\n",
      "\n",
      "St Gall Priscian glosses\n",
      "http://www.stgallpriscian.ie/\n",
      "2010\n",
      "\n",
      "\n",
      "Thoughts in Prison by William Dodd\n",
      "https://romantic-circles.org/editions/prison/index.html\n",
      "2010\n",
      "\n",
      "\n",
      "Probstuecke digital\n",
      "http://probstuecke-digital.de\n",
      "2019\n",
      "\n",
      "\n",
      "Lateinisch-mittelniederdeutscher Psalter mit Kommentar Cod. Guelf. 81.10 Aug. 2°\n",
      "http://diglib.hab.de/mss/81-10-aug-2f/start.htm\n",
      "2015\n",
      "\n",
      "\n",
      "Der Deutsche Ptolemaeus - Eine digitale Edition\n",
      "http://echo.mpiwg-berlin.mpg.de/MPIWG:X3Y43643\n",
      "2008\n",
      "\n",
      "\n",
      "Queste del saint Graal. Manuscrit Lyon, Bibliothèque municipale, P.A. 77\n",
      "https://web.archive.org/web/20121028151551/http://txm.risc.cnrs.fr/txm/\n",
      "2010\n",
      "\n",
      "\n",
      "Thomas Raddall Electronic Archive Project\n",
      "http://findingaids.library.dal.ca/thomas-head-raddall-fonds\n",
      "2001\n",
      "\n",
      "\n",
      "Kuno Raeber Lyrik - Historisch-Kritische Online-Edition\n",
      "https://kunoraeber.ch/lyrik/\n",
      "2017\n",
      "\n",
      "\n",
      "Giovanni Battista Ramusio: Dei viaggi di Messer Marco Polo\n",
      "http://edizionicafoscari.unive.it/it/edizioni/libri/978-88-6969-00-06/giovanni-battista-ramusio/\n",
      "2015\n",
      "\n",
      "\n",
      "Edition des rapports du Militärbefehlshaber Frankreich et des Synthèses des rapports des préfets, 1940-1944 / Edition der Lageberichte des Militärbefehlshabers Frankreich und der Synthesen der Berichte der französischen Präfekten, 1940-1944\n",
      "http://www.ihtp.cnrs.fr/prefets/\n",
      "2006\n",
      "\n",
      "\n",
      "Reading in the Alps. Private book ownership in the Catholically dominated Central Alps 1750–1800.\n",
      "https://rita.acdh.oeaw.ac.at\n",
      "2017\n",
      "\n",
      "\n",
      "Sammlung Schweizerischer Rechtsquellen online (Portal XML/TEI)\n",
      "https://www.ssrq-sds-fds.ch/online/tei/\n",
      "2018\n",
      "\n",
      "\n",
      "Registers van de Hollandse grafelijkheid 1299-1345\n",
      "http://www.historici.nl/Onderzoek/Projecten/RegistersVanDeHollandseGrafelijkheid1299-1345/index_html\n",
      "2014\n",
      "\n",
      "\n",
      "Registres del'Academie, Juin 1746-Aout 1786\n",
      "http://akademieregistres.bbaw.de/index.html\n",
      "2012\n",
      "\n",
      "\n",
      "Akten der Reichskanzlei. Weimarer Republik\n",
      "http://www.bundesarchiv.de/aktenreichskanzlei/1919-1933/0000/index.html\n",
      "2007\n",
      "\n",
      "\n",
      "Relationen vom russischen Hof - Berichte europäischer Diplomaten, 1690-1730\n",
      "https://quellen.perspectivia.net/de/russische_relationen/start\n",
      "2016\n",
      "\n",
      "\n",
      "Les relations littéraires entre la France et la Hongrie au XXe siècle\n",
      "http://frhu20.iti.btk.mta.hu\n",
      "2016\n",
      "\n",
      "\n",
      "Religiöse Friedenswahrung und Friedensstiftung in Europa (1500-1800): Digitale Quellenedition frühneuzeitlicher Religionsfrieden\n",
      "http://tueditions.ulb.tu-darmstadt.de/e000001/\n",
      "2018\n",
      "\n",
      "\n",
      "Protokoll des Religionskolloquiums in Vilnius am 14. Juni 1585\n",
      "http://diglib.hab.de/edoc/ed000004/start.htm\n",
      "2006\n",
      "\n",
      "\n",
      "Digitale Edition der Briefe Erdmuthe Benignas von Reuß-Ebersdorf (1670-1732)\n",
      "http://erdmuthe.thulb.uni-jena.de\n",
      "2017\n",
      "\n",
      "\n",
      "The Richard Rufus of Cornwall Project\n",
      "http://rrp.stanford.edu\n",
      "2013\n",
      "\n",
      "\n",
      "Ulrich Richental - Die Chronik des Konzils von Konstanz\n",
      "https://edition.mgh.de/001/html/\n",
      "2019\n",
      "\n",
      "\n",
      "Rijmkroniek van Holland (366-1305)\n",
      "http://www.historici.nl/Onderzoek/Projecten/Rijmkroniek\n",
      "2004\n",
      "\n",
      "\n",
      "Rimay János ifjúkori versgyűjteménye\n",
      "https://regi.tankonyvtar.hu/hu/tartalom/tkt/rimay-janos-ifjukori/adatok.html\n",
      "2007\n",
      "\n",
      "\n",
      "Mary Darby Robinson. A Letter to the Women of England, on the Injustice of Mental Subordination (1799)\n",
      "https://romantic-circles.org/editions/robinson/index.html\n",
      "1998\n",
      "\n",
      "\n",
      "Briefe von und an Alexander Rollett 1852-1903\n",
      "http://gams.uni-graz.at/context:rollett\n",
      "2008\n",
      "\n",
      "\n",
      "Roman de la Rose - Digital Surrogates of Medieval Manuscripts\n",
      "https://web.archive.org/web/20080820101548/http://rose.mse.jhu.edu/pages/main_frameset.htm\n",
      "1998\n",
      "\n",
      "\n",
      "Roman Inscriptions of Britain\n",
      "https://romaninscriptionsofbritain.org\n",
      "2014\n",
      "\n",
      "\n",
      "The Model Edition Partnership: The Eleanor Roosevelt Papers\n",
      "https://web.archive.org/web/20160603021404/https://www.gwu.edu/%7Eerpapers/\n",
      "2006\n",
      "\n",
      "\n",
      "The Letters of Christina Rossetti\n",
      "http://rotunda.upress.virginia.edu/crossetti/\n",
      "2006\n",
      "\n",
      "\n",
      "The Complete Writings and Pictures of Dante Gabriel Rossetti - A Hypermedia Archive\n",
      "http://jefferson.village.virginia.edu/rossetti\n",
      "2000\n",
      "\n",
      "\n",
      "Rostocker Urgichten des 16. Jahrhunderts in Fällen von Zauberei und Hexerei. Digitale Methoden und Lehrkonzepte auf der Testbank\n",
      "https://opendata.uni-halle.de/handle/1981185920/13873\n",
      "2019\n",
      "\n",
      "\n",
      "Une nouvelle édition du *Rotulus de denariis*\n",
      "https://journals.openedition.org/tabularia/2569?lang=en\n",
      "2007\n",
      "\n",
      "\n",
      "Quellen und Dokumente zu Leben, Werk und literarischen Bezügen des Malers, Unternehmers und Diplomaten Peter Paul Rubens (1577-1640)\n",
      "http://diglib.hab.de/edoc/ed000083/startx.htm\n",
      "2011\n",
      "\n",
      "\n",
      "The Collected Letters of Bertrand Russell: An Electronic Edition\n",
      "http://www.humanities.mcmaster.ca/~russell/brletters.htm\n",
      "2006\n",
      "\n",
      "\n",
      "Die Heidelberger Bilderhandschrift des Sachsenspiegels\n",
      "https://web.archive.org/web/20070609201827/http://www.winter-verlag-hd.de/programm/ucw/Rechtswissenschaft/body_rechtswissenschaft.html\n",
      "2003\n",
      "\n",
      "\n",
      "Sachsenspiegel Online\n",
      "http://www.sachsenspiegel-online.de/cms/\n",
      "2004\n",
      "\n",
      "\n",
      "Édition électronique des chartes de l’abbaye de Saint-Denis\n",
      "http://saint-denis.enc.sorbonne.fr/\n",
      "2010\n",
      "\n",
      "\n",
      "Restauration de l'église Saint-Germain-des-Prés\n",
      "http://elec.enc.sorbonne.fr/saintgermaindespres/\n",
      "2015\n",
      "\n",
      "\n",
      "Le sanctoral du lectionnaire de l'office dominicain (1254-1256)\n",
      "http://elec.enc.sorbonne.fr/sanctoral/\n",
      "2008\n",
      "\n",
      "\n",
      "Joachim von Sandrart: Teutsche Academie der Bau-, Bild- und Mahlerey-Künste, Nürnberg 1675/1679/1680\n",
      "http://ta.sandrart.net/de/\n",
      "2008\n",
      "\n",
      "\n",
      "The Model Edition Partnership: Margaret Sanger and *The Woman Rebel*\n",
      "http://modeleditions.blackmesatech.com/mep/MS/docs/ms-table.html\n",
      "1999\n",
      "\n",
      "\n",
      "The Speeches and Articles of Margaret Sanger, 1911-1959: A Digital Edition\n",
      "http://sangerpapers.org/documents/aboutedition.php\n",
      "2015\n",
      "\n",
      "\n",
      "Edizione digitale dei documenti dell'abbazia di S. Maria della Grotta di Vitulano (BN). 1200-1250\n",
      "https://www.monasterium.net/mom/SMG1200-1250/collection\n",
      "2018\n",
      "\n",
      "\n",
      "Sappho’s Poems\n",
      "http://inamidst.com/stuff/sappho/\n",
      "2008\n",
      "\n",
      "\n",
      "Briefwechsel Sauer - Seuffert\n",
      "http://sauer-seuffert.onb.ac.at\n",
      "2015\n",
      "\n",
      "\n",
      "Die Schatullrechnungen Friedrichs des Großen\n",
      "https://quellen.perspectivia.net/de/schatullrechnungen/start\n",
      "2011\n",
      "\n",
      "\n",
      "Schenker Documents Online\n",
      "http://www.schenkerdocumentsonline.org/index.html\n",
      "2010\n",
      "\n",
      "\n",
      "Georg Wilhelm Schimper. In Abyssinia. Observations on Tigre.\n",
      "http://exist.ghil.ac.uk:8079/Schimper/index.html\n",
      "2015\n",
      "\n",
      "\n",
      "Digitale Edition der Korrespondenz August Wilhelm Schlegels\n",
      "http://august-wilhelm-schlegel.de/\n",
      "2014\n",
      "\n",
      "\n",
      "schleiermacher digital: Briefwechsel, Tageskalender, Vorlesungen von Friedrich Schleiermacher 1808–1834\n",
      "https://schleiermacher-digital.de\n",
      "2020\n",
      "\n",
      "\n",
      "Arthur Schnitzler - Digitale historisch-kritische Edition (Werke 1905 bis 1931)\n",
      "https://www.arthur-schnitzler.de/\n",
      "2018\n",
      "\n",
      "\n",
      "Arthur Schnitzler: Briefwechsel mit Autorinnen und Autoren. Digitale Edition\n",
      "https://schnitzler-briefe.acdh.oeaw.ac.at/\n",
      "2020\n",
      "\n",
      "\n",
      "\"Fräulein Else\" multimedial - Arthur Schnitzlers Novelle und ihre Adaptionen (1923-2013)\n",
      "http://www.else.uni-wuppertal.de/index.html\n",
      "2017\n",
      "\n",
      "\n",
      "Arthur Schnitzler: Tagebuch. Digitale Edition.\n",
      "https://schnitzler-tagebuch.acdh.oeaw.ac.at/pages/index.html\n",
      "2019\n",
      "\n",
      "\n",
      "Schopenhauer's Library *Annotations and marks in his Spanish books*\n",
      "http://schopenhauer.uni.wroc.pl\n",
      "2017\n",
      "\n",
      "\n",
      "The Olive Schreiner Letters Online\n",
      "https://www.oliveschreiner.org\n",
      "2012\n",
      "\n",
      "\n",
      "Hugo Schuchardt Archiv - Korrespondenz\n",
      "http://schuchardt.uni-graz.at/korrespondenz/einleitung\n",
      "2004\n",
      "\n",
      "\n",
      "The revised Dred Scott Case Collection\n",
      "http://digital.wustl.edu/d/dre/index.html\n",
      "2007\n",
      "\n",
      "\n",
      "Madelaine et Georges de Scudéry: Artamène ou le Grand Cyrus\n",
      "http://www.artamene.org/\n",
      "2002\n",
      "\n",
      "\n",
      "Secrets of Craft and Nature in Renaissance France. A Digital Critical Edition and English Translation of BnF Ms. Fr. 640\n",
      "https://edition640.makingandknowing.org/#/\n",
      "2020\n",
      "\n",
      "\n",
      "Mitteldeutsche Selbstzeugnisse der Zeit des Dreißigjährigen Krieges\n",
      "http://www.mdsz.thulb.uni-jena.de/sz/index.php\n",
      "2008\n",
      "\n",
      "\n",
      "Selbstzeugnisse der Frühen Neuzeit in der Herzog August Bibliothek. Digitale Edition des Diariums von Herzog August dem Jüngeren.\n",
      "http://selbstzeugnisse.hab.de/edition/\n",
      "2015\n",
      "\n",
      "\n",
      "Johann Christian Senckenberg (1707–1772): Digitale Edition der Tagebücher\n",
      "http://senckenberg.ub.uni-frankfurt.de\n",
      "2010\n",
      "\n",
      "\n",
      "Sermones.net: Édition électronique d'un corpus de sermons latins médiévaux\n",
      "http://www.sermones.net\n",
      "2011\n",
      "\n",
      "\n",
      "Johannes Serranus' Dictionarium Latinogermanicum\n",
      "http://diglib.hab.de/edoc/ed000215/start.htm\n",
      "2015\n",
      "\n",
      "\n",
      "The Arden Shakespeare CD-ROM\n",
      "http://purl.oclc.org/emls/04-2/rev_siem.html\n",
      "1997\n",
      "\n",
      "\n",
      "The (New) Internet Shakespeare Editions\n",
      "http://internetshakespeare.uvic.ca/index.html\n",
      "1996\n",
      "\n",
      "\n",
      "The Shakespeare Quartos Archive\n",
      "https://wayback.archive-it.org/org-467/20191016094633/http://quartos.org/\n",
      "2004\n",
      "\n",
      "\n",
      "The Shelley-Godwin Archive\n",
      "http://shelleygodwinarchive.org/\n",
      "2013\n",
      "\n",
      "\n",
      "Mary Shelley: The Last Man (1826)\n",
      "https://romantic-circles.org/editions/mws/lastman/index.html\n",
      "1997\n",
      "\n",
      "\n",
      "Percy Bysshe Shelley. On the Medusa of Leonardo da Vinci in the Florentine Gallery (1819)\n",
      "https://romantic-circles.org/editions/shelley/medusa/index.html\n",
      "1997\n",
      "\n",
      "\n",
      "Mary Shelley. The Mortal Immortal (1833)\n",
      "https://romantic-circles.org/editions/mws/immortal/index.html\n",
      "1997\n",
      "\n",
      "\n",
      "Percy Bysshe Shelley. The Devil's Walk (1812)\n",
      "https://romantic-circles.org/editions/shelley/devil/index.html\n",
      "1997\n",
      "\n",
      "\n",
      "Journal of Emily Shore: Revised and Expanded\n",
      "https://rotunda.upress.virginia.edu/EmilyShore/make-page.xqy\n",
      "2006\n",
      "\n",
      "\n",
      "The Sibley Watson Digital Archive\n",
      "https://dslab.lib.rochester.edu/esw/\n",
      "2018\n",
      "\n",
      "\n",
      "siddham - The South Asia Inscriptions Database\n",
      "http://siddham.uk/\n",
      "2017\n",
      "\n",
      "\n",
      "Urkundenbuch zur Geschichte der Deutschen in Siebenbürgen\n",
      "http://siebenbuergenurkundenbuch.uni-trier.de/\n",
      "2012\n",
      "\n",
      "\n",
      "Codex Sinaiticus\n",
      "http://codexsinaiticus.org/en/\n",
      "2007\n",
      "\n",
      "\n",
      "Scholarly Digital Editions of Slovenian Literature\n",
      "http://nl.ijs.si/e-zrc/index-en.html\n",
      "2004\n",
      "\n",
      "\n",
      "The Works of Charlotte Smith - An Electronic Edition\n",
      "https://cdrhsites.unl.edu/ctsmithsite\n",
      "2006\n",
      "\n",
      "\n",
      "Songs of the Victorians\n",
      "http://www.songsofthevictorians.com/\n",
      "2012\n",
      "\n",
      "\n",
      "The Collected Letters of Robert Southey - Part One (1791-1797)\n",
      "https://romantic-circles.org/editions/southey_letters/Part_One/index.html\n",
      "2009\n",
      "\n",
      "\n",
      "The Collected Letters of Robert Southey - Part Two (1798-1803)\n",
      "https://romantic-circles.org/editions/southey_letters/Part_Two/index.html\n",
      "2011\n",
      "\n",
      "\n",
      "The Collected Letters of Robert Southey - Part Three (1804-1809)\n",
      "https://romantic-circles.org/editions/southey_letters/Part_Three/index.html\n",
      "2013\n",
      "\n",
      "\n",
      "The Collected Letters of Robert Southey - Part Four (1810-1815)\n",
      "https://romantic-circles.org/editions/southey_letters/Part_Four/index.html\n",
      "2013\n",
      "\n",
      "\n",
      "The Collected Letters of Robert Southey - Part Five (1816-1818)\n",
      "https://romantic-circles.org/editions/southey_letters/Part_Five/index.html\n",
      "2016\n",
      "\n",
      "\n",
      "The Collected Letters of Robert Southey - Part Six (1819-1821)\n",
      "https://romantic-circles.org/editions/southey_letters/Part_Six/index.html\n",
      "2017\n",
      "\n",
      "\n",
      "Robert Southey and Milleniarianism: Documents Concerning the Prophetic Movements of the Romantic Era\n",
      "https://romantic-circles.org/editions/southey_prophecy\n",
      "2012\n",
      "\n",
      "\n",
      "Robert Southey: Wat Tyler. A Dramatic Poem\n",
      "https://romantic-circles.org/editions/wattyler/\n",
      "2004\n",
      "\n",
      "\n",
      "Die Ausgabenbücher der Kaufmannsfamilie Spängler von 1733 bis 1785\n",
      "https://www.spaengler-haushaltsbuecher.at\n",
      "2020\n",
      "\n",
      "\n",
      "Spohr Briefe\n",
      "http://www.spohr-briefe.de\n",
      "2019\n",
      "\n",
      "\n",
      "St. Gall Monatery Plan - Codex Sangallensis 1092: Content and Context\n",
      "http://www.stgallplan.org/\n",
      "2007\n",
      "\n",
      "\n",
      "Die Protokolle des Bayerischen Staatsrats 1799 bis 1817\n",
      "http://www.bayerischer-staatsrat.de\n",
      "2008\n",
      "\n",
      "\n",
      "Stammbuch der Walpurgisherren und Bierrufer\n",
      "http://walpurgisherren.editionenportal.de/index.php?id=449\n",
      "2019\n",
      "\n",
      "\n",
      "The Elizabeth Cady Stanton and Susan B. Anthony Papers Project\n",
      "https://web.archive.org/web/20090103204623/http://adh.sc.edu/sa/sa-table.html\n",
      "2000\n",
      "\n",
      "\n",
      "Die Stapfer-Enquête. Edition der Helvetischen Schulumfrage von 1799\n",
      "http://www.stapferenquete.ch\n",
      "2015\n",
      "\n",
      "\n",
      "Josef Staribacher – Tagebücher\n",
      "https://staribacher.acdh.oeaw.ac.at/\n",
      "2019\n",
      "\n",
      "\n",
      "Die DDR im Blick der Stasi. Die geheimen Berichte an die SED-Führung\n",
      "http://www.ddr-im-blick.de/\n",
      "2013\n",
      "\n",
      "\n",
      "Stationers’ Register Online\n",
      "https://stationersregister.online\n",
      "2011\n",
      "\n",
      "\n",
      "Digital Statius: The Achilleid\n",
      "https://achilleid.unige.ch/welcome\n",
      "2019\n",
      "\n",
      "\n",
      "Statuti di Vicenza del 1264\n",
      "http://vicenza.statutacommunis.org/\n",
      "2006\n",
      "\n",
      "\n",
      "Les Manuscrits de Stendhal\n",
      "http://stendhal.demarre-shs.fr/\n",
      "2009\n",
      "\n",
      "\n",
      "Sterling Family Papers\n",
      "http://www.lib.umd.edu/dcr/collections/sterling/index.jsp\n",
      "2004\n",
      "\n",
      "\n",
      "Tristram Shandy Web [Laurence Sterne]\n",
      "http://www.tristramshandyweb.it\n",
      "2000\n",
      "\n",
      "\n",
      "Internet-Edition der Handschriften zu Adalbert Stifters \"Witiko\"\n",
      "https://www.uibk.ac.at/germanistik/stifter/witiko/\n",
      "1999\n",
      "\n",
      "\n",
      "The 1916 Diary of Dorothy Stopford Price\n",
      "https://dh.tcd.ie/pricediary/\n",
      "2014\n",
      "\n",
      "\n",
      "Die Helvetische Strassenenquête. Eine zentrale Quelle für Verkehrsgeschichte. Quellen, Transkriptionen, Kommentare, interaktive Karten\n",
      "http://www.strassenenquete.ch\n",
      "2019\n",
      "\n",
      "\n",
      "Kritische Ausgabe der Werke von Richard Strauss - Online-Plattform\n",
      "http://www.richard-strauss-ausgabe.de\n",
      "2016\n",
      "\n",
      "\n",
      "Stijn Streuvels: De teleurgang van den Waterhoek (The decline of the Waterhoek)\n",
      "http://web.archive.org/web/20111221024740/http://www.kantl.be:80/ctb/vanhoutte/projects/teleurgang.htm\n",
      "2000\n",
      "\n",
      "\n",
      "Streuvels en zijn uitgevers. De brieven.\n",
      "http://edities.kantl.be/streuvels/\n",
      "2014\n",
      "\n",
      "\n",
      "An electronic edition of John Strype's \"A SURVEY OF THE CITIES OF London and Westminster\"\n",
      "https://www.dhi.ac.uk/strype/\n",
      "2007\n",
      "\n",
      "\n",
      "Der Sturm - Digitale Quellenedition zur Geschichte der internationalen Avantgarde\n",
      "https://sturm-edition.de/\n",
      "2018\n",
      "\n",
      "\n",
      "Suda On Line: Byzantine Lexicography\n",
      "http://www.stoa.org/sol/\n",
      "2000\n",
      "\n",
      "\n",
      "Travels into Several Remote Nations of the World by Lemuel Gulliver - or: Gulliver's Travels by Jonathan Swift\n",
      "http://web.archive.org/web/20100313025726/http://www.jaffebros.com/lee/gulliver/index.html\n",
      "1998\n",
      "\n",
      "\n",
      "Online.Swift\n",
      "https://www.online-swift.de/index.html\n",
      "2011\n",
      "\n",
      "\n",
      "The Algernon Charles Swinburne Project\n",
      "http://swinburnearchive.indiana.edu/swinburne/\n",
      "1997\n",
      "\n",
      "\n",
      "Digitale Edition und Kommentierung der Tagebücher des Fürsten Christian II. von Anhalt-Bernburg (1599-1656)\n",
      "http://www.tagebuch-christian-ii-anhalt.de/\n",
      "2016\n",
      "\n",
      "\n",
      "Bichitra: Online Tagore Variorum\n",
      "http://bichitra.jdvu.ac.in/index.php\n",
      "2011\n",
      "\n",
      "\n",
      "The Correspondence of William Henry Fox Talbot\n",
      "http://foxtalbot.dmu.ac.uk/\n",
      "1999\n",
      "\n",
      "\n",
      "Teatro de Autores Portugueses do Séc. XVI\n",
      "http://www.cet-e-quinhentos.com\n",
      "2010\n",
      "\n",
      "\n",
      "Teatro de Autores Portugueses do Séc. XVII\n",
      "http://www.cet-e-seiscentos.com\n",
      "2010\n",
      "\n",
      "\n",
      "A Facsimile Edition of Terence's Comedies\n",
      "\n",
      "2011\n",
      "\n",
      "\n",
      "Édition des testaments enregistrés au parlement de Paris\n",
      "http://corpus.enc.sorbonne.fr/testaments/\n",
      "2012\n",
      "\n",
      "\n",
      "Testaments de guerre de Poilus parisiens (1914-1918): une édition critique\n",
      "http://elec.enc.sorbonne.fr/testaments-de-poilus/\n",
      "2017\n",
      "\n",
      "\n",
      "Le Petit Thalamus de Montpellier\n",
      "http://thalamus.huma-num.fr/index.html\n",
      "2014\n",
      "\n",
      "\n",
      "Thecae: Inventaires mauristes\n",
      "https://www.unicaen.fr/services/puc/sources/maur/accueil\n",
      "2018\n",
      "\n",
      "\n",
      "Thesaurus musicarum italicarum (TMI)\n",
      "http://euromusicology.cs.uu.nl/\n",
      "2000\n",
      "\n",
      "\n",
      "Corpus Thomisticum\n",
      "http://www.corpusthomisticum.org/\n",
      "2000\n",
      "\n",
      "\n",
      "Digital Thoreau\n",
      "http://digitalthoreau.org\n",
      "2014\n",
      "\n",
      "\n",
      "Arkivet, Thorvaldsens Museum\n",
      "http://arkivet.thorvaldsensmuseum.dk\n",
      "2017\n",
      "\n",
      "\n",
      "Die Korrespondenz von Leo von Thun-Hohenstein\n",
      "https://thun-korrespondenz.acdh.oeaw.ac.at\n",
      "2015\n",
      "\n",
      "\n",
      "Verses Transcribed for H. T. by Mary Tighe\n",
      "https://romantic-circles.org/editions/tighe_verses\n",
      "2015\n",
      "\n",
      "\n",
      "Johannes Tinctoris: Complete Theoretical Works\n",
      "http://earlymusictheory.org/Tinctoris/#\n",
      "2013\n",
      "\n",
      "\n",
      "A Comprehensive Edition of Tocharian Manuscripts (CEToM)\n",
      "https://www.univie.ac.at/tocharian/\n",
      "2011\n",
      "\n",
      "\n",
      "Ernst Toller - Digitale Briefedition\n",
      "http://www.tolleredition.de/\n",
      "2017\n",
      "\n",
      "\n",
      "Zacharias Topelius Skrifter\n",
      "http://www.topelius.fi\n",
      "2010\n",
      "\n",
      "\n",
      "Das Große Tucherbuch\n",
      "https://www.nuernberg.de/internet/stadtarchiv/publikationen_einzeln_tucherbuch.html\n",
      "2004\n",
      "\n",
      "\n",
      "Mark Twain Project Online\n",
      "http://marktwainproject.org\n",
      "2007\n",
      "\n",
      "\n",
      "The Mark Twain Papers & Project / Mark Twain Project Online\n",
      "http://bancroft.berkeley.edu/MTP/\n",
      "2002\n",
      "\n",
      "\n",
      "Mark Twain in His Times\n",
      "http://etext.lib.virginia.edu/railton/index2.html\n",
      "1996\n",
      "\n",
      "\n",
      "The Siege of Gibraltar & Miscellaneous Pieces: The Works of Catherine Upton\n",
      "https://romantic-circles.org/editions/upton/index.html\n",
      "2017\n",
      "\n",
      "\n",
      "Urfehdebücher der Stadt Basel – digitale Edition\n",
      "http://gams.uni-graz.at/context:ufbas\n",
      "2017\n",
      "\n",
      "\n",
      "Urkundenbuch der Steiermark. Band I: Von den Anfängen bis 1192\n",
      "http://gams.uni-graz.at/collection:stub\n",
      "2007\n",
      "\n",
      "\n",
      "The annotated Utrecht Psalter\n",
      "http://psalter.library.uu.nl\n",
      "2015\n",
      "\n",
      "\n",
      "Utrechtse Kronieken\n",
      "http://www.utrechtsekronieken.nl\n",
      "2015\n",
      "\n",
      "\n",
      "Vincent van Gogh - The Letters\n",
      "http://vangoghletters.org/vg/\n",
      "2012\n",
      "\n",
      "\n",
      "Van Nu en Straks. De Brieven\n",
      "http://vnsbrieven.org\n",
      "2011\n",
      "\n",
      "\n",
      "Lope de Vega - La Dama Boba - EDICIÓN CRÍTICA Y ARCHIVO DIGITAL\n",
      "http://damaboba.unibo.it/index.html\n",
      "2015\n",
      "\n",
      "\n",
      "Heinrich von Veldeke – Eneasroman\n",
      "na\n",
      "2003\n",
      "\n",
      "\n",
      "The Digital Vercelli Book\n",
      "http://vbd.humnet.unipi.it/\n",
      "2013\n",
      "\n",
      "\n",
      "A Facsimile Edition of the Vernon Manuscript\n",
      "\n",
      "2011\n",
      "\n",
      "\n",
      "Verse Miscellanies Online - Printed Poetry Collections of the Sixteenth and Seventeenth Centuries\n",
      "http://versemiscellaniesonline.bodleian.ox.ac.uk/\n",
      "2011\n",
      "\n",
      "\n",
      "Andreas Vesalius: De Humani Corporis Fabrica\n",
      "http://vesalius.northwestern.edu/\n",
      "2003\n",
      "\n",
      "\n",
      "Vespasiano da Bisticci: Lettere\n",
      "http://vespasianodabisticciletters.unibo.it/index.html\n",
      "2013\n",
      "\n",
      "\n",
      "Bases Textuelles de l'Atelier Vincent de Beauvais\n",
      "http://atilf.atilf.fr/bichard/\n",
      "2004\n",
      "\n",
      "\n",
      "Vindolanda Tablets Online\n",
      "http://vindolanda.csad.ox.ac.uk/\n",
      "2001\n",
      "\n",
      "\n",
      "Volkssprachige Originalurkunden aus Metzer Archiven bis zum Jahr 1270 – Elektronische Edition\n",
      "http://www.rmnet.uni-trier.de/cgi-bin/RMnetIndex.tcl?hea=qf&for=qpitzreg\n",
      "2005\n",
      "\n",
      "\n",
      "Walewein ende Keye\n",
      "http://www.waleweinendekeye.huygens.knaw.nl/path/home\n",
      "2011\n",
      "\n",
      "\n",
      "Regensburger Wappen- und Porträtbücher\n",
      "http://www-gewi.uni-graz.at/cocoon/rpb/\n",
      "2012\n",
      "\n",
      "\n",
      "The Papers of George Washington Digital Edition\n",
      "https://rotunda.upress.virginia.edu/founders/GEWN.html\n",
      "2007\n",
      "\n",
      "\n",
      "The Harry Watkins Diary: Digital Edition\n",
      "https://quod.lib.umich.edu/h/hwatkins/\n",
      "2018\n",
      "\n",
      "\n",
      "Carl-Maria-von-Weber-Gesamtausgabe (WeGA) [Digitale Präsentation]\n",
      "http://www.weber-gesamtausgabe.de/de/Index\n",
      "2011\n",
      "\n",
      "\n",
      "The Papers of Daniel Webster Digital Edition\n",
      "https://rotunda.upress.virginia.edu/founders/WBST.html\n",
      "2018\n",
      "\n",
      "\n",
      "Die autobiographischen Aufzeichnungen Hermann Weinsbergs\n",
      "http://www.weinsberg.uni-bonn.de/\n",
      "2002\n",
      "\n",
      "\n",
      "The Wellington Valley Project\n",
      "https://downloads.newcastle.edu.au/library/cultural%20collections/the-wellington-valley-project/\n",
      "2002\n",
      "\n",
      "\n",
      "Welscher Gast Digital\n",
      "http://digi.ub.uni-heidelberg.de/wgd/\n",
      "2015\n",
      "\n",
      "\n",
      "The Correspondence of James McNeill Whistler\n",
      "http://www.whistler.arts.gla.ac.uk/\n",
      "2003\n",
      "\n",
      "\n",
      "The Walt Whitman Archive\n",
      "https://whitmanarchive.org/index.html\n",
      "1995\n",
      "\n",
      "\n",
      "[Walt Whitman:] Crossing Brookly Ferry\n",
      "http://msr-archives.rutgers.edu/CBF/\n",
      "2008\n",
      "\n",
      "\n",
      "Wiener Grundbücher - Digitale Edition\n",
      "https://grundbuecher.acdh.oeaw.ac.at\n",
      "2019\n",
      "\n",
      "\n",
      "The Life of Saint Wilfrid by Edmer of Canterbury\n",
      "http://www.evellum.com/index.php?page=shop.product_details&flypage=flypage.tpl&product_id=3&category_id=1&option=com_virtuemart&Itemid=224\n",
      "1998\n",
      "\n",
      "\n",
      "Wilhelmine von Bayreuth: Briefe über ihre Reise nach Frankreich und Italien 1754/1755\n",
      "https://quellen.perspectivia.net/de/wilhelmine/start\n",
      "2019\n",
      "\n",
      "\n",
      "Edward Ellerker Williams: Sporting Sketches during a Short Stay in Hindustane (1814)\n",
      "https://romantic-circles.org/editions/sketches/index.html\n",
      "2002\n",
      "\n",
      "\n",
      "The Papers of Woodrow Wilson Digital Edition.\n",
      "https://rotunda.upress.virginia.edu/founders/WILS.html\n",
      "2017\n",
      "\n",
      "\n",
      "Wittgenstein's Nachlass - The Bergen Electronic Edition (BEE)\n",
      "http://wab.aksis.uib.no/wab_BEE.page\n",
      "1998\n",
      "\n",
      "\n",
      "Wittgenstein Source\n",
      "http://www.wittgensteinsource.org/\n",
      "2015\n",
      "\n",
      "\n",
      "Adam Wodeham - Editio Critica Electronica Ordinationis Oxoniensis\n",
      "https://web.archive.org/web/20170610090514/http://adamwodeham.org/text/questions/wodehamordinatio\n",
      "2013\n",
      "\n",
      "\n",
      "The Woodman Diary\n",
      "https://web.archive.org/web/20190919170943/http://dhprojects.maynoothuniversity.ie:80/woodman\n",
      "2015\n",
      "\n",
      "\n",
      "Woolf Online\n",
      "http://www.woolfonline.com/\n",
      "2013\n",
      "\n",
      "\n",
      "From Goslar to Grasmere. William Wordsworth: Electronic Manuscripts\n",
      "http://collections.wordsworth.org.uk/GtoG/home.asp?page=FrontPage\n",
      "2008\n",
      "\n",
      "\n",
      "William Wordsworth's Guide to the Lakes\n",
      "https://romantic-circles.org/editions/guide_lakes\n",
      "2015\n",
      "\n",
      "\n",
      "Georg Büchner: Woyzeck. Faksimile, Transkription, Emendation und Lesetext\n",
      "\n",
      "2002\n",
      "\n",
      "\n",
      "Wschowska księga grodzka, 1495-1526\n",
      "https://atlas.ihpan.edu.pl/gis/agad_wschowa_i2_pub/index.php\n",
      "2018\n",
      "\n",
      "\n",
      "Wulf & Eadwacer\n",
      "https://web.archive.org/web/20061207211321/http://www.wmich.edu:80/medieval/research/rawl/wulf/\n",
      "2001\n",
      "\n",
      "\n",
      "The Electronic [Wulfstan's] Sermo Lupi ad Anglos\n",
      "http://web.archive.org/web/20090214003757/http://english3.fsu.edu:80/~wulfstan/\n",
      "1996\n",
      "\n",
      "\n",
      "Wulfstan's Eschatological Homilies\n",
      "http://webpages.ursinus.edu/jlionarons/wulfstan/Wulfstan.html\n",
      "2000\n",
      "\n",
      "\n",
      "The Yellow Nineties Online\n",
      "http://www.1890s.ca\n",
      "2012\n",
      "\n",
      "\n",
      "Der Zürcher Sommer 1968: Die digitale Edition\n",
      "http://www.cosmov.uzh.ch/edition68.html\n",
      "2008\n",
      "\n",
      "\n",
      "Huldrych Zwingli Briefe: Digitale Texte\n",
      "http://www.irg.uzh.ch/static/zwingli-briefe/\n",
      "2011\n",
      "\n",
      "\n",
      "Древнерусские берестяные грамоты\n",
      "http://gramoty.ru\n",
      "2007\n",
      "\n",
      "\n",
      "Das Kirchenbuch zu Gröben von 1578-1769\n",
      "http://kirchenbuch-groeben.de/\n",
      "2009\n",
      "\n",
      "\n",
      "Digitale Edition der Missa in E-Dur von Simon Sechter\n",
      "http://www.digital-musicology.at/de-at/edi_sechter.html\n",
      "2015\n",
      "\n",
      "\n",
      "Kaiser Leopold I.: Digitale Edition des Sepolcro „Il Sagrifizio d'Abramo“\n",
      "http://www.digital-musicology.at/sagrifizio/de/index.html\n",
      "2016\n",
      "\n",
      "\n",
      "Elizabeth Montagu Correspondence Online\n",
      "http://emco.swansea.ac.uk/edition/introduction/\n",
      "2020\n",
      "\n",
      "\n",
      "*Hortus sanitatis* : Livre IV, *Les Poissons*\n",
      "https://www.unicaen.fr/puc/sources/depiscibus/\n",
      "2013\n",
      "\n",
      "\n",
      "*La nature des dieux* Cicéron\n",
      "https://www.unicaen.fr/puc/sources/ciceron/accueil\n",
      "2019\n",
      "\n",
      "\n",
      "Geoffroi Malaterra: *Histoire du Grand Comte Roger et de son frère Robert Guiscard*\n",
      "https://www.unicaen.fr/puc/sources/malaterra/\n",
      "2016\n",
      "\n",
      "\n"
     ]
    },
    {
     "name": "stdout",
     "output_type": "stream",
     "text": [
      "The Greek Bible in Byzantine Judaism\n",
      "https://www.gbbj.org/\n",
      "2010\n",
      "\n",
      "\n",
      "Hermann Burger: Lokalbericht. Digitale Edition\n",
      "http://www.lokalbericht.ch/\n",
      "2016\n",
      "\n",
      "\n",
      "hallerNet\n",
      "http://www.hallernet.org/\n",
      "2019\n",
      "\n",
      "\n",
      "CTP2 - Canterbury Tales - Textual Communities Edition\n",
      "https://textualcommunities.org/app/community/?id=5aaa517f8d92a41bfffafacc&route=view&document=5d4448772335e070c676ef97&page=5d444867d8f0ec0000133e93\n",
      "2018\n",
      "\n",
      "\n",
      "Controversia et Confessio: Quellenedition zur Bekenntnisbildung und Konfessionalisierung (1548-1580)\n",
      "www.controversia-et-confessio.de/cc-digital/digitale-edition.html\n",
      "2012\n",
      "\n",
      "\n",
      "Johann Wolfgang von Goethe - Briefwechsel mit Friedrich Wilhelm Riemer\n",
      "https://ores.klassik-stiftung.de/ords/f?p=408\n",
      "2020\n",
      "\n",
      "\n",
      "Das Kloster-Tagebuch des Einsiedler Paters Joseph Dietrich, 1670-1704 - Kommentierte Online-Edition\n",
      "http://www.dietrich-edition.unibe.ch/\n",
      "2018\n",
      "\n",
      "\n",
      "Anton Webern Gesamtausgabe: Beispieleditionen ausgewählter Skizzen\n",
      "https://edition.anton-webern.ch/home\n",
      "2020\n",
      "\n",
      "\n",
      "Formulae-Litterae-Chartae: Neuedition der frühmittelalterlichen Formulae\n",
      "https://www.formulae.uni-hamburg.de/edition-und-datenbank.html\n",
      "2020\n",
      "\n",
      "\n",
      "Romualdus Beneventanus: Chronicon\n",
      "http://www1.unipa.it/paolo.monella/romualdus/index.html\n",
      "2020\n",
      "\n",
      "\n",
      "Samuel Hahnemann: Digitale kritische Edition, Krankenjournal DF5\n",
      "https://www.hahnemann-edition.de\n",
      "2020\n",
      "\n",
      "\n",
      "Johann Georg Sulzers Korrespondenzen\n",
      "http://www.sulzer-digital.de/briefe/index.html\n",
      "2020\n",
      "\n",
      "\n",
      "The (De)collected War of the Worlds\n",
      "https://decollected.net/\n",
      "2019\n",
      "\n",
      "\n",
      "Petrus de Ebulo: *De rebus Siculis Carmen*\n",
      "https://eng-bup.unibas.it/library/DH\n",
      "2020\n",
      "\n",
      "\n",
      "Manfredi Potentini Vita Gerardi (BHL 3429) sive Laudatio sancti Gerardi episcopi Potenti\n",
      "https://eng-bup.unibas.it/library/DH\n",
      "2020\n",
      "\n",
      "\n",
      "Giambattista Vico: Orationes. Digital ed. of the ms. XIII B 55 of the National Library of Naples\n",
      "https://eng-bup.unibas.it/library/DH\n",
      "2020\n",
      "\n",
      "\n",
      "Antonio Beccadelli (Panormita), *Alfonsi regis Triumphus - The Triumph of King Alfonso*\n",
      "https://eng-bup.unibas.it/library/DH\n",
      "2021\n",
      "\n",
      "\n",
      "Petrus de Prece, Adhortatio\n",
      "https://eng-bup.unibas.it/library/DH\n",
      "2020\n",
      "\n",
      "\n",
      "Petrus de Prece, Epistolae\n",
      "https://eng-bup.unibas.it/library/DH\n",
      "2020\n",
      "\n",
      "\n",
      "SCRIPTA: Site Caennais de Recherche Informatique et de Publication des Textes Anciens\n",
      "http://www.unicaen.fr/scripta\n",
      "2013\n",
      "\n",
      "\n",
      "Kaiserchronik digital\n",
      "https://doi.org/10.11588/edition.kcd\n",
      "2018\n",
      "\n",
      "\n",
      "Frank Wedekinds Korrespondenz digital\n",
      "https://briefedition.wedekind.h-da.de\n",
      "2015\n",
      "\n",
      "\n",
      "Digitales Archiv zum Rostocker Liederbuch (DARL)\n",
      "http://www.rostocker-liederbuch.de\n",
      "2012\n",
      "\n",
      "\n",
      "The *Chronicle* of Matthew of Edessa\n",
      "https://editions.byzantini.st/ChronicleME/#/\n",
      "2015\n",
      "\n",
      "\n",
      "private voices: The Corpus of American Civil War Letters\n",
      "https://altchive.org/\n",
      "2017\n",
      "\n",
      "\n",
      "Die Ingelheimer Haderbücher\n",
      "https://www.haderbuecher.de/\n",
      "2015\n",
      "\n",
      "\n",
      "Digital Mishnah Project\n",
      "https://editions.erabbinica.org/exist/apps/mishnah/$app/index.html\n",
      "2018\n",
      "\n",
      "\n",
      "Buddhist Stone Sutras in China\n",
      "https://www.stonesutras.org\n",
      "2018\n",
      "\n",
      "\n",
      "The emʀooɴ database: A collection of digital editions\n",
      "http://www.emroon.no/\n",
      "2017\n",
      "\n",
      "\n",
      "Blotius Digital: Digitale Edition des Inventars der Wiener Hofbibliothek (1576)\n",
      "https://edition.onb.ac.at/context:blotius\n",
      "2019\n",
      "\n",
      "\n",
      "Freischütz Digital\n",
      "https://edition.freischuetz-digital.de/\n",
      "2015\n",
      "\n",
      "\n",
      "The Winnifred Eaton Archive\n",
      "https://www.winnifredeatonarchive.org/\n",
      "2020\n",
      "\n",
      "\n",
      "Die Augsburger Baumeisterbücher: Digitale Edition der mittelalterlichen Stadtrechnungen von 1320 bis 1466\n",
      "https://www.augsburger-baumeisterbuecher.de/\n",
      "2017\n",
      "\n",
      "\n",
      "Edition des Briefwechsels zwischen Eduard Spranger und Käthe Hadlich\n",
      "https://editionen.bbf.dipf.de/briefedition-spranger-hadlich/ueber-die-edition\n",
      "2017\n",
      "\n",
      "\n",
      "Karl Wiesinger: Digitale Edition der Tagebücher (1961–1973)\n",
      "http://gams.uni-graz.at/context:wiesinger\n",
      "2020\n",
      "\n",
      "\n",
      "Chronik Aldersbach: Digitale Edition der Chronik des Klosters Aldersbach\n",
      "http://gams.uni-graz.at/context:aled\n",
      "2021\n",
      "\n",
      "\n",
      "Fausto: uma existência digital\n",
      "http://www.faustodigital.com/\n",
      "2016\n",
      "\n",
      "\n",
      "EPICAT - Cartes familiars de Catalunya (segles XVI - XIX)\n",
      "https://epicat.uab.cat/\n",
      "2021\n",
      "\n",
      "\n",
      "Zwischen Theologie, frühmoderner Naturwissenschaft und politischer Korrespondenz: Die sozinianischen Briefwechsel\n",
      "https://sozinianer.de\n",
      "2021\n",
      "\n",
      "\n",
      "Die Protokolle des Bayerischen Staatsrats 1799 bis 1817\n",
      "https://www.bayerischer-staatsrat.de/\n",
      "2012\n",
      "\n",
      "\n",
      "Die Protokolle des Bayerischen Ministerrats 1945-1962 Online\n",
      "https://www.bayerischer-ministerrat.de/\n",
      "2017\n",
      "\n",
      "\n",
      "\"En el ojo del huracán\": Cartas de Ultramar a España, 1823 - Edición digital\n",
      "http://cards-fly.clul.ul.pt/teitok/ultramar/\n",
      "2014\n",
      "\n",
      "\n",
      "Karl Kraus 1933: Dritte Walpurgisnacht\n",
      "https://kraus1933.ace.oeaw.ac.at\n",
      "2019\n",
      "\n",
      "\n",
      "Friedrich Dürrenmatt: Das Stoffe-Projekt\n",
      "https://www.fd-stoffe-online.ch/\n",
      "2021\n",
      "\n",
      "\n",
      "Ein Sermon von Ablass und Gnade: a digital edition\n",
      "https://editions.mml.ox.ac.uk/editions/ablassgnade6/\n",
      "2018\n",
      "\n",
      "\n",
      "Callimachus: Aetia\n",
      "http://dcc.dickinson.edu/callimachus-aetia/preface\n",
      "2016\n",
      "\n",
      "\n",
      "Ubi Erat Lupa – Bilddatenbank zu antiken Steindenkmälern\n",
      "http://lupa.at/\n",
      "2002\n",
      "\n",
      "\n",
      "Exploring Digital Mary Magdalene\n",
      "https://maria-magdalena.ub.uni-freiburg.de/\n",
      "2021\n",
      "\n",
      "\n",
      "Klemperer Online: Tagebücher 1918–1959\n",
      "https://doi.org/10.1515/klemp\n",
      "2019\n",
      "\n",
      "\n",
      "The Elizabeth Gaskell Journal: Digital Edition\n",
      "http://elizabethgaskelljournal.com/index.html\n",
      "2020\n",
      "\n",
      "\n",
      "Digital Mitford: The Mary Russell Mitford Archive\n",
      "https://digitalmitford.org/index.html\n",
      "2013\n",
      "\n",
      "\n",
      "Digital Dinah Craik\n",
      "http://tapasproject.org/node/443\n",
      "2016\n",
      "\n",
      "\n",
      "Cretan Institutional Inscriptions\n",
      "http://cretaninscriptions.vedph.it/\n",
      "2016\n",
      "\n",
      "\n",
      "Gottfried Semper | Der Stil | Digitale Edition\n",
      "https://www.semper-edition.ch/\n",
      "2020\n",
      "\n",
      "\n",
      "Early Holocaust Testimony: Digital edition\n",
      "https://early-testimony.ehri-project.eu/\n",
      "2020\n",
      "\n",
      "\n",
      "Homburger Kur- und Badelisten\n",
      "https://www.lagis-hessen.de/de/klhg\n",
      "2021\n",
      "\n",
      "\n",
      "Etymologiae of Isidore of Seville: a digital scholarly edition\n",
      "https://db.innovatingknowledge.nl/edition/\n",
      "2021\n",
      "\n",
      "\n",
      "O Pasquineiro da Roça: Edição dos Panfletos de Eulálio Motta\n",
      "http://www.eulaliomotta.uefs.br/index.php\n",
      "2013\n",
      "\n",
      "\n",
      "Wiki Leopardi\n",
      "http://wikileopardi.altervista.org\n",
      "2016\n",
      "\n",
      "\n",
      "Netzwerke der Nonnen. Edition und Erschließung der Briefsammlung aus Kloster Lüne (ca. 1460-1555)\n",
      "http://diglib.hab.de/edoc/ed000248/start.htm\n",
      "2016\n",
      "\n",
      "\n",
      "Frühneuzeitliche Geburtsbriefe aus Mainz\n",
      "https://teaching-dhlab.pages.gitlab.rlp.net/geburtsbriefemainz/home/\n",
      "2021\n",
      "\n",
      "\n",
      "Anne Frank Manuscripten\n",
      "https://annefrankmanuscripten.org/\n",
      "2021\n",
      "\n",
      "\n",
      "Philipp Hainhofer: Reiseberichte & Sammlungsbeschreibungen 1594–1636\n",
      "https://hainhofer.hab.de/\n",
      "2020\n",
      "\n",
      "\n",
      "Ahiqar - The Story of Ahiqar in its Syriac and Arabic Tradition\n",
      "https://ahiqar.uni-goettingen.de\n",
      "2021\n",
      "\n",
      "\n",
      "When the Wall Came Down. The Perception of German Reunification in International Diplomatic Documents 1989–1990\n",
      "https://www.dodis.ch/q12\n",
      "2019\n",
      "\n",
      "\n",
      "THOMAS BERNHARD: \"Wittgensteins Neffe\". Kommentierte Edition\n",
      "https://wn.ace.oeaw.ac.at/\n",
      "2021\n",
      "\n",
      "\n",
      "Lettres d'Yves de Chartres\n",
      "http://telma-chartes.irht.cnrs.fr/yves-de-chartres\n",
      "2021\n",
      "\n",
      "\n",
      "Correspondances égyptologiques. Lettres d’Auguste Mariette\n",
      "https://thlebee.github.io/CoEg/\n",
      "2020\n",
      "\n",
      "\n",
      "Keltische Götternamen in den Inschriften der römischen Provinz Germania Inferior\n",
      "https://gams.uni-graz.at/context:fercan\n",
      "2018\n",
      "\n",
      "\n",
      "CoReMA: Cooking Recipes of the Middle Ages\n",
      "https://gams.uni-graz.at/context:corema\n",
      "2020\n",
      "\n",
      "\n",
      "Quellen zur habsburgisch-osmanischen Diplomatie in der Neuzeit – Die Internuntiatur des Johann Rudolf Schmid zum Schwarzenhorn (1649): Reisebericht, Instruktionen, Korrespondenz, Berichte\n",
      "http://gams.uni-graz.at/context:dipko\n",
      "2019\n",
      "\n",
      "\n",
      "Narragonien digital. Digitale Textausgaben von europäischen 'Narrenschiffen' des 15. Jahrhunderts.\n",
      "http://www.narragonien-digital.de\n",
      "2021\n",
      "\n",
      "\n",
      "Notes from Egypt\n",
      "https://notesfromegypt.info/index.html\n",
      "2017\n",
      "\n",
      "\n",
      "The Civil War & Reconstruction Governors of Mississippi Digital Documentary Edition\n",
      "https://cwrgm.org/\n",
      "2021\n",
      "\n",
      "\n",
      "Edizione digitale Lettere di Bellini\n",
      "https://licodemo.ilc.cnr.it/demo/bellini/build/\n",
      "2021\n",
      "\n",
      "\n",
      "Online-Edition der Protokolle der Fraktionen des Deutschen Bundestags\n",
      "https://fraktionsprotokolle.de/\n",
      "2017\n",
      "\n",
      "\n",
      "The Papers of Martin Van Buren\n",
      "http://vanburenpapers.org/\n",
      "2016\n",
      "\n",
      "\n",
      "Dehmel digital\n",
      "https://dehmel-digital.de/\n",
      "2020\n",
      "\n",
      "\n",
      "Alexander von Humboldt: Sämtliche Schriften (Aufsätze, Artikel, Essays). Berner Ausgabe digital\n",
      "https://humboldt.unibe.ch/text\n",
      "2021\n",
      "\n",
      "\n",
      "U.S. Constitutional Convention 1787: Grand Convention at Philadelphia, May to September, 1787, Quill Project 2019 Edition.\n",
      "https://www.quillproject.net/convention/114\n",
      "2019\n",
      "\n",
      "\n",
      "Adams Papers Digital Edition\n",
      "https://www.masshist.org/publications/adams-papers/\n",
      "2022\n",
      "\n",
      "\n",
      "Peter Handke Notizbücher: Digitale Edition\n",
      "https://edition.onb.ac.at/handke-notizbuecher\n",
      "2022\n",
      "\n",
      "\n",
      "Wallace Online\n",
      "http://wallace-online.org/\n",
      "2012\n",
      "\n",
      "\n",
      "GramsciProject\n",
      "http://www.gramsciproject.org/\n",
      "2022\n",
      "\n",
      "\n",
      "Karl Kraus: Rechtsakten der Kanzlei Oskar Samek. Wissenschaftliche Edition\n",
      "https://kraus.wienbibliothek.at/\n",
      "2022\n",
      "\n",
      "\n",
      "Mystische Bücher in der Bibliothek der Kartause Erfurt. Digitale Edition\n",
      "https://making-mysticism.org/edition/1.0/html/\n",
      "2022\n",
      "\n",
      "\n",
      "kleist-digital\n",
      "https://www.kleist-digital.de/\n",
      "2014\n",
      "\n",
      "\n"
     ]
    }
   ],
   "source": [
    "results = bs_content.find_all(\"text\") #find all <text> tags\n",
    "for entry in results:\n",
    "    output = []\n",
    "    title = entry.bibl.title.text #select the title by its tag\n",
    "    title = \" \".join(title.strip().split()) #Some titles have extra whitespaces, this removes them\n",
    "    print(title) #testing\n",
    "    url= entry.bibl.ref.text #again, select urls by the <ref> tag\n",
    "    print(url) #testing\n",
    "    date = (entry.find(type =\"firstPublication\")) #select only dats with the value \"firstPublication\"\n",
    "    year = (entry.bibl.date.get('when')) #select the value of the  \"when\" field - the publication year\n",
    "    print (year) #testing\n",
    "    print('\\n') #add a new line for readability\n",
    "    df.loc[len(df.index)]=(title,url,year)"
   ]
  },
  {
   "cell_type": "code",
   "execution_count": 151,
   "id": "09d652a1",
   "metadata": {},
   "outputs": [
    {
     "data": {
      "text/html": [
       "<div>\n",
       "<style scoped>\n",
       "    .dataframe tbody tr th:only-of-type {\n",
       "        vertical-align: middle;\n",
       "    }\n",
       "\n",
       "    .dataframe tbody tr th {\n",
       "        vertical-align: top;\n",
       "    }\n",
       "\n",
       "    .dataframe thead th {\n",
       "        text-align: right;\n",
       "    }\n",
       "</style>\n",
       "<table border=\"1\" class=\"dataframe\">\n",
       "  <thead>\n",
       "    <tr style=\"text-align: right;\">\n",
       "      <th></th>\n",
       "      <th>title</th>\n",
       "      <th>url</th>\n",
       "      <th>year</th>\n",
       "    </tr>\n",
       "  </thead>\n",
       "  <tbody>\n",
       "    <tr>\n",
       "      <th>0</th>\n",
       "      <td>L’année 1437 dans la pratique de Pierre Christ...</td>\n",
       "      <td>http://elec.enc.sorbonne.fr/christofle/index.html</td>\n",
       "      <td>2016</td>\n",
       "    </tr>\n",
       "    <tr>\n",
       "      <th>1</th>\n",
       "      <td>The Aberdeen Bestiary</td>\n",
       "      <td>http://www.abdn.ac.uk/bestiary</td>\n",
       "      <td>1996</td>\n",
       "    </tr>\n",
       "    <tr>\n",
       "      <th>2</th>\n",
       "      <td>apw - Acta Pacis Westphalicae</td>\n",
       "      <td>http://apw.digitale-sammlungen.de/</td>\n",
       "      <td>2014</td>\n",
       "    </tr>\n",
       "    <tr>\n",
       "      <th>3</th>\n",
       "      <td>Édition numérique des Actes des églises réform...</td>\n",
       "      <td>http://synodes-protestants.symogih.org/index.html</td>\n",
       "      <td>2018</td>\n",
       "    </tr>\n",
       "    <tr>\n",
       "      <th>4</th>\n",
       "      <td>Actes royaux</td>\n",
       "      <td>http://www.cn-telma.fr/actesroyaux/index/</td>\n",
       "      <td>2008</td>\n",
       "    </tr>\n",
       "    <tr>\n",
       "      <th>5</th>\n",
       "      <td>Adams Family Papers - An Electronic Archive</td>\n",
       "      <td>http://www.masshist.org/digitaladams/archive/</td>\n",
       "      <td>2003</td>\n",
       "    </tr>\n",
       "    <tr>\n",
       "      <th>6</th>\n",
       "      <td>The Adams Papers Digital Edition</td>\n",
       "      <td>https://rotunda.upress.virginia.edu/founders/A...</td>\n",
       "      <td>2008</td>\n",
       "    </tr>\n",
       "    <tr>\n",
       "      <th>7</th>\n",
       "      <td>John Quincy Adams Diary</td>\n",
       "      <td>https://www.masshist.org/publications/jqadiari...</td>\n",
       "      <td>2017</td>\n",
       "    </tr>\n",
       "    <tr>\n",
       "      <th>8</th>\n",
       "      <td>The Jane Addams Digital Edition</td>\n",
       "      <td>https://digital.janeaddams.ramapo.edu</td>\n",
       "      <td>2015</td>\n",
       "    </tr>\n",
       "    <tr>\n",
       "      <th>9</th>\n",
       "      <td>The Latin Prose and Poetry of Joseph Addison</td>\n",
       "      <td>http://www.philological.bham.ac.uk/Addison/</td>\n",
       "      <td>1997</td>\n",
       "    </tr>\n",
       "  </tbody>\n",
       "</table>\n",
       "</div>"
      ],
      "text/plain": [
       "                                               title  \\\n",
       "0  L’année 1437 dans la pratique de Pierre Christ...   \n",
       "1                              The Aberdeen Bestiary   \n",
       "2                      apw - Acta Pacis Westphalicae   \n",
       "3  Édition numérique des Actes des églises réform...   \n",
       "4                                       Actes royaux   \n",
       "5        Adams Family Papers - An Electronic Archive   \n",
       "6                   The Adams Papers Digital Edition   \n",
       "7                            John Quincy Adams Diary   \n",
       "8                    The Jane Addams Digital Edition   \n",
       "9       The Latin Prose and Poetry of Joseph Addison   \n",
       "\n",
       "                                                 url  year  \n",
       "0  http://elec.enc.sorbonne.fr/christofle/index.html  2016  \n",
       "1                     http://www.abdn.ac.uk/bestiary  1996  \n",
       "2                 http://apw.digitale-sammlungen.de/  2014  \n",
       "3  http://synodes-protestants.symogih.org/index.html  2018  \n",
       "4          http://www.cn-telma.fr/actesroyaux/index/  2008  \n",
       "5      http://www.masshist.org/digitaladams/archive/  2003  \n",
       "6  https://rotunda.upress.virginia.edu/founders/A...  2008  \n",
       "7  https://www.masshist.org/publications/jqadiari...  2017  \n",
       "8              https://digital.janeaddams.ramapo.edu  2015  \n",
       "9        http://www.philological.bham.ac.uk/Addison/  1997  "
      ]
     },
     "execution_count": 151,
     "metadata": {},
     "output_type": "execute_result"
    }
   ],
   "source": [
    "df.head(10)"
   ]
  },
  {
   "cell_type": "code",
   "execution_count": 182,
   "id": "e35e2247",
   "metadata": {},
   "outputs": [
    {
     "data": {
      "text/plain": [
       "798"
      ]
     },
     "execution_count": 182,
     "metadata": {},
     "output_type": "execute_result"
    }
   ],
   "source": [
    "len(df) #check all entries are now in the dataframe"
   ]
  },
  {
   "cell_type": "code",
   "execution_count": 154,
   "id": "6275f84b",
   "metadata": {},
   "outputs": [],
   "source": [
    "import requests #this will allow us to check html status of the pages"
   ]
  },
  {
   "cell_type": "code",
   "execution_count": 157,
   "id": "c1b90eb3",
   "metadata": {},
   "outputs": [],
   "source": [
    "df['status'] = \"NaN\" #add a new column to the dataframe"
   ]
  },
  {
   "cell_type": "code",
   "execution_count": 177,
   "id": "491f4345",
   "metadata": {},
   "outputs": [
    {
     "data": {
      "text/html": [
       "<div>\n",
       "<style scoped>\n",
       "    .dataframe tbody tr th:only-of-type {\n",
       "        vertical-align: middle;\n",
       "    }\n",
       "\n",
       "    .dataframe tbody tr th {\n",
       "        vertical-align: top;\n",
       "    }\n",
       "\n",
       "    .dataframe thead th {\n",
       "        text-align: right;\n",
       "    }\n",
       "</style>\n",
       "<table border=\"1\" class=\"dataframe\">\n",
       "  <thead>\n",
       "    <tr style=\"text-align: right;\">\n",
       "      <th></th>\n",
       "      <th>title</th>\n",
       "      <th>url</th>\n",
       "      <th>year</th>\n",
       "      <th>status</th>\n",
       "    </tr>\n",
       "  </thead>\n",
       "  <tbody>\n",
       "    <tr>\n",
       "      <th>0</th>\n",
       "      <td>L’année 1437 dans la pratique de Pierre Christ...</td>\n",
       "      <td>http://elec.enc.sorbonne.fr/christofle/index.html</td>\n",
       "      <td>2016</td>\n",
       "      <td>NaN</td>\n",
       "    </tr>\n",
       "    <tr>\n",
       "      <th>1</th>\n",
       "      <td>The Aberdeen Bestiary</td>\n",
       "      <td>http://www.abdn.ac.uk/bestiary</td>\n",
       "      <td>1996</td>\n",
       "      <td>NaN</td>\n",
       "    </tr>\n",
       "    <tr>\n",
       "      <th>2</th>\n",
       "      <td>apw - Acta Pacis Westphalicae</td>\n",
       "      <td>http://apw.digitale-sammlungen.de/</td>\n",
       "      <td>2014</td>\n",
       "      <td>NaN</td>\n",
       "    </tr>\n",
       "    <tr>\n",
       "      <th>3</th>\n",
       "      <td>Édition numérique des Actes des églises réform...</td>\n",
       "      <td>http://synodes-protestants.symogih.org/index.html</td>\n",
       "      <td>2018</td>\n",
       "      <td>NaN</td>\n",
       "    </tr>\n",
       "    <tr>\n",
       "      <th>4</th>\n",
       "      <td>Actes royaux</td>\n",
       "      <td>http://www.cn-telma.fr/actesroyaux/index/</td>\n",
       "      <td>2008</td>\n",
       "      <td>NaN</td>\n",
       "    </tr>\n",
       "    <tr>\n",
       "      <th>...</th>\n",
       "      <td>...</td>\n",
       "      <td>...</td>\n",
       "      <td>...</td>\n",
       "      <td>...</td>\n",
       "    </tr>\n",
       "    <tr>\n",
       "      <th>95</th>\n",
       "      <td>Project CARDS / Project FLY</td>\n",
       "      <td>http://alfclul.clul.ul.pt/cards-fly/index.php</td>\n",
       "      <td>2012</td>\n",
       "      <td>NaN</td>\n",
       "    </tr>\n",
       "    <tr>\n",
       "      <th>96</th>\n",
       "      <td>The Carlyle Letters Online</td>\n",
       "      <td>https://carlyleletters.dukeupress.edu/</td>\n",
       "      <td>2007</td>\n",
       "      <td>NaN</td>\n",
       "    </tr>\n",
       "    <tr>\n",
       "      <th>97</th>\n",
       "      <td>Cartago</td>\n",
       "      <td>http://www.cartago.nl</td>\n",
       "      <td>2005</td>\n",
       "      <td>NaN</td>\n",
       "    </tr>\n",
       "    <tr>\n",
       "      <th>98</th>\n",
       "      <td>The Diary, Correspondence, and Papers of Rober...</td>\n",
       "      <td>http://staging.carter.lib.virginia.edu</td>\n",
       "      <td>2000</td>\n",
       "      <td>NaN</td>\n",
       "    </tr>\n",
       "    <tr>\n",
       "      <th>99</th>\n",
       "      <td>Le Cartulaire de la Seigneurie de Nesle</td>\n",
       "      <td>http://www.cn-telma.fr/nesle/index/</td>\n",
       "      <td>2006</td>\n",
       "      <td>NaN</td>\n",
       "    </tr>\n",
       "  </tbody>\n",
       "</table>\n",
       "<p>100 rows × 4 columns</p>\n",
       "</div>"
      ],
      "text/plain": [
       "                                                title  \\\n",
       "0   L’année 1437 dans la pratique de Pierre Christ...   \n",
       "1                               The Aberdeen Bestiary   \n",
       "2                       apw - Acta Pacis Westphalicae   \n",
       "3   Édition numérique des Actes des églises réform...   \n",
       "4                                        Actes royaux   \n",
       "..                                                ...   \n",
       "95                        Project CARDS / Project FLY   \n",
       "96                         The Carlyle Letters Online   \n",
       "97                                            Cartago   \n",
       "98  The Diary, Correspondence, and Papers of Rober...   \n",
       "99            Le Cartulaire de la Seigneurie de Nesle   \n",
       "\n",
       "                                                  url  year status  \n",
       "0   http://elec.enc.sorbonne.fr/christofle/index.html  2016    NaN  \n",
       "1                      http://www.abdn.ac.uk/bestiary  1996    NaN  \n",
       "2                  http://apw.digitale-sammlungen.de/  2014    NaN  \n",
       "3   http://synodes-protestants.symogih.org/index.html  2018    NaN  \n",
       "4           http://www.cn-telma.fr/actesroyaux/index/  2008    NaN  \n",
       "..                                                ...   ...    ...  \n",
       "95      http://alfclul.clul.ul.pt/cards-fly/index.php  2012    NaN  \n",
       "96             https://carlyleletters.dukeupress.edu/  2007    NaN  \n",
       "97                              http://www.cartago.nl  2005    NaN  \n",
       "98             http://staging.carter.lib.virginia.edu  2000    NaN  \n",
       "99                http://www.cn-telma.fr/nesle/index/  2006    NaN  \n",
       "\n",
       "[100 rows x 4 columns]"
      ]
     },
     "execution_count": 177,
     "metadata": {},
     "output_type": "execute_result"
    }
   ],
   "source": [
    "df.head(100) # quick look"
   ]
  },
  {
   "cell_type": "code",
   "execution_count": 192,
   "id": "cbe90512",
   "metadata": {},
   "outputs": [],
   "source": [
    "def check_url(url): #function to check all urls and report back\n",
    "    try:\n",
    "        request = requests.get(url, verify=False, timeout=10)\n",
    "        print (\"Checked URL \"+ str(url) +\", Status was \"+str(request.status_code))\n",
    "        return request.status_code\n",
    "    except requests.exceptions.RequestException as e: #basic error handling, if no response is receive, continue on\n",
    "        return e"
   ]
  },
  {
   "cell_type": "code",
   "execution_count": 193,
   "id": "be539e5c",
   "metadata": {
    "scrolled": true
   },
   "outputs": [
    {
     "name": "stdout",
     "output_type": "stream",
     "text": [
      "Checked URL http://elec.enc.sorbonne.fr/christofle/index.html, Status was 200\n"
     ]
    },
    {
     "name": "stderr",
     "output_type": "stream",
     "text": [
      "/usr/lib/python3/dist-packages/urllib3/connectionpool.py:1015: InsecureRequestWarning: Unverified HTTPS request is being made to host 'www.abdn.ac.uk'. Adding certificate verification is strongly advised. See: https://urllib3.readthedocs.io/en/latest/advanced-usage.html#ssl-warnings\n",
      "  warnings.warn(\n",
      "/usr/lib/python3/dist-packages/urllib3/connectionpool.py:1015: InsecureRequestWarning: Unverified HTTPS request is being made to host 'www.abdn.ac.uk'. Adding certificate verification is strongly advised. See: https://urllib3.readthedocs.io/en/latest/advanced-usage.html#ssl-warnings\n",
      "  warnings.warn(\n"
     ]
    },
    {
     "name": "stdout",
     "output_type": "stream",
     "text": [
      "Checked URL http://www.abdn.ac.uk/bestiary, Status was 200\n"
     ]
    },
    {
     "name": "stderr",
     "output_type": "stream",
     "text": [
      "/usr/lib/python3/dist-packages/urllib3/connectionpool.py:1015: InsecureRequestWarning: Unverified HTTPS request is being made to host 'apw.digitale-sammlungen.de'. Adding certificate verification is strongly advised. See: https://urllib3.readthedocs.io/en/latest/advanced-usage.html#ssl-warnings\n",
      "  warnings.warn(\n"
     ]
    },
    {
     "name": "stdout",
     "output_type": "stream",
     "text": [
      "Checked URL http://apw.digitale-sammlungen.de/, Status was 200\n",
      "Checked URL http://synodes-protestants.symogih.org/index.html, Status was 200\n"
     ]
    },
    {
     "name": "stderr",
     "output_type": "stream",
     "text": [
      "/usr/lib/python3/dist-packages/urllib3/connectionpool.py:1015: InsecureRequestWarning: Unverified HTTPS request is being made to host 'telma.hypotheses.org'. Adding certificate verification is strongly advised. See: https://urllib3.readthedocs.io/en/latest/advanced-usage.html#ssl-warnings\n",
      "  warnings.warn(\n"
     ]
    },
    {
     "name": "stdout",
     "output_type": "stream",
     "text": [
      "Checked URL http://www.cn-telma.fr/actesroyaux/index/, Status was 404\n"
     ]
    },
    {
     "name": "stderr",
     "output_type": "stream",
     "text": [
      "/usr/lib/python3/dist-packages/urllib3/connectionpool.py:1015: InsecureRequestWarning: Unverified HTTPS request is being made to host 'www.masshist.org'. Adding certificate verification is strongly advised. See: https://urllib3.readthedocs.io/en/latest/advanced-usage.html#ssl-warnings\n",
      "  warnings.warn(\n"
     ]
    },
    {
     "name": "stdout",
     "output_type": "stream",
     "text": [
      "Checked URL http://www.masshist.org/digitaladams/archive/, Status was 200\n"
     ]
    },
    {
     "name": "stderr",
     "output_type": "stream",
     "text": [
      "/usr/lib/python3/dist-packages/urllib3/connectionpool.py:1015: InsecureRequestWarning: Unverified HTTPS request is being made to host 'rotunda.upress.virginia.edu'. Adding certificate verification is strongly advised. See: https://urllib3.readthedocs.io/en/latest/advanced-usage.html#ssl-warnings\n",
      "  warnings.warn(\n"
     ]
    },
    {
     "name": "stdout",
     "output_type": "stream",
     "text": [
      "Checked URL https://rotunda.upress.virginia.edu/founders/ADMS.html, Status was 200\n"
     ]
    },
    {
     "name": "stderr",
     "output_type": "stream",
     "text": [
      "/usr/lib/python3/dist-packages/urllib3/connectionpool.py:1015: InsecureRequestWarning: Unverified HTTPS request is being made to host 'www.masshist.org'. Adding certificate verification is strongly advised. See: https://urllib3.readthedocs.io/en/latest/advanced-usage.html#ssl-warnings\n",
      "  warnings.warn(\n"
     ]
    },
    {
     "name": "stdout",
     "output_type": "stream",
     "text": [
      "Checked URL https://www.masshist.org/publications/jqadiaries/index.php, Status was 200\n"
     ]
    },
    {
     "name": "stderr",
     "output_type": "stream",
     "text": [
      "/usr/lib/python3/dist-packages/urllib3/connectionpool.py:1015: InsecureRequestWarning: Unverified HTTPS request is being made to host 'digital.janeaddams.ramapo.edu'. Adding certificate verification is strongly advised. See: https://urllib3.readthedocs.io/en/latest/advanced-usage.html#ssl-warnings\n",
      "  warnings.warn(\n"
     ]
    },
    {
     "name": "stdout",
     "output_type": "stream",
     "text": [
      "Checked URL https://digital.janeaddams.ramapo.edu, Status was 200\n"
     ]
    },
    {
     "name": "stderr",
     "output_type": "stream",
     "text": [
      "/usr/lib/python3/dist-packages/urllib3/connectionpool.py:1015: InsecureRequestWarning: Unverified HTTPS request is being made to host 'philological.cal.bham.ac.uk'. Adding certificate verification is strongly advised. See: https://urllib3.readthedocs.io/en/latest/advanced-usage.html#ssl-warnings\n",
      "  warnings.warn(\n"
     ]
    },
    {
     "name": "stdout",
     "output_type": "stream",
     "text": [
      "Checked URL http://www.philological.bham.ac.uk/Addison/, Status was 200\n"
     ]
    },
    {
     "name": "stderr",
     "output_type": "stream",
     "text": [
      "/usr/lib/python3/dist-packages/urllib3/connectionpool.py:1015: InsecureRequestWarning: Unverified HTTPS request is being made to host 'libguides.nypl.org'. Adding certificate verification is strongly advised. See: https://urllib3.readthedocs.io/en/latest/advanced-usage.html#ssl-warnings\n",
      "  warnings.warn(\n"
     ]
    },
    {
     "name": "stdout",
     "output_type": "stream",
     "text": [
      "Checked URL http://digital.nypl.org/schomburg/writers_aa19/, Status was 200\n"
     ]
    },
    {
     "name": "stderr",
     "output_type": "stream",
     "text": [
      "/usr/lib/python3/dist-packages/urllib3/connectionpool.py:1015: InsecureRequestWarning: Unverified HTTPS request is being made to host 'romantic-circles.org'. Adding certificate verification is strongly advised. See: https://urllib3.readthedocs.io/en/latest/advanced-usage.html#ssl-warnings\n",
      "  warnings.warn(\n"
     ]
    },
    {
     "name": "stdout",
     "output_type": "stream",
     "text": [
      "Checked URL https://romantic-circles.org/editions/contemps/barbauld/poems1773/, Status was 200\n"
     ]
    },
    {
     "name": "stderr",
     "output_type": "stream",
     "text": [
      "/usr/lib/python3/dist-packages/urllib3/connectionpool.py:1015: InsecureRequestWarning: Unverified HTTPS request is being made to host 'www.mun.ca'. Adding certificate verification is strongly advised. See: https://urllib3.readthedocs.io/en/latest/advanced-usage.html#ssl-warnings\n",
      "  warnings.warn(\n"
     ]
    },
    {
     "name": "stdout",
     "output_type": "stream",
     "text": [
      "Checked URL http://www.mun.ca/alciato/, Status was 200\n",
      "Checked URL http://dalembert.academie-sciences.fr/Correspondance, Status was 200\n"
     ]
    },
    {
     "name": "stderr",
     "output_type": "stream",
     "text": [
      "/usr/lib/python3/dist-packages/urllib3/connectionpool.py:1015: InsecureRequestWarning: Unverified HTTPS request is being made to host 'rmnet.uni-trier.de'. Adding certificate verification is strongly advised. See: https://urllib3.readthedocs.io/en/latest/advanced-usage.html#ssl-warnings\n",
      "  warnings.warn(\n"
     ]
    },
    {
     "name": "stdout",
     "output_type": "stream",
     "text": [
      "Checked URL http://www.rmnet.uni-trier.de/cgi-bin/RMnetIndex.tcl?hea=qf&for=qafranzu, Status was 200\n",
      "Checked URL http://web.archive.org/web/20070530001208/http://www.tei-c.org.uk/Projects/EETS/, Status was 200\n",
      "Checked URL http://web.archive.org/web/20080209001636/http://www.slu.edu/departments/english/chron/index.html, Status was 200\n",
      "Checked URL http://web.archive.org/web/20060828032335/http://www.wmich.edu/medieval/research/rawl/glossary/, Status was 200\n"
     ]
    },
    {
     "name": "stderr",
     "output_type": "stream",
     "text": [
      "/usr/lib/python3/dist-packages/urllib3/connectionpool.py:1015: InsecureRequestWarning: Unverified HTTPS request is being made to host 'cotr.ac.uk'. Adding certificate verification is strongly advised. See: https://urllib3.readthedocs.io/en/latest/advanced-usage.html#ssl-warnings\n",
      "  warnings.warn(\n"
     ]
    },
    {
     "name": "stdout",
     "output_type": "stream",
     "text": [
      "Checked URL https://cotr.ac.uk/guidelines/dynamic-declaration-arbroath/, Status was 200\n",
      "Checked URL http://pietroliuzzo.github.io/Aristodemo/, Status was 200\n"
     ]
    },
    {
     "name": "stderr",
     "output_type": "stream",
     "text": [
      "/usr/lib/python3/dist-packages/urllib3/connectionpool.py:1015: InsecureRequestWarning: Unverified HTTPS request is being made to host 'rotunda.upress.virginia.edu'. Adding certificate verification is strongly advised. See: https://urllib3.readthedocs.io/en/latest/advanced-usage.html#ssl-warnings\n",
      "  warnings.warn(\n"
     ]
    },
    {
     "name": "stdout",
     "output_type": "stream",
     "text": [
      "Checked URL http://rotunda.upress.virginia.edu/arnold/, Status was 200\n",
      "Checked URL http://web.archive.org/web/20131004095227/http://www.uni-bonn.de/~uph202/arnulfinger.shtml, Status was 200\n"
     ]
    },
    {
     "name": "stderr",
     "output_type": "stream",
     "text": [
      "/usr/lib/python3/dist-packages/urllib3/connectionpool.py:1015: InsecureRequestWarning: Unverified HTTPS request is being made to host 'astree.tufts.edu'. Adding certificate verification is strongly advised. See: https://urllib3.readthedocs.io/en/latest/advanced-usage.html#ssl-warnings\n",
      "  warnings.warn(\n"
     ]
    },
    {
     "name": "stdout",
     "output_type": "stream",
     "text": [
      "Checked URL https://astree.tufts.edu/_analyse/accueil.html, Status was 200\n"
     ]
    },
    {
     "name": "stderr",
     "output_type": "stream",
     "text": [
      "/usr/lib/python3/dist-packages/urllib3/connectionpool.py:1015: InsecureRequestWarning: Unverified HTTPS request is being made to host 'www.nls.uk'. Adding certificate verification is strongly advised. See: https://urllib3.readthedocs.io/en/latest/advanced-usage.html#ssl-warnings\n",
      "  warnings.warn(\n"
     ]
    },
    {
     "name": "stdout",
     "output_type": "stream",
     "text": [
      "Checked URL http://www.nls.uk/auchinleck/, Status was 404\n"
     ]
    },
    {
     "name": "stderr",
     "output_type": "stream",
     "text": [
      "/usr/lib/python3/dist-packages/urllib3/connectionpool.py:1015: InsecureRequestWarning: Unverified HTTPS request is being made to host 'bahrschnitzler.acdh.oeaw.ac.at'. Adding certificate verification is strongly advised. See: https://urllib3.readthedocs.io/en/latest/advanced-usage.html#ssl-warnings\n",
      "  warnings.warn(\n"
     ]
    },
    {
     "name": "stdout",
     "output_type": "stream",
     "text": [
      "Checked URL https://bahrschnitzler.acdh.oeaw.ac.at/index.html, Status was 200\n",
      "Checked URL http://magyar-irodalom.elte.hu/gepesk/bbom/cimlap.htm, Status was 200\n"
     ]
    },
    {
     "name": "stderr",
     "output_type": "stream",
     "text": [
      "/usr/lib/python3/dist-packages/urllib3/connectionpool.py:1015: InsecureRequestWarning: Unverified HTTPS request is being made to host 'dohistory.org'. Adding certificate verification is strongly advised. See: https://urllib3.readthedocs.io/en/latest/advanced-usage.html#ssl-warnings\n",
      "  warnings.warn(\n"
     ]
    },
    {
     "name": "stdout",
     "output_type": "stream",
     "text": [
      "Checked URL http://dohistory.org/diary/index.html, Status was 200\n"
     ]
    },
    {
     "name": "stderr",
     "output_type": "stream",
     "text": [
      "/usr/lib/python3/dist-packages/urllib3/connectionpool.py:1015: InsecureRequestWarning: Unverified HTTPS request is being made to host 'bangsbreve.dk'. Adding certificate verification is strongly advised. See: https://urllib3.readthedocs.io/en/latest/advanced-usage.html#ssl-warnings\n",
      "  warnings.warn(\n"
     ]
    },
    {
     "name": "stdout",
     "output_type": "stream",
     "text": [
      "Checked URL https://bangsbreve.dk, Status was 200\n"
     ]
    },
    {
     "name": "stderr",
     "output_type": "stream",
     "text": [
      "/usr/lib/python3/dist-packages/urllib3/connectionpool.py:1015: InsecureRequestWarning: Unverified HTTPS request is being made to host 'lumieres.unil.ch'. Adding certificate verification is strongly advised. See: https://urllib3.readthedocs.io/en/latest/advanced-usage.html#ssl-warnings\n",
      "  warnings.warn(\n",
      "/usr/lib/python3/dist-packages/urllib3/connectionpool.py:1015: InsecureRequestWarning: Unverified HTTPS request is being made to host 'lumieres.unil.ch'. Adding certificate verification is strongly advised. See: https://urllib3.readthedocs.io/en/latest/advanced-usage.html#ssl-warnings\n",
      "  warnings.warn(\n"
     ]
    },
    {
     "name": "stdout",
     "output_type": "stream",
     "text": [
      "Checked URL http://lumieres.unil.ch/projets/barbeyrac, Status was 200\n"
     ]
    },
    {
     "name": "stderr",
     "output_type": "stream",
     "text": [
      "/usr/lib/python3/dist-packages/urllib3/connectionpool.py:1015: InsecureRequestWarning: Unverified HTTPS request is being made to host 'bargheer.edirom.de'. Adding certificate verification is strongly advised. See: https://urllib3.readthedocs.io/en/latest/advanced-usage.html#ssl-warnings\n",
      "  warnings.warn(\n"
     ]
    },
    {
     "name": "stdout",
     "output_type": "stream",
     "text": [
      "Checked URL https://bargheer.edirom.de, Status was 200\n",
      "Checked URL http://bartholomeusengelsman.huygens.knaw.nl/path/, Status was 200\n",
      "Checked URL http://gams.uni-graz.at/context:srbas, Status was 200\n",
      "Checked URL http://www.sd-editions.com/bayeux/index.html, Status was 404\n",
      "Checked URL http://bayle-correspondance.univ-st-etienne.fr/, Status was 200\n"
     ]
    },
    {
     "name": "stderr",
     "output_type": "stream",
     "text": [
      "/usr/lib/python3/dist-packages/urllib3/connectionpool.py:1015: InsecureRequestWarning: Unverified HTTPS request is being made to host 'www.beckettarchive.org'. Adding certificate verification is strongly advised. See: https://urllib3.readthedocs.io/en/latest/advanced-usage.html#ssl-warnings\n",
      "  warnings.warn(\n"
     ]
    },
    {
     "name": "stdout",
     "output_type": "stream",
     "text": [
      "Checked URL http://www.beckettarchive.org/login.html, Status was 200\n"
     ]
    },
    {
     "name": "stderr",
     "output_type": "stream",
     "text": [
      "/usr/lib/python3/dist-packages/urllib3/connectionpool.py:1015: InsecureRequestWarning: Unverified HTTPS request is being made to host 'romantic-circles.org'. Adding certificate verification is strongly advised. See: https://urllib3.readthedocs.io/en/latest/advanced-usage.html#ssl-warnings\n",
      "  warnings.warn(\n"
     ]
    },
    {
     "name": "stdout",
     "output_type": "stream",
     "text": [
      "Checked URL https://romantic-circles.org/editions/beddoes/index.html, Status was 200\n",
      "Checked URL http://www.iath.virginia.edu/utc/, Status was 200\n"
     ]
    },
    {
     "name": "stderr",
     "output_type": "stream",
     "text": [
      "/usr/lib/python3/dist-packages/urllib3/connectionpool.py:1015: InsecureRequestWarning: Unverified HTTPS request is being made to host 'www.loc.gov'. Adding certificate verification is strongly advised. See: https://urllib3.readthedocs.io/en/latest/advanced-usage.html#ssl-warnings\n",
      "  warnings.warn(\n",
      "/usr/lib/python3/dist-packages/urllib3/connectionpool.py:1015: InsecureRequestWarning: Unverified HTTPS request is being made to host 'www.loc.gov'. Adding certificate verification is strongly advised. See: https://urllib3.readthedocs.io/en/latest/advanced-usage.html#ssl-warnings\n",
      "  warnings.warn(\n"
     ]
    },
    {
     "name": "stdout",
     "output_type": "stream",
     "text": [
      "Checked URL http://memory.loc.gov/ammem/bellhtml/bellhome.html, Status was 200\n",
      "Checked URL http://www.benedictus.mgh.de/, Status was 200\n"
     ]
    },
    {
     "name": "stderr",
     "output_type": "stream",
     "text": [
      "/usr/lib/python3/dist-packages/urllib3/connectionpool.py:1015: InsecureRequestWarning: Unverified HTTPS request is being made to host 'www.walter-benjamin.online'. Adding certificate verification is strongly advised. See: https://urllib3.readthedocs.io/en/latest/advanced-usage.html#ssl-warnings\n",
      "  warnings.warn(\n"
     ]
    },
    {
     "name": "stdout",
     "output_type": "stream",
     "text": [
      "Checked URL https://www.walter-benjamin.online/, Status was 200\n",
      "Checked URL http://ebeowulf.uky.edu/, Status was 200\n"
     ]
    },
    {
     "name": "stderr",
     "output_type": "stream",
     "text": [
      "/usr/lib/python3/dist-packages/urllib3/connectionpool.py:1015: InsecureRequestWarning: Unverified HTTPS request is being made to host 'heorot.dk'. Adding certificate verification is strongly advised. See: https://urllib3.readthedocs.io/en/latest/advanced-usage.html#ssl-warnings\n",
      "  warnings.warn(\n"
     ]
    },
    {
     "name": "stdout",
     "output_type": "stream",
     "text": [
      "Checked URL http://www.heorot.dk/, Status was 200\n",
      "Checked URL http://www.berardier.org/, Status was 200\n"
     ]
    },
    {
     "name": "stderr",
     "output_type": "stream",
     "text": [
      "/usr/lib/python3/dist-packages/urllib3/connectionpool.py:1015: InsecureRequestWarning: Unverified HTTPS request is being made to host 'www.berliner-intellektuelle.eu'. Adding certificate verification is strongly advised. See: https://urllib3.readthedocs.io/en/latest/advanced-usage.html#ssl-warnings\n",
      "  warnings.warn(\n"
     ]
    },
    {
     "name": "stdout",
     "output_type": "stream",
     "text": [
      "Checked URL https://www.berliner-intellektuelle.eu, Status was 200\n"
     ]
    },
    {
     "name": "stderr",
     "output_type": "stream",
     "text": [
      "/usr/lib/python3/dist-packages/urllib3/connectionpool.py:1015: InsecureRequestWarning: Unverified HTTPS request is being made to host 'www.ub.unibas.ch'. Adding certificate verification is strongly advised. See: https://urllib3.readthedocs.io/en/latest/advanced-usage.html#ssl-warnings\n",
      "  warnings.warn(\n",
      "/usr/lib/python3/dist-packages/urllib3/connectionpool.py:1015: InsecureRequestWarning: Unverified HTTPS request is being made to host 'ub.unibas.ch'. Adding certificate verification is strongly advised. See: https://urllib3.readthedocs.io/en/latest/advanced-usage.html#ssl-warnings\n",
      "  warnings.warn(\n",
      "/usr/lib/python3/dist-packages/urllib3/connectionpool.py:1015: InsecureRequestWarning: Unverified HTTPS request is being made to host 'ub-mediawiki.ub.unibas.ch'. Adding certificate verification is strongly advised. See: https://urllib3.readthedocs.io/en/latest/advanced-usage.html#ssl-warnings\n",
      "  warnings.warn(\n"
     ]
    },
    {
     "name": "stdout",
     "output_type": "stream",
     "text": [
      "Checked URL http://www.ub.unibas.ch/bernoulli/index.php/Briefe_im_Volltext, Status was 200\n",
      "Checked URL http://www.rth.org.uk/collections/bevan-dewar-letters, Status was 200\n",
      "Checked URL http://www.ambrosebierce.org/, Status was 200\n",
      "Checked URL http://www.blakearchive.org/, Status was 200\n"
     ]
    },
    {
     "name": "stderr",
     "output_type": "stream",
     "text": [
      "/usr/lib/python3/dist-packages/urllib3/connectionpool.py:1015: InsecureRequestWarning: Unverified HTTPS request is being made to host 'romantic-circles.org'. Adding certificate verification is strongly advised. See: https://urllib3.readthedocs.io/en/latest/advanced-usage.html#ssl-warnings\n",
      "  warnings.warn(\n"
     ]
    },
    {
     "name": "stdout",
     "output_type": "stream",
     "text": [
      "Checked URL https://romantic-circles.org/editions/bloomfield_poems/index.html, Status was 200\n"
     ]
    },
    {
     "name": "stderr",
     "output_type": "stream",
     "text": [
      "/usr/lib/python3/dist-packages/urllib3/connectionpool.py:1015: InsecureRequestWarning: Unverified HTTPS request is being made to host 'romantic-circles.org'. Adding certificate verification is strongly advised. See: https://urllib3.readthedocs.io/en/latest/advanced-usage.html#ssl-warnings\n",
      "  warnings.warn(\n"
     ]
    },
    {
     "name": "stdout",
     "output_type": "stream",
     "text": [
      "Checked URL https://romantic-circles.org/editions/bloomfield_letters/index.html, Status was 200\n"
     ]
    },
    {
     "name": "stderr",
     "output_type": "stream",
     "text": [
      "/usr/lib/python3/dist-packages/urllib3/connectionpool.py:1015: InsecureRequestWarning: Unverified HTTPS request is being made to host 'romantic-circles.org'. Adding certificate verification is strongly advised. See: https://urllib3.readthedocs.io/en/latest/advanced-usage.html#ssl-warnings\n",
      "  warnings.warn(\n"
     ]
    },
    {
     "name": "stdout",
     "output_type": "stream",
     "text": [
      "Checked URL https://romantic-circles.org/editions/wye, Status was 200\n"
     ]
    },
    {
     "name": "stderr",
     "output_type": "stream",
     "text": [
      "/usr/lib/python3/dist-packages/urllib3/connectionpool.py:1015: InsecureRequestWarning: Unverified HTTPS request is being made to host 'www.brown.edu'. Adding certificate verification is strongly advised. See: https://urllib3.readthedocs.io/en/latest/advanced-usage.html#ssl-warnings\n",
      "  warnings.warn(\n"
     ]
    },
    {
     "name": "stdout",
     "output_type": "stream",
     "text": [
      "Checked URL https://www.brown.edu/Departments/Italian_Studies/dweb/, Status was 200\n",
      "Checked URL http://rmcisadu.let.uniroma1.it/boccaccio, Status was 200\n",
      "Checked URL http://www.livesandletters.ac.uk/bodley/bodley.html, Status was 200\n",
      "Checked URL http://web.archive.org/web/20120226222144/http://beowulf.engl.uky.edu/~kiernan/eBoethius/inlad.htm, Status was 200\n",
      "Checked URL https://correspondentie-bolland-en-cosijn.huygens.knaw.nl, Status was 403\n"
     ]
    },
    {
     "name": "stderr",
     "output_type": "stream",
     "text": [
      "/usr/lib/python3/dist-packages/urllib3/connectionpool.py:1015: InsecureRequestWarning: Unverified HTTPS request is being made to host 'correspondentie-bolland-en-cosijn.huygens.knaw.nl'. Adding certificate verification is strongly advised. See: https://urllib3.readthedocs.io/en/latest/advanced-usage.html#ssl-warnings\n",
      "  warnings.warn(\n",
      "/usr/lib/python3/dist-packages/urllib3/connectionpool.py:1015: InsecureRequestWarning: Unverified HTTPS request is being made to host 'quellen-perspectivia.net'. Adding certificate verification is strongly advised. See: https://urllib3.readthedocs.io/en/latest/advanced-usage.html#ssl-warnings\n",
      "  warnings.warn(\n",
      "/usr/lib/python3/dist-packages/urllib3/connectionpool.py:1015: InsecureRequestWarning: Unverified HTTPS request is being made to host 'quellen.perspectivia.net'. Adding certificate verification is strongly advised. See: https://urllib3.readthedocs.io/en/latest/advanced-usage.html#ssl-warnings\n",
      "  warnings.warn(\n"
     ]
    },
    {
     "name": "stdout",
     "output_type": "stream",
     "text": [
      "Checked URL http://quellen-perspectivia.net/de/borchward/start, Status was 200\n"
     ]
    },
    {
     "name": "stderr",
     "output_type": "stream",
     "text": [
      "/usr/lib/python3/dist-packages/urllib3/connectionpool.py:1015: InsecureRequestWarning: Unverified HTTPS request is being made to host 'boschdoc.huygens.knaw.nl'. Adding certificate verification is strongly advised. See: https://urllib3.readthedocs.io/en/latest/advanced-usage.html#ssl-warnings\n",
      "  warnings.warn(\n"
     ]
    },
    {
     "name": "stdout",
     "output_type": "stream",
     "text": [
      "Checked URL https://boschdoc.huygens.knaw.nl, Status was 403\n",
      "Checked URL http://bosworthletters.vtcath.org/, Status was 500\n"
     ]
    },
    {
     "name": "stderr",
     "output_type": "stream",
     "text": [
      "/usr/lib/python3/dist-packages/urllib3/connectionpool.py:1015: InsecureRequestWarning: Unverified HTTPS request is being made to host 'www.bovary.fr'. Adding certificate verification is strongly advised. See: https://urllib3.readthedocs.io/en/latest/advanced-usage.html#ssl-warnings\n",
      "  warnings.warn(\n"
     ]
    },
    {
     "name": "stdout",
     "output_type": "stream",
     "text": [
      "Checked URL http://www.bovary.fr/, Status was 200\n",
      "Checked URL http://www.livesandletters.ac.uk/wd/index.html, Status was 200\n"
     ]
    },
    {
     "name": "stderr",
     "output_type": "stream",
     "text": [
      "/usr/lib/python3/dist-packages/urllib3/connectionpool.py:1015: InsecureRequestWarning: Unverified HTTPS request is being made to host 'amesfoundation.law.harvard.edu'. Adding certificate verification is strongly advised. See: https://urllib3.readthedocs.io/en/latest/advanced-usage.html#ssl-warnings\n",
      "  warnings.warn(\n"
     ]
    },
    {
     "name": "stdout",
     "output_type": "stream",
     "text": [
      "Checked URL http://amesfoundation.law.harvard.edu/Bracton/, Status was 200\n"
     ]
    },
    {
     "name": "stderr",
     "output_type": "stream",
     "text": [
      "/usr/lib/python3/dist-packages/urllib3/connectionpool.py:1015: InsecureRequestWarning: Unverified HTTPS request is being made to host 'maybragdon.lib.rochester.edu'. Adding certificate verification is strongly advised. See: https://urllib3.readthedocs.io/en/latest/advanced-usage.html#ssl-warnings\n",
      "  warnings.warn(\n"
     ]
    },
    {
     "name": "stdout",
     "output_type": "stream",
     "text": [
      "Checked URL https://maybragdon.lib.rochester.edu/, Status was 200\n"
     ]
    },
    {
     "name": "stderr",
     "output_type": "stream",
     "text": [
      "/usr/lib/python3/dist-packages/urllib3/connectionpool.py:1015: InsecureRequestWarning: Unverified HTTPS request is being made to host 'www.georgbrandes.dk'. Adding certificate verification is strongly advised. See: https://urllib3.readthedocs.io/en/latest/advanced-usage.html#ssl-warnings\n",
      "  warnings.warn(\n",
      "/usr/lib/python3/dist-packages/urllib3/connectionpool.py:1015: InsecureRequestWarning: Unverified HTTPS request is being made to host 'www.georgbrandes.dk'. Adding certificate verification is strongly advised. See: https://urllib3.readthedocs.io/en/latest/advanced-usage.html#ssl-warnings\n",
      "  warnings.warn(\n"
     ]
    },
    {
     "name": "stdout",
     "output_type": "stream",
     "text": [
      "Checked URL https://www.georgbrandes.dk/, Status was 200\n"
     ]
    },
    {
     "name": "stderr",
     "output_type": "stream",
     "text": [
      "/usr/lib/python3/dist-packages/urllib3/connectionpool.py:1015: InsecureRequestWarning: Unverified HTTPS request is being made to host 'www.univie.ac.at'. Adding certificate verification is strongly advised. See: https://urllib3.readthedocs.io/en/latest/advanced-usage.html#ssl-warnings\n",
      "  warnings.warn(\n",
      "/usr/lib/python3/dist-packages/urllib3/connectionpool.py:1015: InsecureRequestWarning: Unverified HTTPS request is being made to host 'frauenbriefe.univie.ac.at'. Adding certificate verification is strongly advised. See: https://urllib3.readthedocs.io/en/latest/advanced-usage.html#ssl-warnings\n",
      "  warnings.warn(\n"
     ]
    },
    {
     "name": "stdout",
     "output_type": "stream",
     "text": [
      "Checked URL http://www.univie.ac.at/Geschichte/Frauenbriefe/, Status was 200\n"
     ]
    },
    {
     "name": "stderr",
     "output_type": "stream",
     "text": [
      "/usr/lib/python3/dist-packages/urllib3/connectionpool.py:1015: InsecureRequestWarning: Unverified HTTPS request is being made to host 'brieven-correspondenten-1900.huygens.knaw.nl'. Adding certificate verification is strongly advised. See: https://urllib3.readthedocs.io/en/latest/advanced-usage.html#ssl-warnings\n",
      "  warnings.warn(\n"
     ]
    },
    {
     "name": "stdout",
     "output_type": "stream",
     "text": [
      "Checked URL https://brieven-correspondenten-1900.huygens.knaw.nl, Status was 200\n"
     ]
    },
    {
     "name": "stderr",
     "output_type": "stream",
     "text": [
      "/usr/lib/python3/dist-packages/urllib3/connectionpool.py:1015: InsecureRequestWarning: Unverified HTTPS request is being made to host 'romantic-circles.org'. Adding certificate verification is strongly advised. See: https://urllib3.readthedocs.io/en/latest/advanced-usage.html#ssl-warnings\n",
      "  warnings.warn(\n"
     ]
    },
    {
     "name": "stdout",
     "output_type": "stream",
     "text": [
      "Checked URL https://romantic-circles.org/editions/warpoetry/, Status was 200\n"
     ]
    },
    {
     "name": "stderr",
     "output_type": "stream",
     "text": [
      "/usr/lib/python3/dist-packages/urllib3/connectionpool.py:1015: InsecureRequestWarning: Unverified HTTPS request is being made to host 'homepage.uni-graz.at'. Adding certificate verification is strongly advised. See: https://urllib3.readthedocs.io/en/latest/advanced-usage.html#ssl-warnings\n",
      "  warnings.warn(\n"
     ]
    },
    {
     "name": "stdout",
     "output_type": "stream",
     "text": [
      "Checked URL https://homepage.uni-graz.at/de/andrea.hofmeister/forschung/editionsprojekt-die-schriften-des-brixner-dommesners-veit-feichter/brixner-dommesnerbuch/, Status was 200\n"
     ]
    },
    {
     "name": "stderr",
     "output_type": "stream",
     "text": [
      "/usr/lib/python3/dist-packages/urllib3/connectionpool.py:1015: InsecureRequestWarning: Unverified HTTPS request is being made to host 'www.dhi.ac.uk'. Adding certificate verification is strongly advised. See: https://urllib3.readthedocs.io/en/latest/advanced-usage.html#ssl-warnings\n",
      "  warnings.warn(\n"
     ]
    },
    {
     "name": "stdout",
     "output_type": "stream",
     "text": [
      "Checked URL https://www.dhi.ac.uk/brome/, Status was 200\n"
     ]
    },
    {
     "name": "stderr",
     "output_type": "stream",
     "text": [
      "/usr/lib/python3/dist-packages/urllib3/connectionpool.py:1015: InsecureRequestWarning: Unverified HTTPS request is being made to host 'brockdenbrown.cah.ucf.edu'. Adding certificate verification is strongly advised. See: https://urllib3.readthedocs.io/en/latest/advanced-usage.html#ssl-warnings\n",
      "  warnings.warn(\n"
     ]
    },
    {
     "name": "stdout",
     "output_type": "stream",
     "text": [
      "Checked URL http://brockdenbrown.cah.ucf.edu/, Status was 200\n"
     ]
    },
    {
     "name": "stderr",
     "output_type": "stream",
     "text": [
      "/usr/lib/python3/dist-packages/urllib3/connectionpool.py:1015: InsecureRequestWarning: Unverified HTTPS request is being made to host 'romantic-circles.org'. Adding certificate verification is strongly advised. See: https://urllib3.readthedocs.io/en/latest/advanced-usage.html#ssl-warnings\n",
      "  warnings.warn(\n"
     ]
    },
    {
     "name": "stdout",
     "output_type": "stream",
     "text": [
      "Checked URL https://romantic-circles.org/editions/brownsevern/, Status was 200\n",
      "Checked URL http://bruemmer.staatsbibliothek-berlin.de/nlbruemmer/, Status was 200\n",
      "Checked URL http://diglib.hab.de/edoc/ed000082/start.htm, Status was 200\n",
      "Checked URL http://projects.dharc.unibo.it/bufalini-notebook/, Status was 200\n"
     ]
    },
    {
     "name": "stderr",
     "output_type": "stream",
     "text": [
      "/usr/lib/python3/dist-packages/urllib3/connectionpool.py:1015: InsecureRequestWarning: Unverified HTTPS request is being made to host 'www.bundesarchiv.de'. Adding certificate verification is strongly advised. See: https://urllib3.readthedocs.io/en/latest/advanced-usage.html#ssl-warnings\n",
      "  warnings.warn(\n"
     ]
    },
    {
     "name": "stdout",
     "output_type": "stream",
     "text": [
      "Checked URL http://www.bundesarchiv.de/cocoon/barch/0000/index.html, Status was 200\n"
     ]
    },
    {
     "name": "stderr",
     "output_type": "stream",
     "text": [
      "/usr/lib/python3/dist-packages/urllib3/connectionpool.py:1015: InsecureRequestWarning: Unverified HTTPS request is being made to host 'burckhardtsource.org'. Adding certificate verification is strongly advised. See: https://urllib3.readthedocs.io/en/latest/advanced-usage.html#ssl-warnings\n",
      "  warnings.warn(\n"
     ]
    },
    {
     "name": "stdout",
     "output_type": "stream",
     "text": [
      "Checked URL http://burckhardtsource.org/, Status was 200\n"
     ]
    },
    {
     "name": "stderr",
     "output_type": "stream",
     "text": [
      "/usr/lib/python3/dist-packages/urllib3/connectionpool.py:1015: InsecureRequestWarning: Unverified HTTPS request is being made to host 'busoni-nachlass.org'. Adding certificate verification is strongly advised. See: https://urllib3.readthedocs.io/en/latest/advanced-usage.html#ssl-warnings\n",
      "  warnings.warn(\n",
      "/usr/lib/python3/dist-packages/urllib3/connectionpool.py:1015: InsecureRequestWarning: Unverified HTTPS request is being made to host 'busoni-nachlass.org'. Adding certificate verification is strongly advised. See: https://urllib3.readthedocs.io/en/latest/advanced-usage.html#ssl-warnings\n",
      "  warnings.warn(\n"
     ]
    },
    {
     "name": "stdout",
     "output_type": "stream",
     "text": [
      "Checked URL https://busoni-nachlass.org, Status was 200\n"
     ]
    },
    {
     "name": "stderr",
     "output_type": "stream",
     "text": [
      "/usr/lib/python3/dist-packages/urllib3/connectionpool.py:1015: InsecureRequestWarning: Unverified HTTPS request is being made to host 'lordbyron.org'. Adding certificate verification is strongly advised. See: https://urllib3.readthedocs.io/en/latest/advanced-usage.html#ssl-warnings\n",
      "  warnings.warn(\n"
     ]
    },
    {
     "name": "stdout",
     "output_type": "stream",
     "text": [
      "Checked URL http://lordbyron.org/, Status was 200\n",
      "Checked URL http://www.boydell.co.uk/43840448.HTM, Status was 404\n",
      "Checked URL http://www.cn-telma.fr//callythea/index/, Status was 200\n"
     ]
    },
    {
     "name": "stderr",
     "output_type": "stream",
     "text": [
      "/usr/lib/python3/dist-packages/urllib3/connectionpool.py:1015: InsecureRequestWarning: Unverified HTTPS request is being made to host 'isaw.nyu.edu'. Adding certificate verification is strongly advised. See: https://urllib3.readthedocs.io/en/latest/advanced-usage.html#ssl-warnings\n",
      "  warnings.warn(\n"
     ]
    },
    {
     "name": "stdout",
     "output_type": "stream",
     "text": [
      "Checked URL http://isaw.nyu.edu/publications/inscriptions/campa/, Status was 200\n",
      "Checked URL http://margot.uwaterloo.ca/campsey/cmphome_e.html, Status was 200\n"
     ]
    },
    {
     "name": "stderr",
     "output_type": "stream",
     "text": [
      "/usr/lib/python3/dist-packages/urllib3/connectionpool.py:1015: InsecureRequestWarning: Unverified HTTPS request is being made to host 'miocid.wlu.edu'. Adding certificate verification is strongly advised. See: https://urllib3.readthedocs.io/en/latest/advanced-usage.html#ssl-warnings\n",
      "  warnings.warn(\n"
     ]
    },
    {
     "name": "stdout",
     "output_type": "stream",
     "text": [
      "Checked URL https://miocid.wlu.edu/?v=nor, Status was 200\n"
     ]
    },
    {
     "name": "stderr",
     "output_type": "stream",
     "text": [
      "/usr/lib/python3/dist-packages/urllib3/connectionpool.py:1015: InsecureRequestWarning: Unverified HTTPS request is being made to host 'gams.uni-graz.at'. Adding certificate verification is strongly advised. See: https://urllib3.readthedocs.io/en/latest/advanced-usage.html#ssl-warnings\n",
      "  warnings.warn(\n"
     ]
    },
    {
     "name": "stdout",
     "output_type": "stream",
     "text": [
      "Checked URL https://gams.uni-graz.at/context:cantus/sdef:Context/get?locale=de, Status was 200\n",
      "Checked URL http://alfclul.clul.ul.pt/cards-fly/index.php, Status was 200\n"
     ]
    },
    {
     "name": "stderr",
     "output_type": "stream",
     "text": [
      "/usr/lib/python3/dist-packages/urllib3/connectionpool.py:1015: InsecureRequestWarning: Unverified HTTPS request is being made to host 'carlyleletters.dukeupress.edu'. Adding certificate verification is strongly advised. See: https://urllib3.readthedocs.io/en/latest/advanced-usage.html#ssl-warnings\n",
      "  warnings.warn(\n"
     ]
    },
    {
     "name": "stdout",
     "output_type": "stream",
     "text": [
      "Checked URL https://carlyleletters.dukeupress.edu/, Status was 200\n",
      "Checked URL http://www.cartago.nl, Status was 200\n",
      "Checked URL http://www.cn-telma.fr/nesle/index/, Status was 200\n",
      "Checked URL http://elec.enc.sorbonne.fr/cartulaires/, Status was 200\n"
     ]
    },
    {
     "name": "stderr",
     "output_type": "stream",
     "text": [
      "/usr/lib/python3/dist-packages/urllib3/connectionpool.py:1015: InsecureRequestWarning: Unverified HTTPS request is being made to host 'casebooks.lib.cam.ac.uk'. Adding certificate verification is strongly advised. See: https://urllib3.readthedocs.io/en/latest/advanced-usage.html#ssl-warnings\n",
      "  warnings.warn(\n"
     ]
    },
    {
     "name": "stdout",
     "output_type": "stream",
     "text": [
      "Checked URL http://www.magicandmedicine.hps.cam.ac.uk/, Status was 200\n"
     ]
    },
    {
     "name": "stderr",
     "output_type": "stream",
     "text": [
      "/usr/lib/python3/dist-packages/urllib3/connectionpool.py:1015: InsecureRequestWarning: Unverified HTTPS request is being made to host 'cather.unl.edu'. Adding certificate verification is strongly advised. See: https://urllib3.readthedocs.io/en/latest/advanced-usage.html#ssl-warnings\n",
      "  warnings.warn(\n"
     ]
    },
    {
     "name": "stdout",
     "output_type": "stream",
     "text": [
      "Checked URL http://cather.unl.edu, Status was 200\n",
      "Checked URL http://catullusonline.org/, Status was 200\n",
      "Checked URL http://entretenida.outofthewings.org/index.html, Status was 200\n",
      "Checked URL http://cervantes.tamu.edu/V2/CPI/index.html, Status was 200\n"
     ]
    },
    {
     "name": "stderr",
     "output_type": "stream",
     "text": [
      "/usr/lib/python3/dist-packages/urllib3/connectionpool.py:1015: InsecureRequestWarning: Unverified HTTPS request is being made to host 'romantic-circles.org'. Adding certificate verification is strongly advised. See: https://urllib3.readthedocs.io/en/latest/advanced-usage.html#ssl-warnings\n",
      "  warnings.warn(\n"
     ]
    },
    {
     "name": "stdout",
     "output_type": "stream",
     "text": [
      "Checked URL https://romantic-circles.org/editions/chamouni/index.html, Status was 200\n"
     ]
    },
    {
     "name": "stderr",
     "output_type": "stream",
     "text": [
      "/usr/lib/python3/dist-packages/urllib3/connectionpool.py:1015: InsecureRequestWarning: Unverified HTTPS request is being made to host 'zenodo.org'. Adding certificate verification is strongly advised. See: https://urllib3.readthedocs.io/en/latest/advanced-usage.html#ssl-warnings\n",
      "  warnings.warn(\n"
     ]
    },
    {
     "name": "stdout",
     "output_type": "stream",
     "text": [
      "Checked URL https://zenodo.org/record/1133490#.WuR5t65l_IU, Status was 200\n",
      "Checked URL http://web.archive.org/web/*/http://lancelot.baylor.edu/, Status was 200\n",
      "Checked URL http://web.archive.org/web/20080415015129/http://homepage.mac.com/guyjacqu/lancelot.html, Status was 200\n"
     ]
    },
    {
     "name": "stderr",
     "output_type": "stream",
     "text": [
      "/usr/lib/python3/dist-packages/urllib3/connectionpool.py:1015: InsecureRequestWarning: Unverified HTTPS request is being made to host 'charriere.huygens.knaw.nl'. Adding certificate verification is strongly advised. See: https://urllib3.readthedocs.io/en/latest/advanced-usage.html#ssl-warnings\n",
      "  warnings.warn(\n"
     ]
    },
    {
     "name": "stdout",
     "output_type": "stream",
     "text": [
      "Checked URL https://charriere.huygens.knaw.nl, Status was 403\n",
      "Checked URL http://www.corpuscharta.es/consultas.html, Status was 406\n",
      "Checked URL http://www.sd-editions.com/caxtons/index.html, Status was 200\n",
      "Checked URL http://web.archive.org/web/20141204201458/http://www.ucalgary.ca/ucpress/online/pubs/duchess/Websample/titlepge.htm, Status was 200\n",
      "Checked URL http://www.sd-editions.com/CantApp/GP/, Status was 200\n",
      "Checked URL http://www.sd-editions.com/hengwrt/index.html, Status was 200\n",
      "Checked URL http://www.sd-editions.com/HgStandard/diffs.htm, Status was 200\n",
      "Checked URL http://www.sd-editions.com/miller/index.html, Status was 200\n",
      "Checked URL http://www.sd-editions.com/NP/index.html, Status was 200\n"
     ]
    },
    {
     "name": "stderr",
     "output_type": "stream",
     "text": [
      "/usr/lib/python3/dist-packages/urllib3/connectionpool.py:1015: InsecureRequestWarning: Unverified HTTPS request is being made to host 'lumieres.unil.ch'. Adding certificate verification is strongly advised. See: https://urllib3.readthedocs.io/en/latest/advanced-usage.html#ssl-warnings\n",
      "  warnings.warn(\n",
      "/usr/lib/python3/dist-packages/urllib3/connectionpool.py:1015: InsecureRequestWarning: Unverified HTTPS request is being made to host 'lumieres.unil.ch'. Adding certificate verification is strongly advised. See: https://urllib3.readthedocs.io/en/latest/advanced-usage.html#ssl-warnings\n",
      "  warnings.warn(\n"
     ]
    },
    {
     "name": "stdout",
     "output_type": "stream",
     "text": [
      "Checked URL http://lumieres.unil.ch/projets/chavannes, Status was 200\n",
      "Checked URL http://www.ocve.org.uk, Status was 404\n",
      "Checked URL http://www.tagebuch-christian-ii-anhalt.de/, Status was 200\n"
     ]
    },
    {
     "name": "stderr",
     "output_type": "stream",
     "text": [
      "/usr/lib/python3/dist-packages/urllib3/connectionpool.py:1015: InsecureRequestWarning: Unverified HTTPS request is being made to host 'quod.lib.umich.edu'. Adding certificate verification is strongly advised. See: https://urllib3.readthedocs.io/en/latest/advanced-usage.html#ssl-warnings\n",
      "  warnings.warn(\n"
     ]
    },
    {
     "name": "stdout",
     "output_type": "stream",
     "text": [
      "Checked URL http://quod.lib.umich.edu/m/machyn/, Status was 200\n",
      "Checked URL http://elec.enc.sorbonne.fr/chroniqueslatines/, Status was 200\n",
      "Checked URL http://digital.wustl.edu/stlcourtrecords/index.html, Status was 200\n"
     ]
    },
    {
     "name": "stderr",
     "output_type": "stream",
     "text": [
      "/usr/lib/python3/dist-packages/urllib3/connectionpool.py:1015: InsecureRequestWarning: Unverified HTTPS request is being made to host 'clusiuscorrespondence.huygens.knaw.nl'. Adding certificate verification is strongly advised. See: https://urllib3.readthedocs.io/en/latest/advanced-usage.html#ssl-warnings\n",
      "  warnings.warn(\n"
     ]
    },
    {
     "name": "stdout",
     "output_type": "stream",
     "text": [
      "Checked URL http://clusiuscorrespondence.huygens.knaw.nl/, Status was 200\n",
      "Checked URL http://diglib.hab.de/edoc/ed000006/start.htm, Status was 503\n"
     ]
    },
    {
     "name": "stderr",
     "output_type": "stream",
     "text": [
      "/usr/lib/python3/dist-packages/urllib3/connectionpool.py:1015: InsecureRequestWarning: Unverified HTTPS request is being made to host 'archivum-laureshamense-digital.de'. Adding certificate verification is strongly advised. See: https://urllib3.readthedocs.io/en/latest/advanced-usage.html#ssl-warnings\n",
      "  warnings.warn(\n"
     ]
    },
    {
     "name": "stdout",
     "output_type": "stream",
     "text": [
      "Checked URL http://archivum-laureshamense-digital.de/de/codex_laureshamensis/codex.html, Status was 404\n",
      "Checked URL http://suprasliensis.obdurodon.org/, Status was 200\n"
     ]
    },
    {
     "name": "stderr",
     "output_type": "stream",
     "text": [
      "/usr/lib/python3/dist-packages/urllib3/connectionpool.py:1015: InsecureRequestWarning: Unverified HTTPS request is being made to host 'www.lombardiabeniculturali.it'. Adding certificate verification is strongly advised. See: https://urllib3.readthedocs.io/en/latest/advanced-usage.html#ssl-warnings\n",
      "  warnings.warn(\n"
     ]
    },
    {
     "name": "stdout",
     "output_type": "stream",
     "text": [
      "Checked URL http://www.lombardiabeniculturali.it/cdlm/, Status was 200\n"
     ]
    },
    {
     "name": "stderr",
     "output_type": "stream",
     "text": [
      "/usr/lib/python3/dist-packages/urllib3/connectionpool.py:1015: InsecureRequestWarning: Unverified HTTPS request is being made to host 'web.archive.org'. Adding certificate verification is strongly advised. See: https://urllib3.readthedocs.io/en/latest/advanced-usage.html#ssl-warnings\n",
      "  warnings.warn(\n"
     ]
    },
    {
     "name": "stdout",
     "output_type": "stream",
     "text": [
      "Checked URL https://web.archive.org/web/20100312073610/http://etext.lib.virginia.edu:80/stc/Coleridge/stc.html, Status was 200\n"
     ]
    },
    {
     "name": "stderr",
     "output_type": "stream",
     "text": [
      "/usr/lib/python3/dist-packages/urllib3/connectionpool.py:1015: InsecureRequestWarning: Unverified HTTPS request is being made to host 'romantic-circles.org'. Adding certificate verification is strongly advised. See: https://urllib3.readthedocs.io/en/latest/advanced-usage.html#ssl-warnings\n",
      "  warnings.warn(\n"
     ]
    },
    {
     "name": "stdout",
     "output_type": "stream",
     "text": [
      "Checked URL https://romantic-circles.org/editions/robespierre/, Status was 200\n"
     ]
    },
    {
     "name": "stderr",
     "output_type": "stream",
     "text": [
      "/usr/lib/python3/dist-packages/urllib3/connectionpool.py:1015: InsecureRequestWarning: Unverified HTTPS request is being made to host 'romantic-circles.org'. Adding certificate verification is strongly advised. See: https://urllib3.readthedocs.io/en/latest/advanced-usage.html#ssl-warnings\n",
      "  warnings.warn(\n"
     ]
    },
    {
     "name": "stdout",
     "output_type": "stream",
     "text": [
      "Checked URL https://romantic-circles.org/editions/cain/, Status was 200\n"
     ]
    },
    {
     "name": "stderr",
     "output_type": "stream",
     "text": [
      "/usr/lib/python3/dist-packages/urllib3/connectionpool.py:1015: InsecureRequestWarning: Unverified HTTPS request is being made to host 'bcgenesis.uvic.ca'. Adding certificate verification is strongly advised. See: https://urllib3.readthedocs.io/en/latest/advanced-usage.html#ssl-warnings\n",
      "  warnings.warn(\n"
     ]
    },
    {
     "name": "stdout",
     "output_type": "stream",
     "text": [
      "Checked URL http://bcgenesis.uvic.ca/, Status was 200\n",
      "Checked URL http://comparatio.irht.cnrs.fr, Status was 200\n"
     ]
    },
    {
     "name": "stderr",
     "output_type": "stream",
     "text": [
      "/usr/lib/python3/dist-packages/urllib3/connectionpool.py:1015: InsecureRequestWarning: Unverified HTTPS request is being made to host 'www2.gwu.edu'. Adding certificate verification is strongly advised. See: https://urllib3.readthedocs.io/en/latest/advanced-usage.html#ssl-warnings\n",
      "  warnings.warn(\n"
     ]
    },
    {
     "name": "stdout",
     "output_type": "stream",
     "text": [
      "Checked URL http://www.gwu.edu/~ffcp/, Status was 200\n"
     ]
    },
    {
     "name": "stderr",
     "output_type": "stream",
     "text": [
      "/usr/lib/python3/dist-packages/urllib3/connectionpool.py:1015: InsecureRequestWarning: Unverified HTTPS request is being made to host 'search.library.wisc.edu'. Adding certificate verification is strongly advised. See: https://urllib3.readthedocs.io/en/latest/advanced-usage.html#ssl-warnings\n",
      "  warnings.warn(\n"
     ]
    },
    {
     "name": "stdout",
     "output_type": "stream",
     "text": [
      "Checked URL http://digital.library.wisc.edu/1711.dl/History.Constitution, Status was 200\n",
      "Checked URL http://telota.bbaw.de/constitutiones/, Status was 200\n",
      "Checked URL http://resources.huygens.knaw.nl/divisiekroniek/index_html, Status was 200\n"
     ]
    },
    {
     "name": "stderr",
     "output_type": "stream",
     "text": [
      "/usr/lib/python3/dist-packages/urllib3/connectionpool.py:1015: InsecureRequestWarning: Unverified HTTPS request is being made to host 'cag-online.net'. Adding certificate verification is strongly advised. See: https://urllib3.readthedocs.io/en/latest/advanced-usage.html#ssl-warnings\n",
      "  warnings.warn(\n",
      "/usr/lib/python3/dist-packages/urllib3/connectionpool.py:1015: InsecureRequestWarning: Unverified HTTPS request is being made to host 'cag-online.net'. Adding certificate verification is strongly advised. See: https://urllib3.readthedocs.io/en/latest/advanced-usage.html#ssl-warnings\n",
      "  warnings.warn(\n"
     ]
    },
    {
     "name": "stdout",
     "output_type": "stream",
     "text": [
      "Checked URL https://cag-online.net/, Status was 200\n"
     ]
    },
    {
     "name": "stderr",
     "output_type": "stream",
     "text": [
      "/usr/lib/python3/dist-packages/urllib3/connectionpool.py:1015: InsecureRequestWarning: Unverified HTTPS request is being made to host 'corpuscoranicum.de'. Adding certificate verification is strongly advised. See: https://urllib3.readthedocs.io/en/latest/advanced-usage.html#ssl-warnings\n",
      "  warnings.warn(\n",
      "/usr/lib/python3/dist-packages/urllib3/connectionpool.py:1015: InsecureRequestWarning: Unverified HTTPS request is being made to host 'corpuscoranicum.de'. Adding certificate verification is strongly advised. See: https://urllib3.readthedocs.io/en/latest/advanced-usage.html#ssl-warnings\n",
      "  warnings.warn(\n"
     ]
    },
    {
     "name": "stdout",
     "output_type": "stream",
     "text": [
      "Checked URL https://corpuscoranicum.de, Status was 200\n"
     ]
    },
    {
     "name": "stderr",
     "output_type": "stream",
     "text": [
      "/usr/lib/python3/dist-packages/urllib3/connectionpool.py:1015: InsecureRequestWarning: Unverified HTTPS request is being made to host 'digital.library.ucla.edu'. Adding certificate verification is strongly advised. See: https://urllib3.readthedocs.io/en/latest/advanced-usage.html#ssl-warnings\n",
      "  warnings.warn(\n"
     ]
    },
    {
     "name": "stdout",
     "output_type": "stream",
     "text": [
      "Checked URL http://digidev.library.ucla.edu/canonlaw/, Status was 200\n",
      "Checked URL http://www.cmcl.it, Status was 200\n",
      "Checked URL http://pom.bbaw.de/cmg/, Status was 200\n"
     ]
    },
    {
     "name": "stderr",
     "output_type": "stream",
     "text": [
      "/usr/lib/python3/dist-packages/urllib3/connectionpool.py:1015: InsecureRequestWarning: Unverified HTTPS request is being made to host 'www.corimu.unisi.it'. Adding certificate verification is strongly advised. See: https://urllib3.readthedocs.io/en/latest/advanced-usage.html#ssl-warnings\n",
      "  warnings.warn(\n"
     ]
    },
    {
     "name": "stdout",
     "output_type": "stream",
     "text": [
      "Checked URL http://www.corimu.unisi.it/, Status was 200\n",
      "Checked URL http://correspondancefamiliale.ehess.fr/index.php, Status was 200\n"
     ]
    },
    {
     "name": "stderr",
     "output_type": "stream",
     "text": [
      "/usr/lib/python3/dist-packages/urllib3/connectionpool.py:1015: InsecureRequestWarning: Unverified HTTPS request is being made to host 'www.bayerische-landesbibliothek-online.de'. Adding certificate verification is strongly advised. See: https://urllib3.readthedocs.io/en/latest/advanced-usage.html#ssl-warnings\n",
      "  warnings.warn(\n",
      "/usr/lib/python3/dist-packages/urllib3/connectionpool.py:1015: InsecureRequestWarning: Unverified HTTPS request is being made to host 'www.bayerische-landesbibliothek-online.de'. Adding certificate verification is strongly advised. See: https://urllib3.readthedocs.io/en/latest/advanced-usage.html#ssl-warnings\n",
      "  warnings.warn(\n"
     ]
    },
    {
     "name": "stdout",
     "output_type": "stream",
     "text": [
      "Checked URL https://www.bayerische-landesbibliothek-online.de/cozroh, Status was 200\n",
      "Checked URL http://www.cullenproject.ac.uk, Status was 200\n"
     ]
    },
    {
     "name": "stderr",
     "output_type": "stream",
     "text": [
      "/usr/lib/python3/dist-packages/urllib3/connectionpool.py:1015: InsecureRequestWarning: Unverified HTTPS request is being made to host 'operaduomo.firenze.it'. Adding certificate verification is strongly advised. See: https://urllib3.readthedocs.io/en/latest/advanced-usage.html#ssl-warnings\n",
      "  warnings.warn(\n",
      "/usr/lib/python3/dist-packages/urllib3/connectionpool.py:1015: InsecureRequestWarning: Unverified HTTPS request is being made to host 'duomo.firenze.it'. Adding certificate verification is strongly advised. See: https://urllib3.readthedocs.io/en/latest/advanced-usage.html#ssl-warnings\n",
      "  warnings.warn(\n"
     ]
    },
    {
     "name": "stdout",
     "output_type": "stream",
     "text": [
      "Checked URL http://www.operaduomo.firenze.it/cupola/, Status was 200\n",
      "Checked URL http://www.cursus.org.uk, Status was 200\n"
     ]
    },
    {
     "name": "stderr",
     "output_type": "stream",
     "text": [
      "/usr/lib/python3/dist-packages/urllib3/connectionpool.py:1015: InsecureRequestWarning: Unverified HTTPS request is being made to host 'igcyr.unibo.it'. Adding certificate verification is strongly advised. See: https://urllib3.readthedocs.io/en/latest/advanced-usage.html#ssl-warnings\n",
      "  warnings.warn(\n"
     ]
    },
    {
     "name": "stdout",
     "output_type": "stream",
     "text": [
      "Checked URL https://igcyr.unibo.it/, Status was 200\n"
     ]
    },
    {
     "name": "stderr",
     "output_type": "stream",
     "text": [
      "/usr/lib/python3/dist-packages/urllib3/connectionpool.py:1015: InsecureRequestWarning: Unverified HTTPS request is being made to host 'www.dafyddapgwilym.net'. Adding certificate verification is strongly advised. See: https://urllib3.readthedocs.io/en/latest/advanced-usage.html#ssl-warnings\n",
      "  warnings.warn(\n",
      "/usr/lib/python3/dist-packages/urllib3/connectionpool.py:1015: InsecureRequestWarning: Unverified HTTPS request is being made to host 'dafyddapgwilym.net'. Adding certificate verification is strongly advised. See: https://urllib3.readthedocs.io/en/latest/advanced-usage.html#ssl-warnings\n",
      "  warnings.warn(\n"
     ]
    },
    {
     "name": "stdout",
     "output_type": "stream",
     "text": [
      "Checked URL http://www.dafyddapgwilym.net/, Status was 200\n"
     ]
    },
    {
     "name": "stderr",
     "output_type": "stream",
     "text": [
      "/usr/lib/python3/dist-packages/urllib3/connectionpool.py:1015: InsecureRequestWarning: Unverified HTTPS request is being made to host 'edities.kantl.be'. Adding certificate verification is strongly advised. See: https://urllib3.readthedocs.io/en/latest/advanced-usage.html#ssl-warnings\n",
      "  warnings.warn(\n"
     ]
    },
    {
     "name": "stdout",
     "output_type": "stream",
     "text": [
      "Checked URL http://edities.kantl.be/daisne/index.htm, Status was 200\n"
     ]
    },
    {
     "name": "stderr",
     "output_type": "stream",
     "text": [
      "/usr/lib/python3/dist-packages/urllib3/connectionpool.py:1015: InsecureRequestWarning: Unverified HTTPS request is being made to host 'dantecommedia.it'. Adding certificate verification is strongly advised. See: https://urllib3.readthedocs.io/en/latest/advanced-usage.html#ssl-warnings\n",
      "  warnings.warn(\n"
     ]
    },
    {
     "name": "stdout",
     "output_type": "stream",
     "text": [
      "Checked URL https://dantecommedia.it/, Status was 200\n",
      "Checked URL http://dante.ilt.columbia.edu, Status was 200\n"
     ]
    },
    {
     "name": "stderr",
     "output_type": "stream",
     "text": [
      "/usr/lib/python3/dist-packages/urllib3/connectionpool.py:1015: InsecureRequestWarning: Unverified HTTPS request is being made to host 'www.danteonline.it'. Adding certificate verification is strongly advised. See: https://urllib3.readthedocs.io/en/latest/advanced-usage.html#ssl-warnings\n",
      "  warnings.warn(\n"
     ]
    },
    {
     "name": "stdout",
     "output_type": "stream",
     "text": [
      "Checked URL https://www.danteonline.it/monarchia/, Status was 200\n"
     ]
    },
    {
     "name": "stderr",
     "output_type": "stream",
     "text": [
      "/usr/lib/python3/dist-packages/urllib3/connectionpool.py:1015: InsecureRequestWarning: Unverified HTTPS request is being made to host 'etcweb.princeton.edu'. Adding certificate verification is strongly advised. See: https://urllib3.readthedocs.io/en/latest/advanced-usage.html#ssl-warnings\n",
      "  warnings.warn(\n"
     ]
    },
    {
     "name": "stdout",
     "output_type": "stream",
     "text": [
      "Checked URL http://etcweb.princeton.edu/dante/, Status was 404\n",
      "Checked URL http://darwin-online.org.uk/, Status was 200\n"
     ]
    },
    {
     "name": "stderr",
     "output_type": "stream",
     "text": [
      "/usr/lib/python3/dist-packages/urllib3/connectionpool.py:1015: InsecureRequestWarning: Unverified HTTPS request is being made to host 'www.darwinproject.ac.uk'. Adding certificate verification is strongly advised. See: https://urllib3.readthedocs.io/en/latest/advanced-usage.html#ssl-warnings\n",
      "  warnings.warn(\n"
     ]
    },
    {
     "name": "stdout",
     "output_type": "stream",
     "text": [
      "Checked URL http://www.darwinproject.ac.uk/, Status was 200\n"
     ]
    },
    {
     "name": "stderr",
     "output_type": "stream",
     "text": [
      "/usr/lib/python3/dist-packages/urllib3/connectionpool.py:1015: InsecureRequestWarning: Unverified HTTPS request is being made to host 'romantic-circles.org'. Adding certificate verification is strongly advised. See: https://urllib3.readthedocs.io/en/latest/advanced-usage.html#ssl-warnings\n",
      "  warnings.warn(\n"
     ]
    },
    {
     "name": "stdout",
     "output_type": "stream",
     "text": [
      "Checked URL https://romantic-circles.org/editions/darwin_temple/, Status was 200\n",
      "Checked URL http://diglib.hab.de/edoc/ed000008/start.htm, Status was 200\n"
     ]
    },
    {
     "name": "stderr",
     "output_type": "stream",
     "text": [
      "/usr/lib/python3/dist-packages/urllib3/connectionpool.py:1015: InsecureRequestWarning: Unverified HTTPS request is being made to host 'www.epistolariodegasperi.it'. Adding certificate verification is strongly advised. See: https://urllib3.readthedocs.io/en/latest/advanced-usage.html#ssl-warnings\n",
      "  warnings.warn(\n"
     ]
    },
    {
     "name": "stdout",
     "output_type": "stream",
     "text": [
      "Checked URL https://www.epistolariodegasperi.it/#/, Status was 200\n",
      "Checked URL http://elec.enc.sorbonne.fr/delescluze/, Status was 200\n"
     ]
    },
    {
     "name": "stderr",
     "output_type": "stream",
     "text": [
      "/usr/lib/python3/dist-packages/urllib3/connectionpool.py:1015: InsecureRequestWarning: Unverified HTTPS request is being made to host '1641.tcd.ie'. Adding certificate verification is strongly advised. See: https://urllib3.readthedocs.io/en/latest/advanced-usage.html#ssl-warnings\n",
      "  warnings.warn(\n"
     ]
    },
    {
     "name": "stdout",
     "output_type": "stream",
     "text": [
      "Checked URL http://1641.tcd.ie/, Status was 200\n"
     ]
    },
    {
     "name": "stderr",
     "output_type": "stream",
     "text": [
      "/usr/lib/python3/dist-packages/urllib3/connectionpool.py:1015: InsecureRequestWarning: Unverified HTTPS request is being made to host 'web.archive.org'. Adding certificate verification is strongly advised. See: https://urllib3.readthedocs.io/en/latest/advanced-usage.html#ssl-warnings\n",
      "  warnings.warn(\n"
     ]
    },
    {
     "name": "stdout",
     "output_type": "stream",
     "text": [
      "Checked URL https://web.archive.org/web/20070720151934/http://www.press.umich.edu/titleDetailDesc.do?id=6547, Status was 200\n"
     ]
    },
    {
     "name": "stderr",
     "output_type": "stream",
     "text": [
      "/usr/lib/python3/dist-packages/urllib3/connectionpool.py:1015: InsecureRequestWarning: Unverified HTTPS request is being made to host 'en.wikibooks.org'. Adding certificate verification is strongly advised. See: https://urllib3.readthedocs.io/en/latest/advanced-usage.html#ssl-warnings\n",
      "  warnings.warn(\n"
     ]
    },
    {
     "name": "stdout",
     "output_type": "stream",
     "text": [
      "Checked URL http://en.wikibooks.org/wiki/The_Devonshire_Manuscript, Status was 200\n"
     ]
    },
    {
     "name": "stderr",
     "output_type": "stream",
     "text": [
      "/usr/lib/python3/dist-packages/urllib3/connectionpool.py:1015: InsecureRequestWarning: Unverified HTTPS request is being made to host 'www.nlx.com'. Adding certificate verification is strongly advised. See: https://urllib3.readthedocs.io/en/latest/advanced-usage.html#ssl-warnings\n",
      "  warnings.warn(\n"
     ]
    },
    {
     "name": "stdout",
     "output_type": "stream",
     "text": [
      "Checked URL http://www.nlx.com/collections/132, Status was 200\n",
      "Checked URL http://www.emilydickinson.org, Status was 200\n"
     ]
    },
    {
     "name": "stderr",
     "output_type": "stream",
     "text": [
      "/usr/lib/python3/dist-packages/urllib3/connectionpool.py:1015: InsecureRequestWarning: Unverified HTTPS request is being made to host 'rotunda.upress.virginia.edu'. Adding certificate verification is strongly advised. See: https://urllib3.readthedocs.io/en/latest/advanced-usage.html#ssl-warnings\n",
      "  warnings.warn(\n"
     ]
    },
    {
     "name": "stdout",
     "output_type": "stream",
     "text": [
      "Checked URL https://rotunda.upress.virginia.edu/edc/, Status was 200\n",
      "Checked URL http://digenis.obdurodon.org, Status was 200\n",
      "Checked URL http://www.scholarsgrotto.com/collections.php, Status was 200\n"
     ]
    },
    {
     "name": "stderr",
     "output_type": "stream",
     "text": [
      "/usr/lib/python3/dist-packages/urllib3/connectionpool.py:1015: InsecureRequestWarning: Unverified HTTPS request is being made to host 'digitalrenaissance.uvic.ca'. Adding certificate verification is strongly advised. See: https://urllib3.readthedocs.io/en/latest/advanced-usage.html#ssl-warnings\n",
      "  warnings.warn(\n"
     ]
    },
    {
     "name": "stdout",
     "output_type": "stream",
     "text": [
      "Checked URL https://digitalrenaissance.uvic.ca, Status was 200\n"
     ]
    },
    {
     "name": "stderr",
     "output_type": "stream",
     "text": [
      "/usr/lib/python3/dist-packages/urllib3/connectionpool.py:1015: InsecureRequestWarning: Unverified HTTPS request is being made to host 'digitaltemple.rotunda.upress.virginia.edu'. Adding certificate verification is strongly advised. See: https://urllib3.readthedocs.io/en/latest/advanced-usage.html#ssl-warnings\n",
      "  warnings.warn(\n"
     ]
    },
    {
     "name": "stdout",
     "output_type": "stream",
     "text": [
      "Checked URL https://digitaltemple.rotunda.upress.virginia.edu, Status was 200\n"
     ]
    },
    {
     "name": "stderr",
     "output_type": "stream",
     "text": [
      "/usr/lib/python3/dist-packages/urllib3/connectionpool.py:1015: InsecureRequestWarning: Unverified HTTPS request is being made to host 'www.dodis.ch'. Adding certificate verification is strongly advised. See: https://urllib3.readthedocs.io/en/latest/advanced-usage.html#ssl-warnings\n",
      "  warnings.warn(\n",
      "/usr/lib/python3/dist-packages/urllib3/connectionpool.py:1015: InsecureRequestWarning: Unverified HTTPS request is being made to host 'www.dodis.ch'. Adding certificate verification is strongly advised. See: https://urllib3.readthedocs.io/en/latest/advanced-usage.html#ssl-warnings\n",
      "  warnings.warn(\n"
     ]
    },
    {
     "name": "stdout",
     "output_type": "stream",
     "text": [
      "Checked URL http://www.dodis.ch/, Status was 200\n"
     ]
    },
    {
     "name": "stderr",
     "output_type": "stream",
     "text": [
      "/usr/lib/python3/dist-packages/urllib3/connectionpool.py:1015: InsecureRequestWarning: Unverified HTTPS request is being made to host 'romantic-circles.org'. Adding certificate verification is strongly advised. See: https://urllib3.readthedocs.io/en/latest/advanced-usage.html#ssl-warnings\n",
      "  warnings.warn(\n"
     ]
    },
    {
     "name": "stdout",
     "output_type": "stream",
     "text": [
      "Checked URL https://romantic-circles.org/editions/alroy/, Status was 200\n"
     ]
    },
    {
     "name": "stderr",
     "output_type": "stream",
     "text": [
      "/usr/lib/python3/dist-packages/urllib3/connectionpool.py:1015: InsecureRequestWarning: Unverified HTTPS request is being made to host 'www.domesdaybook.net'. Adding certificate verification is strongly advised. See: https://urllib3.readthedocs.io/en/latest/advanced-usage.html#ssl-warnings\n",
      "  warnings.warn(\n"
     ]
    },
    {
     "name": "stdout",
     "output_type": "stream",
     "text": [
      "Checked URL http://www.domesdaybook.net/, Status was 200\n",
      "Checked URL http://hyperdonat.ens-lyon.fr/, Status was 200\n",
      "Checked URL http://digitaldonne.tamu.edu/index.html, Status was 200\n"
     ]
    },
    {
     "name": "stderr",
     "output_type": "stream",
     "text": [
      "/usr/lib/python3/dist-packages/urllib3/connectionpool.py:1015: InsecureRequestWarning: Unverified HTTPS request is being made to host 'www.unifr.ch'. Adding certificate verification is strongly advised. See: https://urllib3.readthedocs.io/en/latest/advanced-usage.html#ssl-warnings\n",
      "  warnings.warn(\n"
     ]
    },
    {
     "name": "stdout",
     "output_type": "stream",
     "text": [
      "Checked URL http://www.unifr.ch/nouvellesnouvelles/index.html, Status was 404\n"
     ]
    },
    {
     "name": "stderr",
     "output_type": "stream",
     "text": [
      "/usr/lib/python3/dist-packages/urllib3/connectionpool.py:1015: InsecureRequestWarning: Unverified HTTPS request is being made to host 'web.archive.org'. Adding certificate verification is strongly advised. See: https://urllib3.readthedocs.io/en/latest/advanced-usage.html#ssl-warnings\n",
      "  warnings.warn(\n"
     ]
    },
    {
     "name": "stdout",
     "output_type": "stream",
     "text": [
      "Checked URL https://web.archive.org/web/20160918183122/http://www.dreamofrood.co.uk:80/, Status was 200\n"
     ]
    },
    {
     "name": "stderr",
     "output_type": "stream",
     "text": [
      "/usr/lib/python3/dist-packages/urllib3/connectionpool.py:1015: InsecureRequestWarning: Unverified HTTPS request is being made to host 'web.archive.org'. Adding certificate verification is strongly advised. See: https://urllib3.readthedocs.io/en/latest/advanced-usage.html#ssl-warnings\n",
      "  warnings.warn(\n"
     ]
    },
    {
     "name": "stdout",
     "output_type": "stream",
     "text": [
      "Checked URL https://web.archive.org/web/20191024001213/http://www.library.upenn.edu/collections/rbm/dreiser/, Status was 200\n",
      "Checked URL http://elec.enc.sorbonne.fr/dubourg/, Status was 200\n",
      "Checked URL http://web.archive.org/web/20170201133036/http://www.nb.admin.ch/sla/03131/03132/03574/03655/index.html?lang=en, Status was 200\n"
     ]
    },
    {
     "name": "stderr",
     "output_type": "stream",
     "text": [
      "/usr/lib/python3/dist-packages/urllib3/connectionpool.py:1015: InsecureRequestWarning: Unverified HTTPS request is being made to host 'rmnet.uni-trier.de'. Adding certificate verification is strongly advised. See: https://urllib3.readthedocs.io/en/latest/advanced-usage.html#ssl-warnings\n",
      "  warnings.warn(\n"
     ]
    },
    {
     "name": "stdout",
     "output_type": "stream",
     "text": [
      "Checked URL http://www.rmnet.uni-trier.de/cgi-bin/RMnetIndex.tcl?hea=qf&for=qnotgeru, Status was 200\n"
     ]
    },
    {
     "name": "stderr",
     "output_type": "stream",
     "text": [
      "/usr/lib/python3/dist-packages/urllib3/connectionpool.py:1015: InsecureRequestWarning: Unverified HTTPS request is being made to host 'rmnet.uni-trier.de'. Adding certificate verification is strongly advised. See: https://urllib3.readthedocs.io/en/latest/advanced-usage.html#ssl-warnings\n",
      "  warnings.warn(\n"
     ]
    },
    {
     "name": "stdout",
     "output_type": "stream",
     "text": [
      "Checked URL http://www.rmnet.uni-trier.de/cgi-bin/RMnetIndex.tcl?hea=qf&for=qfley1518, Status was 200\n"
     ]
    },
    {
     "name": "stderr",
     "output_type": "stream",
     "text": [
      "/usr/lib/python3/dist-packages/urllib3/connectionpool.py:1015: InsecureRequestWarning: Unverified HTTPS request is being made to host 'web.archive.org'. Adding certificate verification is strongly advised. See: https://urllib3.readthedocs.io/en/latest/advanced-usage.html#ssl-warnings\n",
      "  warnings.warn(\n"
     ]
    },
    {
     "name": "stdout",
     "output_type": "stream",
     "text": [
      "Checked URL https://web.archive.org/web/20180412224235/http://www.louise-dumont.de/, Status was 200\n",
      "Checked URL http://web.archive.org/web/20170917142323/http://dlv.org.uk/, Status was 200\n"
     ]
    },
    {
     "name": "stderr",
     "output_type": "stream",
     "text": [
      "/usr/lib/python3/dist-packages/urllib3/connectionpool.py:1015: InsecureRequestWarning: Unverified HTTPS request is being made to host 'www.e-sequence.eu'. Adding certificate verification is strongly advised. See: https://urllib3.readthedocs.io/en/latest/advanced-usage.html#ssl-warnings\n",
      "  warnings.warn(\n"
     ]
    },
    {
     "name": "stdout",
     "output_type": "stream",
     "text": [
      "Checked URL https://www.e-sequence.eu, Status was 200\n",
      "Checked URL http://www.earlystuartlibels.net/htdocs/index.html, Status was 406\n",
      "Checked URL http://wfe.sbg.ac.at/exist/apps/Frontpage/index.html, Status was 200\n"
     ]
    },
    {
     "name": "stderr",
     "output_type": "stream",
     "text": [
      "/usr/lib/python3/dist-packages/urllib3/connectionpool.py:1015: InsecureRequestWarning: Unverified HTTPS request is being made to host 'edison.rutgers.edu'. Adding certificate verification is strongly advised. See: https://urllib3.readthedocs.io/en/latest/advanced-usage.html#ssl-warnings\n",
      "  warnings.warn(\n"
     ]
    },
    {
     "name": "stdout",
     "output_type": "stream",
     "text": [
      "Checked URL http://edison.rutgers.edu/, Status was 200\n",
      "Checked URL http://elec.enc.sorbonne.fr/editsdepacification/, Status was 200\n",
      "Checked URL http://magyar-irodalom.elte.hu/effectus/, Status was 200\n"
     ]
    },
    {
     "name": "stderr",
     "output_type": "stream",
     "text": [
      "/usr/lib/python3/dist-packages/urllib3/connectionpool.py:1015: InsecureRequestWarning: Unverified HTTPS request is being made to host 'web.archive.org'. Adding certificate verification is strongly advised. See: https://urllib3.readthedocs.io/en/latest/advanced-usage.html#ssl-warnings\n",
      "  warnings.warn(\n"
     ]
    },
    {
     "name": "stdout",
     "output_type": "stream",
     "text": [
      "Checked URL https://web.archive.org/web/20090421081014/http://adh.sc.edu/de/de-table.html, Status was 200\n",
      "Checked URL http://www.cn-telma.fr//enquetes/index/, Status was 200\n",
      "Checked URL http://gams.uni-graz.at/context:epsg, Status was 200\n",
      "Checked URL http://ckcc.huygens.knaw.nl/epistolarium/, Status was 200\n"
     ]
    },
    {
     "name": "stderr",
     "output_type": "stream",
     "text": [
      "/usr/lib/python3/dist-packages/urllib3/connectionpool.py:1015: InsecureRequestWarning: Unverified HTTPS request is being made to host 'www.briefedition.alfred-escher.ch'. Adding certificate verification is strongly advised. See: https://urllib3.readthedocs.io/en/latest/advanced-usage.html#ssl-warnings\n",
      "  warnings.warn(\n",
      "/usr/lib/python3/dist-packages/urllib3/connectionpool.py:1015: InsecureRequestWarning: Unverified HTTPS request is being made to host 'www.briefedition.alfred-escher.ch'. Adding certificate verification is strongly advised. See: https://urllib3.readthedocs.io/en/latest/advanced-usage.html#ssl-warnings\n",
      "  warnings.warn(\n"
     ]
    },
    {
     "name": "stdout",
     "output_type": "stream",
     "text": [
      "Checked URL http://www.briefedition.alfred-escher.ch/, Status was 200\n"
     ]
    },
    {
     "name": "stderr",
     "output_type": "stream",
     "text": [
      "/usr/lib/python3/dist-packages/urllib3/connectionpool.py:1015: InsecureRequestWarning: Unverified HTTPS request is being made to host 'blog.bham.ac.uk'. Adding certificate verification is strongly advised. See: https://urllib3.readthedocs.io/en/latest/advanced-usage.html#ssl-warnings\n",
      "  warnings.warn(\n"
     ]
    },
    {
     "name": "stdout",
     "output_type": "stream",
     "text": [
      "Checked URL https://blog.bham.ac.uk/estoriadigital/, Status was 200\n",
      "Checked URL http://hellenic-institute.uk/research/Etheridge/, Status was 200\n"
     ]
    },
    {
     "name": "stderr",
     "output_type": "stream",
     "text": [
      "/usr/lib/python3/dist-packages/urllib3/connectionpool.py:1015: InsecureRequestWarning: Unverified HTTPS request is being made to host 'euripidesscholia.org'. Adding certificate verification is strongly advised. See: https://urllib3.readthedocs.io/en/latest/advanced-usage.html#ssl-warnings\n",
      "  warnings.warn(\n"
     ]
    },
    {
     "name": "stdout",
     "output_type": "stream",
     "text": [
      "Checked URL http://euripidesscholia.org/, Status was 200\n"
     ]
    },
    {
     "name": "stderr",
     "output_type": "stream",
     "text": [
      "/usr/lib/python3/dist-packages/urllib3/connectionpool.py:1015: InsecureRequestWarning: Unverified HTTPS request is being made to host 'quellen-perspectivia.net'. Adding certificate verification is strongly advised. See: https://urllib3.readthedocs.io/en/latest/advanced-usage.html#ssl-warnings\n",
      "  warnings.warn(\n",
      "/usr/lib/python3/dist-packages/urllib3/connectionpool.py:1015: InsecureRequestWarning: Unverified HTTPS request is being made to host 'quellen.perspectivia.net'. Adding certificate verification is strongly advised. See: https://urllib3.readthedocs.io/en/latest/advanced-usage.html#ssl-warnings\n",
      "  warnings.warn(\n"
     ]
    },
    {
     "name": "stdout",
     "output_type": "stream",
     "text": [
      "Checked URL http://quellen-perspectivia.net/en/fantin-scholderer/start, Status was 200\n"
     ]
    },
    {
     "name": "stderr",
     "output_type": "stream",
     "text": [
      "/usr/lib/python3/dist-packages/urllib3/connectionpool.py:1015: InsecureRequestWarning: Unverified HTTPS request is being made to host 'www.faulhaber-edition.de'. Adding certificate verification is strongly advised. See: https://urllib3.readthedocs.io/en/latest/advanced-usage.html#ssl-warnings\n",
      "  warnings.warn(\n"
     ]
    },
    {
     "name": "stdout",
     "output_type": "stream",
     "text": [
      "Checked URL http://www.faulhaber-edition.de/index.html, Status was 200\n"
     ]
    },
    {
     "name": "stderr",
     "output_type": "stream",
     "text": [
      "/usr/lib/python3/dist-packages/urllib3/connectionpool.py:1015: InsecureRequestWarning: Unverified HTTPS request is being made to host 'faustedition.net'. Adding certificate verification is strongly advised. See: https://urllib3.readthedocs.io/en/latest/advanced-usage.html#ssl-warnings\n",
      "  warnings.warn(\n"
     ]
    },
    {
     "name": "stdout",
     "output_type": "stream",
     "text": [
      "Checked URL http://faustedition.net/, Status was 200\n"
     ]
    },
    {
     "name": "stderr",
     "output_type": "stream",
     "text": [
      "/usr/lib/python3/dist-packages/urllib3/connectionpool.py:1015: InsecureRequestWarning: Unverified HTTPS request is being made to host 'briefsammlung.de'. Adding certificate verification is strongly advised. See: https://urllib3.readthedocs.io/en/latest/advanced-usage.html#ssl-warnings\n",
      "  warnings.warn(\n"
     ]
    },
    {
     "name": "stdout",
     "output_type": "stream",
     "text": [
      "Checked URL https://briefsammlung.de/feldpost-zweiter-weltkrieg/, Status was 200\n"
     ]
    },
    {
     "name": "stderr",
     "output_type": "stream",
     "text": [
      "/usr/lib/python3/dist-packages/urllib3/connectionpool.py:1015: InsecureRequestWarning: Unverified HTTPS request is being made to host 'romantic-circles.org'. Adding certificate verification is strongly advised. See: https://urllib3.readthedocs.io/en/latest/advanced-usage.html#ssl-warnings\n",
      "  warnings.warn(\n"
     ]
    },
    {
     "name": "stdout",
     "output_type": "stream",
     "text": [
      "Checked URL https://romantic-circles.org/editions/flaxman/index.html, Status was 200\n"
     ]
    },
    {
     "name": "stderr",
     "output_type": "stream",
     "text": [
      "/usr/lib/python3/dist-packages/urllib3/connectionpool.py:1015: InsecureRequestWarning: Unverified HTTPS request is being made to host 'fleischmanndiaries.ucc.ie'. Adding certificate verification is strongly advised. See: https://urllib3.readthedocs.io/en/latest/advanced-usage.html#ssl-warnings\n",
      "  warnings.warn(\n"
     ]
    },
    {
     "name": "stdout",
     "output_type": "stream",
     "text": [
      "Checked URL http://fleischmanndiaries.ucc.ie/, Status was 200\n",
      "Checked URL http://digiflorimont.huma-num.fr/flsite/florimont.html#, Status was 200\n",
      "Checked URL http://iu.di.unipi.it/flos/#, Status was 200\n"
     ]
    },
    {
     "name": "stderr",
     "output_type": "stream",
     "text": [
      "/usr/lib/python3/dist-packages/urllib3/connectionpool.py:1015: InsecureRequestWarning: Unverified HTTPS request is being made to host 'fontane-nb.dariah.eu'. Adding certificate verification is strongly advised. See: https://urllib3.readthedocs.io/en/latest/advanced-usage.html#ssl-warnings\n",
      "  warnings.warn(\n",
      "/usr/lib/python3/dist-packages/urllib3/connectionpool.py:1015: InsecureRequestWarning: Unverified HTTPS request is being made to host 'fontane-nb.dariah.eu'. Adding certificate verification is strongly advised. See: https://urllib3.readthedocs.io/en/latest/advanced-usage.html#ssl-warnings\n",
      "  warnings.warn(\n"
     ]
    },
    {
     "name": "stdout",
     "output_type": "stream",
     "text": [
      "Checked URL https://fontane-nb.dariah.eu/, Status was 200\n",
      "Checked URL http://diglib.hab.de/edoc/ed000166/start.htm, Status was 200\n",
      "Checked URL http://elec.enc.sorbonne.fr/morchesne/, Status was 200\n"
     ]
    },
    {
     "name": "stderr",
     "output_type": "stream",
     "text": [
      "/usr/lib/python3/dist-packages/urllib3/connectionpool.py:1015: InsecureRequestWarning: Unverified HTTPS request is being made to host 'web.archive.org'. Adding certificate verification is strongly advised. See: https://urllib3.readthedocs.io/en/latest/advanced-usage.html#ssl-warnings\n",
      "  warnings.warn(\n"
     ]
    },
    {
     "name": "stdout",
     "output_type": "stream",
     "text": [
      "Checked URL https://web.archive.org/web/20180129213641/http://inscriptions.etc.ucla.edu:80/index.php/inscription-database/, Status was 200\n"
     ]
    },
    {
     "name": "stderr",
     "output_type": "stream",
     "text": [
      "/usr/lib/python3/dist-packages/urllib3/connectionpool.py:1015: InsecureRequestWarning: Unverified HTTPS request is being made to host 'founders.archives.gov'. Adding certificate verification is strongly advised. See: https://urllib3.readthedocs.io/en/latest/advanced-usage.html#ssl-warnings\n",
      "  warnings.warn(\n"
     ]
    },
    {
     "name": "stdout",
     "output_type": "stream",
     "text": [
      "Checked URL https://founders.archives.gov, Status was 200\n"
     ]
    },
    {
     "name": "stderr",
     "output_type": "stream",
     "text": [
      "/usr/lib/python3/dist-packages/urllib3/connectionpool.py:1015: InsecureRequestWarning: Unverified HTTPS request is being made to host 'www.johnfoxe.org'. Adding certificate verification is strongly advised. See: https://urllib3.readthedocs.io/en/latest/advanced-usage.html#ssl-warnings\n",
      "  warnings.warn(\n"
     ]
    },
    {
     "name": "stdout",
     "output_type": "stream",
     "text": [
      "Checked URL https://www.johnfoxe.org/, Status was 403\n"
     ]
    },
    {
     "name": "stderr",
     "output_type": "stream",
     "text": [
      "/usr/lib/python3/dist-packages/urllib3/connectionpool.py:1015: InsecureRequestWarning: Unverified HTTPS request is being made to host 'web.archive.org'. Adding certificate verification is strongly advised. See: https://urllib3.readthedocs.io/en/latest/advanced-usage.html#ssl-warnings\n",
      "  warnings.warn(\n"
     ]
    },
    {
     "name": "stdout",
     "output_type": "stream",
     "text": [
      "Checked URL https://web.archive.org/web/20110913155818/http://www.hrionline.ac.uk/johnfoxe/, Status was 200\n"
     ]
    },
    {
     "name": "stderr",
     "output_type": "stream",
     "text": [
      "/usr/lib/python3/dist-packages/urllib3/connectionpool.py:1015: InsecureRequestWarning: Unverified HTTPS request is being made to host 'romantic-circles.org'. Adding certificate verification is strongly advised. See: https://urllib3.readthedocs.io/en/latest/advanced-usage.html#ssl-warnings\n",
      "  warnings.warn(\n"
     ]
    },
    {
     "name": "stdout",
     "output_type": "stream",
     "text": [
      "Checked URL https://romantic-circles.org/editions/frankenstein, Status was 200\n"
     ]
    },
    {
     "name": "stderr",
     "output_type": "stream",
     "text": [
      "/usr/lib/python3/dist-packages/urllib3/connectionpool.py:1015: InsecureRequestWarning: Unverified HTTPS request is being made to host 'franklinpapers.org'. Adding certificate verification is strongly advised. See: https://urllib3.readthedocs.io/en/latest/advanced-usage.html#ssl-warnings\n",
      "  warnings.warn(\n"
     ]
    },
    {
     "name": "stdout",
     "output_type": "stream",
     "text": [
      "Checked URL https://franklinpapers.org/, Status was 200\n"
     ]
    },
    {
     "name": "stderr",
     "output_type": "stream",
     "text": [
      "/usr/lib/python3/dist-packages/urllib3/connectionpool.py:1015: InsecureRequestWarning: Unverified HTTPS request is being made to host 'www.univie.ac.at'. Adding certificate verification is strongly advised. See: https://urllib3.readthedocs.io/en/latest/advanced-usage.html#ssl-warnings\n",
      "  warnings.warn(\n",
      "/usr/lib/python3/dist-packages/urllib3/connectionpool.py:1015: InsecureRequestWarning: Unverified HTTPS request is being made to host 'sfn.univie.ac.at'. Adding certificate verification is strongly advised. See: https://urllib3.readthedocs.io/en/latest/advanced-usage.html#ssl-warnings\n",
      "  warnings.warn(\n"
     ]
    },
    {
     "name": "stdout",
     "output_type": "stream",
     "text": [
      "Checked URL https://www.univie.ac.at/Geschichte/sfn/index.php?option=com_content&view=article&id=83&Itemid=64&lang=en, Status was 404\n"
     ]
    },
    {
     "name": "stderr",
     "output_type": "stream",
     "text": [
      "/usr/lib/python3/dist-packages/urllib3/connectionpool.py:1015: InsecureRequestWarning: Unverified HTTPS request is being made to host 'digital.lib.umd.edu'. Adding certificate verification is strongly advised. See: https://urllib3.readthedocs.io/en/latest/advanced-usage.html#ssl-warnings\n",
      "  warnings.warn(\n",
      "/usr/lib/python3/dist-packages/urllib3/connectionpool.py:1015: InsecureRequestWarning: Unverified HTTPS request is being made to host 'digital.lib.umd.edu'. Adding certificate verification is strongly advised. See: https://urllib3.readthedocs.io/en/latest/advanced-usage.html#ssl-warnings\n",
      "  warnings.warn(\n",
      "/usr/lib/python3/dist-packages/urllib3/connectionpool.py:1015: InsecureRequestWarning: Unverified HTTPS request is being made to host 'digital.lib.umd.edu'. Adding certificate verification is strongly advised. See: https://urllib3.readthedocs.io/en/latest/advanced-usage.html#ssl-warnings\n",
      "  warnings.warn(\n",
      "/usr/lib/python3/dist-packages/urllib3/connectionpool.py:1015: InsecureRequestWarning: Unverified HTTPS request is being made to host 'digital.lib.umd.edu'. Adding certificate verification is strongly advised. See: https://urllib3.readthedocs.io/en/latest/advanced-usage.html#ssl-warnings\n",
      "  warnings.warn(\n",
      "/usr/lib/python3/dist-packages/urllib3/connectionpool.py:1015: InsecureRequestWarning: Unverified HTTPS request is being made to host 'digital.lib.umd.edu'. Adding certificate verification is strongly advised. See: https://urllib3.readthedocs.io/en/latest/advanced-usage.html#ssl-warnings\n",
      "  warnings.warn(\n",
      "/usr/lib/python3/dist-packages/urllib3/connectionpool.py:1015: InsecureRequestWarning: Unverified HTTPS request is being made to host 'digital.lib.umd.edu'. Adding certificate verification is strongly advised. See: https://urllib3.readthedocs.io/en/latest/advanced-usage.html#ssl-warnings\n",
      "  warnings.warn(\n",
      "/usr/lib/python3/dist-packages/urllib3/connectionpool.py:1015: InsecureRequestWarning: Unverified HTTPS request is being made to host 'digital.lib.umd.edu'. Adding certificate verification is strongly advised. See: https://urllib3.readthedocs.io/en/latest/advanced-usage.html#ssl-warnings\n",
      "  warnings.warn(\n",
      "/usr/lib/python3/dist-packages/urllib3/connectionpool.py:1015: InsecureRequestWarning: Unverified HTTPS request is being made to host 'digital.lib.umd.edu'. Adding certificate verification is strongly advised. See: https://urllib3.readthedocs.io/en/latest/advanced-usage.html#ssl-warnings\n",
      "  warnings.warn(\n",
      "/usr/lib/python3/dist-packages/urllib3/connectionpool.py:1015: InsecureRequestWarning: Unverified HTTPS request is being made to host 'digital.lib.umd.edu'. Adding certificate verification is strongly advised. See: https://urllib3.readthedocs.io/en/latest/advanced-usage.html#ssl-warnings\n",
      "  warnings.warn(\n",
      "/usr/lib/python3/dist-packages/urllib3/connectionpool.py:1015: InsecureRequestWarning: Unverified HTTPS request is being made to host 'digital.lib.umd.edu'. Adding certificate verification is strongly advised. See: https://urllib3.readthedocs.io/en/latest/advanced-usage.html#ssl-warnings\n",
      "  warnings.warn(\n",
      "/usr/lib/python3/dist-packages/urllib3/connectionpool.py:1015: InsecureRequestWarning: Unverified HTTPS request is being made to host 'digital.lib.umd.edu'. Adding certificate verification is strongly advised. See: https://urllib3.readthedocs.io/en/latest/advanced-usage.html#ssl-warnings\n",
      "  warnings.warn(\n",
      "/usr/lib/python3/dist-packages/urllib3/connectionpool.py:1015: InsecureRequestWarning: Unverified HTTPS request is being made to host 'digital.lib.umd.edu'. Adding certificate verification is strongly advised. See: https://urllib3.readthedocs.io/en/latest/advanced-usage.html#ssl-warnings\n",
      "  warnings.warn(\n",
      "/usr/lib/python3/dist-packages/urllib3/connectionpool.py:1015: InsecureRequestWarning: Unverified HTTPS request is being made to host 'digital.lib.umd.edu'. Adding certificate verification is strongly advised. See: https://urllib3.readthedocs.io/en/latest/advanced-usage.html#ssl-warnings\n",
      "  warnings.warn(\n",
      "/usr/lib/python3/dist-packages/urllib3/connectionpool.py:1015: InsecureRequestWarning: Unverified HTTPS request is being made to host 'digital.lib.umd.edu'. Adding certificate verification is strongly advised. See: https://urllib3.readthedocs.io/en/latest/advanced-usage.html#ssl-warnings\n",
      "  warnings.warn(\n",
      "/usr/lib/python3/dist-packages/urllib3/connectionpool.py:1015: InsecureRequestWarning: Unverified HTTPS request is being made to host 'digital.lib.umd.edu'. Adding certificate verification is strongly advised. See: https://urllib3.readthedocs.io/en/latest/advanced-usage.html#ssl-warnings\n",
      "  warnings.warn(\n",
      "/usr/lib/python3/dist-packages/urllib3/connectionpool.py:1015: InsecureRequestWarning: Unverified HTTPS request is being made to host 'scholarlyediting.org'. Adding certificate verification is strongly advised. See: https://urllib3.readthedocs.io/en/latest/advanced-usage.html#ssl-warnings\n",
      "  warnings.warn(\n"
     ]
    },
    {
     "name": "stdout",
     "output_type": "stream",
     "text": [
      "Checked URL http://scholarlyediting.org/2012/editions/baroness/main.baroness.html, Status was 200\n"
     ]
    },
    {
     "name": "stderr",
     "output_type": "stream",
     "text": [
      "/usr/lib/python3/dist-packages/urllib3/connectionpool.py:1015: InsecureRequestWarning: Unverified HTTPS request is being made to host 'editionen.bbf.dipf.de'. Adding certificate verification is strongly advised. See: https://urllib3.readthedocs.io/en/latest/advanced-usage.html#ssl-warnings\n",
      "  warnings.warn(\n",
      "/usr/lib/python3/dist-packages/urllib3/connectionpool.py:1015: InsecureRequestWarning: Unverified HTTPS request is being made to host 'editionen.bbf.dipf.de'. Adding certificate verification is strongly advised. See: https://urllib3.readthedocs.io/en/latest/advanced-usage.html#ssl-warnings\n",
      "  warnings.warn(\n"
     ]
    },
    {
     "name": "stdout",
     "output_type": "stream",
     "text": [
      "Checked URL https://editionen.bbf.dipf.de/briefedition-friedrich-froebel/ueber-die-edition, Status was 200\n",
      "Checked URL https://www.dhi.ac.uk/onlinefroissart/, Status was 200\n"
     ]
    },
    {
     "name": "stderr",
     "output_type": "stream",
     "text": [
      "/usr/lib/python3/dist-packages/urllib3/connectionpool.py:1015: InsecureRequestWarning: Unverified HTTPS request is being made to host 'www.dhi.ac.uk'. Adding certificate verification is strongly advised. See: https://urllib3.readthedocs.io/en/latest/advanced-usage.html#ssl-warnings\n",
      "  warnings.warn(\n"
     ]
    },
    {
     "name": "stdout",
     "output_type": "stream",
     "text": [
      "Checked URL http://diglib.hab.de/edoc/ed000213/start.htm, Status was 200\n"
     ]
    },
    {
     "name": "stderr",
     "output_type": "stream",
     "text": [
      "/usr/lib/python3/dist-packages/urllib3/connectionpool.py:1015: InsecureRequestWarning: Unverified HTTPS request is being made to host 'www.mpiwg-berlin.mpg.de'. Adding certificate verification is strongly advised. See: https://urllib3.readthedocs.io/en/latest/advanced-usage.html#ssl-warnings\n",
      "  warnings.warn(\n",
      "/usr/lib/python3/dist-packages/urllib3/connectionpool.py:1015: InsecureRequestWarning: Unverified HTTPS request is being made to host 'www.dhi.ac.uk'. Adding certificate verification is strongly advised. See: https://urllib3.readthedocs.io/en/latest/advanced-usage.html#ssl-warnings\n",
      "  warnings.warn(\n"
     ]
    },
    {
     "name": "stdout",
     "output_type": "stream",
     "text": [
      "Checked URL http://www.mpiwg-berlin.mpg.de/Galileo_Prototype/MAIN.HTM, Status was 200\n",
      "Checked URL https://www.dhi.ac.uk/galdos/index.html, Status was 200\n"
     ]
    },
    {
     "name": "stderr",
     "output_type": "stream",
     "text": [
      "/usr/lib/python3/dist-packages/urllib3/connectionpool.py:1015: InsecureRequestWarning: Unverified HTTPS request is being made to host 'www.rose.uzh.ch'. Adding certificate verification is strongly advised. See: https://urllib3.readthedocs.io/en/latest/advanced-usage.html#ssl-warnings\n",
      "  warnings.warn(\n"
     ]
    },
    {
     "name": "stdout",
     "output_type": "stream",
     "text": [
      "Checked URL http://www.rose.uzh.ch/docling/, Status was 200\n"
     ]
    },
    {
     "name": "stderr",
     "output_type": "stream",
     "text": [
      "/usr/lib/python3/dist-packages/urllib3/connectionpool.py:1015: InsecureRequestWarning: Unverified HTTPS request is being made to host 'web.archive.org'. Adding certificate verification is strongly advised. See: https://urllib3.readthedocs.io/en/latest/advanced-usage.html#ssl-warnings\n",
      "  warnings.warn(\n"
     ]
    },
    {
     "name": "stdout",
     "output_type": "stream",
     "text": [
      "Checked URL https://web.archive.org/web/20090421081330/http://adh.sc.edu/mg/mg-table.html, Status was 200\n",
      "Checked URL http://www.gasconrolls.org/en/, Status was 404\n"
     ]
    },
    {
     "name": "stderr",
     "output_type": "stream",
     "text": [
      "/usr/lib/python3/dist-packages/urllib3/connectionpool.py:1015: InsecureRequestWarning: Unverified HTTPS request is being made to host 'gauss.adw-goe.de'. Adding certificate verification is strongly advised. See: https://urllib3.readthedocs.io/en/latest/advanced-usage.html#ssl-warnings\n",
      "  warnings.warn(\n"
     ]
    },
    {
     "name": "stdout",
     "output_type": "stream",
     "text": [
      "Checked URL http://gauss.adw-goe.de/, Status was 200\n",
      "Checked URL http://geraardsbergen.huygens.knaw.nl/, Status was 200\n"
     ]
    },
    {
     "name": "stderr",
     "output_type": "stream",
     "text": [
      "/usr/lib/python3/dist-packages/urllib3/connectionpool.py:1015: InsecureRequestWarning: Unverified HTTPS request is being made to host 'geesebook.asu.edu'. Adding certificate verification is strongly advised. See: https://urllib3.readthedocs.io/en/latest/advanced-usage.html#ssl-warnings\n",
      "  warnings.warn(\n"
     ]
    },
    {
     "name": "stdout",
     "output_type": "stream",
     "text": [
      "Checked URL http://geesebook.asu.edu, Status was 200\n"
     ]
    },
    {
     "name": "stderr",
     "output_type": "stream",
     "text": [
      "/usr/lib/python3/dist-packages/urllib3/connectionpool.py:1015: InsecureRequestWarning: Unverified HTTPS request is being made to host 'germanletters.org'. Adding certificate verification is strongly advised. See: https://urllib3.readthedocs.io/en/latest/advanced-usage.html#ssl-warnings\n",
      "  warnings.warn(\n"
     ]
    },
    {
     "name": "stdout",
     "output_type": "stream",
     "text": [
      "Checked URL https://germanletters.org, Status was 200\n"
     ]
    },
    {
     "name": "stderr",
     "output_type": "stream",
     "text": [
      "/usr/lib/python3/dist-packages/urllib3/connectionpool.py:1015: InsecureRequestWarning: Unverified HTTPS request is being made to host 'jewish-history-online.net'. Adding certificate verification is strongly advised. See: https://urllib3.readthedocs.io/en/latest/advanced-usage.html#ssl-warnings\n",
      "  warnings.warn(\n"
     ]
    },
    {
     "name": "stdout",
     "output_type": "stream",
     "text": [
      "Checked URL https://jewish-history-online.net, Status was 200\n"
     ]
    },
    {
     "name": "stderr",
     "output_type": "stream",
     "text": [
      "/usr/lib/python3/dist-packages/urllib3/connectionpool.py:1015: InsecureRequestWarning: Unverified HTTPS request is being made to host 'web.archive.org'. Adding certificate verification is strongly advised. See: https://urllib3.readthedocs.io/en/latest/advanced-usage.html#ssl-warnings\n",
      "  warnings.warn(\n"
     ]
    },
    {
     "name": "stdout",
     "output_type": "stream",
     "text": [
      "Checked URL https://web.archive.org/web/20181215175000/http://www.ghettochronik.de/de/, Status was 200\n",
      "Checked URL https://www.dhi.ac.uk/gide-les-caves-du-vatican/data/sommaire/front.htm, Status was 200\n"
     ]
    },
    {
     "name": "stderr",
     "output_type": "stream",
     "text": [
      "/usr/lib/python3/dist-packages/urllib3/connectionpool.py:1015: InsecureRequestWarning: Unverified HTTPS request is being made to host 'www.dhi.ac.uk'. Adding certificate verification is strongly advised. See: https://urllib3.readthedocs.io/en/latest/advanced-usage.html#ssl-warnings\n",
      "  warnings.warn(\n",
      "/usr/lib/python3/dist-packages/urllib3/connectionpool.py:1015: InsecureRequestWarning: Unverified HTTPS request is being made to host 'romantic-circles.org'. Adding certificate verification is strongly advised. See: https://urllib3.readthedocs.io/en/latest/advanced-usage.html#ssl-warnings\n",
      "  warnings.warn(\n"
     ]
    },
    {
     "name": "stdout",
     "output_type": "stream",
     "text": [
      "Checked URL https://romantic-circles.org/editions/gipsy_prince, Status was 200\n",
      "Checked URL http://www.martianus.mueze.lmu.de/index.htm, Status was 200\n"
     ]
    },
    {
     "name": "stderr",
     "output_type": "stream",
     "text": [
      "/usr/lib/python3/dist-packages/urllib3/connectionpool.py:1015: InsecureRequestWarning: Unverified HTTPS request is being made to host 'gloss-e.irht.cnrs.fr'. Adding certificate verification is strongly advised. See: https://urllib3.readthedocs.io/en/latest/advanced-usage.html#ssl-warnings\n",
      "  warnings.warn(\n"
     ]
    },
    {
     "name": "stdout",
     "output_type": "stream",
     "text": [
      "Checked URL https://gloss-e.irht.cnrs.fr, Status was 200\n",
      "Checked URL http://godwindiary.bodleian.ox.ac.uk, Status was 200\n"
     ]
    },
    {
     "name": "stderr",
     "output_type": "stream",
     "text": [
      "/usr/lib/python3/dist-packages/urllib3/connectionpool.py:1015: InsecureRequestWarning: Unverified HTTPS request is being made to host 'romantic-circles.org'. Adding certificate verification is strongly advised. See: https://urllib3.readthedocs.io/en/latest/advanced-usage.html#ssl-warnings\n",
      "  warnings.warn(\n"
     ]
    },
    {
     "name": "stdout",
     "output_type": "stream",
     "text": [
      "Checked URL https://romantic-circles.org/editions/godwin_fables/index.html, Status was 200\n"
     ]
    },
    {
     "name": "stderr",
     "output_type": "stream",
     "text": [
      "/usr/lib/python3/dist-packages/urllib3/connectionpool.py:1015: InsecureRequestWarning: Unverified HTTPS request is being made to host 'deystroom.huygens.knaw.nl'. Adding certificate verification is strongly advised. See: https://urllib3.readthedocs.io/en/latest/advanced-usage.html#ssl-warnings\n",
      "  warnings.warn(\n"
     ]
    },
    {
     "name": "stdout",
     "output_type": "stream",
     "text": [
      "Checked URL https://deystroom.huygens.knaw.nl, Status was 403\n",
      "Checked URL http://www.jgoethe.uni-muenchen.de/, Status was 200\n"
     ]
    },
    {
     "name": "stderr",
     "output_type": "stream",
     "text": [
      "/usr/lib/python3/dist-packages/urllib3/connectionpool.py:1015: InsecureRequestWarning: Unverified HTTPS request is being made to host 'obvil.sorbonne-universite.fr'. Adding certificate verification is strongly advised. See: https://urllib3.readthedocs.io/en/latest/advanced-usage.html#ssl-warnings\n",
      "  warnings.warn(\n"
     ]
    },
    {
     "name": "stdout",
     "output_type": "stream",
     "text": [
      "Checked URL http://obvil.sorbonne-universite.fr/corpus/gongora/, Status was 200\n",
      "Checked URL http://goytisolo.unibe.ch/, Status was 200\n",
      "Checked URL http://txm.ish-lyon.cnrs.fr/bfm/, Status was 200\n",
      "Checked URL http://www.grabbe-portal.de, Status was 200\n",
      "Checked URL http://www.steinheim-institut.de/cgi-bin/epidat?lang=de, Status was 200\n"
     ]
    },
    {
     "name": "stderr",
     "output_type": "stream",
     "text": [
      "/usr/lib/python3/dist-packages/urllib3/connectionpool.py:1015: InsecureRequestWarning: Unverified HTTPS request is being made to host 'rotunda.upress.virginia.edu'. Adding certificate verification is strongly advised. See: https://urllib3.readthedocs.io/en/latest/advanced-usage.html#ssl-warnings\n",
      "  warnings.warn(\n"
     ]
    },
    {
     "name": "stdout",
     "output_type": "stream",
     "text": [
      "Checked URL https://rotunda.upress.virginia.edu/founders/GRNT.html, Status was 200\n"
     ]
    },
    {
     "name": "stderr",
     "output_type": "stream",
     "text": [
      "/usr/lib/python3/dist-packages/urllib3/connectionpool.py:1015: InsecureRequestWarning: Unverified HTTPS request is being made to host 'graves.uvic.ca'. Adding certificate verification is strongly advised. See: https://urllib3.readthedocs.io/en/latest/advanced-usage.html#ssl-warnings\n",
      "  warnings.warn(\n"
     ]
    },
    {
     "name": "stdout",
     "output_type": "stream",
     "text": [
      "Checked URL http://graves.uvic.ca/, Status was 200\n"
     ]
    },
    {
     "name": "stderr",
     "output_type": "stream",
     "text": [
      "/usr/lib/python3/dist-packages/urllib3/connectionpool.py:1015: InsecureRequestWarning: Unverified HTTPS request is being made to host 'www.thomasgray.org'. Adding certificate verification is strongly advised. See: https://urllib3.readthedocs.io/en/latest/advanced-usage.html#ssl-warnings\n",
      "  warnings.warn(\n"
     ]
    },
    {
     "name": "stdout",
     "output_type": "stream",
     "text": [
      "Checked URL http://www.thomasgray.org/, Status was 200\n"
     ]
    },
    {
     "name": "stderr",
     "output_type": "stream",
     "text": [
      "/usr/lib/python3/dist-packages/urllib3/connectionpool.py:1015: InsecureRequestWarning: Unverified HTTPS request is being made to host 'www.greatparchmentbook.org'. Adding certificate verification is strongly advised. See: https://urllib3.readthedocs.io/en/latest/advanced-usage.html#ssl-warnings\n",
      "  warnings.warn(\n"
     ]
    },
    {
     "name": "stdout",
     "output_type": "stream",
     "text": [
      "Checked URL http://www.greatparchmentbook.org/, Status was 200\n"
     ]
    },
    {
     "name": "stderr",
     "output_type": "stream",
     "text": [
      "/usr/lib/python3/dist-packages/urllib3/connectionpool.py:1015: InsecureRequestWarning: Unverified HTTPS request is being made to host 'web.archive.org'. Adding certificate verification is strongly advised. See: https://urllib3.readthedocs.io/en/latest/advanced-usage.html#ssl-warnings\n",
      "  warnings.warn(\n"
     ]
    },
    {
     "name": "stdout",
     "output_type": "stream",
     "text": [
      "Checked URL https://web.archive.org/web/20090103134016/http://adh.sc.edu/ng/ng-table.html, Status was 200\n"
     ]
    },
    {
     "name": "stderr",
     "output_type": "stream",
     "text": [
      "/usr/lib/python3/dist-packages/urllib3/connectionpool.py:1015: InsecureRequestWarning: Unverified HTTPS request is being made to host 'gregorovius-edition.dhi-roma.it'. Adding certificate verification is strongly advised. See: https://urllib3.readthedocs.io/en/latest/advanced-usage.html#ssl-warnings\n",
      "  warnings.warn(\n"
     ]
    },
    {
     "name": "stdout",
     "output_type": "stream",
     "text": [
      "Checked URL https://gregorovius-edition.dhi-roma.it, Status was 200\n"
     ]
    },
    {
     "name": "stderr",
     "output_type": "stream",
     "text": [
      "/usr/lib/python3/dist-packages/urllib3/connectionpool.py:1015: InsecureRequestWarning: Unverified HTTPS request is being made to host 'romantic-circles.org'. Adding certificate verification is strongly advised. See: https://urllib3.readthedocs.io/en/latest/advanced-usage.html#ssl-warnings\n",
      "  warnings.warn(\n"
     ]
    },
    {
     "name": "stdout",
     "output_type": "stream",
     "text": [
      "Checked URL https://romantic-circles.org/editions/griffin, Status was 200\n"
     ]
    },
    {
     "name": "stderr",
     "output_type": "stream",
     "text": [
      "/usr/lib/python3/dist-packages/urllib3/connectionpool.py:1015: InsecureRequestWarning: Unverified HTTPS request is being made to host 'web.archive.org'. Adding certificate verification is strongly advised. See: https://urllib3.readthedocs.io/en/latest/advanced-usage.html#ssl-warnings\n",
      "  warnings.warn(\n"
     ]
    },
    {
     "name": "stdout",
     "output_type": "stream",
     "text": [
      "Checked URL https://web.archive.org/web/20080516085000/http://www.ceth.rutgers.edu/projects/Griffis/project.htm, Status was 200\n",
      "Checked URL http://grotius.huygens.knaw.nl/years, Status was 200\n",
      "Checked URL http://grundtvigsvaerker.dk, Status was 200\n"
     ]
    },
    {
     "name": "stderr",
     "output_type": "stream",
     "text": [
      "/usr/lib/python3/dist-packages/urllib3/connectionpool.py:1015: InsecureRequestWarning: Unverified HTTPS request is being made to host 'www.kb.nl'. Adding certificate verification is strongly advised. See: https://urllib3.readthedocs.io/en/latest/advanced-usage.html#ssl-warnings\n",
      "  warnings.warn(\n",
      "/usr/lib/python3/dist-packages/urllib3/connectionpool.py:1015: InsecureRequestWarning: Unverified HTTPS request is being made to host 'www.kb.nl'. Adding certificate verification is strongly advised. See: https://urllib3.readthedocs.io/en/latest/advanced-usage.html#ssl-warnings\n",
      "  warnings.warn(\n"
     ]
    },
    {
     "name": "stdout",
     "output_type": "stream",
     "text": [
      "Checked URL https://www.kb.nl/themas/middeleeuwen/het-gruuthusehandschrift, Status was 200\n"
     ]
    },
    {
     "name": "stderr",
     "output_type": "stream",
     "text": [
      "/usr/lib/python3/dist-packages/urllib3/connectionpool.py:1015: InsecureRequestWarning: Unverified HTTPS request is being made to host 'guillelmus.uni-koeln.de'. Adding certificate verification is strongly advised. See: https://urllib3.readthedocs.io/en/latest/advanced-usage.html#ssl-warnings\n",
      "  warnings.warn(\n",
      "/usr/lib/python3/dist-packages/urllib3/connectionpool.py:1015: InsecureRequestWarning: Unverified HTTPS request is being made to host 'guillelmus.uni-koeln.de'. Adding certificate verification is strongly advised. See: https://urllib3.readthedocs.io/en/latest/advanced-usage.html#ssl-warnings\n",
      "  warnings.warn(\n"
     ]
    },
    {
     "name": "stdout",
     "output_type": "stream",
     "text": [
      "Checked URL http://guillelmus.uni-koeln.de/, Status was 200\n",
      "Checked URL http://gams.uni-graz.at/context:lge, Status was 200\n"
     ]
    },
    {
     "name": "stderr",
     "output_type": "stream",
     "text": [
      "/usr/lib/python3/dist-packages/urllib3/connectionpool.py:1015: InsecureRequestWarning: Unverified HTTPS request is being made to host 'gutzkow.de'. Adding certificate verification is strongly advised. See: https://urllib3.readthedocs.io/en/latest/advanced-usage.html#ssl-warnings\n",
      "  warnings.warn(\n"
     ]
    },
    {
     "name": "stdout",
     "output_type": "stream",
     "text": [
      "Checked URL http://projects.exeter.ac.uk/gutzkow/Gutzneu/edition/index.htm, Status was 200\n"
     ]
    },
    {
     "name": "stderr",
     "output_type": "stream",
     "text": [
      "/usr/lib/python3/dist-packages/urllib3/connectionpool.py:1015: InsecureRequestWarning: Unverified HTTPS request is being made to host 'www.hamann-ausgabe.de'. Adding certificate verification is strongly advised. See: https://urllib3.readthedocs.io/en/latest/advanced-usage.html#ssl-warnings\n",
      "  warnings.warn(\n"
     ]
    },
    {
     "name": "stdout",
     "output_type": "stream",
     "text": [
      "Checked URL https://www.hamann-ausgabe.de, Status was 200\n",
      "Checked URL http://www.spaetmittelalter.uni-hamburg.de/hamburgisches_ub/, Status was 200\n"
     ]
    },
    {
     "name": "stderr",
     "output_type": "stream",
     "text": [
      "/usr/lib/python3/dist-packages/urllib3/connectionpool.py:1015: InsecureRequestWarning: Unverified HTTPS request is being made to host 'rotunda.upress.virginia.edu'. Adding certificate verification is strongly advised. See: https://urllib3.readthedocs.io/en/latest/advanced-usage.html#ssl-warnings\n",
      "  warnings.warn(\n"
     ]
    },
    {
     "name": "stdout",
     "output_type": "stream",
     "text": [
      "Checked URL https://rotunda.upress.virginia.edu/founders/ARHN.html, Status was 200\n"
     ]
    },
    {
     "name": "stderr",
     "output_type": "stream",
     "text": [
      "/usr/lib/python3/dist-packages/urllib3/connectionpool.py:1015: InsecureRequestWarning: Unverified HTTPS request is being made to host 'www.bessofhardwick.org'. Adding certificate verification is strongly advised. See: https://urllib3.readthedocs.io/en/latest/advanced-usage.html#ssl-warnings\n",
      "  warnings.warn(\n"
     ]
    },
    {
     "name": "stdout",
     "output_type": "stream",
     "text": [
      "Checked URL https://www.bessofhardwick.org/home.jsp, Status was 200\n",
      "Checked URL http://charles-harpur.org/, Status was 200\n",
      "Checked URL https://www.dhi.ac.uk/hartlib/, Status was 200\n"
     ]
    },
    {
     "name": "stderr",
     "output_type": "stream",
     "text": [
      "/usr/lib/python3/dist-packages/urllib3/connectionpool.py:1015: InsecureRequestWarning: Unverified HTTPS request is being made to host 'www.dhi.ac.uk'. Adding certificate verification is strongly advised. See: https://urllib3.readthedocs.io/en/latest/advanced-usage.html#ssl-warnings\n",
      "  warnings.warn(\n",
      "/usr/lib/python3/dist-packages/urllib3/connectionpool.py:1015: InsecureRequestWarning: Unverified HTTPS request is being made to host 'www.fgcu.edu'. Adding certificate verification is strongly advised. See: https://urllib3.readthedocs.io/en/latest/advanced-usage.html#ssl-warnings\n",
      "  warnings.warn(\n",
      "/usr/lib/python3/dist-packages/urllib3/connectionpool.py:1015: InsecureRequestWarning: Unverified HTTPS request is being made to host 'www.fgcu.edu'. Adding certificate verification is strongly advised. See: https://urllib3.readthedocs.io/en/latest/advanced-usage.html#ssl-warnings\n",
      "  warnings.warn(\n"
     ]
    },
    {
     "name": "stdout",
     "output_type": "stream",
     "text": [
      "Checked URL http://www.fgcu.edu/rboggs/hartmann/, Status was 404\n"
     ]
    },
    {
     "name": "stderr",
     "output_type": "stream",
     "text": [
      "/usr/lib/python3/dist-packages/urllib3/connectionpool.py:1015: InsecureRequestWarning: Unverified HTTPS request is being made to host 'digi.ub.uni-heidelberg.de'. Adding certificate verification is strongly advised. See: https://urllib3.readthedocs.io/en/latest/advanced-usage.html#ssl-warnings\n",
      "  warnings.warn(\n"
     ]
    },
    {
     "name": "stdout",
     "output_type": "stream",
     "text": [
      "Checked URL http://digi.ub.uni-heidelberg.de/ahd/, Status was 200\n"
     ]
    },
    {
     "name": "stderr",
     "output_type": "stream",
     "text": [
      "/usr/lib/python3/dist-packages/urllib3/connectionpool.py:1015: InsecureRequestWarning: Unverified HTTPS request is being made to host 'haussknecht.thulb.uni-jena.de'. Adding certificate verification is strongly advised. See: https://urllib3.readthedocs.io/en/latest/advanced-usage.html#ssl-warnings\n",
      "  warnings.warn(\n"
     ]
    },
    {
     "name": "stdout",
     "output_type": "stream",
     "text": [
      "Checked URL http://haussknecht.thulb.uni-jena.de/index.php?id=301, Status was 200\n",
      "Checked URL http://gams.uni-graz.at/context:htx, Status was 200\n",
      "Checked URL http://diglib.hab.de/edoc/ed000084/start.htm, Status was 200\n",
      "Checked URL http://germazope.uni-trier.de/Projects/HHP, Status was 200\n"
     ]
    },
    {
     "name": "stderr",
     "output_type": "stream",
     "text": [
      "/usr/lib/python3/dist-packages/urllib3/connectionpool.py:1015: InsecureRequestWarning: Unverified HTTPS request is being made to host 'web.archive.org'. Adding certificate verification is strongly advised. See: https://urllib3.readthedocs.io/en/latest/advanced-usage.html#ssl-warnings\n",
      "  warnings.warn(\n"
     ]
    },
    {
     "name": "stdout",
     "output_type": "stream",
     "text": [
      "Checked URL https://web.archive.org/web/20151226035209/http://golm.rz.uni-potsdam.de/hva/Default.htm, Status was 200\n"
     ]
    },
    {
     "name": "stderr",
     "output_type": "stream",
     "text": [
      "/usr/lib/python3/dist-packages/urllib3/connectionpool.py:1015: InsecureRequestWarning: Unverified HTTPS request is being made to host 'romantic-circles.org'. Adding certificate verification is strongly advised. See: https://urllib3.readthedocs.io/en/latest/advanced-usage.html#ssl-warnings\n",
      "  warnings.warn(\n"
     ]
    },
    {
     "name": "stdout",
     "output_type": "stream",
     "text": [
      "Checked URL https://romantic-circles.org/editions/sceptic/, Status was 200\n"
     ]
    },
    {
     "name": "stderr",
     "output_type": "stream",
     "text": [
      "/usr/lib/python3/dist-packages/urllib3/connectionpool.py:1015: InsecureRequestWarning: Unverified HTTPS request is being made to host 'www.nlm.nih.gov'. Adding certificate verification is strongly advised. See: https://urllib3.readthedocs.io/en/latest/advanced-usage.html#ssl-warnings\n",
      "  warnings.warn(\n"
     ]
    },
    {
     "name": "stdout",
     "output_type": "stream",
     "text": [
      "Checked URL http://www.nlm.nih.gov/hmd/digicolls/henkel/index.html, Status was 200\n"
     ]
    },
    {
     "name": "stderr",
     "output_type": "stream",
     "text": [
      "/usr/lib/python3/dist-packages/urllib3/connectionpool.py:1015: InsecureRequestWarning: Unverified HTTPS request is being made to host 'web.archive.org'. Adding certificate verification is strongly advised. See: https://urllib3.readthedocs.io/en/latest/advanced-usage.html#ssl-warnings\n",
      "  warnings.warn(\n"
     ]
    },
    {
     "name": "stdout",
     "output_type": "stream",
     "text": [
      "Checked URL https://web.archive.org/web/20090421081023/http://adh.sc.edu/jh/jh-table.html, Status was 200\n",
      "Checked URL http://medieval-inquisition.huma-num.fr/, Status was 200\n",
      "Checked URL http://www.livesandletters.ac.uk/herle/index.html, Status was 200\n",
      "Checked URL http://hesperia.ucm.es/index.php, Status was 200\n"
     ]
    },
    {
     "name": "stderr",
     "output_type": "stream",
     "text": [
      "/usr/lib/python3/dist-packages/urllib3/connectionpool.py:1015: InsecureRequestWarning: Unverified HTTPS request is being made to host 'rmnet.uni-trier.de'. Adding certificate verification is strongly advised. See: https://urllib3.readthedocs.io/en/latest/advanced-usage.html#ssl-warnings\n",
      "  warnings.warn(\n"
     ]
    },
    {
     "name": "stdout",
     "output_type": "stream",
     "text": [
      "Checked URL http://www.rmnet.uni-trier.de/cgi-bin/RMnetIndex.tcl?hea=qf&for=qfhxmusiel, Status was 200\n"
     ]
    },
    {
     "name": "stderr",
     "output_type": "stream",
     "text": [
      "/usr/lib/python3/dist-packages/urllib3/connectionpool.py:1015: InsecureRequestWarning: Unverified HTTPS request is being made to host 'aloys-hirt.bbaw.de'. Adding certificate verification is strongly advised. See: https://urllib3.readthedocs.io/en/latest/advanced-usage.html#ssl-warnings\n",
      "  warnings.warn(\n"
     ]
    },
    {
     "name": "stdout",
     "output_type": "stream",
     "text": [
      "Checked URL https://aloys-hirt.bbaw.de/index.xql, Status was 200\n"
     ]
    },
    {
     "name": "stderr",
     "output_type": "stream",
     "text": [
      "/usr/lib/python3/dist-packages/urllib3/connectionpool.py:1015: InsecureRequestWarning: Unverified HTTPS request is being made to host 'www.e-archiv.li'. Adding certificate verification is strongly advised. See: https://urllib3.readthedocs.io/en/latest/advanced-usage.html#ssl-warnings\n",
      "  warnings.warn(\n"
     ]
    },
    {
     "name": "stdout",
     "output_type": "stream",
     "text": [
      "Checked URL http://www.e-archiv.li/editionHome.aspx?eid=2, Status was 200\n",
      "Checked URL http://holbergsskrifter.dk/, Status was 200\n",
      "Checked URL http://www.cems.ox.ac.uk/holinshed/, Status was 404\n",
      "Checked URL http://resources.huygens.knaw.nl/registershollandsegrafelijkheid, Status was 200\n"
     ]
    },
    {
     "name": "stderr",
     "output_type": "stream",
     "text": [
      "/usr/lib/python3/dist-packages/urllib3/connectionpool.py:1015: InsecureRequestWarning: Unverified HTTPS request is being made to host 'www.homermultitext.org'. Adding certificate verification is strongly advised. See: https://urllib3.readthedocs.io/en/latest/advanced-usage.html#ssl-warnings\n",
      "  warnings.warn(\n"
     ]
    },
    {
     "name": "stdout",
     "output_type": "stream",
     "text": [
      "Checked URL http://www.homermultitext.org/, Status was 200\n"
     ]
    },
    {
     "name": "stderr",
     "output_type": "stream",
     "text": [
      "/usr/lib/python3/dist-packages/urllib3/connectionpool.py:1015: InsecureRequestWarning: Unverified HTTPS request is being made to host 'romantic-circles.org'. Adding certificate verification is strongly advised. See: https://urllib3.readthedocs.io/en/latest/advanced-usage.html#ssl-warnings\n",
      "  warnings.warn(\n"
     ]
    },
    {
     "name": "stdout",
     "output_type": "stream",
     "text": [
      "Checked URL https://romantic-circles.org/editions/hone/index.html, Status was 200\n",
      "Checked URL http://www.livesandletters.ac.uk/cell/Hooke/Hooke.html, Status was 200\n",
      "Checked URL http://gams.uni-graz.at/context:ohad, Status was 200\n"
     ]
    },
    {
     "name": "stderr",
     "output_type": "stream",
     "text": [
      "/usr/lib/python3/dist-packages/urllib3/connectionpool.py:1015: InsecureRequestWarning: Unverified HTTPS request is being made to host 'scholarlyediting.org'. Adding certificate verification is strongly advised. See: https://urllib3.readthedocs.io/en/latest/advanced-usage.html#ssl-warnings\n",
      "  warnings.warn(\n"
     ]
    },
    {
     "name": "stdout",
     "output_type": "stream",
     "text": [
      "Checked URL http://scholarlyediting.org/2016/editions/intro.dunning.html, Status was 200\n",
      "Checked URL http://telota.bbaw.de/AvHBriefedition/, Status was 200\n"
     ]
    },
    {
     "name": "stderr",
     "output_type": "stream",
     "text": [
      "/usr/lib/python3/dist-packages/urllib3/connectionpool.py:1015: InsecureRequestWarning: Unverified HTTPS request is being made to host 'edition-humboldt.de'. Adding certificate verification is strongly advised. See: https://urllib3.readthedocs.io/en/latest/advanced-usage.html#ssl-warnings\n",
      "  warnings.warn(\n"
     ]
    },
    {
     "name": "stdout",
     "output_type": "stream",
     "text": [
      "Checked URL https://edition-humboldt.de, Status was 200\n"
     ]
    },
    {
     "name": "stderr",
     "output_type": "stream",
     "text": [
      "/usr/lib/python3/dist-packages/urllib3/connectionpool.py:1015: InsecureRequestWarning: Unverified HTTPS request is being made to host 'davidhume.org'. Adding certificate verification is strongly advised. See: https://urllib3.readthedocs.io/en/latest/advanced-usage.html#ssl-warnings\n",
      "  warnings.warn(\n"
     ]
    },
    {
     "name": "stdout",
     "output_type": "stream",
     "text": [
      "Checked URL http://www.davidhume.org, Status was 200\n"
     ]
    },
    {
     "name": "stderr",
     "output_type": "stream",
     "text": [
      "/usr/lib/python3/dist-packages/urllib3/connectionpool.py:1015: InsecureRequestWarning: Unverified HTTPS request is being made to host 'www.univie.ac.at'. Adding certificate verification is strongly advised. See: https://urllib3.readthedocs.io/en/latest/advanced-usage.html#ssl-warnings\n",
      "  warnings.warn(\n",
      "/usr/lib/python3/dist-packages/urllib3/connectionpool.py:1015: InsecureRequestWarning: Unverified HTTPS request is being made to host 'digihung.univie.ac.at'. Adding certificate verification is strongly advised. See: https://urllib3.readthedocs.io/en/latest/advanced-usage.html#ssl-warnings\n",
      "  warnings.warn(\n",
      "/usr/lib/python3/dist-packages/urllib3/connectionpool.py:1015: InsecureRequestWarning: Unverified HTTPS request is being made to host 'digihung.univie.ac.at'. Adding certificate verification is strongly advised. See: https://urllib3.readthedocs.io/en/latest/advanced-usage.html#ssl-warnings\n",
      "  warnings.warn(\n"
     ]
    },
    {
     "name": "stdout",
     "output_type": "stream",
     "text": [
      "Checked URL http://www.univie.ac.at/digihung, Status was 200\n"
     ]
    },
    {
     "name": "stderr",
     "output_type": "stream",
     "text": [
      "/usr/lib/python3/dist-packages/urllib3/connectionpool.py:1015: InsecureRequestWarning: Unverified HTTPS request is being made to host 'digital.lib.uiowa.edu'. Adding certificate verification is strongly advised. See: https://urllib3.readthedocs.io/en/latest/advanced-usage.html#ssl-warnings\n",
      "  warnings.warn(\n"
     ]
    },
    {
     "name": "stdout",
     "output_type": "stream",
     "text": [
      "Checked URL http://digital.lib.uiowa.edu/leighhunt/, Status was 200\n"
     ]
    },
    {
     "name": "stderr",
     "output_type": "stream",
     "text": [
      "/usr/lib/python3/dist-packages/urllib3/connectionpool.py:1015: InsecureRequestWarning: Unverified HTTPS request is being made to host 'huondauvergne.org'. Adding certificate verification is strongly advised. See: https://urllib3.readthedocs.io/en/latest/advanced-usage.html#ssl-warnings\n",
      "  warnings.warn(\n",
      "/usr/lib/python3/dist-packages/urllib3/connectionpool.py:1015: InsecureRequestWarning: Unverified HTTPS request is being made to host 'www.huondauvergne.org'. Adding certificate verification is strongly advised. See: https://urllib3.readthedocs.io/en/latest/advanced-usage.html#ssl-warnings\n",
      "  warnings.warn(\n"
     ]
    },
    {
     "name": "stdout",
     "output_type": "stream",
     "text": [
      "Checked URL http://huondauvergne.org/, Status was 200\n"
     ]
    },
    {
     "name": "stderr",
     "output_type": "stream",
     "text": [
      "/usr/lib/python3/dist-packages/urllib3/connectionpool.py:1015: InsecureRequestWarning: Unverified HTTPS request is being made to host 'www.ibsen.uio.no'. Adding certificate verification is strongly advised. See: https://urllib3.readthedocs.io/en/latest/advanced-usage.html#ssl-warnings\n",
      "  warnings.warn(\n"
     ]
    },
    {
     "name": "stdout",
     "output_type": "stream",
     "text": [
      "Checked URL http://www.ibsen.uio.no/, Status was 200\n"
     ]
    },
    {
     "name": "stderr",
     "output_type": "stream",
     "text": [
      "/usr/lib/python3/dist-packages/urllib3/connectionpool.py:1015: InsecureRequestWarning: Unverified HTTPS request is being made to host 'iffland.bbaw.de'. Adding certificate verification is strongly advised. See: https://urllib3.readthedocs.io/en/latest/advanced-usage.html#ssl-warnings\n",
      "  warnings.warn(\n"
     ]
    },
    {
     "name": "stdout",
     "output_type": "stream",
     "text": [
      "Checked URL https://iffland.bbaw.de/index.xql, Status was 200\n"
     ]
    },
    {
     "name": "stderr",
     "output_type": "stream",
     "text": [
      "/usr/lib/python3/dist-packages/urllib3/connectionpool.py:1015: InsecureRequestWarning: Unverified HTTPS request is being made to host 'inquisitionspostmortem.ac.uk'. Adding certificate verification is strongly advised. See: https://urllib3.readthedocs.io/en/latest/advanced-usage.html#ssl-warnings\n",
      "  warnings.warn(\n"
     ]
    },
    {
     "name": "stdout",
     "output_type": "stream",
     "text": [
      "Checked URL http://www.inquisitionspostmortem.ac.uk/, Status was 200\n",
      "Checked URL http://iaa.bibl.u-szeged.hu/index.php?page=home, Status was 200\n",
      "Checked URL http://telota.bbaw.de/ig/, Status was 200\n"
     ]
    },
    {
     "name": "stderr",
     "output_type": "stream",
     "text": [
      "/usr/lib/python3/dist-packages/urllib3/connectionpool.py:1015: InsecureRequestWarning: Unverified HTTPS request is being made to host 'analytics.irht.cnrs.fr'. Adding certificate verification is strongly advised. See: https://urllib3.readthedocs.io/en/latest/advanced-usage.html#ssl-warnings\n",
      "  warnings.warn(\n"
     ]
    },
    {
     "name": "stdout",
     "output_type": "stream",
     "text": [
      "Checked URL http://www.libraria.fr/editions-inventaires, Status was 404\n",
      "Checked URL http://www.nikulas.ds.uni-tuebingen.de/omeka/neatline/fullscreen/itinerar-nikulas, Status was 200\n"
     ]
    },
    {
     "name": "stderr",
     "output_type": "stream",
     "text": [
      "/usr/lib/python3/dist-packages/urllib3/connectionpool.py:1015: InsecureRequestWarning: Unverified HTTPS request is being made to host 'rotunda.upress.virginia.edu'. Adding certificate verification is strongly advised. See: https://urllib3.readthedocs.io/en/latest/advanced-usage.html#ssl-warnings\n",
      "  warnings.warn(\n"
     ]
    },
    {
     "name": "stdout",
     "output_type": "stream",
     "text": [
      "Checked URL https://rotunda.upress.virginia.edu/founders/JKSN.html, Status was 200\n",
      "Checked URL http://www.jaumeprimer.uji.es/, Status was 200\n"
     ]
    },
    {
     "name": "stderr",
     "output_type": "stream",
     "text": [
      "/usr/lib/python3/dist-packages/urllib3/connectionpool.py:1015: InsecureRequestWarning: Unverified HTTPS request is being made to host 'rotunda.upress.virginia.edu'. Adding certificate verification is strongly advised. See: https://urllib3.readthedocs.io/en/latest/advanced-usage.html#ssl-warnings\n",
      "  warnings.warn(\n"
     ]
    },
    {
     "name": "stdout",
     "output_type": "stream",
     "text": [
      "Checked URL https://rotunda.upress.virginia.edu/founders/JNJY.html, Status was 200\n"
     ]
    },
    {
     "name": "stderr",
     "output_type": "stream",
     "text": [
      "/usr/lib/python3/dist-packages/urllib3/connectionpool.py:1015: InsecureRequestWarning: Unverified HTTPS request is being made to host 'rotunda.upress.virginia.edu'. Adding certificate verification is strongly advised. See: https://urllib3.readthedocs.io/en/latest/advanced-usage.html#ssl-warnings\n",
      "  warnings.warn(\n"
     ]
    },
    {
     "name": "stdout",
     "output_type": "stream",
     "text": [
      "Checked URL https://rotunda.upress.virginia.edu/founders/TSJN.html, Status was 200\n"
     ]
    },
    {
     "name": "stderr",
     "output_type": "stream",
     "text": [
      "/usr/lib/python3/dist-packages/urllib3/connectionpool.py:1015: InsecureRequestWarning: Unverified HTTPS request is being made to host 'romantic-circles.org'. Adding certificate verification is strongly advised. See: https://urllib3.readthedocs.io/en/latest/advanced-usage.html#ssl-warnings\n",
      "  warnings.warn(\n"
     ]
    },
    {
     "name": "stdout",
     "output_type": "stream",
     "text": [
      "Checked URL https://romantic-circles.org/editions/oceanides/, Status was 200\n",
      "Checked URL http://www.yalejohnson.com, Status was 200\n"
     ]
    },
    {
     "name": "stderr",
     "output_type": "stream",
     "text": [
      "/usr/lib/python3/dist-packages/urllib3/connectionpool.py:1015: InsecureRequestWarning: Unverified HTTPS request is being made to host 'universitypublishingonline.org'. Adding certificate verification is strongly advised. See: https://urllib3.readthedocs.io/en/latest/advanced-usage.html#ssl-warnings\n",
      "  warnings.warn(\n"
     ]
    },
    {
     "name": "stdout",
     "output_type": "stream",
     "text": [
      "Checked URL https://universitypublishingonline.org/cambridge/benjonson/, Status was 200\n",
      "Checked URL http://textus.elte.hu/ja/index.html, Status was 200\n"
     ]
    },
    {
     "name": "stderr",
     "output_type": "stream",
     "text": [
      "/usr/lib/python3/dist-packages/urllib3/connectionpool.py:1015: InsecureRequestWarning: Unverified HTTPS request is being made to host 'lewisandclarkjournals.unl.edu'. Adding certificate verification is strongly advised. See: https://urllib3.readthedocs.io/en/latest/advanced-usage.html#ssl-warnings\n",
      "  warnings.warn(\n"
     ]
    },
    {
     "name": "stdout",
     "output_type": "stream",
     "text": [
      "Checked URL https://lewisandclarkjournals.unl.edu, Status was 200\n"
     ]
    },
    {
     "name": "stderr",
     "output_type": "stream",
     "text": [
      "/usr/lib/python3/dist-packages/urllib3/connectionpool.py:1015: InsecureRequestWarning: Unverified HTTPS request is being made to host 'jjda.ie'. Adding certificate verification is strongly advised. See: https://urllib3.readthedocs.io/en/latest/advanced-usage.html#ssl-warnings\n",
      "  warnings.warn(\n",
      "/usr/lib/python3/dist-packages/urllib3/connectionpool.py:1015: InsecureRequestWarning: Unverified HTTPS request is being made to host 'jjda.ie'. Adding certificate verification is strongly advised. See: https://urllib3.readthedocs.io/en/latest/advanced-usage.html#ssl-warnings\n",
      "  warnings.warn(\n"
     ]
    },
    {
     "name": "stdout",
     "output_type": "stream",
     "text": [
      "Checked URL http://jjda.ie, Status was 200\n",
      "Checked URL http://www.evellum.com/index.php?page=shop.product_details&flypage=flypage_bodleian.tpl&product_id=6&category_id=2&option=com_virtuemart&Itemid=293, Status was 406\n",
      "Checked URL http://diglib.hab.de/edoc/ed000081/startx.htm, Status was 200\n",
      "Checked URL http://www.textkritik.de/fka/dokumente/process.htm, Status was 200\n",
      "Checked URL http://aino.finlit.fi/omeka, Status was 200\n"
     ]
    },
    {
     "name": "stderr",
     "output_type": "stream",
     "text": [
      "/usr/lib/python3/dist-packages/urllib3/connectionpool.py:1015: InsecureRequestWarning: Unverified HTTPS request is being made to host 'kroniekvankampen.huygens.knaw.nl'. Adding certificate verification is strongly advised. See: https://urllib3.readthedocs.io/en/latest/advanced-usage.html#ssl-warnings\n",
      "  warnings.warn(\n"
     ]
    },
    {
     "name": "stdout",
     "output_type": "stream",
     "text": [
      "Checked URL https://kroniekvankampen.huygens.knaw.nl, Status was 403\n",
      "Checked URL http://diglib.hab.de/edoc/ed000216/start.htm, Status was 200\n"
     ]
    },
    {
     "name": "stderr",
     "output_type": "stream",
     "text": [
      "/usr/lib/python3/dist-packages/urllib3/connectionpool.py:1015: InsecureRequestWarning: Unverified HTTPS request is being made to host 'romantic-circles.org'. Adding certificate verification is strongly advised. See: https://urllib3.readthedocs.io/en/latest/advanced-usage.html#ssl-warnings\n",
      "  warnings.warn(\n"
     ]
    },
    {
     "name": "stdout",
     "output_type": "stream",
     "text": [
      "Checked URL https://romantic-circles.org/editions/keats/index.html, Status was 200\n"
     ]
    },
    {
     "name": "stderr",
     "output_type": "stream",
     "text": [
      "/usr/lib/python3/dist-packages/urllib3/connectionpool.py:1015: InsecureRequestWarning: Unverified HTTPS request is being made to host 'www.gottfriedkeller.ch'. Adding certificate verification is strongly advised. See: https://urllib3.readthedocs.io/en/latest/advanced-usage.html#ssl-warnings\n",
      "  warnings.warn(\n"
     ]
    },
    {
     "name": "stdout",
     "output_type": "stream",
     "text": [
      "Checked URL http://www.gottfriedkeller.ch/hkka/projekt.php, Status was 200\n"
     ]
    },
    {
     "name": "stderr",
     "output_type": "stream",
     "text": [
      "/usr/lib/python3/dist-packages/urllib3/connectionpool.py:1015: InsecureRequestWarning: Unverified HTTPS request is being made to host 'edview.dla-marbach.de'. Adding certificate verification is strongly advised. See: https://urllib3.readthedocs.io/en/latest/advanced-usage.html#ssl-warnings\n",
      "  warnings.warn(\n"
     ]
    },
    {
     "name": "stdout",
     "output_type": "stream",
     "text": [
      "Checked URL https://edview.dla-marbach.de, Status was 200\n",
      "Checked URL http://sks.dk, Status was 200\n",
      "Checked URL http://bakfj.saw-leipzig.de, Status was 200\n"
     ]
    },
    {
     "name": "stderr",
     "output_type": "stream",
     "text": [
      "/usr/lib/python3/dist-packages/urllib3/connectionpool.py:1015: InsecureRequestWarning: Unverified HTTPS request is being made to host 'web.stanford.edu'. Adding certificate verification is strongly advised. See: https://urllib3.readthedocs.io/en/latest/advanced-usage.html#ssl-warnings\n",
      "  warnings.warn(\n"
     ]
    },
    {
     "name": "stdout",
     "output_type": "stream",
     "text": [
      "Checked URL https://web.stanford.edu/group/kircher/cgi-bin/site/?page_id=7, Status was 200\n",
      "Checked URL http://diglib.hab.de/edoc/ed000005/start.htm, Status was 200\n",
      "Checked URL http://www.kleegestaltungslehre.zpk.org/ee/ZPK/Archiv/2011/01/25/00001/, Status was 200\n",
      "Checked URL http://www.koeppen-jugend.de/, Status was 200\n"
     ]
    },
    {
     "name": "stderr",
     "output_type": "stream",
     "text": [
      "/usr/lib/python3/dist-packages/urllib3/connectionpool.py:1015: InsecureRequestWarning: Unverified HTTPS request is being made to host 'www.library.illinois.edu'. Adding certificate verification is strongly advised. See: https://urllib3.readthedocs.io/en/latest/advanced-usage.html#ssl-warnings\n",
      "  warnings.warn(\n",
      "/usr/lib/python3/dist-packages/urllib3/connectionpool.py:1015: InsecureRequestWarning: Unverified HTTPS request is being made to host 'www.library.illinois.edu'. Adding certificate verification is strongly advised. See: https://urllib3.readthedocs.io/en/latest/advanced-usage.html#ssl-warnings\n",
      "  warnings.warn(\n"
     ]
    },
    {
     "name": "stdout",
     "output_type": "stream",
     "text": [
      "Checked URL http://www.library.uiuc.edu/kolbp/, Status was 200\n",
      "Checked URL http://kundigebok.stadtarchiv.goettingen.de/kb2Web/html/, Status was 404\n"
     ]
    },
    {
     "name": "stderr",
     "output_type": "stream",
     "text": [
      "/usr/lib/python3/dist-packages/urllib3/connectionpool.py:1015: InsecureRequestWarning: Unverified HTTPS request is being made to host 'www.herder-institut.de'. Adding certificate verification is strongly advised. See: https://urllib3.readthedocs.io/en/latest/advanced-usage.html#ssl-warnings\n",
      "  warnings.warn(\n"
     ]
    },
    {
     "name": "stdout",
     "output_type": "stream",
     "text": [
      "Checked URL https://www.herder-institut.de/bestaende-digitale-angebote/datenbanken/kurlaendische-gueterurkunden.html, Status was 404\n"
     ]
    },
    {
     "name": "stderr",
     "output_type": "stream",
     "text": [
      "/usr/lib/python3/dist-packages/urllib3/connectionpool.py:1015: InsecureRequestWarning: Unverified HTTPS request is being made to host 'lumieres.unil.ch'. Adding certificate verification is strongly advised. See: https://urllib3.readthedocs.io/en/latest/advanced-usage.html#ssl-warnings\n",
      "  warnings.warn(\n",
      "/usr/lib/python3/dist-packages/urllib3/connectionpool.py:1015: InsecureRequestWarning: Unverified HTTPS request is being made to host 'lumieres.unil.ch'. Adding certificate verification is strongly advised. See: https://urllib3.readthedocs.io/en/latest/advanced-usage.html#ssl-warnings\n",
      "  warnings.warn(\n"
     ]
    },
    {
     "name": "stdout",
     "output_type": "stream",
     "text": [
      "Checked URL http://lumieres.unil.ch/projets/la-harpe, Status was 200\n",
      "Checked URL http://www.svea-pommern.de/, Status was 200\n",
      "Checked URL http://protokolle.archive.nrw.de/, Status was 200\n"
     ]
    },
    {
     "name": "stderr",
     "output_type": "stream",
     "text": [
      "/usr/lib/python3/dist-packages/urllib3/connectionpool.py:1015: InsecureRequestWarning: Unverified HTTPS request is being made to host 'romantic-circles.org'. Adding certificate verification is strongly advised. See: https://urllib3.readthedocs.io/en/latest/advanced-usage.html#ssl-warnings\n",
      "  warnings.warn(\n"
     ]
    },
    {
     "name": "stdout",
     "output_type": "stream",
     "text": [
      "Checked URL https://romantic-circles.org/editions/lel/index.html, Status was 200\n",
      "Checked URL http://web.archive.org/web/20080616091917/http://www.historiker.de/projekte/orient/, Status was 200\n"
     ]
    },
    {
     "name": "stderr",
     "output_type": "stream",
     "text": [
      "/usr/lib/python3/dist-packages/urllib3/connectionpool.py:1015: InsecureRequestWarning: Unverified HTTPS request is being made to host 'web.archive.org'. Adding certificate verification is strongly advised. See: https://urllib3.readthedocs.io/en/latest/advanced-usage.html#ssl-warnings\n",
      "  warnings.warn(\n"
     ]
    },
    {
     "name": "stdout",
     "output_type": "stream",
     "text": [
      "Checked URL https://web.archive.org/web/20090421081017/http://adh.sc.edu/hl/hl-table.html, Status was 200\n",
      "Checked URL http://minilazarillo.github.io, Status was 200\n"
     ]
    },
    {
     "name": "stderr",
     "output_type": "stream",
     "text": [
      "/usr/lib/python3/dist-packages/urllib3/connectionpool.py:1015: InsecureRequestWarning: Unverified HTTPS request is being made to host 'lebenswelten-lehndorff.bbaw.de'. Adding certificate verification is strongly advised. See: https://urllib3.readthedocs.io/en/latest/advanced-usage.html#ssl-warnings\n",
      "  warnings.warn(\n",
      "/usr/lib/python3/dist-packages/urllib3/connectionpool.py:1015: InsecureRequestWarning: Unverified HTTPS request is being made to host 'lebenswelten-digital.bbaw.de'. Adding certificate verification is strongly advised. See: https://urllib3.readthedocs.io/en/latest/advanced-usage.html#ssl-warnings\n",
      "  warnings.warn(\n"
     ]
    },
    {
     "name": "stdout",
     "output_type": "stream",
     "text": [
      "Checked URL https://lebenswelten-lehndorff.bbaw.de/index.xql, Status was 200\n"
     ]
    },
    {
     "name": "stderr",
     "output_type": "stream",
     "text": [
      "/usr/lib/python3/dist-packages/urllib3/connectionpool.py:1015: InsecureRequestWarning: Unverified HTTPS request is being made to host 'leibnizviii.bbaw.de'. Adding certificate verification is strongly advised. See: https://urllib3.readthedocs.io/en/latest/advanced-usage.html#ssl-warnings\n",
      "  warnings.warn(\n",
      "/usr/lib/python3/dist-packages/urllib3/connectionpool.py:1015: InsecureRequestWarning: Unverified HTTPS request is being made to host 'leibniz-berlin.bbaw.de'. Adding certificate verification is strongly advised. See: https://urllib3.readthedocs.io/en/latest/advanced-usage.html#ssl-warnings\n",
      "  warnings.warn(\n"
     ]
    },
    {
     "name": "stdout",
     "output_type": "stream",
     "text": [
      "Checked URL http://leibnizviii.bbaw.de, Status was 200\n"
     ]
    },
    {
     "name": "stderr",
     "output_type": "stream",
     "text": [
      "/usr/lib/python3/dist-packages/urllib3/connectionpool.py:1015: InsecureRequestWarning: Unverified HTTPS request is being made to host 'leibniz-briefportal.adw-goe.de'. Adding certificate verification is strongly advised. See: https://urllib3.readthedocs.io/en/latest/advanced-usage.html#ssl-warnings\n",
      "  warnings.warn(\n"
     ]
    },
    {
     "name": "stdout",
     "output_type": "stream",
     "text": [
      "Checked URL https://leibniz-briefportal.adw-goe.de/start, Status was 404\n",
      "Checked URL http://diglib.hab.de/edoc/ed000146/start.htm, Status was 200\n"
     ]
    },
    {
     "name": "stderr",
     "output_type": "stream",
     "text": [
      "/usr/lib/python3/dist-packages/urllib3/connectionpool.py:1015: InsecureRequestWarning: Unverified HTTPS request is being made to host 'letters1916.ie'. Adding certificate verification is strongly advised. See: https://urllib3.readthedocs.io/en/latest/advanced-usage.html#ssl-warnings\n",
      "  warnings.warn(\n"
     ]
    },
    {
     "name": "stdout",
     "output_type": "stream",
     "text": [
      "Checked URL http://letters1916.maynoothuniversity.ie/, Status was 200\n",
      "Checked URL http://web.archive.org/web/20080221092434/http://palissy.humana.univ-nantes.fr/cete/txt/Remission/index.en.html, Status was 200\n"
     ]
    },
    {
     "name": "stderr",
     "output_type": "stream",
     "text": [
      "/usr/lib/python3/dist-packages/urllib3/connectionpool.py:1015: InsecureRequestWarning: Unverified HTTPS request is being made to host 'www.bayerische-landesbibliothek-online.de'. Adding certificate verification is strongly advised. See: https://urllib3.readthedocs.io/en/latest/advanced-usage.html#ssl-warnings\n",
      "  warnings.warn(\n",
      "/usr/lib/python3/dist-packages/urllib3/connectionpool.py:1015: InsecureRequestWarning: Unverified HTTPS request is being made to host 'www.bayerische-landesbibliothek-online.de'. Adding certificate verification is strongly advised. See: https://urllib3.readthedocs.io/en/latest/advanced-usage.html#ssl-warnings\n",
      "  warnings.warn(\n"
     ]
    },
    {
     "name": "stdout",
     "output_type": "stream",
     "text": [
      "Checked URL http://www.bayerische-landesbibliothek-online.de/liber-censualium-edition-evangelientext, Status was 200\n",
      "Checked URL http://www.piggin.net/stemmahist/libertext.htm, Status was 200\n",
      "Checked URL http://liber-glossarum.huma-num.fr/, Status was 200\n",
      "Checked URL http://www.librinlinea.it/titolo/liber-matriculae-il-libro-della-matric/TO00906900, Status was 200\n",
      "Checked URL http://vatlat3880.altervista.org, Status was 200\n"
     ]
    },
    {
     "name": "stderr",
     "output_type": "stream",
     "text": [
      "/usr/lib/python3/dist-packages/urllib3/connectionpool.py:1015: InsecureRequestWarning: Unverified HTTPS request is being made to host 'www.e-archiv.li'. Adding certificate verification is strongly advised. See: https://urllib3.readthedocs.io/en/latest/advanced-usage.html#ssl-warnings\n",
      "  warnings.warn(\n"
     ]
    },
    {
     "name": "stdout",
     "output_type": "stream",
     "text": [
      "Checked URL http://www.e-archiv.li/editionHome.aspx?eid=1, Status was 200\n"
     ]
    },
    {
     "name": "stderr",
     "output_type": "stream",
     "text": [
      "/usr/lib/python3/dist-packages/urllib3/connectionpool.py:1015: InsecureRequestWarning: Unverified HTTPS request is being made to host 'www.e-archiv.li'. Adding certificate verification is strongly advised. See: https://urllib3.readthedocs.io/en/latest/advanced-usage.html#ssl-warnings\n",
      "  warnings.warn(\n"
     ]
    },
    {
     "name": "stdout",
     "output_type": "stream",
     "text": [
      "Checked URL http://www.e-archiv.li/editionHome.aspx?eid=8, Status was 200\n"
     ]
    },
    {
     "name": "stderr",
     "output_type": "stream",
     "text": [
      "/usr/lib/python3/dist-packages/urllib3/connectionpool.py:1015: InsecureRequestWarning: Unverified HTTPS request is being made to host 'web.archive.org'. Adding certificate verification is strongly advised. See: https://urllib3.readthedocs.io/en/latest/advanced-usage.html#ssl-warnings\n",
      "  warnings.warn(\n"
     ]
    },
    {
     "name": "stdout",
     "output_type": "stream",
     "text": [
      "Checked URL https://web.archive.org/web/20090421081313/http://adh.sc.edu/ll/ll-table.html, Status was 200\n",
      "Checked URL http://linnaeus.c18.net/, Status was 200\n"
     ]
    },
    {
     "name": "stderr",
     "output_type": "stream",
     "text": [
      "/usr/lib/python3/dist-packages/urllib3/connectionpool.py:1015: InsecureRequestWarning: Unverified HTTPS request is being made to host 'lumieres.unil.ch'. Adding certificate verification is strongly advised. See: https://urllib3.readthedocs.io/en/latest/advanced-usage.html#ssl-warnings\n",
      "  warnings.warn(\n",
      "/usr/lib/python3/dist-packages/urllib3/connectionpool.py:1015: InsecureRequestWarning: Unverified HTTPS request is being made to host 'lumieres.unil.ch'. Adding certificate verification is strongly advised. See: https://urllib3.readthedocs.io/en/latest/advanced-usage.html#ssl-warnings\n",
      "  warnings.warn(\n"
     ]
    },
    {
     "name": "stdout",
     "output_type": "stream",
     "text": [
      "Checked URL http://lumieres.unil.ch/projets/lippe, Status was 200\n",
      "Checked URL http://diglib.hab.de/edoc/ed000001/start.htm, Status was 200\n",
      "Checked URL http://livingstone.library.ucla.edu/1871diary/index.htm, Status was 200\n"
     ]
    },
    {
     "name": "stderr",
     "output_type": "stream",
     "text": [
      "/usr/lib/python3/dist-packages/urllib3/connectionpool.py:1015: InsecureRequestWarning: Unverified HTTPS request is being made to host 'www.livingstoneonline.org'. Adding certificate verification is strongly advised. See: https://urllib3.readthedocs.io/en/latest/advanced-usage.html#ssl-warnings\n",
      "  warnings.warn(\n",
      "/usr/lib/python3/dist-packages/urllib3/connectionpool.py:1015: InsecureRequestWarning: Unverified HTTPS request is being made to host 'livingstoneonline.org'. Adding certificate verification is strongly advised. See: https://urllib3.readthedocs.io/en/latest/advanced-usage.html#ssl-warnings\n",
      "  warnings.warn(\n"
     ]
    },
    {
     "name": "stdout",
     "output_type": "stream",
     "text": [
      "Checked URL https://www.livingstoneonline.org/index.php, Status was 200\n",
      "Checked URL http://elec.enc.sorbonne.fr/josticeetplet/, Status was 200\n"
     ]
    },
    {
     "name": "stderr",
     "output_type": "stream",
     "text": [
      "/usr/lib/python3/dist-packages/urllib3/connectionpool.py:1015: InsecureRequestWarning: Unverified HTTPS request is being made to host 'www.dbnl.org'. Adding certificate verification is strongly advised. See: https://urllib3.readthedocs.io/en/latest/advanced-usage.html#ssl-warnings\n",
      "  warnings.warn(\n"
     ]
    },
    {
     "name": "stdout",
     "output_type": "stream",
     "text": [
      "Checked URL https://www.dbnl.org/tekst/love002oorl01_01/colofon.php, Status was 200\n"
     ]
    },
    {
     "name": "stderr",
     "output_type": "stream",
     "text": [
      "/usr/lib/python3/dist-packages/urllib3/connectionpool.py:1015: InsecureRequestWarning: Unverified HTTPS request is being made to host 'teatrnn.pl'. Adding certificate verification is strongly advised. See: https://urllib3.readthedocs.io/en/latest/advanced-usage.html#ssl-warnings\n",
      "  warnings.warn(\n"
     ]
    },
    {
     "name": "stdout",
     "output_type": "stream",
     "text": [
      "Checked URL http://teatrnn.pl/lublinwdokumencie, Status was 404\n"
     ]
    },
    {
     "name": "stderr",
     "output_type": "stream",
     "text": [
      "/usr/lib/python3/dist-packages/urllib3/connectionpool.py:1015: InsecureRequestWarning: Unverified HTTPS request is being made to host 'lucula-project.wlu.ca'. Adding certificate verification is strongly advised. See: https://urllib3.readthedocs.io/en/latest/advanced-usage.html#ssl-warnings\n",
      "  warnings.warn(\n"
     ]
    },
    {
     "name": "stdout",
     "output_type": "stream",
     "text": [
      "Checked URL http://web.wlu.ca/history/cnighman/LN/index.html, Status was 200\n"
     ]
    },
    {
     "name": "stderr",
     "output_type": "stream",
     "text": [
      "/usr/lib/python3/dist-packages/urllib3/connectionpool.py:1015: InsecureRequestWarning: Unverified HTTPS request is being made to host 'www.math.uni-augsburg.de'. Adding certificate verification is strongly advised. See: https://urllib3.readthedocs.io/en/latest/advanced-usage.html#ssl-warnings\n",
      "  warnings.warn(\n"
     ]
    },
    {
     "name": "stdout",
     "output_type": "stream",
     "text": [
      "Checked URL https://www.math.uni-augsburg.de/htdocs/emeriti/pukelsheim/llull/, Status was 200\n",
      "Checked URL http://www.minorworksoflydgate.net, Status was 200\n"
     ]
    },
    {
     "name": "stderr",
     "output_type": "stream",
     "text": [
      "/usr/lib/python3/dist-packages/urllib3/connectionpool.py:1015: InsecureRequestWarning: Unverified HTTPS request is being made to host 'romantic-circles.org'. Adding certificate verification is strongly advised. See: https://urllib3.readthedocs.io/en/latest/advanced-usage.html#ssl-warnings\n",
      "  warnings.warn(\n"
     ]
    },
    {
     "name": "stdout",
     "output_type": "stream",
     "text": [
      "Checked URL https://romantic-circles.org/editions/LB/, Status was 200\n",
      "Checked URL http://www.ldm-digital.de/, Status was 200\n"
     ]
    },
    {
     "name": "stderr",
     "output_type": "stream",
     "text": [
      "/usr/lib/python3/dist-packages/urllib3/connectionpool.py:1015: InsecureRequestWarning: Unverified HTTPS request is being made to host 'maammekirja.fi'. Adding certificate verification is strongly advised. See: https://urllib3.readthedocs.io/en/latest/advanced-usage.html#ssl-warnings\n",
      "  warnings.warn(\n"
     ]
    },
    {
     "name": "stdout",
     "output_type": "stream",
     "text": [
      "Checked URL http://maammekirja.fi, Status was 200\n",
      "Checked URL http://www.macgreevy.org, Status was 200\n"
     ]
    },
    {
     "name": "stderr",
     "output_type": "stream",
     "text": [
      "/usr/lib/python3/dist-packages/urllib3/connectionpool.py:1015: InsecureRequestWarning: Unverified HTTPS request is being made to host 'rotunda.upress.virginia.edu'. Adding certificate verification is strongly advised. See: https://urllib3.readthedocs.io/en/latest/advanced-usage.html#ssl-warnings\n",
      "  warnings.warn(\n",
      "/usr/lib/python3/dist-packages/urllib3/connectionpool.py:1015: InsecureRequestWarning: Unverified HTTPS request is being made to host 'rotunda.upress.virginia.edu'. Adding certificate verification is strongly advised. See: https://urllib3.readthedocs.io/en/latest/advanced-usage.html#ssl-warnings\n",
      "  warnings.warn(\n"
     ]
    },
    {
     "name": "stdout",
     "output_type": "stream",
     "text": [
      "Checked URL http://rotunda.upress.virginia.edu/dmde, Status was 200\n"
     ]
    },
    {
     "name": "stderr",
     "output_type": "stream",
     "text": [
      "/usr/lib/python3/dist-packages/urllib3/connectionpool.py:1015: InsecureRequestWarning: Unverified HTTPS request is being made to host 'rotunda.upress.virginia.edu'. Adding certificate verification is strongly advised. See: https://urllib3.readthedocs.io/en/latest/advanced-usage.html#ssl-warnings\n",
      "  warnings.warn(\n"
     ]
    },
    {
     "name": "stdout",
     "output_type": "stream",
     "text": [
      "Checked URL https://rotunda.upress.virginia.edu/founders/JSMN.html, Status was 200\n"
     ]
    },
    {
     "name": "stderr",
     "output_type": "stream",
     "text": [
      "/usr/lib/python3/dist-packages/urllib3/connectionpool.py:1015: InsecureRequestWarning: Unverified HTTPS request is being made to host 'maechtekongresse.acdh.oeaw.ac.at'. Adding certificate verification is strongly advised. See: https://urllib3.readthedocs.io/en/latest/advanced-usage.html#ssl-warnings\n",
      "  warnings.warn(\n"
     ]
    },
    {
     "name": "stdout",
     "output_type": "stream",
     "text": [
      "Checked URL https://maechtekongresse.acdh.oeaw.ac.at/pages/index.html, Status was 200\n",
      "Checked URL http://diglib.hab.de/edoc/ed000086/start.htm, Status was 200\n",
      "Checked URL http://www.maloryproject.com/, Status was 200\n"
     ]
    },
    {
     "name": "stderr",
     "output_type": "stream",
     "text": [
      "/usr/lib/python3/dist-packages/urllib3/connectionpool.py:1015: InsecureRequestWarning: Unverified HTTPS request is being made to host 'manipulus-project.wlu.ca'. Adding certificate verification is strongly advised. See: https://urllib3.readthedocs.io/en/latest/advanced-usage.html#ssl-warnings\n",
      "  warnings.warn(\n"
     ]
    },
    {
     "name": "stdout",
     "output_type": "stream",
     "text": [
      "Checked URL http://web.wlu.ca/history/cnighman, Status was 200\n",
      "Checked URL http://english.selu.edu/humanitiesonline/kempe/, Status was 200\n",
      "Checked URL http://www.marinelives.org/, Status was 200\n",
      "Checked URL http://www.perseus.tufts.edu/Texts/Marlowe.html, Status was 200\n"
     ]
    },
    {
     "name": "stderr",
     "output_type": "stream",
     "text": [
      "/usr/lib/python3/dist-packages/urllib3/connectionpool.py:1015: InsecureRequestWarning: Unverified HTTPS request is being made to host 'marsdenarchive.otago.ac.nz'. Adding certificate verification is strongly advised. See: https://urllib3.readthedocs.io/en/latest/advanced-usage.html#ssl-warnings\n",
      "  warnings.warn(\n"
     ]
    },
    {
     "name": "stdout",
     "output_type": "stream",
     "text": [
      "Checked URL https://marsdenarchive.otago.ac.nz/, Status was 200\n"
     ]
    },
    {
     "name": "stderr",
     "output_type": "stream",
     "text": [
      "/usr/lib/python3/dist-packages/urllib3/connectionpool.py:1015: InsecureRequestWarning: Unverified HTTPS request is being made to host 'web.archive.org'. Adding certificate verification is strongly advised. See: https://urllib3.readthedocs.io/en/latest/advanced-usage.html#ssl-warnings\n",
      "  warnings.warn(\n"
     ]
    },
    {
     "name": "stdout",
     "output_type": "stream",
     "text": [
      "Checked URL https://web.archive.org/web/20090421081308/http://adh.sc.edu/gm/gm-table.html, Status was 200\n"
     ]
    },
    {
     "name": "stderr",
     "output_type": "stream",
     "text": [
      "/usr/lib/python3/dist-packages/urllib3/connectionpool.py:1015: InsecureRequestWarning: Unverified HTTPS request is being made to host 'rotunda.upress.virginia.edu'. Adding certificate verification is strongly advised. See: https://urllib3.readthedocs.io/en/latest/advanced-usage.html#ssl-warnings\n",
      "  warnings.warn(\n"
     ]
    },
    {
     "name": "stdout",
     "output_type": "stream",
     "text": [
      "Checked URL https://rotunda.upress.virginia.edu/founders/JNML.html, Status was 200\n"
     ]
    },
    {
     "name": "stderr",
     "output_type": "stream",
     "text": [
      "/usr/lib/python3/dist-packages/urllib3/connectionpool.py:1015: InsecureRequestWarning: Unverified HTTPS request is being made to host 'lib.unb.ca'. Adding certificate verification is strongly advised. See: https://urllib3.readthedocs.io/en/latest/advanced-usage.html#ssl-warnings\n",
      "  warnings.warn(\n",
      "/usr/lib/python3/dist-packages/urllib3/connectionpool.py:1015: InsecureRequestWarning: Unverified HTTPS request is being made to host 'web.lib.unb.ca'. Adding certificate verification is strongly advised. See: https://urllib3.readthedocs.io/en/latest/advanced-usage.html#ssl-warnings\n",
      "  warnings.warn(\n",
      "/usr/lib/python3/dist-packages/urllib3/connectionpool.py:1015: InsecureRequestWarning: Unverified HTTPS request is being made to host 'web.lib.unb.ca'. Adding certificate verification is strongly advised. See: https://urllib3.readthedocs.io/en/latest/advanced-usage.html#ssl-warnings\n",
      "  warnings.warn(\n"
     ]
    },
    {
     "name": "stdout",
     "output_type": "stream",
     "text": [
      "Checked URL http://www.lib.unb.ca/Texts/marston/, Status was 200\n",
      "Checked URL http://martianus.huygensinstituut.nl/path, Status was 200\n"
     ]
    },
    {
     "name": "stderr",
     "output_type": "stream",
     "text": [
      "/usr/lib/python3/dist-packages/urllib3/connectionpool.py:1015: InsecureRequestWarning: Unverified HTTPS request is being made to host 'dh.tcd.ie'. Adding certificate verification is strongly advised. See: https://urllib3.readthedocs.io/en/latest/advanced-usage.html#ssl-warnings\n",
      "  warnings.warn(\n"
     ]
    },
    {
     "name": "stdout",
     "output_type": "stream",
     "text": [
      "Checked URL https://dh.tcd.ie/martindiary/site/index.xml, Status was 503\n",
      "Checked URL http://telota.bbaw.de/mega/, Status was 200\n"
     ]
    },
    {
     "name": "stderr",
     "output_type": "stream",
     "text": [
      "/usr/lib/python3/dist-packages/urllib3/connectionpool.py:1015: InsecureRequestWarning: Unverified HTTPS request is being made to host 'matrikel.adbk.de'. Adding certificate verification is strongly advised. See: https://urllib3.readthedocs.io/en/latest/advanced-usage.html#ssl-warnings\n",
      "  warnings.warn(\n"
     ]
    },
    {
     "name": "stdout",
     "output_type": "stream",
     "text": [
      "Checked URL http://matrikel.adbk.de/, Status was 200\n",
      "Checked URL http://matrikel.uni-rostock.de, Status was 200\n",
      "Checked URL http://web.archive.org/web/20080412023610/http://www.dm.unipi.it/pages/maurolic/, Status was 200\n",
      "Checked URL http://bia.medici.org, Status was 200\n"
     ]
    },
    {
     "name": "stderr",
     "output_type": "stream",
     "text": [
      "/usr/lib/python3/dist-packages/urllib3/connectionpool.py:1015: InsecureRequestWarning: Unverified HTTPS request is being made to host 'www.getty.edu'. Adding certificate verification is strongly advised. See: https://urllib3.readthedocs.io/en/latest/advanced-usage.html#ssl-warnings\n",
      "  warnings.warn(\n",
      "/usr/lib/python3/dist-packages/urllib3/connectionpool.py:1015: InsecureRequestWarning: Unverified HTTPS request is being made to host 'conifer.rhizome.org'. Adding certificate verification is strongly advised. See: https://urllib3.readthedocs.io/en/latest/advanced-usage.html#ssl-warnings\n",
      "  warnings.warn(\n"
     ]
    },
    {
     "name": "stdout",
     "output_type": "stream",
     "text": [
      "Checked URL http://www.getty.edu/research/mellini/, Status was 200\n"
     ]
    },
    {
     "name": "stderr",
     "output_type": "stream",
     "text": [
      "/usr/lib/python3/dist-packages/urllib3/connectionpool.py:1015: InsecureRequestWarning: Unverified HTTPS request is being made to host 'melville.electroniclibrary.org'. Adding certificate verification is strongly advised. See: https://urllib3.readthedocs.io/en/latest/advanced-usage.html#ssl-warnings\n",
      "  warnings.warn(\n"
     ]
    },
    {
     "name": "stdout",
     "output_type": "stream",
     "text": [
      "Checked URL https://melville.electroniclibrary.org, Status was 200\n"
     ]
    },
    {
     "name": "stderr",
     "output_type": "stream",
     "text": [
      "/usr/lib/python3/dist-packages/urllib3/connectionpool.py:1015: InsecureRequestWarning: Unverified HTTPS request is being made to host 'rotunda.upress.virginia.edu'. Adding certificate verification is strongly advised. See: https://urllib3.readthedocs.io/en/latest/advanced-usage.html#ssl-warnings\n",
      "  warnings.warn(\n"
     ]
    },
    {
     "name": "stdout",
     "output_type": "stream",
     "text": [
      "Checked URL http://rotunda.upress.virginia.edu/melville/, Status was 200\n",
      "Checked URL http://melvillesmarginalia.org/, Status was 200\n",
      "Checked URL http://ema.smb.museum/de/, Status was 200\n"
     ]
    },
    {
     "name": "stderr",
     "output_type": "stream",
     "text": [
      "/usr/lib/python3/dist-packages/urllib3/connectionpool.py:1015: InsecureRequestWarning: Unverified HTTPS request is being made to host 'codicemendoza.inah.gob.mx'. Adding certificate verification is strongly advised. See: https://urllib3.readthedocs.io/en/latest/advanced-usage.html#ssl-warnings\n",
      "  warnings.warn(\n",
      "/usr/lib/python3/dist-packages/urllib3/connectionpool.py:1015: InsecureRequestWarning: Unverified HTTPS request is being made to host 'codicemendoza.inah.gob.mx'. Adding certificate verification is strongly advised. See: https://urllib3.readthedocs.io/en/latest/advanced-usage.html#ssl-warnings\n",
      "  warnings.warn(\n"
     ]
    },
    {
     "name": "stdout",
     "output_type": "stream",
     "text": [
      "Checked URL http://codicemendoza.inah.gob.mx/, Status was 200\n",
      "Checked URL http://menschenenbergen.huygens.knaw.nl/path, Status was 200\n",
      "Checked URL http://journal-michon.symogih.org/index.html, Status was 200\n",
      "Checked URL http://diglib.hab.de/edoc/ed000232/start.htm, Status was 200\n",
      "Checked URL http://diglib.hab.de/edoc/ed000223/start.htm, Status was 200\n",
      "Checked URL http://www.dartmouth.edu/~milton/reading_room/, Status was 404\n"
     ]
    },
    {
     "name": "stderr",
     "output_type": "stream",
     "text": [
      "/usr/lib/python3/dist-packages/urllib3/connectionpool.py:1015: InsecureRequestWarning: Unverified HTTPS request is being made to host 'mrp.oeaw.ac.at'. Adding certificate verification is strongly advised. See: https://urllib3.readthedocs.io/en/latest/advanced-usage.html#ssl-warnings\n",
      "  warnings.warn(\n",
      "/usr/lib/python3/dist-packages/urllib3/connectionpool.py:1015: InsecureRequestWarning: Unverified HTTPS request is being made to host 'mrp.oeaw.ac.at'. Adding certificate verification is strongly advised. See: https://urllib3.readthedocs.io/en/latest/advanced-usage.html#ssl-warnings\n",
      "  warnings.warn(\n",
      "/usr/lib/python3/dist-packages/urllib3/connectionpool.py:1015: InsecureRequestWarning: Unverified HTTPS request is being made to host 'mrp.oeaw.ac.at'. Adding certificate verification is strongly advised. See: https://urllib3.readthedocs.io/en/latest/advanced-usage.html#ssl-warnings\n",
      "  warnings.warn(\n"
     ]
    },
    {
     "name": "stdout",
     "output_type": "stream",
     "text": [
      "Checked URL https://mrp.oeaw.ac.at, Status was 200\n"
     ]
    },
    {
     "name": "stderr",
     "output_type": "stream",
     "text": [
      "/usr/lib/python3/dist-packages/urllib3/connectionpool.py:1015: InsecureRequestWarning: Unverified HTTPS request is being made to host 'web.archive.org'. Adding certificate verification is strongly advised. See: https://urllib3.readthedocs.io/en/latest/advanced-usage.html#ssl-warnings\n",
      "  warnings.warn(\n"
     ]
    },
    {
     "name": "stdout",
     "output_type": "stream",
     "text": [
      "Checked URL https://web.archive.org/web/20111219021517/http://www.kantl.be:80/ctb/pub/index.htm, Status was 200\n"
     ]
    },
    {
     "name": "stderr",
     "output_type": "stream",
     "text": [
      "/usr/lib/python3/dist-packages/urllib3/connectionpool.py:1015: InsecureRequestWarning: Unverified HTTPS request is being made to host 'lumieres.unil.ch'. Adding certificate verification is strongly advised. See: https://urllib3.readthedocs.io/en/latest/advanced-usage.html#ssl-warnings\n",
      "  warnings.warn(\n"
     ]
    },
    {
     "name": "stdout",
     "output_type": "stream",
     "text": [
      "Checked URL http://lumieres.unil.ch/projets/, Status was 200\n",
      "Checked URL http://www.digitalmishnah.umd.edu/, Status was 200\n",
      "Checked URL http://gams.uni-graz.at/context:malab, Status was 200\n"
     ]
    },
    {
     "name": "stderr",
     "output_type": "stream",
     "text": [
      "/usr/lib/python3/dist-packages/urllib3/connectionpool.py:1015: InsecureRequestWarning: Unverified HTTPS request is being made to host 'rmnet.uni-trier.de'. Adding certificate verification is strongly advised. See: https://urllib3.readthedocs.io/en/latest/advanced-usage.html#ssl-warnings\n",
      "  warnings.warn(\n"
     ]
    },
    {
     "name": "stdout",
     "output_type": "stream",
     "text": [
      "Checked URL http://www.rmnet.uni-trier.de/cgi-bin/RMnetIndex.tcl?hea=qf&for=qmfranku, Status was 200\n",
      "Checked URL http://xtf.bvh.univ-tours.fr/xtf/view?docId=tei/B330636101_S1238/B330636101_S1238_tei.xml, Status was 200\n",
      "Checked URL http://web.archive.org/web/20100812052807/http://web.me.com/guyjacqu/pernon-editions/accueil.html, Status was 200\n"
     ]
    },
    {
     "name": "stderr",
     "output_type": "stream",
     "text": [
      "/usr/lib/python3/dist-packages/urllib3/connectionpool.py:1015: InsecureRequestWarning: Unverified HTTPS request is being made to host 'www.unicaen.fr'. Adding certificate verification is strongly advised. See: https://urllib3.readthedocs.io/en/latest/advanced-usage.html#ssl-warnings\n",
      "  warnings.warn(\n"
     ]
    },
    {
     "name": "stdout",
     "output_type": "stream",
     "text": [
      "Checked URL https://www.unicaen.fr/services/puc/sources/Montesquieu/, Status was 200\n",
      "Checked URL http://elec.enc.sorbonne.fr/montferrand/, Status was 200\n",
      "Checked URL http://gams.uni-graz.at/me, Status was 200\n"
     ]
    },
    {
     "name": "stderr",
     "output_type": "stream",
     "text": [
      "/usr/lib/python3/dist-packages/urllib3/connectionpool.py:1015: InsecureRequestWarning: Unverified HTTPS request is being made to host 'www.unicaen.fr'. Adding certificate verification is strongly advised. See: https://urllib3.readthedocs.io/en/latest/advanced-usage.html#ssl-warnings\n",
      "  warnings.warn(\n"
     ]
    },
    {
     "name": "stdout",
     "output_type": "stream",
     "text": [
      "Checked URL http://www.unicaen.fr/services/puc/sources/chroniqueslatines/index.php, Status was 200\n"
     ]
    },
    {
     "name": "stderr",
     "output_type": "stream",
     "text": [
      "/usr/lib/python3/dist-packages/urllib3/connectionpool.py:1015: InsecureRequestWarning: Unverified HTTPS request is being made to host 'www.unicaen.fr'. Adding certificate verification is strongly advised. See: https://urllib3.readthedocs.io/en/latest/advanced-usage.html#ssl-warnings\n",
      "  warnings.warn(\n"
     ]
    },
    {
     "name": "stdout",
     "output_type": "stream",
     "text": [
      "Checked URL http://www.unicaen.fr/services/puc/sources/gsp/index.php, Status was 200\n",
      "Checked URL http://mama.csad.ox.ac.uk, Status was 200\n",
      "Checked URL http://elec.enc.sorbonne.fr/monumentshistoriques/, Status was 200\n",
      "Checked URL http://gams.uni-graz.at/context:mws?locale=de, Status was 200\n"
     ]
    },
    {
     "name": "stderr",
     "output_type": "stream",
     "text": [
      "/usr/lib/python3/dist-packages/urllib3/connectionpool.py:1015: InsecureRequestWarning: Unverified HTTPS request is being made to host 'morrisarchive.lib.uiowa.edu'. Adding certificate verification is strongly advised. See: https://urllib3.readthedocs.io/en/latest/advanced-usage.html#ssl-warnings\n",
      "  warnings.warn(\n"
     ]
    },
    {
     "name": "stdout",
     "output_type": "stream",
     "text": [
      "Checked URL http://morrisedition.lib.uiowa.edu/, Status was 200\n"
     ]
    },
    {
     "name": "stderr",
     "output_type": "stream",
     "text": [
      "/usr/lib/python3/dist-packages/urllib3/connectionpool.py:1015: InsecureRequestWarning: Unverified HTTPS request is being made to host 'rotunda.upress.virginia.edu'. Adding certificate verification is strongly advised. See: https://urllib3.readthedocs.io/en/latest/advanced-usage.html#ssl-warnings\n",
      "  warnings.warn(\n"
     ]
    },
    {
     "name": "stdout",
     "output_type": "stream",
     "text": [
      "Checked URL https://rotunda.upress.virginia.edu/founders/GRMS.html, Status was 200\n"
     ]
    },
    {
     "name": "stderr",
     "output_type": "stream",
     "text": [
      "/usr/lib/python3/dist-packages/urllib3/connectionpool.py:1015: InsecureRequestWarning: Unverified HTTPS request is being made to host 'www.dhi.ac.uk'. Adding certificate verification is strongly advised. See: https://urllib3.readthedocs.io/en/latest/advanced-usage.html#ssl-warnings\n",
      "  warnings.warn(\n"
     ]
    },
    {
     "name": "stdout",
     "output_type": "stream",
     "text": [
      "Checked URL http://letters.mozartways.com, Status was 200\n"
     ]
    },
    {
     "name": "stderr",
     "output_type": "stream",
     "text": [
      "/usr/lib/python3/dist-packages/urllib3/connectionpool.py:1015: InsecureRequestWarning: Unverified HTTPS request is being made to host 'dme.mozarteum.at'. Adding certificate verification is strongly advised. See: https://urllib3.readthedocs.io/en/latest/advanced-usage.html#ssl-warnings\n",
      "  warnings.warn(\n"
     ]
    },
    {
     "name": "stdout",
     "output_type": "stream",
     "text": [
      "Checked URL http://dme.mozarteum.at/DME/nma/nmapub_srch.php?l=1, Status was 200\n"
     ]
    },
    {
     "name": "stderr",
     "output_type": "stream",
     "text": [
      "/usr/lib/python3/dist-packages/urllib3/connectionpool.py:1015: InsecureRequestWarning: Unverified HTTPS request is being made to host 'dme.mozarteum.at'. Adding certificate verification is strongly advised. See: https://urllib3.readthedocs.io/en/latest/advanced-usage.html#ssl-warnings\n",
      "  warnings.warn(\n"
     ]
    },
    {
     "name": "stdout",
     "output_type": "stream",
     "text": [
      "Checked URL https://dme.mozarteum.at/briefe-dokumente/, Status was 200\n"
     ]
    },
    {
     "name": "stderr",
     "output_type": "stream",
     "text": [
      "/usr/lib/python3/dist-packages/urllib3/connectionpool.py:1015: InsecureRequestWarning: Unverified HTTPS request is being made to host 'dme.mozarteum.at'. Adding certificate verification is strongly advised. See: https://urllib3.readthedocs.io/en/latest/advanced-usage.html#ssl-warnings\n",
      "  warnings.warn(\n",
      "/usr/lib/python3/dist-packages/urllib3/connectionpool.py:1015: InsecureRequestWarning: Unverified HTTPS request is being made to host 'dme.mozarteum.at'. Adding certificate verification is strongly advised. See: https://urllib3.readthedocs.io/en/latest/advanced-usage.html#ssl-warnings\n",
      "  warnings.warn(\n"
     ]
    },
    {
     "name": "stdout",
     "output_type": "stream",
     "text": [
      "Checked URL http://dme.mozarteum.at/DME/libretti-edition/index.php, Status was 200\n"
     ]
    },
    {
     "name": "stderr",
     "output_type": "stream",
     "text": [
      "/usr/lib/python3/dist-packages/urllib3/connectionpool.py:1015: InsecureRequestWarning: Unverified HTTPS request is being made to host 'muehsam-tagebuch.de'. Adding certificate verification is strongly advised. See: https://urllib3.readthedocs.io/en/latest/advanced-usage.html#ssl-warnings\n",
      "  warnings.warn(\n"
     ]
    },
    {
     "name": "stdout",
     "output_type": "stream",
     "text": [
      "Checked URL http://muehsam-tagebuch.de, Status was 200\n"
     ]
    },
    {
     "name": "stderr",
     "output_type": "stream",
     "text": [
      "/usr/lib/python3/dist-packages/urllib3/connectionpool.py:1015: InsecureRequestWarning: Unverified HTTPS request is being made to host 'www.emunch.no'. Adding certificate verification is strongly advised. See: https://urllib3.readthedocs.io/en/latest/advanced-usage.html#ssl-warnings\n",
      "  warnings.warn(\n",
      "/usr/lib/python3/dist-packages/urllib3/connectionpool.py:1015: InsecureRequestWarning: Unverified HTTPS request is being made to host 'www.emunch.no'. Adding certificate verification is strongly advised. See: https://urllib3.readthedocs.io/en/latest/advanced-usage.html#ssl-warnings\n",
      "  warnings.warn(\n"
     ]
    },
    {
     "name": "stdout",
     "output_type": "stream",
     "text": [
      "Checked URL http://www.emunch.no/, Status was 200\n",
      "Checked URL http://mizar.unive.it/mqdq/public/, Status was 200\n",
      "Checked URL http://www.tibetanhistory.net/documents/mustang, Status was 200\n"
     ]
    },
    {
     "name": "stderr",
     "output_type": "stream",
     "text": [
      "/usr/lib/python3/dist-packages/urllib3/connectionpool.py:1015: InsecureRequestWarning: Unverified HTTPS request is being made to host 'research.ncl.ac.uk'. Adding certificate verification is strongly advised. See: https://urllib3.readthedocs.io/en/latest/advanced-usage.html#ssl-warnings\n",
      "  warnings.warn(\n"
     ]
    },
    {
     "name": "stdout",
     "output_type": "stream",
     "text": [
      "Checked URL https://research.ncl.ac.uk/thethomasnasheproject/, Status was 200\n"
     ]
    },
    {
     "name": "stderr",
     "output_type": "stream",
     "text": [
      "/usr/lib/python3/dist-packages/urllib3/connectionpool.py:1015: InsecureRequestWarning: Unverified HTTPS request is being made to host 'bdn-edition.de'. Adding certificate verification is strongly advised. See: https://urllib3.readthedocs.io/en/latest/advanced-usage.html#ssl-warnings\n",
      "  warnings.warn(\n",
      "/usr/lib/python3/dist-packages/urllib3/connectionpool.py:1015: InsecureRequestWarning: Unverified HTTPS request is being made to host 'bdn-edition.de'. Adding certificate verification is strongly advised. See: https://urllib3.readthedocs.io/en/latest/advanced-usage.html#ssl-warnings\n",
      "  warnings.warn(\n"
     ]
    },
    {
     "name": "stdout",
     "output_type": "stream",
     "text": [
      "Checked URL http://bdn-edition.de/, Status was 200\n",
      "Checked URL http://oracc.museum.upenn.edu/rinap/, Status was 200\n"
     ]
    },
    {
     "name": "stderr",
     "output_type": "stream",
     "text": [
      "/usr/lib/python3/dist-packages/urllib3/connectionpool.py:1015: InsecureRequestWarning: Unverified HTTPS request is being made to host 'abhilekha.adw.uni-heidelberg.de'. Adding certificate verification is strongly advised. See: https://urllib3.readthedocs.io/en/latest/advanced-usage.html#ssl-warnings\n",
      "  warnings.warn(\n",
      "/usr/lib/python3/dist-packages/urllib3/connectionpool.py:1015: InsecureRequestWarning: Unverified HTTPS request is being made to host 'nepalica.hadw-bw.de'. Adding certificate verification is strongly advised. See: https://urllib3.readthedocs.io/en/latest/advanced-usage.html#ssl-warnings\n",
      "  warnings.warn(\n"
     ]
    },
    {
     "name": "stdout",
     "output_type": "stream",
     "text": [
      "Checked URL https://abhilekha.adw.uni-heidelberg.de/nepal/editions, Status was 200\n",
      "Checked URL http://individual.utoronto.ca/emrecordkeeping/, Status was 200\n",
      "Checked URL http://nestlealand.uni-muenster.de/, Status was 200\n"
     ]
    },
    {
     "name": "stderr",
     "output_type": "stream",
     "text": [
      "/usr/lib/python3/dist-packages/urllib3/connectionpool.py:1015: InsecureRequestWarning: Unverified HTTPS request is being made to host 'www.newtonproject.ox.ac.uk'. Adding certificate verification is strongly advised. See: https://urllib3.readthedocs.io/en/latest/advanced-usage.html#ssl-warnings\n",
      "  warnings.warn(\n"
     ]
    },
    {
     "name": "stdout",
     "output_type": "stream",
     "text": [
      "Checked URL http://www.newtonproject.sussex.ac.uk/, Status was 200\n"
     ]
    },
    {
     "name": "stderr",
     "output_type": "stream",
     "text": [
      "/usr/lib/python3/dist-packages/urllib3/connectionpool.py:1015: InsecureRequestWarning: Unverified HTTPS request is being made to host 'webapp1.dlib.indiana.edu'. Adding certificate verification is strongly advised. See: https://urllib3.readthedocs.io/en/latest/advanced-usage.html#ssl-warnings\n",
      "  warnings.warn(\n"
     ]
    },
    {
     "name": "stdout",
     "output_type": "stream",
     "text": [
      "Checked URL http://webapp1.dlib.indiana.edu/newton/index.jsp, Status was 200\n",
      "Checked URL http://www.hypernietzsche.org, Status was 200\n",
      "Checked URL http://www.nietzschesource.org/, Status was 200\n"
     ]
    },
    {
     "name": "stderr",
     "output_type": "stream",
     "text": [
      "/usr/lib/python3/dist-packages/urllib3/connectionpool.py:1015: InsecureRequestWarning: Unverified HTTPS request is being made to host 'www.degruyter.com'. Adding certificate verification is strongly advised. See: https://urllib3.readthedocs.io/en/latest/advanced-usage.html#ssl-warnings\n",
      "  warnings.warn(\n",
      "/usr/lib/python3/dist-packages/urllib3/connectionpool.py:1015: InsecureRequestWarning: Unverified HTTPS request is being made to host 'www.degruyter.com'. Adding certificate verification is strongly advised. See: https://urllib3.readthedocs.io/en/latest/advanced-usage.html#ssl-warnings\n",
      "  warnings.warn(\n"
     ]
    },
    {
     "name": "stdout",
     "output_type": "stream",
     "text": [
      "Checked URL https://www.degruyter.com/view/serial/16016?rskey=VXSmtn&result=7, Status was 200\n"
     ]
    },
    {
     "name": "stderr",
     "output_type": "stream",
     "text": [
      "/usr/lib/python3/dist-packages/urllib3/connectionpool.py:1015: InsecureRequestWarning: Unverified HTTPS request is being made to host 'romantic-circles.org'. Adding certificate verification is strongly advised. See: https://urllib3.readthedocs.io/en/latest/advanced-usage.html#ssl-warnings\n",
      "  warnings.warn(\n"
     ]
    },
    {
     "name": "stdout",
     "output_type": "stream",
     "text": [
      "Checked URL https://romantic-circles.org/editions/nobody, Status was 200\n"
     ]
    },
    {
     "name": "stderr",
     "output_type": "stream",
     "text": [
      "/usr/lib/python3/dist-packages/urllib3/connectionpool.py:1015: InsecureRequestWarning: Unverified HTTPS request is being made to host 'romantic-circles.org'. Adding certificate verification is strongly advised. See: https://urllib3.readthedocs.io/en/latest/advanced-usage.html#ssl-warnings\n",
      "  warnings.warn(\n"
     ]
    },
    {
     "name": "stdout",
     "output_type": "stream",
     "text": [
      "Checked URL https://romantic-circles.org/editions/norse/index.html, Status was 200\n",
      "Checked URL http://www.edkomp.uni-muenchen.de/Notker/Demo-CD/edition_frame.html, Status was 200\n",
      "Checked URL http://elias.finlit.fi/nummisuutarit/, Status was 200\n"
     ]
    },
    {
     "name": "stderr",
     "output_type": "stream",
     "text": [
      "/usr/lib/python3/dist-packages/urllib3/connectionpool.py:1015: InsecureRequestWarning: Unverified HTTPS request is being made to host 'www.neuesbuch.uni-trier.de'. Adding certificate verification is strongly advised. See: https://urllib3.readthedocs.io/en/latest/advanced-usage.html#ssl-warnings\n",
      "  warnings.warn(\n"
     ]
    },
    {
     "name": "stdout",
     "output_type": "stream",
     "text": [
      "Checked URL http://www.neuesbuch.uni-trier.de/, Status was 200\n",
      "Checked URL http://www.foda.org.uk/oaths/intro/introduction1.htm, Status was 200\n",
      "Checked URL http://elec.enc.sorbonne.fr/obituairestmont/, Status was 200\n"
     ]
    },
    {
     "name": "stderr",
     "output_type": "stream",
     "text": [
      "/usr/lib/python3/dist-packages/urllib3/connectionpool.py:1015: InsecureRequestWarning: Unverified HTTPS request is being made to host 'ogham.celt.dias.ie'. Adding certificate verification is strongly advised. See: https://urllib3.readthedocs.io/en/latest/advanced-usage.html#ssl-warnings\n",
      "  warnings.warn(\n",
      "/usr/lib/python3/dist-packages/urllib3/connectionpool.py:1015: InsecureRequestWarning: Unverified HTTPS request is being made to host 'ogham.celt.dias.ie'. Adding certificate verification is strongly advised. See: https://urllib3.readthedocs.io/en/latest/advanced-usage.html#ssl-warnings\n",
      "  warnings.warn(\n"
     ]
    },
    {
     "name": "stdout",
     "output_type": "stream",
     "text": [
      "Checked URL http://ogham.celt.dias.ie/, Status was 200\n"
     ]
    },
    {
     "name": "stderr",
     "output_type": "stream",
     "text": [
      "/usr/lib/python3/dist-packages/urllib3/connectionpool.py:1015: InsecureRequestWarning: Unverified HTTPS request is being made to host 'ogier.huygens.knaw.nl'. Adding certificate verification is strongly advised. See: https://urllib3.readthedocs.io/en/latest/advanced-usage.html#ssl-warnings\n",
      "  warnings.warn(\n"
     ]
    },
    {
     "name": "stdout",
     "output_type": "stream",
     "text": [
      "Checked URL https://ogier.huygens.knaw.nl, Status was 403\n"
     ]
    },
    {
     "name": "stderr",
     "output_type": "stream",
     "text": [
      "/usr/lib/python3/dist-packages/urllib3/connectionpool.py:1015: InsecureRequestWarning: Unverified HTTPS request is being made to host 'edition.onb.ac.at'. Adding certificate verification is strongly advised. See: https://urllib3.readthedocs.io/en/latest/advanced-usage.html#ssl-warnings\n",
      "  warnings.warn(\n",
      "/usr/lib/python3/dist-packages/urllib3/connectionpool.py:1015: InsecureRequestWarning: Unverified HTTPS request is being made to host 'edition.onb.ac.at'. Adding certificate verification is strongly advised. See: https://urllib3.readthedocs.io/en/latest/advanced-usage.html#ssl-warnings\n",
      "  warnings.warn(\n"
     ]
    },
    {
     "name": "stdout",
     "output_type": "stream",
     "text": [
      "Checked URL https://edition.onb.ac.at/okopenko/, Status was 200\n"
     ]
    },
    {
     "name": "stderr",
     "output_type": "stream",
     "text": [
      "/usr/lib/python3/dist-packages/urllib3/connectionpool.py:1015: InsecureRequestWarning: Unverified HTTPS request is being made to host 'www.oldbaileyonline.org'. Adding certificate verification is strongly advised. See: https://urllib3.readthedocs.io/en/latest/advanced-usage.html#ssl-warnings\n",
      "  warnings.warn(\n"
     ]
    },
    {
     "name": "stdout",
     "output_type": "stream",
     "text": [
      "Checked URL http://www.oldbaileyonline.org/, Status was 200\n",
      "Checked URL http://www.donb.nl/, Status was 200\n",
      "Checked URL http://telota.bbaw.de/kant_op/index.html, Status was 200\n",
      "Checked URL http://www.cn-telma.fr/ordonnances/index/, Status was 200\n"
     ]
    },
    {
     "name": "stderr",
     "output_type": "stream",
     "text": [
      "/usr/lib/python3/dist-packages/urllib3/connectionpool.py:1015: InsecureRequestWarning: Unverified HTTPS request is being made to host 'stel.ub.edu'. Adding certificate verification is strongly advised. See: https://urllib3.readthedocs.io/en/latest/advanced-usage.html#ssl-warnings\n",
      "  warnings.warn(\n"
     ]
    },
    {
     "name": "stdout",
     "output_type": "stream",
     "text": [
      "Checked URL http://stel.ub.edu/orlando/, Status was 200\n",
      "Checked URL http://orosius.monumenta.ch/, Status was 200\n"
     ]
    },
    {
     "name": "stderr",
     "output_type": "stream",
     "text": [
      "/usr/lib/python3/dist-packages/urllib3/connectionpool.py:1015: InsecureRequestWarning: Unverified HTTPS request is being made to host 'orwelldiaries.wordpress.com'. Adding certificate verification is strongly advised. See: https://urllib3.readthedocs.io/en/latest/advanced-usage.html#ssl-warnings\n",
      "  warnings.warn(\n"
     ]
    },
    {
     "name": "stdout",
     "output_type": "stream",
     "text": [
      "Checked URL http://orwelldiaries.wordpress.com/, Status was 200\n"
     ]
    },
    {
     "name": "stderr",
     "output_type": "stream",
     "text": [
      "/usr/lib/python3/dist-packages/urllib3/connectionpool.py:1015: InsecureRequestWarning: Unverified HTTPS request is being made to host 'web.archive.org'. Adding certificate verification is strongly advised. See: https://urllib3.readthedocs.io/en/latest/advanced-usage.html#ssl-warnings\n",
      "  warnings.warn(\n"
     ]
    },
    {
     "name": "stdout",
     "output_type": "stream",
     "text": [
      "Checked URL https://web.archive.org/web/20181231104508/http://toisondor.byu.edu:80/ospital/toc.htm, Status was 200\n"
     ]
    },
    {
     "name": "stderr",
     "output_type": "stream",
     "text": [
      "/usr/lib/python3/dist-packages/urllib3/connectionpool.py:1015: InsecureRequestWarning: Unverified HTTPS request is being made to host 'mecmua.acdh.oeaw.ac.at'. Adding certificate verification is strongly advised. See: https://urllib3.readthedocs.io/en/latest/advanced-usage.html#ssl-warnings\n",
      "  warnings.warn(\n"
     ]
    },
    {
     "name": "stdout",
     "output_type": "stream",
     "text": [
      "Checked URL https://mecmua.acdh.oeaw.ac.at, Status was 200\n",
      "Checked URL http://www.pacelli-edition.de/, Status was 200\n",
      "Checked URL http://diglib.hab.de/edoc/ed000145/start.htm, Status was 200\n"
     ]
    },
    {
     "name": "stderr",
     "output_type": "stream",
     "text": [
      "/usr/lib/python3/dist-packages/urllib3/connectionpool.py:1015: InsecureRequestWarning: Unverified HTTPS request is being made to host 'web.archive.org'. Adding certificate verification is strongly advised. See: https://urllib3.readthedocs.io/en/latest/advanced-usage.html#ssl-warnings\n",
      "  warnings.warn(\n"
     ]
    },
    {
     "name": "stdout",
     "output_type": "stream",
     "text": [
      "Checked URL https://web.archive.org/web/20050217022521/http://www.gol.grosseto.it/puam/arcstato/paganico/pagcop.htm, Status was 200\n"
     ]
    },
    {
     "name": "stderr",
     "output_type": "stream",
     "text": [
      "/usr/lib/python3/dist-packages/urllib3/connectionpool.py:1015: InsecureRequestWarning: Unverified HTTPS request is being made to host 'www.press.umich.edu'. Adding certificate verification is strongly advised. See: https://urllib3.readthedocs.io/en/latest/advanced-usage.html#ssl-warnings\n",
      "  warnings.warn(\n",
      "/usr/lib/python3/dist-packages/urllib3/connectionpool.py:1015: InsecureRequestWarning: Unverified HTTPS request is being made to host 'www.press.umich.edu'. Adding certificate verification is strongly advised. See: https://urllib3.readthedocs.io/en/latest/advanced-usage.html#ssl-warnings\n",
      "  warnings.warn(\n"
     ]
    },
    {
     "name": "stdout",
     "output_type": "stream",
     "text": [
      "Checked URL http://www.press.umich.edu/titleDetailDesc.do?id=6462, Status was 200\n",
      "Checked URL http://web.archive.org/web/20080405110201/http://homepage.mac.com/guyjacqu/palissy.html, Status was 200\n",
      "Checked URL http://www.sd-editions.com/PROME/, Status was 200\n",
      "Checked URL https://www.dhi.ac.uk/partonopeus/, Status was 200\n"
     ]
    },
    {
     "name": "stderr",
     "output_type": "stream",
     "text": [
      "/usr/lib/python3/dist-packages/urllib3/connectionpool.py:1015: InsecureRequestWarning: Unverified HTTPS request is being made to host 'www.dhi.ac.uk'. Adding certificate verification is strongly advised. See: https://urllib3.readthedocs.io/en/latest/advanced-usage.html#ssl-warnings\n",
      "  warnings.warn(\n",
      "/usr/lib/python3/dist-packages/urllib3/connectionpool.py:1015: InsecureRequestWarning: Unverified HTTPS request is being made to host 'www.parzival.unibe.ch'. Adding certificate verification is strongly advised. See: https://urllib3.readthedocs.io/en/latest/advanced-usage.html#ssl-warnings\n",
      "  warnings.warn(\n"
     ]
    },
    {
     "name": "stdout",
     "output_type": "stream",
     "text": [
      "Checked URL http://www.parzival.unibe.ch/rapp/#/, Status was 200\n"
     ]
    },
    {
     "name": "stderr",
     "output_type": "stream",
     "text": [
      "/usr/lib/python3/dist-packages/urllib3/connectionpool.py:1015: InsecureRequestWarning: Unverified HTTPS request is being made to host 'www.parzival.unibe.ch'. Adding certificate verification is strongly advised. See: https://urllib3.readthedocs.io/en/latest/advanced-usage.html#ssl-warnings\n",
      "  warnings.warn(\n"
     ]
    },
    {
     "name": "stdout",
     "output_type": "stream",
     "text": [
      "Checked URL http://www.parzival.unibe.ch/, Status was 200\n"
     ]
    },
    {
     "name": "stderr",
     "output_type": "stream",
     "text": [
      "/usr/lib/python3/dist-packages/urllib3/connectionpool.py:1015: InsecureRequestWarning: Unverified HTTPS request is being made to host 'www.biusante.parisdescartes.fr'. Adding certificate verification is strongly advised. See: https://urllib3.readthedocs.io/en/latest/advanced-usage.html#ssl-warnings\n",
      "  warnings.warn(\n"
     ]
    },
    {
     "name": "stdout",
     "output_type": "stream",
     "text": [
      "Checked URL https://www.biusante.parisdescartes.fr/patin/, Status was 200\n"
     ]
    },
    {
     "name": "stderr",
     "output_type": "stream",
     "text": [
      "/usr/lib/python3/dist-packages/urllib3/connectionpool.py:1015: InsecureRequestWarning: Unverified HTTPS request is being made to host 'www.confessio.ie'. Adding certificate verification is strongly advised. See: https://urllib3.readthedocs.io/en/latest/advanced-usage.html#ssl-warnings\n",
      "  warnings.warn(\n"
     ]
    },
    {
     "name": "stdout",
     "output_type": "stream",
     "text": [
      "Checked URL http://www.confessio.ie/#, Status was 403\n"
     ]
    },
    {
     "name": "stderr",
     "output_type": "stream",
     "text": [
      "/usr/lib/python3/dist-packages/urllib3/connectionpool.py:1015: InsecureRequestWarning: Unverified HTTPS request is being made to host 'www.jeanpaul-edition.de'. Adding certificate verification is strongly advised. See: https://urllib3.readthedocs.io/en/latest/advanced-usage.html#ssl-warnings\n",
      "  warnings.warn(\n"
     ]
    },
    {
     "name": "stdout",
     "output_type": "stream",
     "text": [
      "Checked URL https://www.jeanpaul-edition.de/start.html, Status was 200\n"
     ]
    },
    {
     "name": "stderr",
     "output_type": "stream",
     "text": [
      "/usr/lib/python3/dist-packages/urllib3/connectionpool.py:1015: InsecureRequestWarning: Unverified HTTPS request is being made to host 'www.uni-wuerzburg.de'. Adding certificate verification is strongly advised. See: https://urllib3.readthedocs.io/en/latest/advanced-usage.html#ssl-warnings\n",
      "  warnings.warn(\n"
     ]
    },
    {
     "name": "stdout",
     "output_type": "stream",
     "text": [
      "Checked URL http://www.jean-paul-portal.uni-wuerzburg.de/startseite/, Status was 200\n"
     ]
    },
    {
     "name": "stderr",
     "output_type": "stream",
     "text": [
      "/usr/lib/python3/dist-packages/urllib3/connectionpool.py:1015: InsecureRequestWarning: Unverified HTTPS request is being made to host 'web.archive.org'. Adding certificate verification is strongly advised. See: https://urllib3.readthedocs.io/en/latest/advanced-usage.html#ssl-warnings\n",
      "  warnings.warn(\n"
     ]
    },
    {
     "name": "stdout",
     "output_type": "stream",
     "text": [
      "Checked URL https://web.archive.org/web/20190904032200/http://wp.unil.ch:80/nt-arabe/edition-electronique/, Status was 200\n",
      "Checked URL http://digitalpaxton.org/, Status was 200\n"
     ]
    },
    {
     "name": "stderr",
     "output_type": "stream",
     "text": [
      "/usr/lib/python3/dist-packages/urllib3/connectionpool.py:1015: InsecureRequestWarning: Unverified HTTPS request is being made to host 'romantic-circles.org'. Adding certificate verification is strongly advised. See: https://urllib3.readthedocs.io/en/latest/advanced-usage.html#ssl-warnings\n",
      "  warnings.warn(\n"
     ]
    },
    {
     "name": "stdout",
     "output_type": "stream",
     "text": [
      "Checked URL https://romantic-circles.org/editions/peake/, Status was 200\n",
      "Checked URL http://www.persius.mueze.lmu.de/ghtm/gfr.htm, Status was 200\n"
     ]
    },
    {
     "name": "stderr",
     "output_type": "stream",
     "text": [
      "/usr/lib/python3/dist-packages/urllib3/connectionpool.py:1015: InsecureRequestWarning: Unverified HTTPS request is being made to host 'ldod.uc.pt'. Adding certificate verification is strongly advised. See: https://urllib3.readthedocs.io/en/latest/advanced-usage.html#ssl-warnings\n",
      "  warnings.warn(\n"
     ]
    },
    {
     "name": "stdout",
     "output_type": "stream",
     "text": [
      "Checked URL https://ldod.uc.pt, Status was 200\n",
      "Checked URL http://www.pessoadigital.pt, Status was 200\n"
     ]
    },
    {
     "name": "stderr",
     "output_type": "stream",
     "text": [
      "/usr/lib/python3/dist-packages/urllib3/connectionpool.py:1015: InsecureRequestWarning: Unverified HTTPS request is being made to host 'dcl.ils.indiana.edu'. Adding certificate verification is strongly advised. See: https://urllib3.readthedocs.io/en/latest/advanced-usage.html#ssl-warnings\n",
      "  warnings.warn(\n"
     ]
    },
    {
     "name": "stdout",
     "output_type": "stream",
     "text": [
      "Checked URL http://dcl.slis.indiana.edu/petrarchive/, Status was 200\n"
     ]
    },
    {
     "name": "stderr",
     "output_type": "stream",
     "text": [
      "/usr/lib/python3/dist-packages/urllib3/connectionpool.py:1015: InsecureRequestWarning: Unverified HTTPS request is being made to host 'pharetra-project.wlu.ca'. Adding certificate verification is strongly advised. See: https://urllib3.readthedocs.io/en/latest/advanced-usage.html#ssl-warnings\n",
      "  warnings.warn(\n"
     ]
    },
    {
     "name": "stdout",
     "output_type": "stream",
     "text": [
      "Checked URL http://web.wlu.ca/history/cnighman/LP/index.html, Status was 200\n"
     ]
    },
    {
     "name": "stderr",
     "output_type": "stream",
     "text": [
      "/usr/lib/python3/dist-packages/urllib3/connectionpool.py:1015: InsecureRequestWarning: Unverified HTTPS request is being made to host 'www.brown.edu'. Adding certificate verification is strongly advised. See: https://urllib3.readthedocs.io/en/latest/advanced-usage.html#ssl-warnings\n",
      "  warnings.warn(\n"
     ]
    },
    {
     "name": "stdout",
     "output_type": "stream",
     "text": [
      "Checked URL http://www.brown.edu/Departments/Italian_Studies/pico/, Status was 200\n",
      "Checked URL http://jefferson.village.virginia.edu/seenet/piers/, Status was 200\n"
     ]
    },
    {
     "name": "stderr",
     "output_type": "stream",
     "text": [
      "/usr/lib/python3/dist-packages/urllib3/connectionpool.py:1015: InsecureRequestWarning: Unverified HTTPS request is being made to host 'rotunda.upress.virginia.edu'. Adding certificate verification is strongly advised. See: https://urllib3.readthedocs.io/en/latest/advanced-usage.html#ssl-warnings\n",
      "  warnings.warn(\n"
     ]
    },
    {
     "name": "stdout",
     "output_type": "stream",
     "text": [
      "Checked URL http://rotunda.upress.virginia.edu/PinckneyHorry/, Status was 200\n"
     ]
    },
    {
     "name": "stderr",
     "output_type": "stream",
     "text": [
      "/usr/lib/python3/dist-packages/urllib3/connectionpool.py:1015: InsecureRequestWarning: Unverified HTTPS request is being made to host 'rotunda.upress.virginia.edu'. Adding certificate verification is strongly advised. See: https://urllib3.readthedocs.io/en/latest/advanced-usage.html#ssl-warnings\n",
      "  warnings.warn(\n"
     ]
    },
    {
     "name": "stdout",
     "output_type": "stream",
     "text": [
      "Checked URL https://rotunda.upress.virginia.edu/founders/PNKY.html, Status was 200\n"
     ]
    },
    {
     "name": "stderr",
     "output_type": "stream",
     "text": [
      "/usr/lib/python3/dist-packages/urllib3/connectionpool.py:1015: InsecureRequestWarning: Unverified HTTPS request is being made to host 'web.archive.org'. Adding certificate verification is strongly advised. See: https://urllib3.readthedocs.io/en/latest/advanced-usage.html#ssl-warnings\n",
      "  warnings.warn(\n"
     ]
    },
    {
     "name": "stdout",
     "output_type": "stream",
     "text": [
      "Checked URL https://web.archive.org/web/20190925233050/http://digital.lib.uiowa.edu:80/pioneers/, Status was 200\n",
      "Checked URL http://vlib.iue.it/carrie/documents/planctus/planctus/index.html, Status was 200\n"
     ]
    },
    {
     "name": "stderr",
     "output_type": "stream",
     "text": [
      "/usr/lib/python3/dist-packages/urllib3/connectionpool.py:1015: InsecureRequestWarning: Unverified HTTPS request is being made to host 'scta.info'. Adding certificate verification is strongly advised. See: https://urllib3.readthedocs.io/en/latest/advanced-usage.html#ssl-warnings\n",
      "  warnings.warn(\n"
     ]
    },
    {
     "name": "stdout",
     "output_type": "stream",
     "text": [
      "Checked URL https://scta.info/resource/peter-plaoul, Status was 200\n"
     ]
    },
    {
     "name": "stderr",
     "output_type": "stream",
     "text": [
      "/usr/lib/python3/dist-packages/urllib3/connectionpool.py:1015: InsecureRequestWarning: Unverified HTTPS request is being made to host 'editionhansposse.gnm.de'. Adding certificate verification is strongly advised. See: https://urllib3.readthedocs.io/en/latest/advanced-usage.html#ssl-warnings\n",
      "  warnings.warn(\n"
     ]
    },
    {
     "name": "stdout",
     "output_type": "stream",
     "text": [
      "Checked URL https://editionhansposse.gnm.de, Status was 200\n"
     ]
    },
    {
     "name": "stderr",
     "output_type": "stream",
     "text": [
      "/usr/lib/python3/dist-packages/urllib3/connectionpool.py:1015: InsecureRequestWarning: Unverified HTTPS request is being made to host 'prde.upress.virginia.edu'. Adding certificate verification is strongly advised. See: https://urllib3.readthedocs.io/en/latest/advanced-usage.html#ssl-warnings\n",
      "  warnings.warn(\n"
     ]
    },
    {
     "name": "stdout",
     "output_type": "stream",
     "text": [
      "Checked URL https://prde.upress.virginia.edu, Status was 200\n",
      "Checked URL http://www.spaetmittelalter.uni-hamburg.de/Urkundenbuch/, Status was 200\n",
      "Checked URL http://www.stgallpriscian.ie/, Status was 200\n"
     ]
    },
    {
     "name": "stderr",
     "output_type": "stream",
     "text": [
      "/usr/lib/python3/dist-packages/urllib3/connectionpool.py:1015: InsecureRequestWarning: Unverified HTTPS request is being made to host 'romantic-circles.org'. Adding certificate verification is strongly advised. See: https://urllib3.readthedocs.io/en/latest/advanced-usage.html#ssl-warnings\n",
      "  warnings.warn(\n"
     ]
    },
    {
     "name": "stdout",
     "output_type": "stream",
     "text": [
      "Checked URL https://romantic-circles.org/editions/prison/index.html, Status was 200\n",
      "Checked URL http://probstuecke-digital.de, Status was 200\n",
      "Checked URL http://diglib.hab.de/mss/81-10-aug-2f/start.htm, Status was 200\n"
     ]
    },
    {
     "name": "stderr",
     "output_type": "stream",
     "text": [
      "/usr/lib/python3/dist-packages/urllib3/connectionpool.py:1015: InsecureRequestWarning: Unverified HTTPS request is being made to host 'echo.mpiwg-berlin.mpg.de'. Adding certificate verification is strongly advised. See: https://urllib3.readthedocs.io/en/latest/advanced-usage.html#ssl-warnings\n",
      "  warnings.warn(\n",
      "/usr/lib/python3/dist-packages/urllib3/connectionpool.py:1015: InsecureRequestWarning: Unverified HTTPS request is being made to host 'echo.mpiwg-berlin.mpg.de'. Adding certificate verification is strongly advised. See: https://urllib3.readthedocs.io/en/latest/advanced-usage.html#ssl-warnings\n",
      "  warnings.warn(\n",
      "/usr/lib/python3/dist-packages/urllib3/connectionpool.py:1015: InsecureRequestWarning: Unverified HTTPS request is being made to host 'echo.mpiwg-berlin.mpg.de'. Adding certificate verification is strongly advised. See: https://urllib3.readthedocs.io/en/latest/advanced-usage.html#ssl-warnings\n",
      "  warnings.warn(\n",
      "/usr/lib/python3/dist-packages/urllib3/connectionpool.py:1015: InsecureRequestWarning: Unverified HTTPS request is being made to host 'echo.mpiwg-berlin.mpg.de'. Adding certificate verification is strongly advised. See: https://urllib3.readthedocs.io/en/latest/advanced-usage.html#ssl-warnings\n",
      "  warnings.warn(\n"
     ]
    },
    {
     "name": "stdout",
     "output_type": "stream",
     "text": [
      "Checked URL http://echo.mpiwg-berlin.mpg.de/MPIWG:X3Y43643, Status was 200\n"
     ]
    },
    {
     "name": "stderr",
     "output_type": "stream",
     "text": [
      "/usr/lib/python3/dist-packages/urllib3/connectionpool.py:1015: InsecureRequestWarning: Unverified HTTPS request is being made to host 'web.archive.org'. Adding certificate verification is strongly advised. See: https://urllib3.readthedocs.io/en/latest/advanced-usage.html#ssl-warnings\n",
      "  warnings.warn(\n"
     ]
    },
    {
     "name": "stdout",
     "output_type": "stream",
     "text": [
      "Checked URL https://web.archive.org/web/20121028151551/http://txm.risc.cnrs.fr/txm/, Status was 200\n"
     ]
    },
    {
     "name": "stderr",
     "output_type": "stream",
     "text": [
      "/usr/lib/python3/dist-packages/urllib3/connectionpool.py:1015: InsecureRequestWarning: Unverified HTTPS request is being made to host 'findingaids.library.dal.ca'. Adding certificate verification is strongly advised. See: https://urllib3.readthedocs.io/en/latest/advanced-usage.html#ssl-warnings\n",
      "  warnings.warn(\n"
     ]
    },
    {
     "name": "stdout",
     "output_type": "stream",
     "text": [
      "Checked URL http://findingaids.library.dal.ca/thomas-head-raddall-fonds, Status was 200\n"
     ]
    },
    {
     "name": "stderr",
     "output_type": "stream",
     "text": [
      "/usr/lib/python3/dist-packages/urllib3/connectionpool.py:1015: InsecureRequestWarning: Unverified HTTPS request is being made to host 'kunoraeber.ch'. Adding certificate verification is strongly advised. See: https://urllib3.readthedocs.io/en/latest/advanced-usage.html#ssl-warnings\n",
      "  warnings.warn(\n"
     ]
    },
    {
     "name": "stdout",
     "output_type": "stream",
     "text": [
      "Checked URL https://kunoraeber.ch/lyrik/, Status was 200\n"
     ]
    },
    {
     "name": "stderr",
     "output_type": "stream",
     "text": [
      "/usr/lib/python3/dist-packages/urllib3/connectionpool.py:1015: InsecureRequestWarning: Unverified HTTPS request is being made to host 'edizionicafoscari.unive.it'. Adding certificate verification is strongly advised. See: https://urllib3.readthedocs.io/en/latest/advanced-usage.html#ssl-warnings\n",
      "  warnings.warn(\n"
     ]
    },
    {
     "name": "stdout",
     "output_type": "stream",
     "text": [
      "Checked URL http://edizionicafoscari.unive.it/it/edizioni/libri/978-88-6969-00-06/giovanni-battista-ramusio/, Status was 200\n"
     ]
    },
    {
     "name": "stderr",
     "output_type": "stream",
     "text": [
      "/usr/lib/python3/dist-packages/urllib3/connectionpool.py:1015: InsecureRequestWarning: Unverified HTTPS request is being made to host 'www.ihtp.cnrs.fr'. Adding certificate verification is strongly advised. See: https://urllib3.readthedocs.io/en/latest/advanced-usage.html#ssl-warnings\n",
      "  warnings.warn(\n"
     ]
    },
    {
     "name": "stdout",
     "output_type": "stream",
     "text": [
      "Checked URL http://www.ihtp.cnrs.fr/prefets/, Status was 404\n"
     ]
    },
    {
     "name": "stderr",
     "output_type": "stream",
     "text": [
      "/usr/lib/python3/dist-packages/urllib3/connectionpool.py:1015: InsecureRequestWarning: Unverified HTTPS request is being made to host 'rita.acdh.oeaw.ac.at'. Adding certificate verification is strongly advised. See: https://urllib3.readthedocs.io/en/latest/advanced-usage.html#ssl-warnings\n",
      "  warnings.warn(\n",
      "/usr/lib/python3/dist-packages/urllib3/connectionpool.py:1015: InsecureRequestWarning: Unverified HTTPS request is being made to host 'rita.acdh.oeaw.ac.at'. Adding certificate verification is strongly advised. See: https://urllib3.readthedocs.io/en/latest/advanced-usage.html#ssl-warnings\n",
      "  warnings.warn(\n",
      "/usr/lib/python3/dist-packages/urllib3/connectionpool.py:1015: InsecureRequestWarning: Unverified HTTPS request is being made to host 'rita.acdh.oeaw.ac.at'. Adding certificate verification is strongly advised. See: https://urllib3.readthedocs.io/en/latest/advanced-usage.html#ssl-warnings\n",
      "  warnings.warn(\n"
     ]
    },
    {
     "name": "stdout",
     "output_type": "stream",
     "text": [
      "Checked URL https://rita.acdh.oeaw.ac.at, Status was 200\n"
     ]
    },
    {
     "name": "stderr",
     "output_type": "stream",
     "text": [
      "/usr/lib/python3/dist-packages/urllib3/connectionpool.py:1015: InsecureRequestWarning: Unverified HTTPS request is being made to host 'www.ssrq-sds-fds.ch'. Adding certificate verification is strongly advised. See: https://urllib3.readthedocs.io/en/latest/advanced-usage.html#ssl-warnings\n",
      "  warnings.warn(\n",
      "/usr/lib/python3/dist-packages/urllib3/connectionpool.py:1015: InsecureRequestWarning: Unverified HTTPS request is being made to host 'editio.ssrq-online.ch'. Adding certificate verification is strongly advised. See: https://urllib3.readthedocs.io/en/latest/advanced-usage.html#ssl-warnings\n",
      "  warnings.warn(\n"
     ]
    },
    {
     "name": "stdout",
     "output_type": "stream",
     "text": [
      "Checked URL https://www.ssrq-sds-fds.ch/online/tei/, Status was 200\n"
     ]
    },
    {
     "name": "stderr",
     "output_type": "stream",
     "text": [
      "/usr/lib/python3/dist-packages/urllib3/connectionpool.py:1015: InsecureRequestWarning: Unverified HTTPS request is being made to host 'www.historici.nl'. Adding certificate verification is strongly advised. See: https://urllib3.readthedocs.io/en/latest/advanced-usage.html#ssl-warnings\n",
      "  warnings.warn(\n"
     ]
    },
    {
     "name": "stdout",
     "output_type": "stream",
     "text": [
      "Checked URL http://www.historici.nl/Onderzoek/Projecten/RegistersVanDeHollandseGrafelijkheid1299-1345/index_html, Status was 403\n"
     ]
    },
    {
     "name": "stderr",
     "output_type": "stream",
     "text": [
      "/usr/lib/python3/dist-packages/urllib3/connectionpool.py:1015: InsecureRequestWarning: Unverified HTTPS request is being made to host 'akademieregistres.bbaw.de'. Adding certificate verification is strongly advised. See: https://urllib3.readthedocs.io/en/latest/advanced-usage.html#ssl-warnings\n",
      "  warnings.warn(\n"
     ]
    },
    {
     "name": "stdout",
     "output_type": "stream",
     "text": [
      "Checked URL http://akademieregistres.bbaw.de/index.html, Status was 200\n"
     ]
    },
    {
     "name": "stderr",
     "output_type": "stream",
     "text": [
      "/usr/lib/python3/dist-packages/urllib3/connectionpool.py:1015: InsecureRequestWarning: Unverified HTTPS request is being made to host 'www.bundesarchiv.de'. Adding certificate verification is strongly advised. See: https://urllib3.readthedocs.io/en/latest/advanced-usage.html#ssl-warnings\n",
      "  warnings.warn(\n",
      "/usr/lib/python3/dist-packages/urllib3/connectionpool.py:1015: InsecureRequestWarning: Unverified HTTPS request is being made to host 'quellen.perspectivia.net'. Adding certificate verification is strongly advised. See: https://urllib3.readthedocs.io/en/latest/advanced-usage.html#ssl-warnings\n",
      "  warnings.warn(\n"
     ]
    },
    {
     "name": "stdout",
     "output_type": "stream",
     "text": [
      "Checked URL http://www.bundesarchiv.de/aktenreichskanzlei/1919-1933/0000/index.html, Status was 200\n",
      "Checked URL https://quellen.perspectivia.net/de/russische_relationen/start, Status was 200\n",
      "Checked URL http://frhu20.iti.btk.mta.hu, Status was 200\n"
     ]
    },
    {
     "name": "stderr",
     "output_type": "stream",
     "text": [
      "/usr/lib/python3/dist-packages/urllib3/connectionpool.py:1015: InsecureRequestWarning: Unverified HTTPS request is being made to host 'exist.ulb.tu-darmstadt.de'. Adding certificate verification is strongly advised. See: https://urllib3.readthedocs.io/en/latest/advanced-usage.html#ssl-warnings\n",
      "  warnings.warn(\n"
     ]
    },
    {
     "name": "stdout",
     "output_type": "stream",
     "text": [
      "Checked URL http://tueditions.ulb.tu-darmstadt.de/e000001/, Status was 404\n",
      "Checked URL http://diglib.hab.de/edoc/ed000004/start.htm, Status was 200\n"
     ]
    },
    {
     "name": "stderr",
     "output_type": "stream",
     "text": [
      "/usr/lib/python3/dist-packages/urllib3/connectionpool.py:1015: InsecureRequestWarning: Unverified HTTPS request is being made to host 'erdmuthe.thulb.uni-jena.de'. Adding certificate verification is strongly advised. See: https://urllib3.readthedocs.io/en/latest/advanced-usage.html#ssl-warnings\n",
      "  warnings.warn(\n"
     ]
    },
    {
     "name": "stdout",
     "output_type": "stream",
     "text": [
      "Checked URL http://erdmuthe.thulb.uni-jena.de, Status was 200\n",
      "Checked URL http://rrp.stanford.edu, Status was 200\n"
     ]
    },
    {
     "name": "stderr",
     "output_type": "stream",
     "text": [
      "/usr/lib/python3/dist-packages/urllib3/connectionpool.py:1015: InsecureRequestWarning: Unverified HTTPS request is being made to host 'edition.mgh.de'. Adding certificate verification is strongly advised. See: https://urllib3.readthedocs.io/en/latest/advanced-usage.html#ssl-warnings\n",
      "  warnings.warn(\n",
      "/usr/lib/python3/dist-packages/urllib3/connectionpool.py:1015: InsecureRequestWarning: Unverified HTTPS request is being made to host 'www.historici.nl'. Adding certificate verification is strongly advised. See: https://urllib3.readthedocs.io/en/latest/advanced-usage.html#ssl-warnings\n",
      "  warnings.warn(\n"
     ]
    },
    {
     "name": "stdout",
     "output_type": "stream",
     "text": [
      "Checked URL https://edition.mgh.de/001/html/, Status was 200\n",
      "Checked URL http://www.historici.nl/Onderzoek/Projecten/Rijmkroniek, Status was 403\n"
     ]
    },
    {
     "name": "stderr",
     "output_type": "stream",
     "text": [
      "/usr/lib/python3/dist-packages/urllib3/connectionpool.py:1015: InsecureRequestWarning: Unverified HTTPS request is being made to host 'romantic-circles.org'. Adding certificate verification is strongly advised. See: https://urllib3.readthedocs.io/en/latest/advanced-usage.html#ssl-warnings\n",
      "  warnings.warn(\n"
     ]
    },
    {
     "name": "stdout",
     "output_type": "stream",
     "text": [
      "Checked URL https://romantic-circles.org/editions/robinson/index.html, Status was 200\n",
      "Checked URL http://gams.uni-graz.at/context:rollett, Status was 200\n"
     ]
    },
    {
     "name": "stderr",
     "output_type": "stream",
     "text": [
      "/usr/lib/python3/dist-packages/urllib3/connectionpool.py:1015: InsecureRequestWarning: Unverified HTTPS request is being made to host 'web.archive.org'. Adding certificate verification is strongly advised. See: https://urllib3.readthedocs.io/en/latest/advanced-usage.html#ssl-warnings\n",
      "  warnings.warn(\n"
     ]
    },
    {
     "name": "stdout",
     "output_type": "stream",
     "text": [
      "Checked URL https://web.archive.org/web/20080820101548/http://rose.mse.jhu.edu/pages/main_frameset.htm, Status was 200\n"
     ]
    },
    {
     "name": "stderr",
     "output_type": "stream",
     "text": [
      "/usr/lib/python3/dist-packages/urllib3/connectionpool.py:1015: InsecureRequestWarning: Unverified HTTPS request is being made to host 'romaninscriptionsofbritain.org'. Adding certificate verification is strongly advised. See: https://urllib3.readthedocs.io/en/latest/advanced-usage.html#ssl-warnings\n",
      "  warnings.warn(\n"
     ]
    },
    {
     "name": "stdout",
     "output_type": "stream",
     "text": [
      "Checked URL https://romaninscriptionsofbritain.org, Status was 200\n"
     ]
    },
    {
     "name": "stderr",
     "output_type": "stream",
     "text": [
      "/usr/lib/python3/dist-packages/urllib3/connectionpool.py:1015: InsecureRequestWarning: Unverified HTTPS request is being made to host 'web.archive.org'. Adding certificate verification is strongly advised. See: https://urllib3.readthedocs.io/en/latest/advanced-usage.html#ssl-warnings\n",
      "  warnings.warn(\n"
     ]
    },
    {
     "name": "stdout",
     "output_type": "stream",
     "text": [
      "Checked URL https://web.archive.org/web/20160603021404/https://www.gwu.edu/%7Eerpapers/, Status was 200\n"
     ]
    },
    {
     "name": "stderr",
     "output_type": "stream",
     "text": [
      "/usr/lib/python3/dist-packages/urllib3/connectionpool.py:1015: InsecureRequestWarning: Unverified HTTPS request is being made to host 'rotunda.upress.virginia.edu'. Adding certificate verification is strongly advised. See: https://urllib3.readthedocs.io/en/latest/advanced-usage.html#ssl-warnings\n",
      "  warnings.warn(\n"
     ]
    },
    {
     "name": "stdout",
     "output_type": "stream",
     "text": [
      "Checked URL http://rotunda.upress.virginia.edu/crossetti/, Status was 200\n",
      "Checked URL http://jefferson.village.virginia.edu/rossetti, Status was 404\n"
     ]
    },
    {
     "name": "stderr",
     "output_type": "stream",
     "text": [
      "/usr/lib/python3/dist-packages/urllib3/connectionpool.py:1015: InsecureRequestWarning: Unverified HTTPS request is being made to host 'opendata.uni-halle.de'. Adding certificate verification is strongly advised. See: https://urllib3.readthedocs.io/en/latest/advanced-usage.html#ssl-warnings\n",
      "  warnings.warn(\n"
     ]
    },
    {
     "name": "stdout",
     "output_type": "stream",
     "text": [
      "Checked URL https://opendata.uni-halle.de/handle/1981185920/13873, Status was 200\n"
     ]
    },
    {
     "name": "stderr",
     "output_type": "stream",
     "text": [
      "/usr/lib/python3/dist-packages/urllib3/connectionpool.py:1015: InsecureRequestWarning: Unverified HTTPS request is being made to host 'journals.openedition.org'. Adding certificate verification is strongly advised. See: https://urllib3.readthedocs.io/en/latest/advanced-usage.html#ssl-warnings\n",
      "  warnings.warn(\n"
     ]
    },
    {
     "name": "stdout",
     "output_type": "stream",
     "text": [
      "Checked URL https://journals.openedition.org/tabularia/2569?lang=en, Status was 200\n",
      "Checked URL http://diglib.hab.de/edoc/ed000083/startx.htm, Status was 200\n"
     ]
    },
    {
     "name": "stderr",
     "output_type": "stream",
     "text": [
      "/usr/lib/python3/dist-packages/urllib3/connectionpool.py:1015: InsecureRequestWarning: Unverified HTTPS request is being made to host 'www.humanities.mcmaster.ca'. Adding certificate verification is strongly advised. See: https://urllib3.readthedocs.io/en/latest/advanced-usage.html#ssl-warnings\n",
      "  warnings.warn(\n"
     ]
    },
    {
     "name": "stdout",
     "output_type": "stream",
     "text": [
      "Checked URL http://www.humanities.mcmaster.ca/~russell/brletters.htm, Status was 200\n"
     ]
    },
    {
     "name": "stderr",
     "output_type": "stream",
     "text": [
      "/usr/lib/python3/dist-packages/urllib3/connectionpool.py:1015: InsecureRequestWarning: Unverified HTTPS request is being made to host 'web.archive.org'. Adding certificate verification is strongly advised. See: https://urllib3.readthedocs.io/en/latest/advanced-usage.html#ssl-warnings\n",
      "  warnings.warn(\n"
     ]
    },
    {
     "name": "stdout",
     "output_type": "stream",
     "text": [
      "Checked URL https://web.archive.org/web/20070609201827/http://www.winter-verlag-hd.de/programm/ucw/Rechtswissenschaft/body_rechtswissenschaft.html, Status was 200\n"
     ]
    },
    {
     "name": "stderr",
     "output_type": "stream",
     "text": [
      "/usr/lib/python3/dist-packages/urllib3/connectionpool.py:1015: InsecureRequestWarning: Unverified HTTPS request is being made to host 'www.sachsenspiegel-online.de'. Adding certificate verification is strongly advised. See: https://urllib3.readthedocs.io/en/latest/advanced-usage.html#ssl-warnings\n",
      "  warnings.warn(\n"
     ]
    },
    {
     "name": "stdout",
     "output_type": "stream",
     "text": [
      "Checked URL http://www.sachsenspiegel-online.de/cms/, Status was 200\n",
      "Checked URL http://saint-denis.enc.sorbonne.fr/, Status was 200\n",
      "Checked URL http://elec.enc.sorbonne.fr/saintgermaindespres/, Status was 200\n",
      "Checked URL http://elec.enc.sorbonne.fr/sanctoral/, Status was 200\n",
      "Checked URL http://ta.sandrart.net/de/, Status was 200\n",
      "Checked URL http://modeleditions.blackmesatech.com/mep/MS/docs/ms-table.html, Status was 200\n"
     ]
    },
    {
     "name": "stderr",
     "output_type": "stream",
     "text": [
      "/usr/lib/python3/dist-packages/urllib3/connectionpool.py:1015: InsecureRequestWarning: Unverified HTTPS request is being made to host 'www.monasterium.net'. Adding certificate verification is strongly advised. See: https://urllib3.readthedocs.io/en/latest/advanced-usage.html#ssl-warnings\n",
      "  warnings.warn(\n"
     ]
    },
    {
     "name": "stdout",
     "output_type": "stream",
     "text": [
      "Checked URL https://www.monasterium.net/mom/SMG1200-1250/collection, Status was 200\n",
      "Checked URL http://inamidst.com/stuff/sappho/, Status was 200\n"
     ]
    },
    {
     "name": "stderr",
     "output_type": "stream",
     "text": [
      "/usr/lib/python3/dist-packages/urllib3/connectionpool.py:1015: InsecureRequestWarning: Unverified HTTPS request is being made to host 'edition.onb.ac.at'. Adding certificate verification is strongly advised. See: https://urllib3.readthedocs.io/en/latest/advanced-usage.html#ssl-warnings\n",
      "  warnings.warn(\n"
     ]
    },
    {
     "name": "stdout",
     "output_type": "stream",
     "text": [
      "Checked URL http://sauer-seuffert.onb.ac.at, Status was 200\n"
     ]
    },
    {
     "name": "stderr",
     "output_type": "stream",
     "text": [
      "/usr/lib/python3/dist-packages/urllib3/connectionpool.py:1015: InsecureRequestWarning: Unverified HTTPS request is being made to host 'quellen.perspectivia.net'. Adding certificate verification is strongly advised. See: https://urllib3.readthedocs.io/en/latest/advanced-usage.html#ssl-warnings\n",
      "  warnings.warn(\n"
     ]
    },
    {
     "name": "stdout",
     "output_type": "stream",
     "text": [
      "Checked URL https://quellen.perspectivia.net/de/schatullrechnungen/start, Status was 200\n",
      "Checked URL http://exist.ghil.ac.uk:8079/Schimper/index.html, Status was 200\n"
     ]
    },
    {
     "name": "stderr",
     "output_type": "stream",
     "text": [
      "/usr/lib/python3/dist-packages/urllib3/connectionpool.py:1015: InsecureRequestWarning: Unverified HTTPS request is being made to host 'august-wilhelm-schlegel.de'. Adding certificate verification is strongly advised. See: https://urllib3.readthedocs.io/en/latest/advanced-usage.html#ssl-warnings\n",
      "  warnings.warn(\n",
      "/usr/lib/python3/dist-packages/urllib3/connectionpool.py:1015: InsecureRequestWarning: Unverified HTTPS request is being made to host 'august-wilhelm-schlegel.de'. Adding certificate verification is strongly advised. See: https://urllib3.readthedocs.io/en/latest/advanced-usage.html#ssl-warnings\n",
      "  warnings.warn(\n",
      "/usr/lib/python3/dist-packages/urllib3/connectionpool.py:1015: InsecureRequestWarning: Unverified HTTPS request is being made to host 'august-wilhelm-schlegel.de'. Adding certificate verification is strongly advised. See: https://urllib3.readthedocs.io/en/latest/advanced-usage.html#ssl-warnings\n",
      "  warnings.warn(\n"
     ]
    },
    {
     "name": "stdout",
     "output_type": "stream",
     "text": [
      "Checked URL http://august-wilhelm-schlegel.de/, Status was 200\n"
     ]
    },
    {
     "name": "stderr",
     "output_type": "stream",
     "text": [
      "/usr/lib/python3/dist-packages/urllib3/connectionpool.py:1015: InsecureRequestWarning: Unverified HTTPS request is being made to host 'schleiermacher-digital.de'. Adding certificate verification is strongly advised. See: https://urllib3.readthedocs.io/en/latest/advanced-usage.html#ssl-warnings\n",
      "  warnings.warn(\n"
     ]
    },
    {
     "name": "stdout",
     "output_type": "stream",
     "text": [
      "Checked URL https://schleiermacher-digital.de, Status was 200\n"
     ]
    },
    {
     "name": "stderr",
     "output_type": "stream",
     "text": [
      "/usr/lib/python3/dist-packages/urllib3/connectionpool.py:1015: InsecureRequestWarning: Unverified HTTPS request is being made to host 'www.arthur-schnitzler.de'. Adding certificate verification is strongly advised. See: https://urllib3.readthedocs.io/en/latest/advanced-usage.html#ssl-warnings\n",
      "  warnings.warn(\n"
     ]
    },
    {
     "name": "stdout",
     "output_type": "stream",
     "text": [
      "Checked URL https://www.arthur-schnitzler.de/, Status was 200\n"
     ]
    },
    {
     "name": "stderr",
     "output_type": "stream",
     "text": [
      "/usr/lib/python3/dist-packages/urllib3/connectionpool.py:1015: InsecureRequestWarning: Unverified HTTPS request is being made to host 'schnitzler-briefe.acdh.oeaw.ac.at'. Adding certificate verification is strongly advised. See: https://urllib3.readthedocs.io/en/latest/advanced-usage.html#ssl-warnings\n",
      "  warnings.warn(\n",
      "/usr/lib/python3/dist-packages/urllib3/connectionpool.py:1015: InsecureRequestWarning: Unverified HTTPS request is being made to host 'schnitzler-briefe.acdh.oeaw.ac.at'. Adding certificate verification is strongly advised. See: https://urllib3.readthedocs.io/en/latest/advanced-usage.html#ssl-warnings\n",
      "  warnings.warn(\n"
     ]
    },
    {
     "name": "stdout",
     "output_type": "stream",
     "text": [
      "Checked URL https://schnitzler-briefe.acdh.oeaw.ac.at/, Status was 200\n",
      "Checked URL http://www.else.uni-wuppertal.de/index.html, Status was 200\n"
     ]
    },
    {
     "name": "stderr",
     "output_type": "stream",
     "text": [
      "/usr/lib/python3/dist-packages/urllib3/connectionpool.py:1015: InsecureRequestWarning: Unverified HTTPS request is being made to host 'schnitzler-tagebuch.acdh.oeaw.ac.at'. Adding certificate verification is strongly advised. See: https://urllib3.readthedocs.io/en/latest/advanced-usage.html#ssl-warnings\n",
      "  warnings.warn(\n"
     ]
    },
    {
     "name": "stdout",
     "output_type": "stream",
     "text": [
      "Checked URL https://schnitzler-tagebuch.acdh.oeaw.ac.at/pages/index.html, Status was 404\n",
      "Checked URL http://schopenhauer.uni.wroc.pl, Status was 200\n"
     ]
    },
    {
     "name": "stderr",
     "output_type": "stream",
     "text": [
      "/usr/lib/python3/dist-packages/urllib3/connectionpool.py:1015: InsecureRequestWarning: Unverified HTTPS request is being made to host 'www.oliveschreiner.org'. Adding certificate verification is strongly advised. See: https://urllib3.readthedocs.io/en/latest/advanced-usage.html#ssl-warnings\n",
      "  warnings.warn(\n",
      "/usr/lib/python3/dist-packages/urllib3/connectionpool.py:1015: InsecureRequestWarning: Unverified HTTPS request is being made to host 'gams.uni-graz.at'. Adding certificate verification is strongly advised. See: https://urllib3.readthedocs.io/en/latest/advanced-usage.html#ssl-warnings\n",
      "  warnings.warn(\n"
     ]
    },
    {
     "name": "stdout",
     "output_type": "stream",
     "text": [
      "Checked URL http://schuchardt.uni-graz.at/korrespondenz/einleitung, Status was 200\n",
      "Checked URL http://digital.wustl.edu/d/dre/index.html, Status was 200\n",
      "Checked URL http://www.artamene.org/, Status was 200\n"
     ]
    },
    {
     "name": "stderr",
     "output_type": "stream",
     "text": [
      "/usr/lib/python3/dist-packages/urllib3/connectionpool.py:1015: InsecureRequestWarning: Unverified HTTPS request is being made to host 'edition640.makingandknowing.org'. Adding certificate verification is strongly advised. See: https://urllib3.readthedocs.io/en/latest/advanced-usage.html#ssl-warnings\n",
      "  warnings.warn(\n"
     ]
    },
    {
     "name": "stdout",
     "output_type": "stream",
     "text": [
      "Checked URL https://edition640.makingandknowing.org/#/, Status was 200\n",
      "Checked URL http://www.mdsz.thulb.uni-jena.de/sz/index.php, Status was 200\n"
     ]
    },
    {
     "name": "stderr",
     "output_type": "stream",
     "text": [
      "/usr/lib/python3/dist-packages/urllib3/connectionpool.py:1015: InsecureRequestWarning: Unverified HTTPS request is being made to host 'www.ub.uni-frankfurt.de'. Adding certificate verification is strongly advised. See: https://urllib3.readthedocs.io/en/latest/advanced-usage.html#ssl-warnings\n",
      "  warnings.warn(\n"
     ]
    },
    {
     "name": "stdout",
     "output_type": "stream",
     "text": [
      "Checked URL http://senckenberg.ub.uni-frankfurt.de, Status was 200\n",
      "Checked URL http://www.sermones.net, Status was 200\n",
      "Checked URL http://diglib.hab.de/edoc/ed000215/start.htm, Status was 200\n"
     ]
    },
    {
     "name": "stderr",
     "output_type": "stream",
     "text": [
      "/usr/lib/python3/dist-packages/urllib3/connectionpool.py:1015: InsecureRequestWarning: Unverified HTTPS request is being made to host 'purl.oclc.org'. Adding certificate verification is strongly advised. See: https://urllib3.readthedocs.io/en/latest/advanced-usage.html#ssl-warnings\n",
      "  warnings.warn(\n",
      "/usr/lib/python3/dist-packages/urllib3/connectionpool.py:1015: InsecureRequestWarning: Unverified HTTPS request is being made to host 'extra.shu.ac.uk'. Adding certificate verification is strongly advised. See: https://urllib3.readthedocs.io/en/latest/advanced-usage.html#ssl-warnings\n",
      "  warnings.warn(\n"
     ]
    },
    {
     "name": "stdout",
     "output_type": "stream",
     "text": [
      "Checked URL http://purl.oclc.org/emls/04-2/rev_siem.html, Status was 200\n"
     ]
    },
    {
     "name": "stderr",
     "output_type": "stream",
     "text": [
      "/usr/lib/python3/dist-packages/urllib3/connectionpool.py:1015: InsecureRequestWarning: Unverified HTTPS request is being made to host 'internetshakespeare.uvic.ca'. Adding certificate verification is strongly advised. See: https://urllib3.readthedocs.io/en/latest/advanced-usage.html#ssl-warnings\n",
      "  warnings.warn(\n"
     ]
    },
    {
     "name": "stdout",
     "output_type": "stream",
     "text": [
      "Checked URL http://internetshakespeare.uvic.ca/index.html, Status was 200\n"
     ]
    },
    {
     "name": "stderr",
     "output_type": "stream",
     "text": [
      "/usr/lib/python3/dist-packages/urllib3/connectionpool.py:1015: InsecureRequestWarning: Unverified HTTPS request is being made to host 'wayback.archive-it.org'. Adding certificate verification is strongly advised. See: https://urllib3.readthedocs.io/en/latest/advanced-usage.html#ssl-warnings\n",
      "  warnings.warn(\n"
     ]
    },
    {
     "name": "stdout",
     "output_type": "stream",
     "text": [
      "Checked URL https://wayback.archive-it.org/org-467/20191016094633/http://quartos.org/, Status was 200\n",
      "Checked URL http://shelleygodwinarchive.org/, Status was 200\n"
     ]
    },
    {
     "name": "stderr",
     "output_type": "stream",
     "text": [
      "/usr/lib/python3/dist-packages/urllib3/connectionpool.py:1015: InsecureRequestWarning: Unverified HTTPS request is being made to host 'romantic-circles.org'. Adding certificate verification is strongly advised. See: https://urllib3.readthedocs.io/en/latest/advanced-usage.html#ssl-warnings\n",
      "  warnings.warn(\n"
     ]
    },
    {
     "name": "stdout",
     "output_type": "stream",
     "text": [
      "Checked URL https://romantic-circles.org/editions/mws/lastman/index.html, Status was 200\n"
     ]
    },
    {
     "name": "stderr",
     "output_type": "stream",
     "text": [
      "/usr/lib/python3/dist-packages/urllib3/connectionpool.py:1015: InsecureRequestWarning: Unverified HTTPS request is being made to host 'romantic-circles.org'. Adding certificate verification is strongly advised. See: https://urllib3.readthedocs.io/en/latest/advanced-usage.html#ssl-warnings\n",
      "  warnings.warn(\n"
     ]
    },
    {
     "name": "stdout",
     "output_type": "stream",
     "text": [
      "Checked URL https://romantic-circles.org/editions/shelley/medusa/index.html, Status was 200\n"
     ]
    },
    {
     "name": "stderr",
     "output_type": "stream",
     "text": [
      "/usr/lib/python3/dist-packages/urllib3/connectionpool.py:1015: InsecureRequestWarning: Unverified HTTPS request is being made to host 'romantic-circles.org'. Adding certificate verification is strongly advised. See: https://urllib3.readthedocs.io/en/latest/advanced-usage.html#ssl-warnings\n",
      "  warnings.warn(\n"
     ]
    },
    {
     "name": "stdout",
     "output_type": "stream",
     "text": [
      "Checked URL https://romantic-circles.org/editions/mws/immortal/index.html, Status was 200\n"
     ]
    },
    {
     "name": "stderr",
     "output_type": "stream",
     "text": [
      "/usr/lib/python3/dist-packages/urllib3/connectionpool.py:1015: InsecureRequestWarning: Unverified HTTPS request is being made to host 'romantic-circles.org'. Adding certificate verification is strongly advised. See: https://urllib3.readthedocs.io/en/latest/advanced-usage.html#ssl-warnings\n",
      "  warnings.warn(\n"
     ]
    },
    {
     "name": "stdout",
     "output_type": "stream",
     "text": [
      "Checked URL https://romantic-circles.org/editions/shelley/devil/index.html, Status was 200\n"
     ]
    },
    {
     "name": "stderr",
     "output_type": "stream",
     "text": [
      "/usr/lib/python3/dist-packages/urllib3/connectionpool.py:1015: InsecureRequestWarning: Unverified HTTPS request is being made to host 'rotunda.upress.virginia.edu'. Adding certificate verification is strongly advised. See: https://urllib3.readthedocs.io/en/latest/advanced-usage.html#ssl-warnings\n",
      "  warnings.warn(\n"
     ]
    },
    {
     "name": "stdout",
     "output_type": "stream",
     "text": [
      "Checked URL https://rotunda.upress.virginia.edu/EmilyShore/make-page.xqy, Status was 200\n"
     ]
    },
    {
     "name": "stderr",
     "output_type": "stream",
     "text": [
      "/usr/lib/python3/dist-packages/urllib3/connectionpool.py:1015: InsecureRequestWarning: Unverified HTTPS request is being made to host 'dslab.lib.rochester.edu'. Adding certificate verification is strongly advised. See: https://urllib3.readthedocs.io/en/latest/advanced-usage.html#ssl-warnings\n",
      "  warnings.warn(\n"
     ]
    },
    {
     "name": "stdout",
     "output_type": "stream",
     "text": [
      "Checked URL https://dslab.lib.rochester.edu/esw/, Status was 200\n",
      "Checked URL http://siddham.uk/, Status was 200\n",
      "Checked URL http://siebenbuergenurkundenbuch.uni-trier.de/, Status was 200\n"
     ]
    },
    {
     "name": "stderr",
     "output_type": "stream",
     "text": [
      "/usr/lib/python3/dist-packages/urllib3/connectionpool.py:1015: InsecureRequestWarning: Unverified HTTPS request is being made to host 'codexsinaiticus.org'. Adding certificate verification is strongly advised. See: https://urllib3.readthedocs.io/en/latest/advanced-usage.html#ssl-warnings\n",
      "  warnings.warn(\n",
      "/usr/lib/python3/dist-packages/urllib3/connectionpool.py:1015: InsecureRequestWarning: Unverified HTTPS request is being made to host 'codexsinaiticus.org'. Adding certificate verification is strongly advised. See: https://urllib3.readthedocs.io/en/latest/advanced-usage.html#ssl-warnings\n",
      "  warnings.warn(\n"
     ]
    },
    {
     "name": "stdout",
     "output_type": "stream",
     "text": [
      "Checked URL http://codexsinaiticus.org/en/, Status was 200\n",
      "Checked URL http://nl.ijs.si/e-zrc/index-en.html, Status was 200\n"
     ]
    },
    {
     "name": "stderr",
     "output_type": "stream",
     "text": [
      "/usr/lib/python3/dist-packages/urllib3/connectionpool.py:1015: InsecureRequestWarning: Unverified HTTPS request is being made to host 'cdrhsites.unl.edu'. Adding certificate verification is strongly advised. See: https://urllib3.readthedocs.io/en/latest/advanced-usage.html#ssl-warnings\n",
      "  warnings.warn(\n",
      "/usr/lib/python3/dist-packages/urllib3/connectionpool.py:1015: InsecureRequestWarning: Unverified HTTPS request is being made to host 'cdrhsites.unl.edu'. Adding certificate verification is strongly advised. See: https://urllib3.readthedocs.io/en/latest/advanced-usage.html#ssl-warnings\n",
      "  warnings.warn(\n"
     ]
    },
    {
     "name": "stdout",
     "output_type": "stream",
     "text": [
      "Checked URL https://cdrhsites.unl.edu/ctsmithsite, Status was 200\n",
      "Checked URL http://www.songsofthevictorians.com/, Status was 500\n"
     ]
    },
    {
     "name": "stderr",
     "output_type": "stream",
     "text": [
      "/usr/lib/python3/dist-packages/urllib3/connectionpool.py:1015: InsecureRequestWarning: Unverified HTTPS request is being made to host 'romantic-circles.org'. Adding certificate verification is strongly advised. See: https://urllib3.readthedocs.io/en/latest/advanced-usage.html#ssl-warnings\n",
      "  warnings.warn(\n"
     ]
    },
    {
     "name": "stdout",
     "output_type": "stream",
     "text": [
      "Checked URL https://romantic-circles.org/editions/southey_letters/Part_One/index.html, Status was 200\n"
     ]
    },
    {
     "name": "stderr",
     "output_type": "stream",
     "text": [
      "/usr/lib/python3/dist-packages/urllib3/connectionpool.py:1015: InsecureRequestWarning: Unverified HTTPS request is being made to host 'romantic-circles.org'. Adding certificate verification is strongly advised. See: https://urllib3.readthedocs.io/en/latest/advanced-usage.html#ssl-warnings\n",
      "  warnings.warn(\n"
     ]
    },
    {
     "name": "stdout",
     "output_type": "stream",
     "text": [
      "Checked URL https://romantic-circles.org/editions/southey_letters/Part_Two/index.html, Status was 200\n"
     ]
    },
    {
     "name": "stderr",
     "output_type": "stream",
     "text": [
      "/usr/lib/python3/dist-packages/urllib3/connectionpool.py:1015: InsecureRequestWarning: Unverified HTTPS request is being made to host 'romantic-circles.org'. Adding certificate verification is strongly advised. See: https://urllib3.readthedocs.io/en/latest/advanced-usage.html#ssl-warnings\n",
      "  warnings.warn(\n"
     ]
    },
    {
     "name": "stdout",
     "output_type": "stream",
     "text": [
      "Checked URL https://romantic-circles.org/editions/southey_letters/Part_Three/index.html, Status was 200\n"
     ]
    },
    {
     "name": "stderr",
     "output_type": "stream",
     "text": [
      "/usr/lib/python3/dist-packages/urllib3/connectionpool.py:1015: InsecureRequestWarning: Unverified HTTPS request is being made to host 'romantic-circles.org'. Adding certificate verification is strongly advised. See: https://urllib3.readthedocs.io/en/latest/advanced-usage.html#ssl-warnings\n",
      "  warnings.warn(\n"
     ]
    },
    {
     "name": "stdout",
     "output_type": "stream",
     "text": [
      "Checked URL https://romantic-circles.org/editions/southey_letters/Part_Four/index.html, Status was 200\n"
     ]
    },
    {
     "name": "stderr",
     "output_type": "stream",
     "text": [
      "/usr/lib/python3/dist-packages/urllib3/connectionpool.py:1015: InsecureRequestWarning: Unverified HTTPS request is being made to host 'romantic-circles.org'. Adding certificate verification is strongly advised. See: https://urllib3.readthedocs.io/en/latest/advanced-usage.html#ssl-warnings\n",
      "  warnings.warn(\n"
     ]
    },
    {
     "name": "stdout",
     "output_type": "stream",
     "text": [
      "Checked URL https://romantic-circles.org/editions/southey_letters/Part_Five/index.html, Status was 200\n"
     ]
    },
    {
     "name": "stderr",
     "output_type": "stream",
     "text": [
      "/usr/lib/python3/dist-packages/urllib3/connectionpool.py:1015: InsecureRequestWarning: Unverified HTTPS request is being made to host 'romantic-circles.org'. Adding certificate verification is strongly advised. See: https://urllib3.readthedocs.io/en/latest/advanced-usage.html#ssl-warnings\n",
      "  warnings.warn(\n"
     ]
    },
    {
     "name": "stdout",
     "output_type": "stream",
     "text": [
      "Checked URL https://romantic-circles.org/editions/southey_letters/Part_Six/index.html, Status was 200\n"
     ]
    },
    {
     "name": "stderr",
     "output_type": "stream",
     "text": [
      "/usr/lib/python3/dist-packages/urllib3/connectionpool.py:1015: InsecureRequestWarning: Unverified HTTPS request is being made to host 'romantic-circles.org'. Adding certificate verification is strongly advised. See: https://urllib3.readthedocs.io/en/latest/advanced-usage.html#ssl-warnings\n",
      "  warnings.warn(\n"
     ]
    },
    {
     "name": "stdout",
     "output_type": "stream",
     "text": [
      "Checked URL https://romantic-circles.org/editions/southey_prophecy, Status was 200\n"
     ]
    },
    {
     "name": "stderr",
     "output_type": "stream",
     "text": [
      "/usr/lib/python3/dist-packages/urllib3/connectionpool.py:1015: InsecureRequestWarning: Unverified HTTPS request is being made to host 'romantic-circles.org'. Adding certificate verification is strongly advised. See: https://urllib3.readthedocs.io/en/latest/advanced-usage.html#ssl-warnings\n",
      "  warnings.warn(\n"
     ]
    },
    {
     "name": "stdout",
     "output_type": "stream",
     "text": [
      "Checked URL https://romantic-circles.org/editions/wattyler/, Status was 200\n"
     ]
    },
    {
     "name": "stderr",
     "output_type": "stream",
     "text": [
      "/usr/lib/python3/dist-packages/urllib3/connectionpool.py:1015: InsecureRequestWarning: Unverified HTTPS request is being made to host 'www.spaengler-haushaltsbuecher.at'. Adding certificate verification is strongly advised. See: https://urllib3.readthedocs.io/en/latest/advanced-usage.html#ssl-warnings\n",
      "  warnings.warn(\n"
     ]
    },
    {
     "name": "stdout",
     "output_type": "stream",
     "text": [
      "Checked URL https://www.spaengler-haushaltsbuecher.at, Status was 200\n",
      "Checked URL http://www.spohr-briefe.de, Status was 200\n"
     ]
    },
    {
     "name": "stderr",
     "output_type": "stream",
     "text": [
      "/usr/lib/python3/dist-packages/urllib3/connectionpool.py:1015: InsecureRequestWarning: Unverified HTTPS request is being made to host 'digital.library.ucla.edu'. Adding certificate verification is strongly advised. See: https://urllib3.readthedocs.io/en/latest/advanced-usage.html#ssl-warnings\n",
      "  warnings.warn(\n"
     ]
    },
    {
     "name": "stdout",
     "output_type": "stream",
     "text": [
      "Checked URL http://www.stgallplan.org/, Status was 200\n"
     ]
    },
    {
     "name": "stderr",
     "output_type": "stream",
     "text": [
      "/usr/lib/python3/dist-packages/urllib3/connectionpool.py:1015: InsecureRequestWarning: Unverified HTTPS request is being made to host 'www.bayerischer-staatsrat.de'. Adding certificate verification is strongly advised. See: https://urllib3.readthedocs.io/en/latest/advanced-usage.html#ssl-warnings\n",
      "  warnings.warn(\n"
     ]
    },
    {
     "name": "stdout",
     "output_type": "stream",
     "text": [
      "Checked URL http://www.bayerischer-staatsrat.de, Status was 200\n",
      "Checked URL http://walpurgisherren.editionenportal.de/index.php?id=449, Status was 200\n"
     ]
    },
    {
     "name": "stderr",
     "output_type": "stream",
     "text": [
      "/usr/lib/python3/dist-packages/urllib3/connectionpool.py:1015: InsecureRequestWarning: Unverified HTTPS request is being made to host 'web.archive.org'. Adding certificate verification is strongly advised. See: https://urllib3.readthedocs.io/en/latest/advanced-usage.html#ssl-warnings\n",
      "  warnings.warn(\n"
     ]
    },
    {
     "name": "stdout",
     "output_type": "stream",
     "text": [
      "Checked URL https://web.archive.org/web/20090103204623/http://adh.sc.edu/sa/sa-table.html, Status was 200\n"
     ]
    },
    {
     "name": "stderr",
     "output_type": "stream",
     "text": [
      "/usr/lib/python3/dist-packages/urllib3/connectionpool.py:1015: InsecureRequestWarning: Unverified HTTPS request is being made to host 'stapferenquete.ch'. Adding certificate verification is strongly advised. See: https://urllib3.readthedocs.io/en/latest/advanced-usage.html#ssl-warnings\n",
      "  warnings.warn(\n"
     ]
    },
    {
     "name": "stdout",
     "output_type": "stream",
     "text": [
      "Checked URL http://www.stapferenquete.ch, Status was 200\n"
     ]
    },
    {
     "name": "stderr",
     "output_type": "stream",
     "text": [
      "/usr/lib/python3/dist-packages/urllib3/connectionpool.py:1015: InsecureRequestWarning: Unverified HTTPS request is being made to host 'staribacher.acdh.oeaw.ac.at'. Adding certificate verification is strongly advised. See: https://urllib3.readthedocs.io/en/latest/advanced-usage.html#ssl-warnings\n",
      "  warnings.warn(\n"
     ]
    },
    {
     "name": "stdout",
     "output_type": "stream",
     "text": [
      "Checked URL https://staribacher.acdh.oeaw.ac.at/, Status was 200\n"
     ]
    },
    {
     "name": "stderr",
     "output_type": "stream",
     "text": [
      "/usr/lib/python3/dist-packages/urllib3/connectionpool.py:1015: InsecureRequestWarning: Unverified HTTPS request is being made to host 'www.ddr-im-blick.de'. Adding certificate verification is strongly advised. See: https://urllib3.readthedocs.io/en/latest/advanced-usage.html#ssl-warnings\n",
      "  warnings.warn(\n"
     ]
    },
    {
     "name": "stdout",
     "output_type": "stream",
     "text": [
      "Checked URL http://www.ddr-im-blick.de/, Status was 200\n"
     ]
    },
    {
     "name": "stderr",
     "output_type": "stream",
     "text": [
      "/usr/lib/python3/dist-packages/urllib3/connectionpool.py:1015: InsecureRequestWarning: Unverified HTTPS request is being made to host 'stationersregister.online'. Adding certificate verification is strongly advised. See: https://urllib3.readthedocs.io/en/latest/advanced-usage.html#ssl-warnings\n",
      "  warnings.warn(\n"
     ]
    },
    {
     "name": "stdout",
     "output_type": "stream",
     "text": [
      "Checked URL https://stationersregister.online, Status was 200\n"
     ]
    },
    {
     "name": "stderr",
     "output_type": "stream",
     "text": [
      "/usr/lib/python3/dist-packages/urllib3/connectionpool.py:1015: InsecureRequestWarning: Unverified HTTPS request is being made to host 'achilleid.unige.ch'. Adding certificate verification is strongly advised. See: https://urllib3.readthedocs.io/en/latest/advanced-usage.html#ssl-warnings\n",
      "  warnings.warn(\n"
     ]
    },
    {
     "name": "stdout",
     "output_type": "stream",
     "text": [
      "Checked URL https://achilleid.unige.ch/welcome, Status was 200\n",
      "Checked URL http://vicenza.statutacommunis.org/, Status was 200\n",
      "Checked URL http://stendhal.demarre-shs.fr/, Status was 200\n"
     ]
    },
    {
     "name": "stderr",
     "output_type": "stream",
     "text": [
      "/usr/lib/python3/dist-packages/urllib3/connectionpool.py:1015: InsecureRequestWarning: Unverified HTTPS request is being made to host 'www.lib.umd.edu'. Adding certificate verification is strongly advised. See: https://urllib3.readthedocs.io/en/latest/advanced-usage.html#ssl-warnings\n",
      "  warnings.warn(\n",
      "/usr/lib/python3/dist-packages/urllib3/connectionpool.py:1015: InsecureRequestWarning: Unverified HTTPS request is being made to host 'archives.lib.umd.edu'. Adding certificate verification is strongly advised. See: https://urllib3.readthedocs.io/en/latest/advanced-usage.html#ssl-warnings\n",
      "  warnings.warn(\n"
     ]
    },
    {
     "name": "stdout",
     "output_type": "stream",
     "text": [
      "Checked URL http://www.lib.umd.edu/dcr/collections/sterling/index.jsp, Status was 200\n",
      "Checked URL http://www.tristramshandyweb.it, Status was 200\n"
     ]
    },
    {
     "name": "stderr",
     "output_type": "stream",
     "text": [
      "/usr/lib/python3/dist-packages/urllib3/connectionpool.py:1015: InsecureRequestWarning: Unverified HTTPS request is being made to host 'www.uibk.ac.at'. Adding certificate verification is strongly advised. See: https://urllib3.readthedocs.io/en/latest/advanced-usage.html#ssl-warnings\n",
      "  warnings.warn(\n",
      "/usr/lib/python3/dist-packages/urllib3/connectionpool.py:1015: InsecureRequestWarning: Unverified HTTPS request is being made to host 'dh.tcd.ie'. Adding certificate verification is strongly advised. See: https://urllib3.readthedocs.io/en/latest/advanced-usage.html#ssl-warnings\n",
      "  warnings.warn(\n"
     ]
    },
    {
     "name": "stdout",
     "output_type": "stream",
     "text": [
      "Checked URL https://www.uibk.ac.at/germanistik/stifter/witiko/, Status was 403\n",
      "Checked URL https://dh.tcd.ie/pricediary/, Status was 500\n",
      "Checked URL http://www.strassenenquete.ch, Status was 200\n",
      "Checked URL http://www.richard-strauss-ausgabe.de, Status was 200\n",
      "Checked URL http://web.archive.org/web/20111221024740/http://www.kantl.be:80/ctb/vanhoutte/projects/teleurgang.htm, Status was 200\n"
     ]
    },
    {
     "name": "stderr",
     "output_type": "stream",
     "text": [
      "/usr/lib/python3/dist-packages/urllib3/connectionpool.py:1015: InsecureRequestWarning: Unverified HTTPS request is being made to host 'edities.kantl.be'. Adding certificate verification is strongly advised. See: https://urllib3.readthedocs.io/en/latest/advanced-usage.html#ssl-warnings\n",
      "  warnings.warn(\n",
      "/usr/lib/python3/dist-packages/urllib3/connectionpool.py:1015: InsecureRequestWarning: Unverified HTTPS request is being made to host 'edities.kantl.be'. Adding certificate verification is strongly advised. See: https://urllib3.readthedocs.io/en/latest/advanced-usage.html#ssl-warnings\n",
      "  warnings.warn(\n",
      "/usr/lib/python3/dist-packages/urllib3/connectionpool.py:1015: InsecureRequestWarning: Unverified HTTPS request is being made to host 'edities.kantl.be'. Adding certificate verification is strongly advised. See: https://urllib3.readthedocs.io/en/latest/advanced-usage.html#ssl-warnings\n",
      "  warnings.warn(\n"
     ]
    },
    {
     "name": "stdout",
     "output_type": "stream",
     "text": [
      "Checked URL http://edities.kantl.be/streuvels/, Status was 200\n",
      "Checked URL https://www.dhi.ac.uk/strype/, Status was 200\n"
     ]
    },
    {
     "name": "stderr",
     "output_type": "stream",
     "text": [
      "/usr/lib/python3/dist-packages/urllib3/connectionpool.py:1015: InsecureRequestWarning: Unverified HTTPS request is being made to host 'www.dhi.ac.uk'. Adding certificate verification is strongly advised. See: https://urllib3.readthedocs.io/en/latest/advanced-usage.html#ssl-warnings\n",
      "  warnings.warn(\n",
      "/usr/lib/python3/dist-packages/urllib3/connectionpool.py:1015: InsecureRequestWarning: Unverified HTTPS request is being made to host 'sturm-edition.de'. Adding certificate verification is strongly advised. See: https://urllib3.readthedocs.io/en/latest/advanced-usage.html#ssl-warnings\n",
      "  warnings.warn(\n"
     ]
    },
    {
     "name": "stdout",
     "output_type": "stream",
     "text": [
      "Checked URL https://sturm-edition.de/, Status was 200\n"
     ]
    },
    {
     "name": "stderr",
     "output_type": "stream",
     "text": [
      "/usr/lib/python3/dist-packages/urllib3/connectionpool.py:1015: InsecureRequestWarning: Unverified HTTPS request is being made to host 'www.stoa.org'. Adding certificate verification is strongly advised. See: https://urllib3.readthedocs.io/en/latest/advanced-usage.html#ssl-warnings\n",
      "  warnings.warn(\n",
      "/usr/lib/python3/dist-packages/urllib3/connectionpool.py:1015: InsecureRequestWarning: Unverified HTTPS request is being made to host 'www.cs.uky.edu'. Adding certificate verification is strongly advised. See: https://urllib3.readthedocs.io/en/latest/advanced-usage.html#ssl-warnings\n",
      "  warnings.warn(\n"
     ]
    },
    {
     "name": "stdout",
     "output_type": "stream",
     "text": [
      "Checked URL http://www.stoa.org/sol/, Status was 200\n",
      "Checked URL http://web.archive.org/web/20100313025726/http://www.jaffebros.com/lee/gulliver/index.html, Status was 200\n"
     ]
    },
    {
     "name": "stderr",
     "output_type": "stream",
     "text": [
      "/usr/lib/python3/dist-packages/urllib3/connectionpool.py:1015: InsecureRequestWarning: Unverified HTTPS request is being made to host 'www.online-swift.de'. Adding certificate verification is strongly advised. See: https://urllib3.readthedocs.io/en/latest/advanced-usage.html#ssl-warnings\n",
      "  warnings.warn(\n"
     ]
    },
    {
     "name": "stdout",
     "output_type": "stream",
     "text": [
      "Checked URL https://www.online-swift.de/index.html, Status was 200\n"
     ]
    },
    {
     "name": "stderr",
     "output_type": "stream",
     "text": [
      "/usr/lib/python3/dist-packages/urllib3/connectionpool.py:1015: InsecureRequestWarning: Unverified HTTPS request is being made to host 'webapp1.dlib.indiana.edu'. Adding certificate verification is strongly advised. See: https://urllib3.readthedocs.io/en/latest/advanced-usage.html#ssl-warnings\n",
      "  warnings.warn(\n"
     ]
    },
    {
     "name": "stdout",
     "output_type": "stream",
     "text": [
      "Checked URL http://swinburnearchive.indiana.edu/swinburne/, Status was 200\n",
      "Checked URL http://www.tagebuch-christian-ii-anhalt.de/, Status was 200\n",
      "Checked URL http://bichitra.jdvu.ac.in/index.php, Status was 200\n",
      "Checked URL http://foxtalbot.dmu.ac.uk/, Status was 200\n",
      "Checked URL http://www.cet-e-quinhentos.com, Status was 200\n",
      "Checked URL http://www.cet-e-seiscentos.com, Status was 200\n",
      "Checked URL http://corpus.enc.sorbonne.fr/testaments/, Status was 200\n",
      "Checked URL http://elec.enc.sorbonne.fr/testaments-de-poilus/, Status was 200\n",
      "Checked URL http://thalamus.huma-num.fr/index.html, Status was 200\n"
     ]
    },
    {
     "name": "stderr",
     "output_type": "stream",
     "text": [
      "/usr/lib/python3/dist-packages/urllib3/connectionpool.py:1015: InsecureRequestWarning: Unverified HTTPS request is being made to host 'www.unicaen.fr'. Adding certificate verification is strongly advised. See: https://urllib3.readthedocs.io/en/latest/advanced-usage.html#ssl-warnings\n",
      "  warnings.warn(\n"
     ]
    },
    {
     "name": "stdout",
     "output_type": "stream",
     "text": [
      "Checked URL https://www.unicaen.fr/services/puc/sources/maur/accueil, Status was 200\n"
     ]
    },
    {
     "name": "stderr",
     "output_type": "stream",
     "text": [
      "/usr/lib/python3/dist-packages/urllib3/connectionpool.py:1015: InsecureRequestWarning: Unverified HTTPS request is being made to host 'euromusicology.cs.uu.nl'. Adding certificate verification is strongly advised. See: https://urllib3.readthedocs.io/en/latest/advanced-usage.html#ssl-warnings\n",
      "  warnings.warn(\n"
     ]
    },
    {
     "name": "stdout",
     "output_type": "stream",
     "text": [
      "Checked URL http://euromusicology.cs.uu.nl/, Status was 200\n",
      "Checked URL http://www.corpusthomisticum.org/, Status was 200\n"
     ]
    },
    {
     "name": "stderr",
     "output_type": "stream",
     "text": [
      "/usr/lib/python3/dist-packages/urllib3/connectionpool.py:1015: InsecureRequestWarning: Unverified HTTPS request is being made to host 'digitalthoreau.org'. Adding certificate verification is strongly advised. See: https://urllib3.readthedocs.io/en/latest/advanced-usage.html#ssl-warnings\n",
      "  warnings.warn(\n"
     ]
    },
    {
     "name": "stdout",
     "output_type": "stream",
     "text": [
      "Checked URL http://digitalthoreau.org, Status was 200\n"
     ]
    },
    {
     "name": "stderr",
     "output_type": "stream",
     "text": [
      "/usr/lib/python3/dist-packages/urllib3/connectionpool.py:1015: InsecureRequestWarning: Unverified HTTPS request is being made to host 'arkivet.thorvaldsensmuseum.dk'. Adding certificate verification is strongly advised. See: https://urllib3.readthedocs.io/en/latest/advanced-usage.html#ssl-warnings\n",
      "  warnings.warn(\n"
     ]
    },
    {
     "name": "stdout",
     "output_type": "stream",
     "text": [
      "Checked URL http://arkivet.thorvaldsensmuseum.dk, Status was 200\n"
     ]
    },
    {
     "name": "stderr",
     "output_type": "stream",
     "text": [
      "/usr/lib/python3/dist-packages/urllib3/connectionpool.py:1015: InsecureRequestWarning: Unverified HTTPS request is being made to host 'thun-korrespondenz.acdh.oeaw.ac.at'. Adding certificate verification is strongly advised. See: https://urllib3.readthedocs.io/en/latest/advanced-usage.html#ssl-warnings\n",
      "  warnings.warn(\n"
     ]
    },
    {
     "name": "stdout",
     "output_type": "stream",
     "text": [
      "Checked URL https://thun-korrespondenz.acdh.oeaw.ac.at, Status was 200\n"
     ]
    },
    {
     "name": "stderr",
     "output_type": "stream",
     "text": [
      "/usr/lib/python3/dist-packages/urllib3/connectionpool.py:1015: InsecureRequestWarning: Unverified HTTPS request is being made to host 'romantic-circles.org'. Adding certificate verification is strongly advised. See: https://urllib3.readthedocs.io/en/latest/advanced-usage.html#ssl-warnings\n",
      "  warnings.warn(\n"
     ]
    },
    {
     "name": "stdout",
     "output_type": "stream",
     "text": [
      "Checked URL https://romantic-circles.org/editions/tighe_verses, Status was 200\n",
      "Checked URL http://earlymusictheory.org/Tinctoris/#, Status was 200\n"
     ]
    },
    {
     "name": "stderr",
     "output_type": "stream",
     "text": [
      "/usr/lib/python3/dist-packages/urllib3/connectionpool.py:1015: InsecureRequestWarning: Unverified HTTPS request is being made to host 'www.univie.ac.at'. Adding certificate verification is strongly advised. See: https://urllib3.readthedocs.io/en/latest/advanced-usage.html#ssl-warnings\n",
      "  warnings.warn(\n",
      "/usr/lib/python3/dist-packages/urllib3/connectionpool.py:1015: InsecureRequestWarning: Unverified HTTPS request is being made to host 'cetom.univie.ac.at'. Adding certificate verification is strongly advised. See: https://urllib3.readthedocs.io/en/latest/advanced-usage.html#ssl-warnings\n",
      "  warnings.warn(\n"
     ]
    },
    {
     "name": "stdout",
     "output_type": "stream",
     "text": [
      "Checked URL https://www.univie.ac.at/tocharian/, Status was 200\n",
      "Checked URL http://www.tolleredition.de/, Status was 200\n"
     ]
    },
    {
     "name": "stderr",
     "output_type": "stream",
     "text": [
      "/usr/lib/python3/dist-packages/urllib3/connectionpool.py:1015: InsecureRequestWarning: Unverified HTTPS request is being made to host 'www.nuernberg.de'. Adding certificate verification is strongly advised. See: https://urllib3.readthedocs.io/en/latest/advanced-usage.html#ssl-warnings\n",
      "  warnings.warn(\n"
     ]
    },
    {
     "name": "stdout",
     "output_type": "stream",
     "text": [
      "Checked URL https://www.nuernberg.de/internet/stadtarchiv/publikationen_einzeln_tucherbuch.html, Status was 200\n"
     ]
    },
    {
     "name": "stderr",
     "output_type": "stream",
     "text": [
      "/usr/lib/python3/dist-packages/urllib3/connectionpool.py:1015: InsecureRequestWarning: Unverified HTTPS request is being made to host 'www.marktwainproject.org'. Adding certificate verification is strongly advised. See: https://urllib3.readthedocs.io/en/latest/advanced-usage.html#ssl-warnings\n",
      "  warnings.warn(\n"
     ]
    },
    {
     "name": "stdout",
     "output_type": "stream",
     "text": [
      "Checked URL http://marktwainproject.org, Status was 200\n"
     ]
    },
    {
     "name": "stderr",
     "output_type": "stream",
     "text": [
      "/usr/lib/python3/dist-packages/urllib3/connectionpool.py:1015: InsecureRequestWarning: Unverified HTTPS request is being made to host 'bancroft.berkeley.edu'. Adding certificate verification is strongly advised. See: https://urllib3.readthedocs.io/en/latest/advanced-usage.html#ssl-warnings\n",
      "  warnings.warn(\n",
      "/usr/lib/python3/dist-packages/urllib3/connectionpool.py:1015: InsecureRequestWarning: Unverified HTTPS request is being made to host 'www.lib.berkeley.edu'. Adding certificate verification is strongly advised. See: https://urllib3.readthedocs.io/en/latest/advanced-usage.html#ssl-warnings\n",
      "  warnings.warn(\n"
     ]
    },
    {
     "name": "stdout",
     "output_type": "stream",
     "text": [
      "Checked URL http://bancroft.berkeley.edu/MTP/, Status was 200\n"
     ]
    },
    {
     "name": "stderr",
     "output_type": "stream",
     "text": [
      "/usr/lib/python3/dist-packages/urllib3/connectionpool.py:1015: InsecureRequestWarning: Unverified HTTPS request is being made to host 'etext.lib.virginia.edu'. Adding certificate verification is strongly advised. See: https://urllib3.readthedocs.io/en/latest/advanced-usage.html#ssl-warnings\n",
      "  warnings.warn(\n",
      "/usr/lib/python3/dist-packages/urllib3/connectionpool.py:1015: InsecureRequestWarning: Unverified HTTPS request is being made to host 'twain.lib.virginia.edu'. Adding certificate verification is strongly advised. See: https://urllib3.readthedocs.io/en/latest/advanced-usage.html#ssl-warnings\n",
      "  warnings.warn(\n"
     ]
    },
    {
     "name": "stdout",
     "output_type": "stream",
     "text": [
      "Checked URL http://etext.lib.virginia.edu/railton/index2.html, Status was 200\n"
     ]
    },
    {
     "name": "stderr",
     "output_type": "stream",
     "text": [
      "/usr/lib/python3/dist-packages/urllib3/connectionpool.py:1015: InsecureRequestWarning: Unverified HTTPS request is being made to host 'romantic-circles.org'. Adding certificate verification is strongly advised. See: https://urllib3.readthedocs.io/en/latest/advanced-usage.html#ssl-warnings\n",
      "  warnings.warn(\n"
     ]
    },
    {
     "name": "stdout",
     "output_type": "stream",
     "text": [
      "Checked URL https://romantic-circles.org/editions/upton/index.html, Status was 200\n",
      "Checked URL http://gams.uni-graz.at/context:ufbas, Status was 200\n",
      "Checked URL http://gams.uni-graz.at/collection:stub, Status was 200\n"
     ]
    },
    {
     "name": "stderr",
     "output_type": "stream",
     "text": [
      "/usr/lib/python3/dist-packages/urllib3/connectionpool.py:1015: InsecureRequestWarning: Unverified HTTPS request is being made to host 'psalter.library.uu.nl'. Adding certificate verification is strongly advised. See: https://urllib3.readthedocs.io/en/latest/advanced-usage.html#ssl-warnings\n",
      "  warnings.warn(\n"
     ]
    },
    {
     "name": "stdout",
     "output_type": "stream",
     "text": [
      "Checked URL http://psalter.library.uu.nl, Status was 200\n",
      "Checked URL http://www.utrechtsekronieken.nl, Status was 200\n"
     ]
    },
    {
     "name": "stderr",
     "output_type": "stream",
     "text": [
      "/usr/lib/python3/dist-packages/urllib3/connectionpool.py:1015: InsecureRequestWarning: Unverified HTTPS request is being made to host 'vangoghletters.org'. Adding certificate verification is strongly advised. See: https://urllib3.readthedocs.io/en/latest/advanced-usage.html#ssl-warnings\n",
      "  warnings.warn(\n"
     ]
    },
    {
     "name": "stdout",
     "output_type": "stream",
     "text": [
      "Checked URL http://vangoghletters.org/vg/, Status was 200\n"
     ]
    },
    {
     "name": "stderr",
     "output_type": "stream",
     "text": [
      "/usr/lib/python3/dist-packages/urllib3/connectionpool.py:1015: InsecureRequestWarning: Unverified HTTPS request is being made to host 'vnsbrieven.org'. Adding certificate verification is strongly advised. See: https://urllib3.readthedocs.io/en/latest/advanced-usage.html#ssl-warnings\n",
      "  warnings.warn(\n"
     ]
    },
    {
     "name": "stdout",
     "output_type": "stream",
     "text": [
      "Checked URL http://vnsbrieven.org, Status was 200\n",
      "Checked URL http://damaboba.unibo.it/index.html, Status was 200\n",
      "Checked URL http://vbd.humnet.unipi.it/, Status was 200\n",
      "Checked URL http://versemiscellaniesonline.bodleian.ox.ac.uk/, Status was 200\n"
     ]
    },
    {
     "name": "stderr",
     "output_type": "stream",
     "text": [
      "/usr/lib/python3/dist-packages/urllib3/connectionpool.py:1015: InsecureRequestWarning: Unverified HTTPS request is being made to host 'wayback.archive-it.org'. Adding certificate verification is strongly advised. See: https://urllib3.readthedocs.io/en/latest/advanced-usage.html#ssl-warnings\n",
      "  warnings.warn(\n"
     ]
    },
    {
     "name": "stdout",
     "output_type": "stream",
     "text": [
      "Checked URL http://vesalius.northwestern.edu/, Status was 200\n",
      "Checked URL http://vespasianodabisticciletters.unibo.it/index.html, Status was 200\n",
      "Checked URL http://atilf.atilf.fr/bichard/, Status was 200\n",
      "Checked URL http://vindolanda.csad.ox.ac.uk/, Status was 200\n"
     ]
    },
    {
     "name": "stderr",
     "output_type": "stream",
     "text": [
      "/usr/lib/python3/dist-packages/urllib3/connectionpool.py:1015: InsecureRequestWarning: Unverified HTTPS request is being made to host 'rmnet.uni-trier.de'. Adding certificate verification is strongly advised. See: https://urllib3.readthedocs.io/en/latest/advanced-usage.html#ssl-warnings\n",
      "  warnings.warn(\n"
     ]
    },
    {
     "name": "stdout",
     "output_type": "stream",
     "text": [
      "Checked URL http://www.rmnet.uni-trier.de/cgi-bin/RMnetIndex.tcl?hea=qf&for=qpitzreg, Status was 200\n",
      "Checked URL http://www.waleweinendekeye.huygens.knaw.nl/path/home, Status was 200\n",
      "Checked URL http://www-gewi.uni-graz.at/cocoon/rpb/, Status was 200\n"
     ]
    },
    {
     "name": "stderr",
     "output_type": "stream",
     "text": [
      "/usr/lib/python3/dist-packages/urllib3/connectionpool.py:1015: InsecureRequestWarning: Unverified HTTPS request is being made to host 'rotunda.upress.virginia.edu'. Adding certificate verification is strongly advised. See: https://urllib3.readthedocs.io/en/latest/advanced-usage.html#ssl-warnings\n",
      "  warnings.warn(\n"
     ]
    },
    {
     "name": "stdout",
     "output_type": "stream",
     "text": [
      "Checked URL https://rotunda.upress.virginia.edu/founders/GEWN.html, Status was 200\n"
     ]
    },
    {
     "name": "stderr",
     "output_type": "stream",
     "text": [
      "/usr/lib/python3/dist-packages/urllib3/connectionpool.py:1015: InsecureRequestWarning: Unverified HTTPS request is being made to host 'quod.lib.umich.edu'. Adding certificate verification is strongly advised. See: https://urllib3.readthedocs.io/en/latest/advanced-usage.html#ssl-warnings\n",
      "  warnings.warn(\n"
     ]
    },
    {
     "name": "stdout",
     "output_type": "stream",
     "text": [
      "Checked URL https://quod.lib.umich.edu/h/hwatkins/, Status was 200\n"
     ]
    },
    {
     "name": "stderr",
     "output_type": "stream",
     "text": [
      "/usr/lib/python3/dist-packages/urllib3/connectionpool.py:1015: InsecureRequestWarning: Unverified HTTPS request is being made to host 'www.weber-gesamtausgabe.de'. Adding certificate verification is strongly advised. See: https://urllib3.readthedocs.io/en/latest/advanced-usage.html#ssl-warnings\n",
      "  warnings.warn(\n"
     ]
    },
    {
     "name": "stdout",
     "output_type": "stream",
     "text": [
      "Checked URL http://www.weber-gesamtausgabe.de/de/Index, Status was 200\n"
     ]
    },
    {
     "name": "stderr",
     "output_type": "stream",
     "text": [
      "/usr/lib/python3/dist-packages/urllib3/connectionpool.py:1015: InsecureRequestWarning: Unverified HTTPS request is being made to host 'rotunda.upress.virginia.edu'. Adding certificate verification is strongly advised. See: https://urllib3.readthedocs.io/en/latest/advanced-usage.html#ssl-warnings\n",
      "  warnings.warn(\n"
     ]
    },
    {
     "name": "stdout",
     "output_type": "stream",
     "text": [
      "Checked URL https://rotunda.upress.virginia.edu/founders/WBST.html, Status was 200\n"
     ]
    },
    {
     "name": "stderr",
     "output_type": "stream",
     "text": [
      "/usr/lib/python3/dist-packages/urllib3/connectionpool.py:1015: InsecureRequestWarning: Unverified HTTPS request is being made to host 'www.weinsberg.uni-bonn.de'. Adding certificate verification is strongly advised. See: https://urllib3.readthedocs.io/en/latest/advanced-usage.html#ssl-warnings\n",
      "  warnings.warn(\n"
     ]
    },
    {
     "name": "stdout",
     "output_type": "stream",
     "text": [
      "Checked URL http://www.weinsberg.uni-bonn.de/, Status was 200\n"
     ]
    },
    {
     "name": "stderr",
     "output_type": "stream",
     "text": [
      "/usr/lib/python3/dist-packages/urllib3/connectionpool.py:1015: InsecureRequestWarning: Unverified HTTPS request is being made to host 'downloads.newcastle.edu.au'. Adding certificate verification is strongly advised. See: https://urllib3.readthedocs.io/en/latest/advanced-usage.html#ssl-warnings\n",
      "  warnings.warn(\n"
     ]
    },
    {
     "name": "stdout",
     "output_type": "stream",
     "text": [
      "Checked URL https://downloads.newcastle.edu.au/library/cultural%20collections/the-wellington-valley-project/, Status was 200\n"
     ]
    },
    {
     "name": "stderr",
     "output_type": "stream",
     "text": [
      "/usr/lib/python3/dist-packages/urllib3/connectionpool.py:1015: InsecureRequestWarning: Unverified HTTPS request is being made to host 'digi.ub.uni-heidelberg.de'. Adding certificate verification is strongly advised. See: https://urllib3.readthedocs.io/en/latest/advanced-usage.html#ssl-warnings\n",
      "  warnings.warn(\n"
     ]
    },
    {
     "name": "stdout",
     "output_type": "stream",
     "text": [
      "Checked URL http://digi.ub.uni-heidelberg.de/wgd/, Status was 200\n"
     ]
    },
    {
     "name": "stderr",
     "output_type": "stream",
     "text": [
      "/usr/lib/python3/dist-packages/urllib3/connectionpool.py:1015: InsecureRequestWarning: Unverified HTTPS request is being made to host 'www.whistler.arts.gla.ac.uk'. Adding certificate verification is strongly advised. See: https://urllib3.readthedocs.io/en/latest/advanced-usage.html#ssl-warnings\n",
      "  warnings.warn(\n"
     ]
    },
    {
     "name": "stdout",
     "output_type": "stream",
     "text": [
      "Checked URL http://www.whistler.arts.gla.ac.uk/, Status was 200\n"
     ]
    },
    {
     "name": "stderr",
     "output_type": "stream",
     "text": [
      "/usr/lib/python3/dist-packages/urllib3/connectionpool.py:1015: InsecureRequestWarning: Unverified HTTPS request is being made to host 'whitmanarchive.org'. Adding certificate verification is strongly advised. See: https://urllib3.readthedocs.io/en/latest/advanced-usage.html#ssl-warnings\n",
      "  warnings.warn(\n"
     ]
    },
    {
     "name": "stdout",
     "output_type": "stream",
     "text": [
      "Checked URL https://whitmanarchive.org/index.html, Status was 200\n",
      "Checked URL http://msr-archives.rutgers.edu/CBF/, Status was 200\n"
     ]
    },
    {
     "name": "stderr",
     "output_type": "stream",
     "text": [
      "/usr/lib/python3/dist-packages/urllib3/connectionpool.py:1015: InsecureRequestWarning: Unverified HTTPS request is being made to host 'grundbuecher.acdh.oeaw.ac.at'. Adding certificate verification is strongly advised. See: https://urllib3.readthedocs.io/en/latest/advanced-usage.html#ssl-warnings\n",
      "  warnings.warn(\n"
     ]
    },
    {
     "name": "stdout",
     "output_type": "stream",
     "text": [
      "Checked URL https://grundbuecher.acdh.oeaw.ac.at, Status was 200\n",
      "Checked URL http://www.evellum.com/index.php?page=shop.product_details&flypage=flypage.tpl&product_id=3&category_id=1&option=com_virtuemart&Itemid=224, Status was 406\n",
      "Checked URL https://quellen.perspectivia.net/de/wilhelmine/start, Status was 200\n"
     ]
    },
    {
     "name": "stderr",
     "output_type": "stream",
     "text": [
      "/usr/lib/python3/dist-packages/urllib3/connectionpool.py:1015: InsecureRequestWarning: Unverified HTTPS request is being made to host 'quellen.perspectivia.net'. Adding certificate verification is strongly advised. See: https://urllib3.readthedocs.io/en/latest/advanced-usage.html#ssl-warnings\n",
      "  warnings.warn(\n",
      "/usr/lib/python3/dist-packages/urllib3/connectionpool.py:1015: InsecureRequestWarning: Unverified HTTPS request is being made to host 'romantic-circles.org'. Adding certificate verification is strongly advised. See: https://urllib3.readthedocs.io/en/latest/advanced-usage.html#ssl-warnings\n",
      "  warnings.warn(\n"
     ]
    },
    {
     "name": "stdout",
     "output_type": "stream",
     "text": [
      "Checked URL https://romantic-circles.org/editions/sketches/index.html, Status was 200\n"
     ]
    },
    {
     "name": "stderr",
     "output_type": "stream",
     "text": [
      "/usr/lib/python3/dist-packages/urllib3/connectionpool.py:1015: InsecureRequestWarning: Unverified HTTPS request is being made to host 'rotunda.upress.virginia.edu'. Adding certificate verification is strongly advised. See: https://urllib3.readthedocs.io/en/latest/advanced-usage.html#ssl-warnings\n",
      "  warnings.warn(\n"
     ]
    },
    {
     "name": "stdout",
     "output_type": "stream",
     "text": [
      "Checked URL https://rotunda.upress.virginia.edu/founders/WILS.html, Status was 200\n",
      "Checked URL http://www.wittgensteinsource.org/, Status was 200\n"
     ]
    },
    {
     "name": "stderr",
     "output_type": "stream",
     "text": [
      "/usr/lib/python3/dist-packages/urllib3/connectionpool.py:1015: InsecureRequestWarning: Unverified HTTPS request is being made to host 'web.archive.org'. Adding certificate verification is strongly advised. See: https://urllib3.readthedocs.io/en/latest/advanced-usage.html#ssl-warnings\n",
      "  warnings.warn(\n"
     ]
    },
    {
     "name": "stdout",
     "output_type": "stream",
     "text": [
      "Checked URL https://web.archive.org/web/20170610090514/http://adamwodeham.org/text/questions/wodehamordinatio, Status was 200\n"
     ]
    },
    {
     "name": "stderr",
     "output_type": "stream",
     "text": [
      "/usr/lib/python3/dist-packages/urllib3/connectionpool.py:1015: InsecureRequestWarning: Unverified HTTPS request is being made to host 'web.archive.org'. Adding certificate verification is strongly advised. See: https://urllib3.readthedocs.io/en/latest/advanced-usage.html#ssl-warnings\n",
      "  warnings.warn(\n"
     ]
    },
    {
     "name": "stdout",
     "output_type": "stream",
     "text": [
      "Checked URL https://web.archive.org/web/20190919170943/http://dhprojects.maynoothuniversity.ie:80/woodman, Status was 200\n",
      "Checked URL http://www.woolfonline.com/, Status was 200\n"
     ]
    },
    {
     "name": "stderr",
     "output_type": "stream",
     "text": [
      "/usr/lib/python3/dist-packages/urllib3/connectionpool.py:1015: InsecureRequestWarning: Unverified HTTPS request is being made to host 'collections.wordsworth.org.uk'. Adding certificate verification is strongly advised. See: https://urllib3.readthedocs.io/en/latest/advanced-usage.html#ssl-warnings\n",
      "  warnings.warn(\n"
     ]
    },
    {
     "name": "stdout",
     "output_type": "stream",
     "text": [
      "Checked URL http://collections.wordsworth.org.uk/GtoG/home.asp?page=FrontPage, Status was 200\n"
     ]
    },
    {
     "name": "stderr",
     "output_type": "stream",
     "text": [
      "/usr/lib/python3/dist-packages/urllib3/connectionpool.py:1015: InsecureRequestWarning: Unverified HTTPS request is being made to host 'romantic-circles.org'. Adding certificate verification is strongly advised. See: https://urllib3.readthedocs.io/en/latest/advanced-usage.html#ssl-warnings\n",
      "  warnings.warn(\n"
     ]
    },
    {
     "name": "stdout",
     "output_type": "stream",
     "text": [
      "Checked URL https://romantic-circles.org/editions/guide_lakes, Status was 200\n"
     ]
    },
    {
     "name": "stderr",
     "output_type": "stream",
     "text": [
      "/usr/lib/python3/dist-packages/urllib3/connectionpool.py:1015: InsecureRequestWarning: Unverified HTTPS request is being made to host 'atlas.ihpan.edu.pl'. Adding certificate verification is strongly advised. See: https://urllib3.readthedocs.io/en/latest/advanced-usage.html#ssl-warnings\n",
      "  warnings.warn(\n"
     ]
    },
    {
     "name": "stdout",
     "output_type": "stream",
     "text": [
      "Checked URL https://atlas.ihpan.edu.pl/gis/agad_wschowa_i2_pub/index.php, Status was 200\n"
     ]
    },
    {
     "name": "stderr",
     "output_type": "stream",
     "text": [
      "/usr/lib/python3/dist-packages/urllib3/connectionpool.py:1015: InsecureRequestWarning: Unverified HTTPS request is being made to host 'web.archive.org'. Adding certificate verification is strongly advised. See: https://urllib3.readthedocs.io/en/latest/advanced-usage.html#ssl-warnings\n",
      "  warnings.warn(\n"
     ]
    },
    {
     "name": "stdout",
     "output_type": "stream",
     "text": [
      "Checked URL https://web.archive.org/web/20061207211321/http://www.wmich.edu:80/medieval/research/rawl/wulf/, Status was 200\n",
      "Checked URL http://web.archive.org/web/20090214003757/http://english3.fsu.edu:80/~wulfstan/, Status was 200\n"
     ]
    },
    {
     "name": "stderr",
     "output_type": "stream",
     "text": [
      "/usr/lib/python3/dist-packages/urllib3/connectionpool.py:1015: InsecureRequestWarning: Unverified HTTPS request is being made to host 'www.1890s.ca'. Adding certificate verification is strongly advised. See: https://urllib3.readthedocs.io/en/latest/advanced-usage.html#ssl-warnings\n",
      "  warnings.warn(\n",
      "/usr/lib/python3/dist-packages/urllib3/connectionpool.py:1015: InsecureRequestWarning: Unverified HTTPS request is being made to host '1890s.ca'. Adding certificate verification is strongly advised. See: https://urllib3.readthedocs.io/en/latest/advanced-usage.html#ssl-warnings\n",
      "  warnings.warn(\n"
     ]
    },
    {
     "name": "stdout",
     "output_type": "stream",
     "text": [
      "Checked URL http://www.1890s.ca, Status was 200\n"
     ]
    },
    {
     "name": "stderr",
     "output_type": "stream",
     "text": [
      "/usr/lib/python3/dist-packages/urllib3/connectionpool.py:1015: InsecureRequestWarning: Unverified HTTPS request is being made to host 'www.cosmov.uzh.ch'. Adding certificate verification is strongly advised. See: https://urllib3.readthedocs.io/en/latest/advanced-usage.html#ssl-warnings\n",
      "  warnings.warn(\n"
     ]
    },
    {
     "name": "stdout",
     "output_type": "stream",
     "text": [
      "Checked URL http://www.cosmov.uzh.ch/edition68.html, Status was 200\n"
     ]
    },
    {
     "name": "stderr",
     "output_type": "stream",
     "text": [
      "/usr/lib/python3/dist-packages/urllib3/connectionpool.py:1015: InsecureRequestWarning: Unverified HTTPS request is being made to host 'www.irg.uzh.ch'. Adding certificate verification is strongly advised. See: https://urllib3.readthedocs.io/en/latest/advanced-usage.html#ssl-warnings\n",
      "  warnings.warn(\n"
     ]
    },
    {
     "name": "stdout",
     "output_type": "stream",
     "text": [
      "Checked URL http://www.irg.uzh.ch/static/zwingli-briefe/, Status was 200\n",
      "Checked URL http://gramoty.ru, Status was 200\n",
      "Checked URL http://kirchenbuch-groeben.de/, Status was 200\n",
      "Checked URL http://www.digital-musicology.at/de-at/edi_sechter.html, Status was 200\n",
      "Checked URL http://www.digital-musicology.at/sagrifizio/de/index.html, Status was 200\n"
     ]
    },
    {
     "name": "stderr",
     "output_type": "stream",
     "text": [
      "/usr/lib/python3/dist-packages/urllib3/connectionpool.py:1015: InsecureRequestWarning: Unverified HTTPS request is being made to host 'emco.swansea.ac.uk'. Adding certificate verification is strongly advised. See: https://urllib3.readthedocs.io/en/latest/advanced-usage.html#ssl-warnings\n",
      "  warnings.warn(\n"
     ]
    },
    {
     "name": "stdout",
     "output_type": "stream",
     "text": [
      "Checked URL http://emco.swansea.ac.uk/edition/introduction/, Status was 200\n",
      "Checked URL https://www.unicaen.fr/puc/sources/depiscibus/, Status was 200\n"
     ]
    },
    {
     "name": "stderr",
     "output_type": "stream",
     "text": [
      "/usr/lib/python3/dist-packages/urllib3/connectionpool.py:1015: InsecureRequestWarning: Unverified HTTPS request is being made to host 'www.unicaen.fr'. Adding certificate verification is strongly advised. See: https://urllib3.readthedocs.io/en/latest/advanced-usage.html#ssl-warnings\n",
      "  warnings.warn(\n",
      "/usr/lib/python3/dist-packages/urllib3/connectionpool.py:1015: InsecureRequestWarning: Unverified HTTPS request is being made to host 'www.unicaen.fr'. Adding certificate verification is strongly advised. See: https://urllib3.readthedocs.io/en/latest/advanced-usage.html#ssl-warnings\n",
      "  warnings.warn(\n"
     ]
    },
    {
     "name": "stdout",
     "output_type": "stream",
     "text": [
      "Checked URL https://www.unicaen.fr/puc/sources/ciceron/accueil, Status was 200\n"
     ]
    },
    {
     "name": "stderr",
     "output_type": "stream",
     "text": [
      "/usr/lib/python3/dist-packages/urllib3/connectionpool.py:1015: InsecureRequestWarning: Unverified HTTPS request is being made to host 'www.unicaen.fr'. Adding certificate verification is strongly advised. See: https://urllib3.readthedocs.io/en/latest/advanced-usage.html#ssl-warnings\n",
      "  warnings.warn(\n"
     ]
    },
    {
     "name": "stdout",
     "output_type": "stream",
     "text": [
      "Checked URL https://www.unicaen.fr/puc/sources/malaterra/, Status was 200\n"
     ]
    },
    {
     "name": "stderr",
     "output_type": "stream",
     "text": [
      "/usr/lib/python3/dist-packages/urllib3/connectionpool.py:1015: InsecureRequestWarning: Unverified HTTPS request is being made to host 'www.gbbj.org'. Adding certificate verification is strongly advised. See: https://urllib3.readthedocs.io/en/latest/advanced-usage.html#ssl-warnings\n",
      "  warnings.warn(\n",
      "/usr/lib/python3/dist-packages/urllib3/connectionpool.py:1015: InsecureRequestWarning: Unverified HTTPS request is being made to host 'gbbj.org'. Adding certificate verification is strongly advised. See: https://urllib3.readthedocs.io/en/latest/advanced-usage.html#ssl-warnings\n",
      "  warnings.warn(\n"
     ]
    },
    {
     "name": "stdout",
     "output_type": "stream",
     "text": [
      "Checked URL https://www.gbbj.org/, Status was 200\n",
      "Checked URL http://www.lokalbericht.ch/, Status was 200\n",
      "Checked URL http://www.hallernet.org/, Status was 200\n"
     ]
    },
    {
     "name": "stderr",
     "output_type": "stream",
     "text": [
      "/usr/lib/python3/dist-packages/urllib3/connectionpool.py:1015: InsecureRequestWarning: Unverified HTTPS request is being made to host 'textualcommunities.org'. Adding certificate verification is strongly advised. See: https://urllib3.readthedocs.io/en/latest/advanced-usage.html#ssl-warnings\n",
      "  warnings.warn(\n"
     ]
    },
    {
     "name": "stdout",
     "output_type": "stream",
     "text": [
      "Checked URL https://textualcommunities.org/app/community/?id=5aaa517f8d92a41bfffafacc&route=view&document=5d4448772335e070c676ef97&page=5d444867d8f0ec0000133e93, Status was 200\n"
     ]
    },
    {
     "name": "stderr",
     "output_type": "stream",
     "text": [
      "/usr/lib/python3/dist-packages/urllib3/connectionpool.py:1015: InsecureRequestWarning: Unverified HTTPS request is being made to host 'ores.klassik-stiftung.de'. Adding certificate verification is strongly advised. See: https://urllib3.readthedocs.io/en/latest/advanced-usage.html#ssl-warnings\n",
      "  warnings.warn(\n",
      "/usr/lib/python3/dist-packages/urllib3/connectionpool.py:1015: InsecureRequestWarning: Unverified HTTPS request is being made to host 'ores.klassik-stiftung.de'. Adding certificate verification is strongly advised. See: https://urllib3.readthedocs.io/en/latest/advanced-usage.html#ssl-warnings\n",
      "  warnings.warn(\n"
     ]
    },
    {
     "name": "stdout",
     "output_type": "stream",
     "text": [
      "Checked URL https://ores.klassik-stiftung.de/ords/f?p=408, Status was 200\n",
      "Checked URL http://www.dietrich-edition.unibe.ch/, Status was 200\n"
     ]
    },
    {
     "name": "stderr",
     "output_type": "stream",
     "text": [
      "/usr/lib/python3/dist-packages/urllib3/connectionpool.py:1015: InsecureRequestWarning: Unverified HTTPS request is being made to host 'edition.anton-webern.ch'. Adding certificate verification is strongly advised. See: https://urllib3.readthedocs.io/en/latest/advanced-usage.html#ssl-warnings\n",
      "  warnings.warn(\n"
     ]
    },
    {
     "name": "stdout",
     "output_type": "stream",
     "text": [
      "Checked URL https://edition.anton-webern.ch/home, Status was 404\n"
     ]
    },
    {
     "name": "stderr",
     "output_type": "stream",
     "text": [
      "/usr/lib/python3/dist-packages/urllib3/connectionpool.py:1015: InsecureRequestWarning: Unverified HTTPS request is being made to host 'www.formulae.uni-hamburg.de'. Adding certificate verification is strongly advised. See: https://urllib3.readthedocs.io/en/latest/advanced-usage.html#ssl-warnings\n",
      "  warnings.warn(\n"
     ]
    },
    {
     "name": "stdout",
     "output_type": "stream",
     "text": [
      "Checked URL https://www.formulae.uni-hamburg.de/edition-und-datenbank.html, Status was 200\n"
     ]
    },
    {
     "name": "stderr",
     "output_type": "stream",
     "text": [
      "/usr/lib/python3/dist-packages/urllib3/connectionpool.py:1015: InsecureRequestWarning: Unverified HTTPS request is being made to host 'www1.unipa.it'. Adding certificate verification is strongly advised. See: https://urllib3.readthedocs.io/en/latest/advanced-usage.html#ssl-warnings\n",
      "  warnings.warn(\n",
      "/usr/lib/python3/dist-packages/urllib3/connectionpool.py:1015: InsecureRequestWarning: Unverified HTTPS request is being made to host 'sites.unipa.it'. Adding certificate verification is strongly advised. See: https://urllib3.readthedocs.io/en/latest/advanced-usage.html#ssl-warnings\n",
      "  warnings.warn(\n",
      "/usr/lib/python3/dist-packages/urllib3/connectionpool.py:1015: InsecureRequestWarning: Unverified HTTPS request is being made to host 'www.unipa.it'. Adding certificate verification is strongly advised. See: https://urllib3.readthedocs.io/en/latest/advanced-usage.html#ssl-warnings\n",
      "  warnings.warn(\n"
     ]
    },
    {
     "name": "stdout",
     "output_type": "stream",
     "text": [
      "Checked URL http://www1.unipa.it/paolo.monella/romualdus/index.html, Status was 200\n"
     ]
    },
    {
     "name": "stderr",
     "output_type": "stream",
     "text": [
      "/usr/lib/python3/dist-packages/urllib3/connectionpool.py:1015: InsecureRequestWarning: Unverified HTTPS request is being made to host 'www.hahnemann-edition.de'. Adding certificate verification is strongly advised. See: https://urllib3.readthedocs.io/en/latest/advanced-usage.html#ssl-warnings\n",
      "  warnings.warn(\n",
      "/usr/lib/python3/dist-packages/urllib3/connectionpool.py:1015: InsecureRequestWarning: Unverified HTTPS request is being made to host 'www.hahnemann-edition.de'. Adding certificate verification is strongly advised. See: https://urllib3.readthedocs.io/en/latest/advanced-usage.html#ssl-warnings\n",
      "  warnings.warn(\n"
     ]
    },
    {
     "name": "stdout",
     "output_type": "stream",
     "text": [
      "Checked URL https://www.hahnemann-edition.de, Status was 200\n",
      "Checked URL http://www.sulzer-digital.de/briefe/index.html, Status was 200\n"
     ]
    },
    {
     "name": "stderr",
     "output_type": "stream",
     "text": [
      "/usr/lib/python3/dist-packages/urllib3/connectionpool.py:1015: InsecureRequestWarning: Unverified HTTPS request is being made to host 'decollected.net'. Adding certificate verification is strongly advised. See: https://urllib3.readthedocs.io/en/latest/advanced-usage.html#ssl-warnings\n",
      "  warnings.warn(\n"
     ]
    },
    {
     "name": "stdout",
     "output_type": "stream",
     "text": [
      "Checked URL https://decollected.net/, Status was 200\n"
     ]
    },
    {
     "name": "stderr",
     "output_type": "stream",
     "text": [
      "/usr/lib/python3/dist-packages/urllib3/connectionpool.py:1015: InsecureRequestWarning: Unverified HTTPS request is being made to host 'eng-bup.unibas.it'. Adding certificate verification is strongly advised. See: https://urllib3.readthedocs.io/en/latest/advanced-usage.html#ssl-warnings\n",
      "  warnings.warn(\n"
     ]
    },
    {
     "name": "stdout",
     "output_type": "stream",
     "text": [
      "Checked URL https://eng-bup.unibas.it/library/DH, Status was 200\n"
     ]
    },
    {
     "name": "stderr",
     "output_type": "stream",
     "text": [
      "/usr/lib/python3/dist-packages/urllib3/connectionpool.py:1015: InsecureRequestWarning: Unverified HTTPS request is being made to host 'eng-bup.unibas.it'. Adding certificate verification is strongly advised. See: https://urllib3.readthedocs.io/en/latest/advanced-usage.html#ssl-warnings\n",
      "  warnings.warn(\n"
     ]
    },
    {
     "name": "stdout",
     "output_type": "stream",
     "text": [
      "Checked URL https://eng-bup.unibas.it/library/DH, Status was 200\n"
     ]
    },
    {
     "name": "stderr",
     "output_type": "stream",
     "text": [
      "/usr/lib/python3/dist-packages/urllib3/connectionpool.py:1015: InsecureRequestWarning: Unverified HTTPS request is being made to host 'eng-bup.unibas.it'. Adding certificate verification is strongly advised. See: https://urllib3.readthedocs.io/en/latest/advanced-usage.html#ssl-warnings\n",
      "  warnings.warn(\n"
     ]
    },
    {
     "name": "stdout",
     "output_type": "stream",
     "text": [
      "Checked URL https://eng-bup.unibas.it/library/DH, Status was 200\n"
     ]
    },
    {
     "name": "stderr",
     "output_type": "stream",
     "text": [
      "/usr/lib/python3/dist-packages/urllib3/connectionpool.py:1015: InsecureRequestWarning: Unverified HTTPS request is being made to host 'eng-bup.unibas.it'. Adding certificate verification is strongly advised. See: https://urllib3.readthedocs.io/en/latest/advanced-usage.html#ssl-warnings\n",
      "  warnings.warn(\n"
     ]
    },
    {
     "name": "stdout",
     "output_type": "stream",
     "text": [
      "Checked URL https://eng-bup.unibas.it/library/DH, Status was 200\n"
     ]
    },
    {
     "name": "stderr",
     "output_type": "stream",
     "text": [
      "/usr/lib/python3/dist-packages/urllib3/connectionpool.py:1015: InsecureRequestWarning: Unverified HTTPS request is being made to host 'eng-bup.unibas.it'. Adding certificate verification is strongly advised. See: https://urllib3.readthedocs.io/en/latest/advanced-usage.html#ssl-warnings\n",
      "  warnings.warn(\n"
     ]
    },
    {
     "name": "stdout",
     "output_type": "stream",
     "text": [
      "Checked URL https://eng-bup.unibas.it/library/DH, Status was 200\n"
     ]
    },
    {
     "name": "stderr",
     "output_type": "stream",
     "text": [
      "/usr/lib/python3/dist-packages/urllib3/connectionpool.py:1015: InsecureRequestWarning: Unverified HTTPS request is being made to host 'eng-bup.unibas.it'. Adding certificate verification is strongly advised. See: https://urllib3.readthedocs.io/en/latest/advanced-usage.html#ssl-warnings\n",
      "  warnings.warn(\n"
     ]
    },
    {
     "name": "stdout",
     "output_type": "stream",
     "text": [
      "Checked URL https://eng-bup.unibas.it/library/DH, Status was 200\n"
     ]
    },
    {
     "name": "stderr",
     "output_type": "stream",
     "text": [
      "/usr/lib/python3/dist-packages/urllib3/connectionpool.py:1015: InsecureRequestWarning: Unverified HTTPS request is being made to host 'www.unicaen.fr'. Adding certificate verification is strongly advised. See: https://urllib3.readthedocs.io/en/latest/advanced-usage.html#ssl-warnings\n",
      "  warnings.warn(\n"
     ]
    },
    {
     "name": "stdout",
     "output_type": "stream",
     "text": [
      "Checked URL http://www.unicaen.fr/scripta, Status was 404\n"
     ]
    },
    {
     "name": "stderr",
     "output_type": "stream",
     "text": [
      "/usr/lib/python3/dist-packages/urllib3/connectionpool.py:1015: InsecureRequestWarning: Unverified HTTPS request is being made to host 'doi.org'. Adding certificate verification is strongly advised. See: https://urllib3.readthedocs.io/en/latest/advanced-usage.html#ssl-warnings\n",
      "  warnings.warn(\n",
      "/usr/lib/python3/dist-packages/urllib3/connectionpool.py:1015: InsecureRequestWarning: Unverified HTTPS request is being made to host 'digi.ub.uni-heidelberg.de'. Adding certificate verification is strongly advised. See: https://urllib3.readthedocs.io/en/latest/advanced-usage.html#ssl-warnings\n",
      "  warnings.warn(\n"
     ]
    },
    {
     "name": "stdout",
     "output_type": "stream",
     "text": [
      "Checked URL https://doi.org/10.11588/edition.kcd, Status was 200\n"
     ]
    },
    {
     "name": "stderr",
     "output_type": "stream",
     "text": [
      "/usr/lib/python3/dist-packages/urllib3/connectionpool.py:1015: InsecureRequestWarning: Unverified HTTPS request is being made to host 'briefedition.wedekind.h-da.de'. Adding certificate verification is strongly advised. See: https://urllib3.readthedocs.io/en/latest/advanced-usage.html#ssl-warnings\n",
      "  warnings.warn(\n"
     ]
    },
    {
     "name": "stdout",
     "output_type": "stream",
     "text": [
      "Checked URL https://briefedition.wedekind.h-da.de, Status was 200\n",
      "Checked URL http://www.rostocker-liederbuch.de, Status was 200\n"
     ]
    },
    {
     "name": "stderr",
     "output_type": "stream",
     "text": [
      "/usr/lib/python3/dist-packages/urllib3/connectionpool.py:1015: InsecureRequestWarning: Unverified HTTPS request is being made to host 'editions.byzantini.st'. Adding certificate verification is strongly advised. See: https://urllib3.readthedocs.io/en/latest/advanced-usage.html#ssl-warnings\n",
      "  warnings.warn(\n"
     ]
    },
    {
     "name": "stdout",
     "output_type": "stream",
     "text": [
      "Checked URL https://editions.byzantini.st/ChronicleME/#/, Status was 200\n"
     ]
    },
    {
     "name": "stderr",
     "output_type": "stream",
     "text": [
      "/usr/lib/python3/dist-packages/urllib3/connectionpool.py:1015: InsecureRequestWarning: Unverified HTTPS request is being made to host 'altchive.org'. Adding certificate verification is strongly advised. See: https://urllib3.readthedocs.io/en/latest/advanced-usage.html#ssl-warnings\n",
      "  warnings.warn(\n"
     ]
    },
    {
     "name": "stdout",
     "output_type": "stream",
     "text": [
      "Checked URL https://altchive.org/, Status was 200\n"
     ]
    },
    {
     "name": "stderr",
     "output_type": "stream",
     "text": [
      "/usr/lib/python3/dist-packages/urllib3/connectionpool.py:1015: InsecureRequestWarning: Unverified HTTPS request is being made to host 'www.haderbuecher.de'. Adding certificate verification is strongly advised. See: https://urllib3.readthedocs.io/en/latest/advanced-usage.html#ssl-warnings\n",
      "  warnings.warn(\n"
     ]
    },
    {
     "name": "stdout",
     "output_type": "stream",
     "text": [
      "Checked URL https://www.haderbuecher.de/, Status was 200\n"
     ]
    },
    {
     "name": "stderr",
     "output_type": "stream",
     "text": [
      "/usr/lib/python3/dist-packages/urllib3/connectionpool.py:1015: InsecureRequestWarning: Unverified HTTPS request is being made to host 'editions.erabbinica.org'. Adding certificate verification is strongly advised. See: https://urllib3.readthedocs.io/en/latest/advanced-usage.html#ssl-warnings\n",
      "  warnings.warn(\n"
     ]
    },
    {
     "name": "stdout",
     "output_type": "stream",
     "text": [
      "Checked URL https://editions.erabbinica.org/exist/apps/mishnah/$app/index.html, Status was 200\n"
     ]
    },
    {
     "name": "stderr",
     "output_type": "stream",
     "text": [
      "/usr/lib/python3/dist-packages/urllib3/connectionpool.py:1015: InsecureRequestWarning: Unverified HTTPS request is being made to host 'www.stonesutras.org'. Adding certificate verification is strongly advised. See: https://urllib3.readthedocs.io/en/latest/advanced-usage.html#ssl-warnings\n",
      "  warnings.warn(\n"
     ]
    },
    {
     "name": "stdout",
     "output_type": "stream",
     "text": [
      "Checked URL https://www.stonesutras.org, Status was 200\n",
      "Checked URL http://www.emroon.no/, Status was 200\n"
     ]
    },
    {
     "name": "stderr",
     "output_type": "stream",
     "text": [
      "/usr/lib/python3/dist-packages/urllib3/connectionpool.py:1015: InsecureRequestWarning: Unverified HTTPS request is being made to host 'edition.onb.ac.at'. Adding certificate verification is strongly advised. See: https://urllib3.readthedocs.io/en/latest/advanced-usage.html#ssl-warnings\n",
      "  warnings.warn(\n"
     ]
    },
    {
     "name": "stdout",
     "output_type": "stream",
     "text": [
      "Checked URL https://edition.onb.ac.at/context:blotius, Status was 200\n"
     ]
    },
    {
     "name": "stderr",
     "output_type": "stream",
     "text": [
      "/usr/lib/python3/dist-packages/urllib3/connectionpool.py:1015: InsecureRequestWarning: Unverified HTTPS request is being made to host 'edition.freischuetz-digital.de'. Adding certificate verification is strongly advised. See: https://urllib3.readthedocs.io/en/latest/advanced-usage.html#ssl-warnings\n",
      "  warnings.warn(\n"
     ]
    },
    {
     "name": "stdout",
     "output_type": "stream",
     "text": [
      "Checked URL https://edition.freischuetz-digital.de/, Status was 200\n"
     ]
    },
    {
     "name": "stderr",
     "output_type": "stream",
     "text": [
      "/usr/lib/python3/dist-packages/urllib3/connectionpool.py:1015: InsecureRequestWarning: Unverified HTTPS request is being made to host 'www.winnifredeatonarchive.org'. Adding certificate verification is strongly advised. See: https://urllib3.readthedocs.io/en/latest/advanced-usage.html#ssl-warnings\n",
      "  warnings.warn(\n"
     ]
    },
    {
     "name": "stdout",
     "output_type": "stream",
     "text": [
      "Checked URL https://www.winnifredeatonarchive.org/, Status was 200\n"
     ]
    },
    {
     "name": "stderr",
     "output_type": "stream",
     "text": [
      "/usr/lib/python3/dist-packages/urllib3/connectionpool.py:1015: InsecureRequestWarning: Unverified HTTPS request is being made to host 'www.augsburger-baumeisterbuecher.de'. Adding certificate verification is strongly advised. See: https://urllib3.readthedocs.io/en/latest/advanced-usage.html#ssl-warnings\n",
      "  warnings.warn(\n"
     ]
    },
    {
     "name": "stdout",
     "output_type": "stream",
     "text": [
      "Checked URL https://www.augsburger-baumeisterbuecher.de/, Status was 200\n"
     ]
    },
    {
     "name": "stderr",
     "output_type": "stream",
     "text": [
      "/usr/lib/python3/dist-packages/urllib3/connectionpool.py:1015: InsecureRequestWarning: Unverified HTTPS request is being made to host 'editionen.bbf.dipf.de'. Adding certificate verification is strongly advised. See: https://urllib3.readthedocs.io/en/latest/advanced-usage.html#ssl-warnings\n",
      "  warnings.warn(\n",
      "/usr/lib/python3/dist-packages/urllib3/connectionpool.py:1015: InsecureRequestWarning: Unverified HTTPS request is being made to host 'editionen.bbf.dipf.de'. Adding certificate verification is strongly advised. See: https://urllib3.readthedocs.io/en/latest/advanced-usage.html#ssl-warnings\n",
      "  warnings.warn(\n"
     ]
    },
    {
     "name": "stdout",
     "output_type": "stream",
     "text": [
      "Checked URL https://editionen.bbf.dipf.de/briefedition-spranger-hadlich/ueber-die-edition, Status was 200\n",
      "Checked URL http://gams.uni-graz.at/context:wiesinger, Status was 200\n",
      "Checked URL http://gams.uni-graz.at/context:aled, Status was 200\n",
      "Checked URL http://www.faustodigital.com/, Status was 200\n"
     ]
    },
    {
     "name": "stderr",
     "output_type": "stream",
     "text": [
      "/usr/lib/python3/dist-packages/urllib3/connectionpool.py:1015: InsecureRequestWarning: Unverified HTTPS request is being made to host 'epicat.uab.cat'. Adding certificate verification is strongly advised. See: https://urllib3.readthedocs.io/en/latest/advanced-usage.html#ssl-warnings\n",
      "  warnings.warn(\n"
     ]
    },
    {
     "name": "stdout",
     "output_type": "stream",
     "text": [
      "Checked URL https://epicat.uab.cat/, Status was 200\n"
     ]
    },
    {
     "name": "stderr",
     "output_type": "stream",
     "text": [
      "/usr/lib/python3/dist-packages/urllib3/connectionpool.py:1015: InsecureRequestWarning: Unverified HTTPS request is being made to host 'sozinianer.de'. Adding certificate verification is strongly advised. See: https://urllib3.readthedocs.io/en/latest/advanced-usage.html#ssl-warnings\n",
      "  warnings.warn(\n"
     ]
    },
    {
     "name": "stdout",
     "output_type": "stream",
     "text": [
      "Checked URL https://sozinianer.de, Status was 200\n"
     ]
    },
    {
     "name": "stderr",
     "output_type": "stream",
     "text": [
      "/usr/lib/python3/dist-packages/urllib3/connectionpool.py:1015: InsecureRequestWarning: Unverified HTTPS request is being made to host 'www.bayerischer-staatsrat.de'. Adding certificate verification is strongly advised. See: https://urllib3.readthedocs.io/en/latest/advanced-usage.html#ssl-warnings\n",
      "  warnings.warn(\n"
     ]
    },
    {
     "name": "stdout",
     "output_type": "stream",
     "text": [
      "Checked URL https://www.bayerischer-staatsrat.de/, Status was 200\n"
     ]
    },
    {
     "name": "stderr",
     "output_type": "stream",
     "text": [
      "/usr/lib/python3/dist-packages/urllib3/connectionpool.py:1015: InsecureRequestWarning: Unverified HTTPS request is being made to host 'www.bayerischer-ministerrat.de'. Adding certificate verification is strongly advised. See: https://urllib3.readthedocs.io/en/latest/advanced-usage.html#ssl-warnings\n",
      "  warnings.warn(\n"
     ]
    },
    {
     "name": "stdout",
     "output_type": "stream",
     "text": [
      "Checked URL https://www.bayerischer-ministerrat.de/, Status was 200\n",
      "Checked URL http://cards-fly.clul.ul.pt/teitok/ultramar/, Status was 200\n"
     ]
    },
    {
     "name": "stderr",
     "output_type": "stream",
     "text": [
      "/usr/lib/python3/dist-packages/urllib3/connectionpool.py:1015: InsecureRequestWarning: Unverified HTTPS request is being made to host 'kraus1933.ace.oeaw.ac.at'. Adding certificate verification is strongly advised. See: https://urllib3.readthedocs.io/en/latest/advanced-usage.html#ssl-warnings\n",
      "  warnings.warn(\n",
      "/usr/lib/python3/dist-packages/urllib3/connectionpool.py:1015: InsecureRequestWarning: Unverified HTTPS request is being made to host 'kraus1933.ace.oeaw.ac.at'. Adding certificate verification is strongly advised. See: https://urllib3.readthedocs.io/en/latest/advanced-usage.html#ssl-warnings\n",
      "  warnings.warn(\n",
      "/usr/lib/python3/dist-packages/urllib3/connectionpool.py:1015: InsecureRequestWarning: Unverified HTTPS request is being made to host 'kraus1933.ace.oeaw.ac.at'. Adding certificate verification is strongly advised. See: https://urllib3.readthedocs.io/en/latest/advanced-usage.html#ssl-warnings\n",
      "  warnings.warn(\n"
     ]
    },
    {
     "name": "stdout",
     "output_type": "stream",
     "text": [
      "Checked URL https://kraus1933.ace.oeaw.ac.at, Status was 200\n"
     ]
    },
    {
     "name": "stderr",
     "output_type": "stream",
     "text": [
      "/usr/lib/python3/dist-packages/urllib3/connectionpool.py:1015: InsecureRequestWarning: Unverified HTTPS request is being made to host 'www.fd-stoffe-online.ch'. Adding certificate verification is strongly advised. See: https://urllib3.readthedocs.io/en/latest/advanced-usage.html#ssl-warnings\n",
      "  warnings.warn(\n"
     ]
    },
    {
     "name": "stdout",
     "output_type": "stream",
     "text": [
      "Checked URL https://www.fd-stoffe-online.ch/, Status was 200\n"
     ]
    },
    {
     "name": "stderr",
     "output_type": "stream",
     "text": [
      "/usr/lib/python3/dist-packages/urllib3/connectionpool.py:1015: InsecureRequestWarning: Unverified HTTPS request is being made to host 'editions.mml.ox.ac.uk'. Adding certificate verification is strongly advised. See: https://urllib3.readthedocs.io/en/latest/advanced-usage.html#ssl-warnings\n",
      "  warnings.warn(\n"
     ]
    },
    {
     "name": "stdout",
     "output_type": "stream",
     "text": [
      "Checked URL https://editions.mml.ox.ac.uk/editions/ablassgnade6/, Status was 200\n"
     ]
    },
    {
     "name": "stderr",
     "output_type": "stream",
     "text": [
      "/usr/lib/python3/dist-packages/urllib3/connectionpool.py:1015: InsecureRequestWarning: Unverified HTTPS request is being made to host 'dcc.dickinson.edu'. Adding certificate verification is strongly advised. See: https://urllib3.readthedocs.io/en/latest/advanced-usage.html#ssl-warnings\n",
      "  warnings.warn(\n"
     ]
    },
    {
     "name": "stdout",
     "output_type": "stream",
     "text": [
      "Checked URL http://dcc.dickinson.edu/callimachus-aetia/preface, Status was 200\n",
      "Checked URL http://lupa.at/, Status was 200\n"
     ]
    },
    {
     "name": "stderr",
     "output_type": "stream",
     "text": [
      "/usr/lib/python3/dist-packages/urllib3/connectionpool.py:1015: InsecureRequestWarning: Unverified HTTPS request is being made to host 'maria-magdalena.ub.uni-freiburg.de'. Adding certificate verification is strongly advised. See: https://urllib3.readthedocs.io/en/latest/advanced-usage.html#ssl-warnings\n",
      "  warnings.warn(\n"
     ]
    },
    {
     "name": "stdout",
     "output_type": "stream",
     "text": [
      "Checked URL https://maria-magdalena.ub.uni-freiburg.de/, Status was 200\n"
     ]
    },
    {
     "name": "stderr",
     "output_type": "stream",
     "text": [
      "/usr/lib/python3/dist-packages/urllib3/connectionpool.py:1015: InsecureRequestWarning: Unverified HTTPS request is being made to host 'doi.org'. Adding certificate verification is strongly advised. See: https://urllib3.readthedocs.io/en/latest/advanced-usage.html#ssl-warnings\n",
      "  warnings.warn(\n",
      "/usr/lib/python3/dist-packages/urllib3/connectionpool.py:1015: InsecureRequestWarning: Unverified HTTPS request is being made to host 'www.degruyter.com'. Adding certificate verification is strongly advised. See: https://urllib3.readthedocs.io/en/latest/advanced-usage.html#ssl-warnings\n",
      "  warnings.warn(\n",
      "/usr/lib/python3/dist-packages/urllib3/connectionpool.py:1015: InsecureRequestWarning: Unverified HTTPS request is being made to host 'www.degruyter.com'. Adding certificate verification is strongly advised. See: https://urllib3.readthedocs.io/en/latest/advanced-usage.html#ssl-warnings\n",
      "  warnings.warn(\n"
     ]
    },
    {
     "name": "stdout",
     "output_type": "stream",
     "text": [
      "Checked URL https://doi.org/10.1515/klemp, Status was 200\n",
      "Checked URL http://elizabethgaskelljournal.com/index.html, Status was 200\n"
     ]
    },
    {
     "name": "stderr",
     "output_type": "stream",
     "text": [
      "/usr/lib/python3/dist-packages/urllib3/connectionpool.py:1015: InsecureRequestWarning: Unverified HTTPS request is being made to host 'digitalmitford.org'. Adding certificate verification is strongly advised. See: https://urllib3.readthedocs.io/en/latest/advanced-usage.html#ssl-warnings\n",
      "  warnings.warn(\n"
     ]
    },
    {
     "name": "stdout",
     "output_type": "stream",
     "text": [
      "Checked URL https://digitalmitford.org/index.html, Status was 200\n",
      "Checked URL http://tapasproject.org/node/443, Status was 200\n"
     ]
    },
    {
     "name": "stderr",
     "output_type": "stream",
     "text": [
      "/usr/lib/python3/dist-packages/urllib3/connectionpool.py:1015: InsecureRequestWarning: Unverified HTTPS request is being made to host 'ilc4clarin.ilc.cnr.it'. Adding certificate verification is strongly advised. See: https://urllib3.readthedocs.io/en/latest/advanced-usage.html#ssl-warnings\n",
      "  warnings.warn(\n",
      "/usr/lib/python3/dist-packages/urllib3/connectionpool.py:1015: InsecureRequestWarning: Unverified HTTPS request is being made to host 'ilc4clarin.ilc.cnr.it'. Adding certificate verification is strongly advised. See: https://urllib3.readthedocs.io/en/latest/advanced-usage.html#ssl-warnings\n",
      "  warnings.warn(\n"
     ]
    },
    {
     "name": "stdout",
     "output_type": "stream",
     "text": [
      "Checked URL http://cretaninscriptions.vedph.it/, Status was 200\n"
     ]
    },
    {
     "name": "stderr",
     "output_type": "stream",
     "text": [
      "/usr/lib/python3/dist-packages/urllib3/connectionpool.py:1015: InsecureRequestWarning: Unverified HTTPS request is being made to host 'www.semper-edition.ch'. Adding certificate verification is strongly advised. See: https://urllib3.readthedocs.io/en/latest/advanced-usage.html#ssl-warnings\n",
      "  warnings.warn(\n"
     ]
    },
    {
     "name": "stdout",
     "output_type": "stream",
     "text": [
      "Checked URL https://www.semper-edition.ch/, Status was 200\n"
     ]
    },
    {
     "name": "stderr",
     "output_type": "stream",
     "text": [
      "/usr/lib/python3/dist-packages/urllib3/connectionpool.py:1015: InsecureRequestWarning: Unverified HTTPS request is being made to host 'early-testimony.ehri-project.eu'. Adding certificate verification is strongly advised. See: https://urllib3.readthedocs.io/en/latest/advanced-usage.html#ssl-warnings\n",
      "  warnings.warn(\n"
     ]
    },
    {
     "name": "stdout",
     "output_type": "stream",
     "text": [
      "Checked URL https://early-testimony.ehri-project.eu/, Status was 200\n"
     ]
    },
    {
     "name": "stderr",
     "output_type": "stream",
     "text": [
      "/usr/lib/python3/dist-packages/urllib3/connectionpool.py:1015: InsecureRequestWarning: Unverified HTTPS request is being made to host 'www.lagis-hessen.de'. Adding certificate verification is strongly advised. See: https://urllib3.readthedocs.io/en/latest/advanced-usage.html#ssl-warnings\n",
      "  warnings.warn(\n"
     ]
    },
    {
     "name": "stdout",
     "output_type": "stream",
     "text": [
      "Checked URL https://www.lagis-hessen.de/de/klhg, Status was 200\n"
     ]
    },
    {
     "name": "stderr",
     "output_type": "stream",
     "text": [
      "/usr/lib/python3/dist-packages/urllib3/connectionpool.py:1015: InsecureRequestWarning: Unverified HTTPS request is being made to host 'db.innovatingknowledge.nl'. Adding certificate verification is strongly advised. See: https://urllib3.readthedocs.io/en/latest/advanced-usage.html#ssl-warnings\n",
      "  warnings.warn(\n"
     ]
    },
    {
     "name": "stdout",
     "output_type": "stream",
     "text": [
      "Checked URL https://db.innovatingknowledge.nl/edition/, Status was 200\n",
      "Checked URL http://www.eulaliomotta.uefs.br/index.php, Status was 200\n",
      "Checked URL http://wikileopardi.altervista.org, Status was 200\n",
      "Checked URL http://diglib.hab.de/edoc/ed000248/start.htm, Status was 200\n"
     ]
    },
    {
     "name": "stderr",
     "output_type": "stream",
     "text": [
      "/usr/lib/python3/dist-packages/urllib3/connectionpool.py:1015: InsecureRequestWarning: Unverified HTTPS request is being made to host 'teaching-dhlab.pages.gitlab.rlp.net'. Adding certificate verification is strongly advised. See: https://urllib3.readthedocs.io/en/latest/advanced-usage.html#ssl-warnings\n",
      "  warnings.warn(\n"
     ]
    },
    {
     "name": "stdout",
     "output_type": "stream",
     "text": [
      "Checked URL https://teaching-dhlab.pages.gitlab.rlp.net/geburtsbriefemainz/home/, Status was 200\n"
     ]
    },
    {
     "name": "stderr",
     "output_type": "stream",
     "text": [
      "/usr/lib/python3/dist-packages/urllib3/connectionpool.py:1015: InsecureRequestWarning: Unverified HTTPS request is being made to host 'annefrankmanuscripten.org'. Adding certificate verification is strongly advised. See: https://urllib3.readthedocs.io/en/latest/advanced-usage.html#ssl-warnings\n",
      "  warnings.warn(\n"
     ]
    },
    {
     "name": "stdout",
     "output_type": "stream",
     "text": [
      "Checked URL https://annefrankmanuscripten.org/, Status was 200\n"
     ]
    },
    {
     "name": "stderr",
     "output_type": "stream",
     "text": [
      "/usr/lib/python3/dist-packages/urllib3/connectionpool.py:1015: InsecureRequestWarning: Unverified HTTPS request is being made to host 'hainhofer.hab.de'. Adding certificate verification is strongly advised. See: https://urllib3.readthedocs.io/en/latest/advanced-usage.html#ssl-warnings\n",
      "  warnings.warn(\n"
     ]
    },
    {
     "name": "stdout",
     "output_type": "stream",
     "text": [
      "Checked URL https://hainhofer.hab.de/, Status was 200\n"
     ]
    },
    {
     "name": "stderr",
     "output_type": "stream",
     "text": [
      "/usr/lib/python3/dist-packages/urllib3/connectionpool.py:1015: InsecureRequestWarning: Unverified HTTPS request is being made to host 'ahiqar.uni-goettingen.de'. Adding certificate verification is strongly advised. See: https://urllib3.readthedocs.io/en/latest/advanced-usage.html#ssl-warnings\n",
      "  warnings.warn(\n",
      "/usr/lib/python3/dist-packages/urllib3/connectionpool.py:1015: InsecureRequestWarning: Unverified HTTPS request is being made to host 'ahiqar.uni-goettingen.de'. Adding certificate verification is strongly advised. See: https://urllib3.readthedocs.io/en/latest/advanced-usage.html#ssl-warnings\n",
      "  warnings.warn(\n"
     ]
    },
    {
     "name": "stdout",
     "output_type": "stream",
     "text": [
      "Checked URL https://ahiqar.uni-goettingen.de, Status was 200\n"
     ]
    },
    {
     "name": "stderr",
     "output_type": "stream",
     "text": [
      "/usr/lib/python3/dist-packages/urllib3/connectionpool.py:1015: InsecureRequestWarning: Unverified HTTPS request is being made to host 'www.dodis.ch'. Adding certificate verification is strongly advised. See: https://urllib3.readthedocs.io/en/latest/advanced-usage.html#ssl-warnings\n",
      "  warnings.warn(\n",
      "/usr/lib/python3/dist-packages/urllib3/connectionpool.py:1015: InsecureRequestWarning: Unverified HTTPS request is being made to host 'www.dodis.ch'. Adding certificate verification is strongly advised. See: https://urllib3.readthedocs.io/en/latest/advanced-usage.html#ssl-warnings\n",
      "  warnings.warn(\n"
     ]
    },
    {
     "name": "stdout",
     "output_type": "stream",
     "text": [
      "Checked URL https://www.dodis.ch/q12, Status was 200\n"
     ]
    },
    {
     "name": "stderr",
     "output_type": "stream",
     "text": [
      "/usr/lib/python3/dist-packages/urllib3/connectionpool.py:1015: InsecureRequestWarning: Unverified HTTPS request is being made to host 'wn.ace.oeaw.ac.at'. Adding certificate verification is strongly advised. See: https://urllib3.readthedocs.io/en/latest/advanced-usage.html#ssl-warnings\n",
      "  warnings.warn(\n"
     ]
    },
    {
     "name": "stdout",
     "output_type": "stream",
     "text": [
      "Checked URL https://wn.ace.oeaw.ac.at/, Status was 200\n",
      "Checked URL http://telma-chartes.irht.cnrs.fr/yves-de-chartres, Status was 200\n"
     ]
    },
    {
     "name": "stderr",
     "output_type": "stream",
     "text": [
      "/usr/lib/python3/dist-packages/urllib3/connectionpool.py:1015: InsecureRequestWarning: Unverified HTTPS request is being made to host 'thlebee.github.io'. Adding certificate verification is strongly advised. See: https://urllib3.readthedocs.io/en/latest/advanced-usage.html#ssl-warnings\n",
      "  warnings.warn(\n"
     ]
    },
    {
     "name": "stdout",
     "output_type": "stream",
     "text": [
      "Checked URL https://thlebee.github.io/CoEg/, Status was 200\n"
     ]
    },
    {
     "name": "stderr",
     "output_type": "stream",
     "text": [
      "/usr/lib/python3/dist-packages/urllib3/connectionpool.py:1015: InsecureRequestWarning: Unverified HTTPS request is being made to host 'gams.uni-graz.at'. Adding certificate verification is strongly advised. See: https://urllib3.readthedocs.io/en/latest/advanced-usage.html#ssl-warnings\n",
      "  warnings.warn(\n"
     ]
    },
    {
     "name": "stdout",
     "output_type": "stream",
     "text": [
      "Checked URL https://gams.uni-graz.at/context:fercan, Status was 200\n"
     ]
    },
    {
     "name": "stderr",
     "output_type": "stream",
     "text": [
      "/usr/lib/python3/dist-packages/urllib3/connectionpool.py:1015: InsecureRequestWarning: Unverified HTTPS request is being made to host 'gams.uni-graz.at'. Adding certificate verification is strongly advised. See: https://urllib3.readthedocs.io/en/latest/advanced-usage.html#ssl-warnings\n",
      "  warnings.warn(\n"
     ]
    },
    {
     "name": "stdout",
     "output_type": "stream",
     "text": [
      "Checked URL https://gams.uni-graz.at/context:corema, Status was 200\n",
      "Checked URL http://gams.uni-graz.at/context:dipko, Status was 200\n"
     ]
    },
    {
     "name": "stderr",
     "output_type": "stream",
     "text": [
      "/usr/lib/python3/dist-packages/urllib3/connectionpool.py:1015: InsecureRequestWarning: Unverified HTTPS request is being made to host 'www.narragonien-digital.de'. Adding certificate verification is strongly advised. See: https://urllib3.readthedocs.io/en/latest/advanced-usage.html#ssl-warnings\n",
      "  warnings.warn(\n"
     ]
    },
    {
     "name": "stdout",
     "output_type": "stream",
     "text": [
      "Checked URL http://www.narragonien-digital.de, Status was 502\n"
     ]
    },
    {
     "name": "stderr",
     "output_type": "stream",
     "text": [
      "/usr/lib/python3/dist-packages/urllib3/connectionpool.py:1015: InsecureRequestWarning: Unverified HTTPS request is being made to host 'notesfromegypt.info'. Adding certificate verification is strongly advised. See: https://urllib3.readthedocs.io/en/latest/advanced-usage.html#ssl-warnings\n",
      "  warnings.warn(\n"
     ]
    },
    {
     "name": "stdout",
     "output_type": "stream",
     "text": [
      "Checked URL https://notesfromegypt.info/index.html, Status was 200\n"
     ]
    },
    {
     "name": "stderr",
     "output_type": "stream",
     "text": [
      "/usr/lib/python3/dist-packages/urllib3/connectionpool.py:1015: InsecureRequestWarning: Unverified HTTPS request is being made to host 'cwrgm.org'. Adding certificate verification is strongly advised. See: https://urllib3.readthedocs.io/en/latest/advanced-usage.html#ssl-warnings\n",
      "  warnings.warn(\n"
     ]
    },
    {
     "name": "stdout",
     "output_type": "stream",
     "text": [
      "Checked URL https://cwrgm.org/, Status was 200\n"
     ]
    },
    {
     "name": "stderr",
     "output_type": "stream",
     "text": [
      "/usr/lib/python3/dist-packages/urllib3/connectionpool.py:1015: InsecureRequestWarning: Unverified HTTPS request is being made to host 'licodemo.ilc.cnr.it'. Adding certificate verification is strongly advised. See: https://urllib3.readthedocs.io/en/latest/advanced-usage.html#ssl-warnings\n",
      "  warnings.warn(\n"
     ]
    },
    {
     "name": "stdout",
     "output_type": "stream",
     "text": [
      "Checked URL https://licodemo.ilc.cnr.it/demo/bellini/build/, Status was 200\n"
     ]
    },
    {
     "name": "stderr",
     "output_type": "stream",
     "text": [
      "/usr/lib/python3/dist-packages/urllib3/connectionpool.py:1015: InsecureRequestWarning: Unverified HTTPS request is being made to host 'fraktionsprotokolle.de'. Adding certificate verification is strongly advised. See: https://urllib3.readthedocs.io/en/latest/advanced-usage.html#ssl-warnings\n",
      "  warnings.warn(\n"
     ]
    },
    {
     "name": "stdout",
     "output_type": "stream",
     "text": [
      "Checked URL https://fraktionsprotokolle.de/, Status was 200\n",
      "Checked URL http://vanburenpapers.org/, Status was 200\n"
     ]
    },
    {
     "name": "stderr",
     "output_type": "stream",
     "text": [
      "/usr/lib/python3/dist-packages/urllib3/connectionpool.py:1015: InsecureRequestWarning: Unverified HTTPS request is being made to host 'dehmel-digital.de'. Adding certificate verification is strongly advised. See: https://urllib3.readthedocs.io/en/latest/advanced-usage.html#ssl-warnings\n",
      "  warnings.warn(\n"
     ]
    },
    {
     "name": "stdout",
     "output_type": "stream",
     "text": [
      "Checked URL https://dehmel-digital.de/, Status was 200\n"
     ]
    },
    {
     "name": "stderr",
     "output_type": "stream",
     "text": [
      "/usr/lib/python3/dist-packages/urllib3/connectionpool.py:1015: InsecureRequestWarning: Unverified HTTPS request is being made to host 'humboldt.unibe.ch'. Adding certificate verification is strongly advised. See: https://urllib3.readthedocs.io/en/latest/advanced-usage.html#ssl-warnings\n",
      "  warnings.warn(\n"
     ]
    },
    {
     "name": "stdout",
     "output_type": "stream",
     "text": [
      "Checked URL https://humboldt.unibe.ch/text, Status was 200\n"
     ]
    },
    {
     "name": "stderr",
     "output_type": "stream",
     "text": [
      "/usr/lib/python3/dist-packages/urllib3/connectionpool.py:1015: InsecureRequestWarning: Unverified HTTPS request is being made to host 'www.quillproject.net'. Adding certificate verification is strongly advised. See: https://urllib3.readthedocs.io/en/latest/advanced-usage.html#ssl-warnings\n",
      "  warnings.warn(\n"
     ]
    },
    {
     "name": "stdout",
     "output_type": "stream",
     "text": [
      "Checked URL https://www.quillproject.net/convention/114, Status was 200\n"
     ]
    },
    {
     "name": "stderr",
     "output_type": "stream",
     "text": [
      "/usr/lib/python3/dist-packages/urllib3/connectionpool.py:1015: InsecureRequestWarning: Unverified HTTPS request is being made to host 'www.masshist.org'. Adding certificate verification is strongly advised. See: https://urllib3.readthedocs.io/en/latest/advanced-usage.html#ssl-warnings\n",
      "  warnings.warn(\n"
     ]
    },
    {
     "name": "stdout",
     "output_type": "stream",
     "text": [
      "Checked URL https://www.masshist.org/publications/adams-papers/, Status was 200\n"
     ]
    },
    {
     "name": "stderr",
     "output_type": "stream",
     "text": [
      "/usr/lib/python3/dist-packages/urllib3/connectionpool.py:1015: InsecureRequestWarning: Unverified HTTPS request is being made to host 'edition.onb.ac.at'. Adding certificate verification is strongly advised. See: https://urllib3.readthedocs.io/en/latest/advanced-usage.html#ssl-warnings\n",
      "  warnings.warn(\n",
      "/usr/lib/python3/dist-packages/urllib3/connectionpool.py:1015: InsecureRequestWarning: Unverified HTTPS request is being made to host 'edition.onb.ac.at'. Adding certificate verification is strongly advised. See: https://urllib3.readthedocs.io/en/latest/advanced-usage.html#ssl-warnings\n",
      "  warnings.warn(\n"
     ]
    },
    {
     "name": "stdout",
     "output_type": "stream",
     "text": [
      "Checked URL https://edition.onb.ac.at/handke-notizbuecher, Status was 200\n",
      "Checked URL http://wallace-online.org/, Status was 200\n",
      "Checked URL http://www.gramsciproject.org/, Status was 200\n"
     ]
    },
    {
     "name": "stderr",
     "output_type": "stream",
     "text": [
      "/usr/lib/python3/dist-packages/urllib3/connectionpool.py:1015: InsecureRequestWarning: Unverified HTTPS request is being made to host 'kraus.wienbibliothek.at'. Adding certificate verification is strongly advised. See: https://urllib3.readthedocs.io/en/latest/advanced-usage.html#ssl-warnings\n",
      "  warnings.warn(\n"
     ]
    },
    {
     "name": "stdout",
     "output_type": "stream",
     "text": [
      "Checked URL https://kraus.wienbibliothek.at/, Status was 200\n"
     ]
    },
    {
     "name": "stderr",
     "output_type": "stream",
     "text": [
      "/usr/lib/python3/dist-packages/urllib3/connectionpool.py:1015: InsecureRequestWarning: Unverified HTTPS request is being made to host 'making-mysticism.org'. Adding certificate verification is strongly advised. See: https://urllib3.readthedocs.io/en/latest/advanced-usage.html#ssl-warnings\n",
      "  warnings.warn(\n",
      "/usr/lib/python3/dist-packages/urllib3/connectionpool.py:1015: InsecureRequestWarning: Unverified HTTPS request is being made to host 'www.kleist-digital.de'. Adding certificate verification is strongly advised. See: https://urllib3.readthedocs.io/en/latest/advanced-usage.html#ssl-warnings\n",
      "  warnings.warn(\n"
     ]
    },
    {
     "name": "stdout",
     "output_type": "stream",
     "text": [
      "Checked URL https://making-mysticism.org/edition/1.0/html/, Status was 200\n",
      "Checked URL https://www.kleist-digital.de/, Status was 200\n"
     ]
    }
   ],
   "source": [
    "df['status'] = df['url'].apply(check_url) #now checking all urls for their status code, might take a minute"
   ]
  },
  {
   "cell_type": "code",
   "execution_count": 194,
   "id": "85d2f363",
   "metadata": {},
   "outputs": [
    {
     "data": {
      "text/html": [
       "<div>\n",
       "<style scoped>\n",
       "    .dataframe tbody tr th:only-of-type {\n",
       "        vertical-align: middle;\n",
       "    }\n",
       "\n",
       "    .dataframe tbody tr th {\n",
       "        vertical-align: top;\n",
       "    }\n",
       "\n",
       "    .dataframe thead th {\n",
       "        text-align: right;\n",
       "    }\n",
       "</style>\n",
       "<table border=\"1\" class=\"dataframe\">\n",
       "  <thead>\n",
       "    <tr style=\"text-align: right;\">\n",
       "      <th></th>\n",
       "      <th>title</th>\n",
       "      <th>url</th>\n",
       "      <th>year</th>\n",
       "      <th>status</th>\n",
       "    </tr>\n",
       "  </thead>\n",
       "  <tbody>\n",
       "    <tr>\n",
       "      <th>0</th>\n",
       "      <td>L’année 1437 dans la pratique de Pierre Christ...</td>\n",
       "      <td>http://elec.enc.sorbonne.fr/christofle/index.html</td>\n",
       "      <td>2016</td>\n",
       "      <td>200</td>\n",
       "    </tr>\n",
       "    <tr>\n",
       "      <th>1</th>\n",
       "      <td>The Aberdeen Bestiary</td>\n",
       "      <td>http://www.abdn.ac.uk/bestiary</td>\n",
       "      <td>1996</td>\n",
       "      <td>200</td>\n",
       "    </tr>\n",
       "    <tr>\n",
       "      <th>2</th>\n",
       "      <td>apw - Acta Pacis Westphalicae</td>\n",
       "      <td>http://apw.digitale-sammlungen.de/</td>\n",
       "      <td>2014</td>\n",
       "      <td>200</td>\n",
       "    </tr>\n",
       "    <tr>\n",
       "      <th>3</th>\n",
       "      <td>Édition numérique des Actes des églises réform...</td>\n",
       "      <td>http://synodes-protestants.symogih.org/index.html</td>\n",
       "      <td>2018</td>\n",
       "      <td>200</td>\n",
       "    </tr>\n",
       "    <tr>\n",
       "      <th>4</th>\n",
       "      <td>Actes royaux</td>\n",
       "      <td>http://www.cn-telma.fr/actesroyaux/index/</td>\n",
       "      <td>2008</td>\n",
       "      <td>404</td>\n",
       "    </tr>\n",
       "  </tbody>\n",
       "</table>\n",
       "</div>"
      ],
      "text/plain": [
       "                                               title  \\\n",
       "0  L’année 1437 dans la pratique de Pierre Christ...   \n",
       "1                              The Aberdeen Bestiary   \n",
       "2                      apw - Acta Pacis Westphalicae   \n",
       "3  Édition numérique des Actes des églises réform...   \n",
       "4                                       Actes royaux   \n",
       "\n",
       "                                                 url  year status  \n",
       "0  http://elec.enc.sorbonne.fr/christofle/index.html  2016    200  \n",
       "1                     http://www.abdn.ac.uk/bestiary  1996    200  \n",
       "2                 http://apw.digitale-sammlungen.de/  2014    200  \n",
       "3  http://synodes-protestants.symogih.org/index.html  2018    200  \n",
       "4          http://www.cn-telma.fr/actesroyaux/index/  2008    404  "
      ]
     },
     "execution_count": 194,
     "metadata": {},
     "output_type": "execute_result"
    }
   ],
   "source": [
    "df.head() # checking one more time"
   ]
  },
  {
   "cell_type": "code",
   "execution_count": 196,
   "id": "cedd8edf",
   "metadata": {},
   "outputs": [],
   "source": [
    "df.to_csv('ouput.csv') #and output to a csv file for visualization"
   ]
  },
  {
   "cell_type": "code",
   "execution_count": null,
   "id": "8b9e99fa",
   "metadata": {},
   "outputs": [],
   "source": []
  }
 ],
 "metadata": {
  "kernelspec": {
   "display_name": "Python 3 (ipykernel)",
   "language": "python",
   "name": "python3"
  },
  "language_info": {
   "codemirror_mode": {
    "name": "ipython",
    "version": 3
   },
   "file_extension": ".py",
   "mimetype": "text/x-python",
   "name": "python",
   "nbconvert_exporter": "python",
   "pygments_lexer": "ipython3",
   "version": "3.10.4"
  }
 },
 "nbformat": 4,
 "nbformat_minor": 5
}
